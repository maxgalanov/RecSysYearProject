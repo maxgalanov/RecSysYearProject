{
 "cells": [
  {
   "cell_type": "code",
   "execution_count": 1,
   "id": "ba8fec00",
   "metadata": {},
   "outputs": [],
   "source": [
    "import pandas as pd\n",
    "import seaborn as sns\n",
    "import matplotlib.pyplot as plt"
   ]
  },
  {
   "cell_type": "code",
   "execution_count": 2,
   "id": "4eab45a7",
   "metadata": {},
   "outputs": [],
   "source": [
    "import warnings\n",
    "warnings.filterwarnings(\"ignore\")"
   ]
  },
  {
   "cell_type": "markdown",
   "id": "c63fd785",
   "metadata": {},
   "source": [
    "### Dataset triplets_data"
   ]
  },
  {
   "cell_type": "code",
   "execution_count": 3,
   "id": "c7bf3413",
   "metadata": {},
   "outputs": [
    {
     "data": {
      "text/html": [
       "<div>\n",
       "<style scoped>\n",
       "    .dataframe tbody tr th:only-of-type {\n",
       "        vertical-align: middle;\n",
       "    }\n",
       "\n",
       "    .dataframe tbody tr th {\n",
       "        vertical-align: top;\n",
       "    }\n",
       "\n",
       "    .dataframe thead th {\n",
       "        text-align: right;\n",
       "    }\n",
       "</style>\n",
       "<table border=\"1\" class=\"dataframe\">\n",
       "  <thead>\n",
       "    <tr style=\"text-align: right;\">\n",
       "      <th></th>\n",
       "      <th>user_id</th>\n",
       "      <th>song_id</th>\n",
       "      <th>play_count</th>\n",
       "    </tr>\n",
       "  </thead>\n",
       "  <tbody>\n",
       "    <tr>\n",
       "      <th>0</th>\n",
       "      <td>b80344d063b5ccb3212f76538f3d9e43d87dca9e</td>\n",
       "      <td>SOAPDEY12A81C210A9</td>\n",
       "      <td>1</td>\n",
       "    </tr>\n",
       "    <tr>\n",
       "      <th>1</th>\n",
       "      <td>b80344d063b5ccb3212f76538f3d9e43d87dca9e</td>\n",
       "      <td>SOBBMDR12A8C13253B</td>\n",
       "      <td>2</td>\n",
       "    </tr>\n",
       "    <tr>\n",
       "      <th>2</th>\n",
       "      <td>b80344d063b5ccb3212f76538f3d9e43d87dca9e</td>\n",
       "      <td>SOBFNSP12AF72A0E22</td>\n",
       "      <td>1</td>\n",
       "    </tr>\n",
       "    <tr>\n",
       "      <th>3</th>\n",
       "      <td>b80344d063b5ccb3212f76538f3d9e43d87dca9e</td>\n",
       "      <td>SOBFOVM12A58A7D494</td>\n",
       "      <td>1</td>\n",
       "    </tr>\n",
       "    <tr>\n",
       "      <th>4</th>\n",
       "      <td>b80344d063b5ccb3212f76538f3d9e43d87dca9e</td>\n",
       "      <td>SOBNZDC12A6D4FC103</td>\n",
       "      <td>1</td>\n",
       "    </tr>\n",
       "  </tbody>\n",
       "</table>\n",
       "</div>"
      ],
      "text/plain": [
       "                                    user_id             song_id  play_count\n",
       "0  b80344d063b5ccb3212f76538f3d9e43d87dca9e  SOAPDEY12A81C210A9           1\n",
       "1  b80344d063b5ccb3212f76538f3d9e43d87dca9e  SOBBMDR12A8C13253B           2\n",
       "2  b80344d063b5ccb3212f76538f3d9e43d87dca9e  SOBFNSP12AF72A0E22           1\n",
       "3  b80344d063b5ccb3212f76538f3d9e43d87dca9e  SOBFOVM12A58A7D494           1\n",
       "4  b80344d063b5ccb3212f76538f3d9e43d87dca9e  SOBNZDC12A6D4FC103           1"
      ]
     },
     "execution_count": 3,
     "metadata": {},
     "output_type": "execute_result"
    }
   ],
   "source": [
    "triplets_data = pd.read_csv('triplets_data.csv', index_col=0)\n",
    "triplets_data.head()"
   ]
  },
  {
   "cell_type": "code",
   "execution_count": 4,
   "id": "bbdf2fa3",
   "metadata": {},
   "outputs": [
    {
     "data": {
      "text/plain": [
       "(48373585, 3)"
      ]
     },
     "execution_count": 4,
     "metadata": {},
     "output_type": "execute_result"
    }
   ],
   "source": [
    "triplets_data.shape"
   ]
  },
  {
   "cell_type": "code",
   "execution_count": 5,
   "id": "f713487b",
   "metadata": {},
   "outputs": [
    {
     "name": "stdout",
     "output_type": "stream",
     "text": [
      "Количество уникальных пользователей 1019318\n",
      "Количество уникальных песен 384546\n"
     ]
    }
   ],
   "source": [
    "print(f'Количество уникальных пользователей {triplets_data.user_id.nunique()}')\n",
    "print(f'Количество уникальных песен {triplets_data.song_id.nunique()}')"
   ]
  },
  {
   "cell_type": "code",
   "execution_count": 6,
   "id": "40a30fde",
   "metadata": {},
   "outputs": [
    {
     "data": {
      "image/png": "[encoded data removed]",
      "text/plain": [
       "<Figure size 864x432 with 1 Axes>"
      ]
     },
     "metadata": {
      "needs_background": "light"
     },
     "output_type": "display_data"
    }
   ],
   "source": [
    "fig = plt.figure(figsize = (12, 6))\n",
    "\n",
    "sns.countplot(x='play_count', data=triplets_data);\n",
    "\n",
    "plt.title('Распределение по количеству прослушиваний', fontsize=13);\n",
    "plt.ylabel('Count', fontsize=10);\n",
    "plt.xlabel('Play_count',  fontsize=10);"
   ]
  },
  {
   "cell_type": "code",
   "execution_count": 7,
   "id": "9acb8ee0",
   "metadata": {
    "scrolled": true
   },
   "outputs": [
    {
     "data": {
      "text/html": [
       "<div>\n",
       "<style scoped>\n",
       "    .dataframe tbody tr th:only-of-type {\n",
       "        vertical-align: middle;\n",
       "    }\n",
       "\n",
       "    .dataframe tbody tr th {\n",
       "        vertical-align: top;\n",
       "    }\n",
       "\n",
       "    .dataframe thead th {\n",
       "        text-align: right;\n",
       "    }\n",
       "</style>\n",
       "<table border=\"1\" class=\"dataframe\">\n",
       "  <thead>\n",
       "    <tr style=\"text-align: right;\">\n",
       "      <th></th>\n",
       "      <th>user_id</th>\n",
       "      <th>count_song</th>\n",
       "    </tr>\n",
       "  </thead>\n",
       "  <tbody>\n",
       "    <tr>\n",
       "      <th>941420</th>\n",
       "      <td>ec6dfcf19485cb011e0b22637075037aae34cf26</td>\n",
       "      <td>4400</td>\n",
       "    </tr>\n",
       "    <tr>\n",
       "      <th>559999</th>\n",
       "      <td>8cb51abc6bf8ea29341cb070fe1e1af5e4c3ffcc</td>\n",
       "      <td>1651</td>\n",
       "    </tr>\n",
       "    <tr>\n",
       "      <th>1015155</th>\n",
       "      <td>fef771ab021c200187a419f5e55311390f850a50</td>\n",
       "      <td>1614</td>\n",
       "    </tr>\n",
       "    <tr>\n",
       "      <th>358880</th>\n",
       "      <td>5a3417a1955d9136413e0d293cd36497f5e00238</td>\n",
       "      <td>1604</td>\n",
       "    </tr>\n",
       "    <tr>\n",
       "      <th>768700</th>\n",
       "      <td>c1255748c06ee3f6440c51c439446886c7807095</td>\n",
       "      <td>1566</td>\n",
       "    </tr>\n",
       "  </tbody>\n",
       "</table>\n",
       "</div>"
      ],
      "text/plain": [
       "                                          user_id  count_song\n",
       "941420   ec6dfcf19485cb011e0b22637075037aae34cf26        4400\n",
       "559999   8cb51abc6bf8ea29341cb070fe1e1af5e4c3ffcc        1651\n",
       "1015155  fef771ab021c200187a419f5e55311390f850a50        1614\n",
       "358880   5a3417a1955d9136413e0d293cd36497f5e00238        1604\n",
       "768700   c1255748c06ee3f6440c51c439446886c7807095        1566"
      ]
     },
     "execution_count": 7,
     "metadata": {},
     "output_type": "execute_result"
    }
   ],
   "source": [
    "song_count = triplets_data.groupby('user_id', as_index=False).agg({'song_id': 'count'}) \\\n",
    "                                                             .rename(columns={'song_id': 'count_song'}) \\\n",
    "                                                             .sort_values(by='count_song', ascending=False)\n",
    "song_count.head()"
   ]
  },
  {
   "cell_type": "code",
   "execution_count": 8,
   "id": "5dedf25b",
   "metadata": {
    "scrolled": false
   },
   "outputs": [
    {
     "data": {
      "image/png": "[encoded data removed]",
      "text/plain": [
       "<Figure size 1440x576 with 1 Axes>"
      ]
     },
     "metadata": {
      "needs_background": "light"
     },
     "output_type": "display_data"
    }
   ],
   "source": [
    "fig = plt.figure(figsize = (20, 8))\n",
    "\n",
    "ax = sns.histplot(x='count_song', data=song_count, bins=1000);\n",
    "\n",
    "plt.xlim(0, 500)\n",
    "\n",
    "plt.title('Распределение по количеству прослушенных песен', fontsize=15);\n",
    "plt.ylabel('Count', fontsize=13);\n",
    "plt.xlabel('count_song',  fontsize=13);"
   ]
  },
  {
   "cell_type": "markdown",
   "id": "d2f135d6",
   "metadata": {},
   "source": [
    "### Dataset song_data"
   ]
  },
  {
   "cell_type": "code",
   "execution_count": 9,
   "id": "a036e367",
   "metadata": {},
   "outputs": [],
   "source": [
    "song_data = pd.read_csv('song_data.csv')"
   ]
  },
  {
   "cell_type": "code",
   "execution_count": 10,
   "id": "fbba3020",
   "metadata": {},
   "outputs": [
    {
     "data": {
      "text/html": [
       "<div>\n",
       "<style scoped>\n",
       "    .dataframe tbody tr th:only-of-type {\n",
       "        vertical-align: middle;\n",
       "    }\n",
       "\n",
       "    .dataframe tbody tr th {\n",
       "        vertical-align: top;\n",
       "    }\n",
       "\n",
       "    .dataframe thead th {\n",
       "        text-align: right;\n",
       "    }\n",
       "</style>\n",
       "<table border=\"1\" class=\"dataframe\">\n",
       "  <thead>\n",
       "    <tr style=\"text-align: right;\">\n",
       "      <th></th>\n",
       "      <th>song_id</th>\n",
       "      <th>title</th>\n",
       "      <th>release</th>\n",
       "      <th>artist_name</th>\n",
       "      <th>year</th>\n",
       "    </tr>\n",
       "  </thead>\n",
       "  <tbody>\n",
       "    <tr>\n",
       "      <th>0</th>\n",
       "      <td>SOQMMHC12AB0180CB8</td>\n",
       "      <td>Silent Night</td>\n",
       "      <td>Monster Ballads X-Mas</td>\n",
       "      <td>Faster Pussy cat</td>\n",
       "      <td>2003</td>\n",
       "    </tr>\n",
       "    <tr>\n",
       "      <th>1</th>\n",
       "      <td>SOVFVAK12A8C1350D9</td>\n",
       "      <td>Tanssi vaan</td>\n",
       "      <td>Karkuteillä</td>\n",
       "      <td>Karkkiautomaatti</td>\n",
       "      <td>1995</td>\n",
       "    </tr>\n",
       "    <tr>\n",
       "      <th>2</th>\n",
       "      <td>SOGTUKN12AB017F4F1</td>\n",
       "      <td>No One Could Ever</td>\n",
       "      <td>Butter</td>\n",
       "      <td>Hudson Mohawke</td>\n",
       "      <td>2006</td>\n",
       "    </tr>\n",
       "    <tr>\n",
       "      <th>3</th>\n",
       "      <td>SOBNYVR12A8C13558C</td>\n",
       "      <td>Si Vos Querés</td>\n",
       "      <td>De Culo</td>\n",
       "      <td>Yerba Brava</td>\n",
       "      <td>2003</td>\n",
       "    </tr>\n",
       "    <tr>\n",
       "      <th>4</th>\n",
       "      <td>SOHSBXH12A8C13B0DF</td>\n",
       "      <td>Tangle Of Aspens</td>\n",
       "      <td>Rene Ablaze Presents Winter Sessions</td>\n",
       "      <td>Der Mystic</td>\n",
       "      <td>0</td>\n",
       "    </tr>\n",
       "  </tbody>\n",
       "</table>\n",
       "</div>"
      ],
      "text/plain": [
       "              song_id              title  \\\n",
       "0  SOQMMHC12AB0180CB8       Silent Night   \n",
       "1  SOVFVAK12A8C1350D9        Tanssi vaan   \n",
       "2  SOGTUKN12AB017F4F1  No One Could Ever   \n",
       "3  SOBNYVR12A8C13558C      Si Vos Querés   \n",
       "4  SOHSBXH12A8C13B0DF   Tangle Of Aspens   \n",
       "\n",
       "                                release       artist_name  year  \n",
       "0                 Monster Ballads X-Mas  Faster Pussy cat  2003  \n",
       "1                           Karkuteillä  Karkkiautomaatti  1995  \n",
       "2                                Butter    Hudson Mohawke  2006  \n",
       "3                               De Culo       Yerba Brava  2003  \n",
       "4  Rene Ablaze Presents Winter Sessions        Der Mystic     0  "
      ]
     },
     "execution_count": 10,
     "metadata": {},
     "output_type": "execute_result"
    }
   ],
   "source": [
    "song_data.head()"
   ]
  },
  {
   "cell_type": "code",
   "execution_count": 11,
   "id": "1702bf3d",
   "metadata": {},
   "outputs": [
    {
     "data": {
      "text/plain": [
       "(1000000, 5)"
      ]
     },
     "execution_count": 11,
     "metadata": {},
     "output_type": "execute_result"
    }
   ],
   "source": [
    "song_data.shape"
   ]
  },
  {
   "cell_type": "code",
   "execution_count": 61,
   "id": "d95eb3e4",
   "metadata": {},
   "outputs": [
    {
     "data": {
      "text/plain": [
       "1922"
      ]
     },
     "execution_count": 61,
     "metadata": {},
     "output_type": "execute_result"
    }
   ],
   "source": [
    "song_data.year[song_data.year > 0].min()"
   ]
  },
  {
   "cell_type": "code",
   "execution_count": 68,
   "id": "ab6a5c39",
   "metadata": {},
   "outputs": [
    {
     "name": "stdout",
     "output_type": "stream",
     "text": [
      "Количество уникальных песен 980144\n",
      "Количество уникальных исполнителей 69991\n",
      "Количество уникальных лет 90\n",
      "Минимальный год выхода трека 1922\n",
      "Максимальный год выхода трека 2011\n",
      "Количество треков, для которых определен год 503890\n"
     ]
    }
   ],
   "source": [
    "print(f'Количество уникальных песен {song_data.song_id.nunique()}')\n",
    "print(f'Количество уникальных исполнителей {song_data.artist_name.nunique()}')\n",
    "print(f'Количество уникальных лет {song_data.year.nunique()}')\n",
    "print(f'Минимальный год выхода трека {song_data.year[song_data.year > 0].min()}')\n",
    "print(f'Максимальный год выхода трека {song_data.year[song_data.year > 0].max()}')\n",
    "print(f'Количество треков, для которых определен год {song_data.song_id[song_data.year > 0].count()}')"
   ]
  },
  {
   "cell_type": "markdown",
   "id": "ba089356",
   "metadata": {},
   "source": [
    "#### Удаляем дубли"
   ]
  },
  {
   "cell_type": "code",
   "execution_count": 13,
   "id": "f60c8ddd",
   "metadata": {
    "scrolled": true
   },
   "outputs": [
    {
     "data": {
      "text/html": [
       "<div>\n",
       "<style scoped>\n",
       "    .dataframe tbody tr th:only-of-type {\n",
       "        vertical-align: middle;\n",
       "    }\n",
       "\n",
       "    .dataframe tbody tr th {\n",
       "        vertical-align: top;\n",
       "    }\n",
       "\n",
       "    .dataframe thead th {\n",
       "        text-align: right;\n",
       "    }\n",
       "</style>\n",
       "<table border=\"1\" class=\"dataframe\">\n",
       "  <thead>\n",
       "    <tr style=\"text-align: right;\">\n",
       "      <th></th>\n",
       "      <th>song_id</th>\n",
       "      <th>count_song_id</th>\n",
       "    </tr>\n",
       "  </thead>\n",
       "  <tbody>\n",
       "    <tr>\n",
       "      <th>824667</th>\n",
       "      <td>SOUYQYY12AF72A000F</td>\n",
       "      <td>3</td>\n",
       "    </tr>\n",
       "    <tr>\n",
       "      <th>476252</th>\n",
       "      <td>SOLNCTS12A8C1405EF</td>\n",
       "      <td>3</td>\n",
       "    </tr>\n",
       "    <tr>\n",
       "      <th>665418</th>\n",
       "      <td>SOQNMCD12A8C1383D4</td>\n",
       "      <td>3</td>\n",
       "    </tr>\n",
       "    <tr>\n",
       "      <th>68469</th>\n",
       "      <td>SOBPAEP12A58A77F49</td>\n",
       "      <td>3</td>\n",
       "    </tr>\n",
       "    <tr>\n",
       "      <th>827438</th>\n",
       "      <td>SOVASUH12A67021B44</td>\n",
       "      <td>3</td>\n",
       "    </tr>\n",
       "    <tr>\n",
       "      <th>...</th>\n",
       "      <td>...</td>\n",
       "      <td>...</td>\n",
       "    </tr>\n",
       "    <tr>\n",
       "      <th>333168</th>\n",
       "      <td>SOHXMHZ12A5891FFDF</td>\n",
       "      <td>1</td>\n",
       "    </tr>\n",
       "    <tr>\n",
       "      <th>333169</th>\n",
       "      <td>SOHXMIP12AAF3B3C24</td>\n",
       "      <td>1</td>\n",
       "    </tr>\n",
       "    <tr>\n",
       "      <th>333170</th>\n",
       "      <td>SOHXMJG12AB0182DA9</td>\n",
       "      <td>1</td>\n",
       "    </tr>\n",
       "    <tr>\n",
       "      <th>333171</th>\n",
       "      <td>SOHXMJO12AB018F837</td>\n",
       "      <td>1</td>\n",
       "    </tr>\n",
       "    <tr>\n",
       "      <th>999055</th>\n",
       "      <td>SOZZZZM12AB018B095</td>\n",
       "      <td>1</td>\n",
       "    </tr>\n",
       "  </tbody>\n",
       "</table>\n",
       "<p>999056 rows × 2 columns</p>\n",
       "</div>"
      ],
      "text/plain": [
       "                   song_id  count_song_id\n",
       "824667  SOUYQYY12AF72A000F              3\n",
       "476252  SOLNCTS12A8C1405EF              3\n",
       "665418  SOQNMCD12A8C1383D4              3\n",
       "68469   SOBPAEP12A58A77F49              3\n",
       "827438  SOVASUH12A67021B44              3\n",
       "...                    ...            ...\n",
       "333168  SOHXMHZ12A5891FFDF              1\n",
       "333169  SOHXMIP12AAF3B3C24              1\n",
       "333170  SOHXMJG12AB0182DA9              1\n",
       "333171  SOHXMJO12AB018F837              1\n",
       "999055  SOZZZZM12AB018B095              1\n",
       "\n",
       "[999056 rows x 2 columns]"
      ]
     },
     "execution_count": 13,
     "metadata": {},
     "output_type": "execute_result"
    }
   ],
   "source": [
    "song_data.groupby('song_id', as_index=False).agg({'artist_name': 'count'}).rename(columns={'artist_name': 'count_song_id'}) \\\n",
    "                                            .sort_values(by='count_song_id', ascending=False)"
   ]
  },
  {
   "cell_type": "code",
   "execution_count": 14,
   "id": "944469e1",
   "metadata": {},
   "outputs": [
    {
     "data": {
      "text/plain": [
       "(999056, 5)"
      ]
     },
     "execution_count": 14,
     "metadata": {},
     "output_type": "execute_result"
    }
   ],
   "source": [
    "song_data = song_data.drop_duplicates(['song_id'])\n",
    "song_data.shape"
   ]
  },
  {
   "cell_type": "markdown",
   "id": "3f81cc68",
   "metadata": {},
   "source": [
    "### Удаление неверно объединенных пар song_id и track_id"
   ]
  },
  {
   "cell_type": "code",
   "execution_count": 15,
   "id": "c2e5bd97",
   "metadata": {},
   "outputs": [
    {
     "data": {
      "text/plain": [
       "(999056, 5)"
      ]
     },
     "execution_count": 15,
     "metadata": {},
     "output_type": "execute_result"
    }
   ],
   "source": [
    "song_data.shape"
   ]
  },
  {
   "cell_type": "code",
   "execution_count": 16,
   "id": "6c061516",
   "metadata": {
    "scrolled": true
   },
   "outputs": [],
   "source": [
    "sid_mismatches = pd.read_csv('sid_mismatches.csv', index_col=0)"
   ]
  },
  {
   "cell_type": "code",
   "execution_count": 17,
   "id": "b617644c",
   "metadata": {
    "scrolled": true
   },
   "outputs": [
    {
     "data": {
      "text/html": [
       "<div>\n",
       "<style scoped>\n",
       "    .dataframe tbody tr th:only-of-type {\n",
       "        vertical-align: middle;\n",
       "    }\n",
       "\n",
       "    .dataframe tbody tr th {\n",
       "        vertical-align: top;\n",
       "    }\n",
       "\n",
       "    .dataframe thead th {\n",
       "        text-align: right;\n",
       "    }\n",
       "</style>\n",
       "<table border=\"1\" class=\"dataframe\">\n",
       "  <thead>\n",
       "    <tr style=\"text-align: right;\">\n",
       "      <th></th>\n",
       "      <th>song_id</th>\n",
       "      <th>track_id</th>\n",
       "    </tr>\n",
       "  </thead>\n",
       "  <tbody>\n",
       "    <tr>\n",
       "      <th>0</th>\n",
       "      <td>SOCMRBE12AB018C546</td>\n",
       "      <td>TRMMREB12903CEB1B1</td>\n",
       "    </tr>\n",
       "    <tr>\n",
       "      <th>1</th>\n",
       "      <td>SOLPHZY12AC468ABA8</td>\n",
       "      <td>TRMMBOC12903CEB46E</td>\n",
       "    </tr>\n",
       "    <tr>\n",
       "      <th>2</th>\n",
       "      <td>SONGHTM12A8C1374EF</td>\n",
       "      <td>TRMMITP128F425D8D0</td>\n",
       "    </tr>\n",
       "    <tr>\n",
       "      <th>3</th>\n",
       "      <td>SONGXCA12A8C13E82E</td>\n",
       "      <td>TRMMAYZ128F429ECE6</td>\n",
       "    </tr>\n",
       "    <tr>\n",
       "      <th>4</th>\n",
       "      <td>SOMBCRC12A67ADA435</td>\n",
       "      <td>TRMMNVU128EF343EED</td>\n",
       "    </tr>\n",
       "  </tbody>\n",
       "</table>\n",
       "</div>"
      ],
      "text/plain": [
       "              song_id            track_id\n",
       "0  SOCMRBE12AB018C546  TRMMREB12903CEB1B1\n",
       "1  SOLPHZY12AC468ABA8  TRMMBOC12903CEB46E\n",
       "2  SONGHTM12A8C1374EF  TRMMITP128F425D8D0\n",
       "3  SONGXCA12A8C13E82E  TRMMAYZ128F429ECE6\n",
       "4  SOMBCRC12A67ADA435  TRMMNVU128EF343EED"
      ]
     },
     "execution_count": 17,
     "metadata": {},
     "output_type": "execute_result"
    }
   ],
   "source": [
    "sid_mismatches.head()"
   ]
  },
  {
   "cell_type": "code",
   "execution_count": 18,
   "id": "b4bc0352",
   "metadata": {},
   "outputs": [
    {
     "data": {
      "text/plain": [
       "(19093, 2)"
      ]
     },
     "execution_count": 18,
     "metadata": {},
     "output_type": "execute_result"
    }
   ],
   "source": [
    "sid_mismatches.shape"
   ]
  },
  {
   "cell_type": "code",
   "execution_count": 19,
   "id": "5f5ccd2e",
   "metadata": {},
   "outputs": [
    {
     "data": {
      "text/html": [
       "<div>\n",
       "<style scoped>\n",
       "    .dataframe tbody tr th:only-of-type {\n",
       "        vertical-align: middle;\n",
       "    }\n",
       "\n",
       "    .dataframe tbody tr th {\n",
       "        vertical-align: top;\n",
       "    }\n",
       "\n",
       "    .dataframe thead th {\n",
       "        text-align: right;\n",
       "    }\n",
       "</style>\n",
       "<table border=\"1\" class=\"dataframe\">\n",
       "  <thead>\n",
       "    <tr style=\"text-align: right;\">\n",
       "      <th></th>\n",
       "      <th>song_id</th>\n",
       "      <th>title</th>\n",
       "      <th>release</th>\n",
       "      <th>artist_name</th>\n",
       "      <th>year</th>\n",
       "    </tr>\n",
       "  </thead>\n",
       "  <tbody>\n",
       "    <tr>\n",
       "      <th>0</th>\n",
       "      <td>SOQMMHC12AB0180CB8</td>\n",
       "      <td>Silent Night</td>\n",
       "      <td>Monster Ballads X-Mas</td>\n",
       "      <td>Faster Pussy cat</td>\n",
       "      <td>2003</td>\n",
       "    </tr>\n",
       "    <tr>\n",
       "      <th>1</th>\n",
       "      <td>SOVFVAK12A8C1350D9</td>\n",
       "      <td>Tanssi vaan</td>\n",
       "      <td>Karkuteillä</td>\n",
       "      <td>Karkkiautomaatti</td>\n",
       "      <td>1995</td>\n",
       "    </tr>\n",
       "    <tr>\n",
       "      <th>2</th>\n",
       "      <td>SOGTUKN12AB017F4F1</td>\n",
       "      <td>No One Could Ever</td>\n",
       "      <td>Butter</td>\n",
       "      <td>Hudson Mohawke</td>\n",
       "      <td>2006</td>\n",
       "    </tr>\n",
       "    <tr>\n",
       "      <th>3</th>\n",
       "      <td>SOBNYVR12A8C13558C</td>\n",
       "      <td>Si Vos Querés</td>\n",
       "      <td>De Culo</td>\n",
       "      <td>Yerba Brava</td>\n",
       "      <td>2003</td>\n",
       "    </tr>\n",
       "    <tr>\n",
       "      <th>4</th>\n",
       "      <td>SOHSBXH12A8C13B0DF</td>\n",
       "      <td>Tangle Of Aspens</td>\n",
       "      <td>Rene Ablaze Presents Winter Sessions</td>\n",
       "      <td>Der Mystic</td>\n",
       "      <td>0</td>\n",
       "    </tr>\n",
       "  </tbody>\n",
       "</table>\n",
       "</div>"
      ],
      "text/plain": [
       "              song_id              title  \\\n",
       "0  SOQMMHC12AB0180CB8       Silent Night   \n",
       "1  SOVFVAK12A8C1350D9        Tanssi vaan   \n",
       "2  SOGTUKN12AB017F4F1  No One Could Ever   \n",
       "3  SOBNYVR12A8C13558C      Si Vos Querés   \n",
       "4  SOHSBXH12A8C13B0DF   Tangle Of Aspens   \n",
       "\n",
       "                                release       artist_name  year  \n",
       "0                 Monster Ballads X-Mas  Faster Pussy cat  2003  \n",
       "1                           Karkuteillä  Karkkiautomaatti  1995  \n",
       "2                                Butter    Hudson Mohawke  2006  \n",
       "3                               De Culo       Yerba Brava  2003  \n",
       "4  Rene Ablaze Presents Winter Sessions        Der Mystic     0  "
      ]
     },
     "execution_count": 19,
     "metadata": {},
     "output_type": "execute_result"
    }
   ],
   "source": [
    "song_data.head()"
   ]
  },
  {
   "cell_type": "code",
   "execution_count": 20,
   "id": "c9bf2576",
   "metadata": {},
   "outputs": [
    {
     "data": {
      "text/plain": [
       "(999056, 5)"
      ]
     },
     "execution_count": 20,
     "metadata": {},
     "output_type": "execute_result"
    }
   ],
   "source": [
    "song_data.shape"
   ]
  },
  {
   "cell_type": "code",
   "execution_count": 21,
   "id": "0af11738",
   "metadata": {},
   "outputs": [
    {
     "data": {
      "text/plain": [
       "(980144, 5)"
      ]
     },
     "execution_count": 21,
     "metadata": {},
     "output_type": "execute_result"
    }
   ],
   "source": [
    "song_data = song_data[~song_data.song_id.isin(sid_mismatches.song_id)]\n",
    "song_data.shape"
   ]
  },
  {
   "cell_type": "code",
   "execution_count": 22,
   "id": "9ee5ff0d",
   "metadata": {},
   "outputs": [
    {
     "data": {
      "image/png": "[encoded data removed]",
      "text/plain": [
       "<Figure size 1440x576 with 1 Axes>"
      ]
     },
     "metadata": {
      "needs_background": "light"
     },
     "output_type": "display_data"
    }
   ],
   "source": [
    "fig = plt.figure(figsize = (20, 8))\n",
    "\n",
    "ax = sns.countplot(x='year', data=song_data);\n",
    "ax.set_xticklabels(ax.get_xticklabels(), rotation = 90)\n",
    "\n",
    "plt.title('Распределение по годам выпуска песен', fontsize=17)\n",
    "plt.ylabel('Count', fontsize=15);\n",
    "plt.xlabel('Year', fontsize=15);"
   ]
  },
  {
   "cell_type": "markdown",
   "id": "6209c820",
   "metadata": {},
   "source": [
    "### Dataset unique_tracks"
   ]
  },
  {
   "cell_type": "code",
   "execution_count": 23,
   "id": "b521d883",
   "metadata": {},
   "outputs": [
    {
     "data": {
      "text/html": [
       "<div>\n",
       "<style scoped>\n",
       "    .dataframe tbody tr th:only-of-type {\n",
       "        vertical-align: middle;\n",
       "    }\n",
       "\n",
       "    .dataframe tbody tr th {\n",
       "        vertical-align: top;\n",
       "    }\n",
       "\n",
       "    .dataframe thead th {\n",
       "        text-align: right;\n",
       "    }\n",
       "</style>\n",
       "<table border=\"1\" class=\"dataframe\">\n",
       "  <thead>\n",
       "    <tr style=\"text-align: right;\">\n",
       "      <th></th>\n",
       "      <th>track_id</th>\n",
       "      <th>song_id</th>\n",
       "      <th>artist_name</th>\n",
       "      <th>song_title</th>\n",
       "    </tr>\n",
       "  </thead>\n",
       "  <tbody>\n",
       "    <tr>\n",
       "      <th>0</th>\n",
       "      <td>TRMMMYQ128F932D901</td>\n",
       "      <td>SOQMMHC12AB0180CB8</td>\n",
       "      <td>Faster Pussy cat</td>\n",
       "      <td>Silent Night</td>\n",
       "    </tr>\n",
       "    <tr>\n",
       "      <th>1</th>\n",
       "      <td>TRMMMKD128F425225D</td>\n",
       "      <td>SOVFVAK12A8C1350D9</td>\n",
       "      <td>Karkkiautomaatti</td>\n",
       "      <td>Tanssi vaan</td>\n",
       "    </tr>\n",
       "    <tr>\n",
       "      <th>2</th>\n",
       "      <td>TRMMMRX128F93187D9</td>\n",
       "      <td>SOGTUKN12AB017F4F1</td>\n",
       "      <td>Hudson Mohawke</td>\n",
       "      <td>No One Could Ever</td>\n",
       "    </tr>\n",
       "    <tr>\n",
       "      <th>3</th>\n",
       "      <td>TRMMMCH128F425532C</td>\n",
       "      <td>SOBNYVR12A8C13558C</td>\n",
       "      <td>Yerba Brava</td>\n",
       "      <td>Si Vos Querés</td>\n",
       "    </tr>\n",
       "    <tr>\n",
       "      <th>4</th>\n",
       "      <td>TRMMMWA128F426B589</td>\n",
       "      <td>SOHSBXH12A8C13B0DF</td>\n",
       "      <td>Der Mystic</td>\n",
       "      <td>Tangle Of Aspens</td>\n",
       "    </tr>\n",
       "  </tbody>\n",
       "</table>\n",
       "</div>"
      ],
      "text/plain": [
       "             track_id             song_id       artist_name         song_title\n",
       "0  TRMMMYQ128F932D901  SOQMMHC12AB0180CB8  Faster Pussy cat       Silent Night\n",
       "1  TRMMMKD128F425225D  SOVFVAK12A8C1350D9  Karkkiautomaatti        Tanssi vaan\n",
       "2  TRMMMRX128F93187D9  SOGTUKN12AB017F4F1    Hudson Mohawke  No One Could Ever\n",
       "3  TRMMMCH128F425532C  SOBNYVR12A8C13558C       Yerba Brava      Si Vos Querés\n",
       "4  TRMMMWA128F426B589  SOHSBXH12A8C13B0DF        Der Mystic   Tangle Of Aspens"
      ]
     },
     "execution_count": 23,
     "metadata": {},
     "output_type": "execute_result"
    }
   ],
   "source": [
    "unique_tracks = pd.read_csv('unique_tracks.csv', index_col=0)\n",
    "unique_tracks.head()"
   ]
  },
  {
   "cell_type": "code",
   "execution_count": 24,
   "id": "4c3a1352",
   "metadata": {},
   "outputs": [
    {
     "data": {
      "text/plain": [
       "(1000000, 4)"
      ]
     },
     "execution_count": 24,
     "metadata": {},
     "output_type": "execute_result"
    }
   ],
   "source": [
    "unique_tracks.shape"
   ]
  },
  {
   "cell_type": "code",
   "execution_count": 25,
   "id": "0e15b329",
   "metadata": {},
   "outputs": [
    {
     "name": "stdout",
     "output_type": "stream",
     "text": [
      "Количество уникальных song_id 999056\n",
      "Количество уникальных track_id 1000000\n"
     ]
    }
   ],
   "source": [
    "print(f'Количество уникальных song_id {unique_tracks.song_id.nunique()}')\n",
    "print(f'Количество уникальных track_id {unique_tracks.track_id.nunique()}')"
   ]
  },
  {
   "cell_type": "code",
   "execution_count": 26,
   "id": "bc71b019",
   "metadata": {},
   "outputs": [
    {
     "data": {
      "text/plain": [
       "(999056, 4)"
      ]
     },
     "execution_count": 26,
     "metadata": {},
     "output_type": "execute_result"
    }
   ],
   "source": [
    "unique_tracks = unique_tracks.drop_duplicates(['song_id'])\n",
    "unique_tracks.shape"
   ]
  },
  {
   "cell_type": "code",
   "execution_count": 27,
   "id": "d797d1f8",
   "metadata": {
    "scrolled": true
   },
   "outputs": [
    {
     "data": {
      "text/plain": [
       "(980144, 4)"
      ]
     },
     "execution_count": 27,
     "metadata": {},
     "output_type": "execute_result"
    }
   ],
   "source": [
    "unique_tracks = unique_tracks[~unique_tracks.song_id.isin(sid_mismatches.song_id) & \\\n",
    "                              ~unique_tracks.track_id.isin(sid_mismatches.track_id)]\n",
    "unique_tracks.shape"
   ]
  },
  {
   "cell_type": "markdown",
   "id": "e3db7c4d",
   "metadata": {},
   "source": [
    "### Добавляем жанры и стили"
   ]
  },
  {
   "cell_type": "code",
   "execution_count": 28,
   "id": "170f76d1",
   "metadata": {},
   "outputs": [],
   "source": [
    "song_seed_genre = pd.read_csv('msd_beatunes_map.csv', index_col=0)\n",
    "song_genre = pd.read_csv('msd-MAGD-genreAssignment.csv', index_col=0)\n",
    "song_style = pd.read_csv('msd-MASD-styleAssignment.csv', index_col=0)"
   ]
  },
  {
   "cell_type": "code",
   "execution_count": 29,
   "id": "b8364bd4",
   "metadata": {
    "scrolled": true
   },
   "outputs": [
    {
     "data": {
      "text/html": [
       "<div>\n",
       "<style scoped>\n",
       "    .dataframe tbody tr th:only-of-type {\n",
       "        vertical-align: middle;\n",
       "    }\n",
       "\n",
       "    .dataframe tbody tr th {\n",
       "        vertical-align: top;\n",
       "    }\n",
       "\n",
       "    .dataframe thead th {\n",
       "        text-align: right;\n",
       "    }\n",
       "</style>\n",
       "<table border=\"1\" class=\"dataframe\">\n",
       "  <thead>\n",
       "    <tr style=\"text-align: right;\">\n",
       "      <th></th>\n",
       "      <th>track_id</th>\n",
       "      <th>seed_genre</th>\n",
       "    </tr>\n",
       "  </thead>\n",
       "  <tbody>\n",
       "    <tr>\n",
       "      <th>0</th>\n",
       "      <td>TRAAAAK128F9318786</td>\n",
       "      <td>Rock</td>\n",
       "    </tr>\n",
       "    <tr>\n",
       "      <th>1</th>\n",
       "      <td>TRAAAAV128F421A322</td>\n",
       "      <td>Rock</td>\n",
       "    </tr>\n",
       "    <tr>\n",
       "      <th>2</th>\n",
       "      <td>TRAAAAW128F429D538</td>\n",
       "      <td>Hip-Hop</td>\n",
       "    </tr>\n",
       "    <tr>\n",
       "      <th>3</th>\n",
       "      <td>TRAAAAY128F42A73F0</td>\n",
       "      <td>World</td>\n",
       "    </tr>\n",
       "    <tr>\n",
       "      <th>4</th>\n",
       "      <td>TRAAABD128F429CF47</td>\n",
       "      <td>Rock</td>\n",
       "    </tr>\n",
       "  </tbody>\n",
       "</table>\n",
       "</div>"
      ],
      "text/plain": [
       "             track_id seed_genre\n",
       "0  TRAAAAK128F9318786       Rock\n",
       "1  TRAAAAV128F421A322       Rock\n",
       "2  TRAAAAW128F429D538    Hip-Hop\n",
       "3  TRAAAAY128F42A73F0      World\n",
       "4  TRAAABD128F429CF47       Rock"
      ]
     },
     "execution_count": 29,
     "metadata": {},
     "output_type": "execute_result"
    }
   ],
   "source": [
    "song_seed_genre.head()"
   ]
  },
  {
   "cell_type": "code",
   "execution_count": 30,
   "id": "487b1dab",
   "metadata": {},
   "outputs": [
    {
     "data": {
      "text/plain": [
       "(677038, 2)"
      ]
     },
     "execution_count": 30,
     "metadata": {},
     "output_type": "execute_result"
    }
   ],
   "source": [
    "song_seed_genre.shape"
   ]
  },
  {
   "cell_type": "code",
   "execution_count": 31,
   "id": "c641c8d4",
   "metadata": {},
   "outputs": [
    {
     "name": "stdout",
     "output_type": "stream",
     "text": [
      "Количество уникальных жанров 6151\n"
     ]
    }
   ],
   "source": [
    "print(f'Количество уникальных жанров {song_seed_genre.seed_genre.nunique()}')"
   ]
  },
  {
   "cell_type": "code",
   "execution_count": 32,
   "id": "7805eaa4",
   "metadata": {},
   "outputs": [
    {
     "data": {
      "text/html": [
       "<div>\n",
       "<style scoped>\n",
       "    .dataframe tbody tr th:only-of-type {\n",
       "        vertical-align: middle;\n",
       "    }\n",
       "\n",
       "    .dataframe tbody tr th {\n",
       "        vertical-align: top;\n",
       "    }\n",
       "\n",
       "    .dataframe thead th {\n",
       "        text-align: right;\n",
       "    }\n",
       "</style>\n",
       "<table border=\"1\" class=\"dataframe\">\n",
       "  <thead>\n",
       "    <tr style=\"text-align: right;\">\n",
       "      <th></th>\n",
       "      <th>seed_genre</th>\n",
       "      <th>count</th>\n",
       "    </tr>\n",
       "  </thead>\n",
       "  <tbody>\n",
       "    <tr>\n",
       "      <th>0</th>\n",
       "      <td>Rock</td>\n",
       "      <td>261242</td>\n",
       "    </tr>\n",
       "    <tr>\n",
       "      <th>1</th>\n",
       "      <td>Pop</td>\n",
       "      <td>57210</td>\n",
       "    </tr>\n",
       "    <tr>\n",
       "      <th>2</th>\n",
       "      <td>Electronic</td>\n",
       "      <td>38235</td>\n",
       "    </tr>\n",
       "    <tr>\n",
       "      <th>3</th>\n",
       "      <td>Jazz</td>\n",
       "      <td>37844</td>\n",
       "    </tr>\n",
       "    <tr>\n",
       "      <th>4</th>\n",
       "      <td>Hip-Hop</td>\n",
       "      <td>31580</td>\n",
       "    </tr>\n",
       "    <tr>\n",
       "      <th>...</th>\n",
       "      <td>...</td>\n",
       "      <td>...</td>\n",
       "    </tr>\n",
       "    <tr>\n",
       "      <th>6146</th>\n",
       "      <td>Future Soul</td>\n",
       "      <td>1</td>\n",
       "    </tr>\n",
       "    <tr>\n",
       "      <th>6147</th>\n",
       "      <td>aaUnknown Genre</td>\n",
       "      <td>1</td>\n",
       "    </tr>\n",
       "    <tr>\n",
       "      <th>6148</th>\n",
       "      <td>RUNNING TRACKS</td>\n",
       "      <td>1</td>\n",
       "    </tr>\n",
       "    <tr>\n",
       "      <th>6149</th>\n",
       "      <td>Funky Slow</td>\n",
       "      <td>1</td>\n",
       "    </tr>\n",
       "    <tr>\n",
       "      <th>6150</th>\n",
       "      <td>All</td>\n",
       "      <td>1</td>\n",
       "    </tr>\n",
       "  </tbody>\n",
       "</table>\n",
       "<p>6151 rows × 2 columns</p>\n",
       "</div>"
      ],
      "text/plain": [
       "           seed_genre   count\n",
       "0                Rock  261242\n",
       "1                 Pop   57210\n",
       "2          Electronic   38235\n",
       "3                Jazz   37844\n",
       "4             Hip-Hop   31580\n",
       "...               ...     ...\n",
       "6146      Future Soul       1\n",
       "6147  aaUnknown Genre       1\n",
       "6148   RUNNING TRACKS       1\n",
       "6149       Funky Slow       1\n",
       "6150              All       1\n",
       "\n",
       "[6151 rows x 2 columns]"
      ]
     },
     "execution_count": 32,
     "metadata": {},
     "output_type": "execute_result"
    }
   ],
   "source": [
    "genre = song_seed_genre.seed_genre.value_counts().to_frame().reset_index() \\\n",
    "                                                  .rename(columns={'index': 'seed_genre', 'seed_genre': 'count'})\n",
    "genre"
   ]
  },
  {
   "cell_type": "code",
   "execution_count": 33,
   "id": "c92f12d7",
   "metadata": {},
   "outputs": [
    {
     "data": {
      "text/html": [
       "<div>\n",
       "<style scoped>\n",
       "    .dataframe tbody tr th:only-of-type {\n",
       "        vertical-align: middle;\n",
       "    }\n",
       "\n",
       "    .dataframe tbody tr th {\n",
       "        vertical-align: top;\n",
       "    }\n",
       "\n",
       "    .dataframe thead th {\n",
       "        text-align: right;\n",
       "    }\n",
       "</style>\n",
       "<table border=\"1\" class=\"dataframe\">\n",
       "  <thead>\n",
       "    <tr style=\"text-align: right;\">\n",
       "      <th></th>\n",
       "      <th>seed_genre</th>\n",
       "      <th>count</th>\n",
       "    </tr>\n",
       "  </thead>\n",
       "  <tbody>\n",
       "    <tr>\n",
       "      <th>0</th>\n",
       "      <td>Rock</td>\n",
       "      <td>261242</td>\n",
       "    </tr>\n",
       "    <tr>\n",
       "      <th>1</th>\n",
       "      <td>Pop</td>\n",
       "      <td>57210</td>\n",
       "    </tr>\n",
       "    <tr>\n",
       "      <th>2</th>\n",
       "      <td>Electronic</td>\n",
       "      <td>38235</td>\n",
       "    </tr>\n",
       "    <tr>\n",
       "      <th>3</th>\n",
       "      <td>Jazz</td>\n",
       "      <td>37844</td>\n",
       "    </tr>\n",
       "    <tr>\n",
       "      <th>4</th>\n",
       "      <td>Hip-Hop</td>\n",
       "      <td>31580</td>\n",
       "    </tr>\n",
       "    <tr>\n",
       "      <th>...</th>\n",
       "      <td>...</td>\n",
       "      <td>...</td>\n",
       "    </tr>\n",
       "    <tr>\n",
       "      <th>901</th>\n",
       "      <td>Cola Zouk</td>\n",
       "      <td>10</td>\n",
       "    </tr>\n",
       "    <tr>\n",
       "      <th>902</th>\n",
       "      <td>Irish Music</td>\n",
       "      <td>10</td>\n",
       "    </tr>\n",
       "    <tr>\n",
       "      <th>903</th>\n",
       "      <td>Down South</td>\n",
       "      <td>10</td>\n",
       "    </tr>\n",
       "    <tr>\n",
       "      <th>904</th>\n",
       "      <td>Synth Rock</td>\n",
       "      <td>10</td>\n",
       "    </tr>\n",
       "    <tr>\n",
       "      <th>905</th>\n",
       "      <td>Choral Acapella</td>\n",
       "      <td>10</td>\n",
       "    </tr>\n",
       "  </tbody>\n",
       "</table>\n",
       "<p>906 rows × 2 columns</p>\n",
       "</div>"
      ],
      "text/plain": [
       "          seed_genre   count\n",
       "0               Rock  261242\n",
       "1                Pop   57210\n",
       "2         Electronic   38235\n",
       "3               Jazz   37844\n",
       "4            Hip-Hop   31580\n",
       "..               ...     ...\n",
       "901        Cola Zouk      10\n",
       "902      Irish Music      10\n",
       "903       Down South      10\n",
       "904       Synth Rock      10\n",
       "905  Choral Acapella      10\n",
       "\n",
       "[906 rows x 2 columns]"
      ]
     },
     "execution_count": 33,
     "metadata": {},
     "output_type": "execute_result"
    }
   ],
   "source": [
    "genre = genre[genre['count'] >= 10]\n",
    "genre"
   ]
  },
  {
   "cell_type": "code",
   "execution_count": 34,
   "id": "01336dc2",
   "metadata": {
    "scrolled": true
   },
   "outputs": [],
   "source": [
    "song_seed_genre = song_seed_genre[song_seed_genre.seed_genre.isin(genre.seed_genre)]"
   ]
  },
  {
   "cell_type": "code",
   "execution_count": 35,
   "id": "808e3f0f",
   "metadata": {},
   "outputs": [
    {
     "data": {
      "image/png": "[encoded data removed]",
      "text/plain": [
       "<Figure size 1440x576 with 1 Axes>"
      ]
     },
     "metadata": {
      "needs_background": "light"
     },
     "output_type": "display_data"
    }
   ],
   "source": [
    "fig = plt.figure(figsize = (20, 8))\n",
    "\n",
    "ax = sns.barplot(x='seed_genre', y='count', data=genre);\n",
    "ax.set_xticklabels(ax.get_xticklabels(), rotation = 90)\n",
    "\n",
    "plt.xlim(-1, 100)\n",
    "\n",
    "plt.title('Первые 100 самых популярных жанра', fontsize=18)\n",
    "plt.ylabel('Count', fontsize=13);\n",
    "plt.xlabel('Seed genre', fontsize=13);"
   ]
  },
  {
   "cell_type": "code",
   "execution_count": 36,
   "id": "68ade31e",
   "metadata": {},
   "outputs": [
    {
     "data": {
      "text/html": [
       "<div>\n",
       "<style scoped>\n",
       "    .dataframe tbody tr th:only-of-type {\n",
       "        vertical-align: middle;\n",
       "    }\n",
       "\n",
       "    .dataframe tbody tr th {\n",
       "        vertical-align: top;\n",
       "    }\n",
       "\n",
       "    .dataframe thead th {\n",
       "        text-align: right;\n",
       "    }\n",
       "</style>\n",
       "<table border=\"1\" class=\"dataframe\">\n",
       "  <thead>\n",
       "    <tr style=\"text-align: right;\">\n",
       "      <th></th>\n",
       "      <th>track_id</th>\n",
       "      <th>genre</th>\n",
       "    </tr>\n",
       "  </thead>\n",
       "  <tbody>\n",
       "    <tr>\n",
       "      <th>0</th>\n",
       "      <td>TRAAAAK128F9318786</td>\n",
       "      <td>Pop_Rock</td>\n",
       "    </tr>\n",
       "    <tr>\n",
       "      <th>1</th>\n",
       "      <td>TRAAAAV128F421A322</td>\n",
       "      <td>Pop_Rock</td>\n",
       "    </tr>\n",
       "    <tr>\n",
       "      <th>2</th>\n",
       "      <td>TRAAAAW128F429D538</td>\n",
       "      <td>Rap</td>\n",
       "    </tr>\n",
       "    <tr>\n",
       "      <th>3</th>\n",
       "      <td>TRAAABD128F429CF47</td>\n",
       "      <td>Pop_Rock</td>\n",
       "    </tr>\n",
       "    <tr>\n",
       "      <th>4</th>\n",
       "      <td>TRAAACV128F423E09E</td>\n",
       "      <td>Pop_Rock</td>\n",
       "    </tr>\n",
       "  </tbody>\n",
       "</table>\n",
       "</div>"
      ],
      "text/plain": [
       "             track_id     genre\n",
       "0  TRAAAAK128F9318786  Pop_Rock\n",
       "1  TRAAAAV128F421A322  Pop_Rock\n",
       "2  TRAAAAW128F429D538       Rap\n",
       "3  TRAAABD128F429CF47  Pop_Rock\n",
       "4  TRAAACV128F423E09E  Pop_Rock"
      ]
     },
     "execution_count": 36,
     "metadata": {},
     "output_type": "execute_result"
    }
   ],
   "source": [
    "song_genre.head()"
   ]
  },
  {
   "cell_type": "code",
   "execution_count": 37,
   "id": "e083af67",
   "metadata": {
    "scrolled": true
   },
   "outputs": [
    {
     "data": {
      "text/plain": [
       "(422714, 2)"
      ]
     },
     "execution_count": 37,
     "metadata": {},
     "output_type": "execute_result"
    }
   ],
   "source": [
    "song_genre.shape"
   ]
  },
  {
   "cell_type": "code",
   "execution_count": 70,
   "id": "76b04821",
   "metadata": {},
   "outputs": [
    {
     "name": "stdout",
     "output_type": "stream",
     "text": [
      "Количество уникальных жанров 21\n"
     ]
    }
   ],
   "source": [
    "print(f'Количество уникальных жанров {song_genre.genre.nunique()}')"
   ]
  },
  {
   "cell_type": "code",
   "execution_count": 38,
   "id": "b36eae97",
   "metadata": {},
   "outputs": [
    {
     "data": {
      "image/png": "[encoded data removed]",
      "text/plain": [
       "<Figure size 1440x576 with 1 Axes>"
      ]
     },
     "metadata": {
      "needs_background": "light"
     },
     "output_type": "display_data"
    }
   ],
   "source": [
    "fig = plt.figure(figsize = (20, 8))\n",
    "\n",
    "ax = sns.countplot(x='genre', data=song_genre);\n",
    "ax.set_xticklabels(ax.get_xticklabels(), rotation = 45)\n",
    "\n",
    "plt.title('Распределение по жанрам', fontsize=15)\n",
    "plt.ylabel('Count', fontsize=13);\n",
    "plt.xlabel('Genre', fontsize=13);"
   ]
  },
  {
   "cell_type": "code",
   "execution_count": 39,
   "id": "1c161f6c",
   "metadata": {},
   "outputs": [
    {
     "data": {
      "text/html": [
       "<div>\n",
       "<style scoped>\n",
       "    .dataframe tbody tr th:only-of-type {\n",
       "        vertical-align: middle;\n",
       "    }\n",
       "\n",
       "    .dataframe tbody tr th {\n",
       "        vertical-align: top;\n",
       "    }\n",
       "\n",
       "    .dataframe thead th {\n",
       "        text-align: right;\n",
       "    }\n",
       "</style>\n",
       "<table border=\"1\" class=\"dataframe\">\n",
       "  <thead>\n",
       "    <tr style=\"text-align: right;\">\n",
       "      <th></th>\n",
       "      <th>track_id</th>\n",
       "      <th>style</th>\n",
       "    </tr>\n",
       "  </thead>\n",
       "  <tbody>\n",
       "    <tr>\n",
       "      <th>0</th>\n",
       "      <td>TRAAAAK128F9318786</td>\n",
       "      <td>Metal_Alternative</td>\n",
       "    </tr>\n",
       "    <tr>\n",
       "      <th>1</th>\n",
       "      <td>TRAAAAV128F421A322</td>\n",
       "      <td>Punk</td>\n",
       "    </tr>\n",
       "    <tr>\n",
       "      <th>2</th>\n",
       "      <td>TRAAAAW128F429D538</td>\n",
       "      <td>Hip_Hop_Rap</td>\n",
       "    </tr>\n",
       "    <tr>\n",
       "      <th>3</th>\n",
       "      <td>TRAAACV128F423E09E</td>\n",
       "      <td>Rock_Neo_Psychedelia</td>\n",
       "    </tr>\n",
       "    <tr>\n",
       "      <th>4</th>\n",
       "      <td>TRAAAEF128F4273421</td>\n",
       "      <td>Pop_Indie</td>\n",
       "    </tr>\n",
       "  </tbody>\n",
       "</table>\n",
       "</div>"
      ],
      "text/plain": [
       "             track_id                 style\n",
       "0  TRAAAAK128F9318786     Metal_Alternative\n",
       "1  TRAAAAV128F421A322                  Punk\n",
       "2  TRAAAAW128F429D538           Hip_Hop_Rap\n",
       "3  TRAAACV128F423E09E  Rock_Neo_Psychedelia\n",
       "4  TRAAAEF128F4273421             Pop_Indie"
      ]
     },
     "execution_count": 39,
     "metadata": {},
     "output_type": "execute_result"
    }
   ],
   "source": [
    "song_style.head()"
   ]
  },
  {
   "cell_type": "code",
   "execution_count": 40,
   "id": "c8d43b5a",
   "metadata": {},
   "outputs": [
    {
     "data": {
      "text/plain": [
       "(273936, 2)"
      ]
     },
     "execution_count": 40,
     "metadata": {},
     "output_type": "execute_result"
    }
   ],
   "source": [
    "song_style.shape"
   ]
  },
  {
   "cell_type": "code",
   "execution_count": 76,
   "id": "8afc996a",
   "metadata": {},
   "outputs": [
    {
     "name": "stdout",
     "output_type": "stream",
     "text": [
      "Количество уникальных стилей 25\n"
     ]
    }
   ],
   "source": [
    "print('Количество уникальных стилей {}'.format(song_style['style'].nunique()))"
   ]
  },
  {
   "cell_type": "code",
   "execution_count": 41,
   "id": "77c191e5",
   "metadata": {},
   "outputs": [
    {
     "data": {
      "image/png": "[encoded data removed]",
      "text/plain": [
       "<Figure size 1440x576 with 1 Axes>"
      ]
     },
     "metadata": {
      "needs_background": "light"
     },
     "output_type": "display_data"
    }
   ],
   "source": [
    "fig = plt.figure(figsize = (20, 8))\n",
    "\n",
    "ax = sns.countplot(x='style', data=song_style);\n",
    "ax.set_xticklabels(ax.get_xticklabels(), rotation = 45)\n",
    "\n",
    "plt.title('Распределение по стилям', fontsize=15)\n",
    "plt.ylabel('Count', fontsize=13);\n",
    "plt.xlabel('Style', fontsize=13);"
   ]
  },
  {
   "cell_type": "code",
   "execution_count": 42,
   "id": "81b570c8",
   "metadata": {},
   "outputs": [
    {
     "data": {
      "text/html": [
       "<div>\n",
       "<style scoped>\n",
       "    .dataframe tbody tr th:only-of-type {\n",
       "        vertical-align: middle;\n",
       "    }\n",
       "\n",
       "    .dataframe tbody tr th {\n",
       "        vertical-align: top;\n",
       "    }\n",
       "\n",
       "    .dataframe thead th {\n",
       "        text-align: right;\n",
       "    }\n",
       "</style>\n",
       "<table border=\"1\" class=\"dataframe\">\n",
       "  <thead>\n",
       "    <tr style=\"text-align: right;\">\n",
       "      <th></th>\n",
       "      <th>track_id</th>\n",
       "      <th>song_id</th>\n",
       "      <th>artist_name</th>\n",
       "      <th>song_title</th>\n",
       "      <th>seed_genre</th>\n",
       "      <th>genre</th>\n",
       "      <th>style</th>\n",
       "    </tr>\n",
       "  </thead>\n",
       "  <tbody>\n",
       "    <tr>\n",
       "      <th>0</th>\n",
       "      <td>TRMMMYQ128F932D901</td>\n",
       "      <td>SOQMMHC12AB0180CB8</td>\n",
       "      <td>Faster Pussy cat</td>\n",
       "      <td>Silent Night</td>\n",
       "      <td>NaN</td>\n",
       "      <td>NaN</td>\n",
       "      <td>NaN</td>\n",
       "    </tr>\n",
       "    <tr>\n",
       "      <th>1</th>\n",
       "      <td>TRMMMKD128F425225D</td>\n",
       "      <td>SOVFVAK12A8C1350D9</td>\n",
       "      <td>Karkkiautomaatti</td>\n",
       "      <td>Tanssi vaan</td>\n",
       "      <td>Pop</td>\n",
       "      <td>NaN</td>\n",
       "      <td>NaN</td>\n",
       "    </tr>\n",
       "    <tr>\n",
       "      <th>2</th>\n",
       "      <td>TRMMMRX128F93187D9</td>\n",
       "      <td>SOGTUKN12AB017F4F1</td>\n",
       "      <td>Hudson Mohawke</td>\n",
       "      <td>No One Could Ever</td>\n",
       "      <td>Electronica/Dance</td>\n",
       "      <td>Electronic</td>\n",
       "      <td>Electronica</td>\n",
       "    </tr>\n",
       "    <tr>\n",
       "      <th>3</th>\n",
       "      <td>TRMMMCH128F425532C</td>\n",
       "      <td>SOBNYVR12A8C13558C</td>\n",
       "      <td>Yerba Brava</td>\n",
       "      <td>Si Vos Querés</td>\n",
       "      <td>NaN</td>\n",
       "      <td>International</td>\n",
       "      <td>NaN</td>\n",
       "    </tr>\n",
       "    <tr>\n",
       "      <th>4</th>\n",
       "      <td>TRMMMWA128F426B589</td>\n",
       "      <td>SOHSBXH12A8C13B0DF</td>\n",
       "      <td>Der Mystic</td>\n",
       "      <td>Tangle Of Aspens</td>\n",
       "      <td>NaN</td>\n",
       "      <td>NaN</td>\n",
       "      <td>NaN</td>\n",
       "    </tr>\n",
       "  </tbody>\n",
       "</table>\n",
       "</div>"
      ],
      "text/plain": [
       "             track_id             song_id       artist_name  \\\n",
       "0  TRMMMYQ128F932D901  SOQMMHC12AB0180CB8  Faster Pussy cat   \n",
       "1  TRMMMKD128F425225D  SOVFVAK12A8C1350D9  Karkkiautomaatti   \n",
       "2  TRMMMRX128F93187D9  SOGTUKN12AB017F4F1    Hudson Mohawke   \n",
       "3  TRMMMCH128F425532C  SOBNYVR12A8C13558C       Yerba Brava   \n",
       "4  TRMMMWA128F426B589  SOHSBXH12A8C13B0DF        Der Mystic   \n",
       "\n",
       "          song_title         seed_genre          genre        style  \n",
       "0       Silent Night                NaN            NaN          NaN  \n",
       "1        Tanssi vaan                Pop            NaN          NaN  \n",
       "2  No One Could Ever  Electronica/Dance     Electronic  Electronica  \n",
       "3      Si Vos Querés                NaN  International          NaN  \n",
       "4   Tangle Of Aspens                NaN            NaN          NaN  "
      ]
     },
     "execution_count": 42,
     "metadata": {},
     "output_type": "execute_result"
    }
   ],
   "source": [
    "unique_tracks_gnr = pd.merge(unique_tracks, song_seed_genre, on='track_id', how='outer')\n",
    "unique_tracks_gnr_ = pd.merge(unique_tracks_gnr, song_genre, on='track_id', how='outer')\n",
    "unique_tracks_gnr_stl = pd.merge(unique_tracks_gnr_, song_style, on='track_id', how='outer')\n",
    "unique_tracks_gnr_stl.head()"
   ]
  },
  {
   "cell_type": "code",
   "execution_count": 43,
   "id": "415ff2c2",
   "metadata": {},
   "outputs": [
    {
     "data": {
      "text/html": [
       "<div>\n",
       "<style scoped>\n",
       "    .dataframe tbody tr th:only-of-type {\n",
       "        vertical-align: middle;\n",
       "    }\n",
       "\n",
       "    .dataframe tbody tr th {\n",
       "        vertical-align: top;\n",
       "    }\n",
       "\n",
       "    .dataframe thead th {\n",
       "        text-align: right;\n",
       "    }\n",
       "</style>\n",
       "<table border=\"1\" class=\"dataframe\">\n",
       "  <thead>\n",
       "    <tr style=\"text-align: right;\">\n",
       "      <th></th>\n",
       "      <th>track_id</th>\n",
       "      <th>song_id</th>\n",
       "      <th>artist_name</th>\n",
       "      <th>song_title</th>\n",
       "      <th>seed_genre</th>\n",
       "      <th>genre</th>\n",
       "      <th>style</th>\n",
       "    </tr>\n",
       "  </thead>\n",
       "  <tbody>\n",
       "    <tr>\n",
       "      <th>0</th>\n",
       "      <td>TRMMMYQ128F932D901</td>\n",
       "      <td>SOQMMHC12AB0180CB8</td>\n",
       "      <td>Faster Pussy cat</td>\n",
       "      <td>Silent Night</td>\n",
       "      <td>No genre</td>\n",
       "      <td>No genre</td>\n",
       "      <td>No style</td>\n",
       "    </tr>\n",
       "    <tr>\n",
       "      <th>1</th>\n",
       "      <td>TRMMMKD128F425225D</td>\n",
       "      <td>SOVFVAK12A8C1350D9</td>\n",
       "      <td>Karkkiautomaatti</td>\n",
       "      <td>Tanssi vaan</td>\n",
       "      <td>Pop</td>\n",
       "      <td>No genre</td>\n",
       "      <td>No style</td>\n",
       "    </tr>\n",
       "    <tr>\n",
       "      <th>2</th>\n",
       "      <td>TRMMMRX128F93187D9</td>\n",
       "      <td>SOGTUKN12AB017F4F1</td>\n",
       "      <td>Hudson Mohawke</td>\n",
       "      <td>No One Could Ever</td>\n",
       "      <td>Electronica/Dance</td>\n",
       "      <td>Electronic</td>\n",
       "      <td>Electronica</td>\n",
       "    </tr>\n",
       "    <tr>\n",
       "      <th>3</th>\n",
       "      <td>TRMMMCH128F425532C</td>\n",
       "      <td>SOBNYVR12A8C13558C</td>\n",
       "      <td>Yerba Brava</td>\n",
       "      <td>Si Vos Querés</td>\n",
       "      <td>No genre</td>\n",
       "      <td>International</td>\n",
       "      <td>No style</td>\n",
       "    </tr>\n",
       "    <tr>\n",
       "      <th>4</th>\n",
       "      <td>TRMMMWA128F426B589</td>\n",
       "      <td>SOHSBXH12A8C13B0DF</td>\n",
       "      <td>Der Mystic</td>\n",
       "      <td>Tangle Of Aspens</td>\n",
       "      <td>No genre</td>\n",
       "      <td>No genre</td>\n",
       "      <td>No style</td>\n",
       "    </tr>\n",
       "  </tbody>\n",
       "</table>\n",
       "</div>"
      ],
      "text/plain": [
       "             track_id             song_id       artist_name  \\\n",
       "0  TRMMMYQ128F932D901  SOQMMHC12AB0180CB8  Faster Pussy cat   \n",
       "1  TRMMMKD128F425225D  SOVFVAK12A8C1350D9  Karkkiautomaatti   \n",
       "2  TRMMMRX128F93187D9  SOGTUKN12AB017F4F1    Hudson Mohawke   \n",
       "3  TRMMMCH128F425532C  SOBNYVR12A8C13558C       Yerba Brava   \n",
       "4  TRMMMWA128F426B589  SOHSBXH12A8C13B0DF        Der Mystic   \n",
       "\n",
       "          song_title         seed_genre          genre        style  \n",
       "0       Silent Night           No genre       No genre     No style  \n",
       "1        Tanssi vaan                Pop       No genre     No style  \n",
       "2  No One Could Ever  Electronica/Dance     Electronic  Electronica  \n",
       "3      Si Vos Querés           No genre  International     No style  \n",
       "4   Tangle Of Aspens           No genre       No genre     No style  "
      ]
     },
     "execution_count": 43,
     "metadata": {},
     "output_type": "execute_result"
    }
   ],
   "source": [
    "unique_tracks_gnr_stl.seed_genre = unique_tracks_gnr_stl['seed_genre'].fillna('No genre')\n",
    "unique_tracks_gnr_stl.genre = unique_tracks_gnr_stl['genre'].fillna('No genre')\n",
    "unique_tracks_gnr_stl.style = unique_tracks_gnr_stl['style'].fillna('No style')\n",
    "unique_tracks_gnr_stl.head()"
   ]
  },
  {
   "cell_type": "code",
   "execution_count": 44,
   "id": "b35d2b51",
   "metadata": {
    "scrolled": true
   },
   "outputs": [
    {
     "data": {
      "text/plain": [
       "(996342, 7)"
      ]
     },
     "execution_count": 44,
     "metadata": {},
     "output_type": "execute_result"
    }
   ],
   "source": [
    "unique_tracks_gnr_stl.shape"
   ]
  },
  {
   "cell_type": "code",
   "execution_count": 45,
   "id": "b40917fb",
   "metadata": {
    "scrolled": false
   },
   "outputs": [
    {
     "data": {
      "image/png": "[encoded data removed]",
      "text/plain": [
       "<Figure size 1440x576 with 1 Axes>"
      ]
     },
     "metadata": {
      "needs_background": "light"
     },
     "output_type": "display_data"
    }
   ],
   "source": [
    "fig = plt.figure(figsize = (20, 8))\n",
    "\n",
    "ax = sns.countplot(x='seed_genre', data=unique_tracks_gnr_stl, order=unique_tracks_gnr_stl['seed_genre'].value_counts().index);\n",
    "ax.set_xticklabels(ax.get_xticklabels(), rotation = 90)\n",
    "\n",
    "plt.xlim(-1, 100)\n",
    "\n",
    "plt.title('Распределение по жанрам', fontsize=18)\n",
    "plt.ylabel('Count', fontsize=13);\n",
    "plt.xlabel('Seed genre', fontsize=13);"
   ]
  },
  {
   "cell_type": "code",
   "execution_count": 46,
   "id": "00be589c",
   "metadata": {},
   "outputs": [
    {
     "data": {
      "image/png": "[encoded data removed]",
      "text/plain": [
       "<Figure size 1440x576 with 1 Axes>"
      ]
     },
     "metadata": {
      "needs_background": "light"
     },
     "output_type": "display_data"
    }
   ],
   "source": [
    "fig = plt.figure(figsize = (20, 8))\n",
    "\n",
    "ax = sns.countplot(x='genre', data=unique_tracks_gnr_stl, order=unique_tracks_gnr_stl['genre'].value_counts().index);\n",
    "ax.set_xticklabels(ax.get_xticklabels(), rotation = 45)\n",
    "\n",
    "plt.title('Распределение по жанрам', fontsize=15)\n",
    "plt.ylabel('Count', fontsize=13);\n",
    "plt.xlabel('Genre', fontsize=13);"
   ]
  },
  {
   "cell_type": "code",
   "execution_count": 47,
   "id": "9fed568b",
   "metadata": {},
   "outputs": [
    {
     "data": {
      "image/png": "[encoded data removed]",
      "text/plain": [
       "<Figure size 1440x576 with 1 Axes>"
      ]
     },
     "metadata": {
      "needs_background": "light"
     },
     "output_type": "display_data"
    }
   ],
   "source": [
    "fig = plt.figure(figsize = (20, 8))\n",
    "\n",
    "ax = sns.countplot(x='style', data=unique_tracks_gnr_stl, order=unique_tracks_gnr_stl['style'].value_counts().index);\n",
    "ax.set_xticklabels(ax.get_xticklabels(), rotation = 45)\n",
    "\n",
    "plt.title('Распределение по стилям', fontsize=15)\n",
    "plt.ylabel('Count', fontsize=13);\n",
    "plt.xlabel('Style', fontsize=13);"
   ]
  },
  {
   "cell_type": "code",
   "execution_count": 48,
   "id": "f953f2f1",
   "metadata": {},
   "outputs": [
    {
     "data": {
      "text/plain": [
       "(217234, 7)"
      ]
     },
     "execution_count": 48,
     "metadata": {},
     "output_type": "execute_result"
    }
   ],
   "source": [
    "unique_tracks_gnr_stl[(unique_tracks_gnr_stl.seed_genre == 'No genre') & \\\n",
    "                      (unique_tracks_gnr_stl.genre == 'No genre') & \\\n",
    "                      (unique_tracks_gnr_stl['style'] == 'No style')].shape"
   ]
  },
  {
   "cell_type": "markdown",
   "id": "9c4fa214",
   "metadata": {},
   "source": [
    "### Объединение song_data и unique_tracks"
   ]
  },
  {
   "cell_type": "code",
   "execution_count": 49,
   "id": "177af4ef",
   "metadata": {},
   "outputs": [],
   "source": [
    "song_df = pd.merge(unique_tracks_gnr_stl.drop(['artist_name', 'song_title'], axis=1), song_data, on='song_id', how='inner')"
   ]
  },
  {
   "cell_type": "code",
   "execution_count": 50,
   "id": "714951f1",
   "metadata": {},
   "outputs": [
    {
     "data": {
      "text/html": [
       "<div>\n",
       "<style scoped>\n",
       "    .dataframe tbody tr th:only-of-type {\n",
       "        vertical-align: middle;\n",
       "    }\n",
       "\n",
       "    .dataframe tbody tr th {\n",
       "        vertical-align: top;\n",
       "    }\n",
       "\n",
       "    .dataframe thead th {\n",
       "        text-align: right;\n",
       "    }\n",
       "</style>\n",
       "<table border=\"1\" class=\"dataframe\">\n",
       "  <thead>\n",
       "    <tr style=\"text-align: right;\">\n",
       "      <th></th>\n",
       "      <th>track_id</th>\n",
       "      <th>song_id</th>\n",
       "      <th>seed_genre</th>\n",
       "      <th>genre</th>\n",
       "      <th>style</th>\n",
       "      <th>title</th>\n",
       "      <th>release</th>\n",
       "      <th>artist_name</th>\n",
       "      <th>year</th>\n",
       "    </tr>\n",
       "  </thead>\n",
       "  <tbody>\n",
       "    <tr>\n",
       "      <th>0</th>\n",
       "      <td>TRMMMYQ128F932D901</td>\n",
       "      <td>SOQMMHC12AB0180CB8</td>\n",
       "      <td>No genre</td>\n",
       "      <td>No genre</td>\n",
       "      <td>No style</td>\n",
       "      <td>Silent Night</td>\n",
       "      <td>Monster Ballads X-Mas</td>\n",
       "      <td>Faster Pussy cat</td>\n",
       "      <td>2003</td>\n",
       "    </tr>\n",
       "    <tr>\n",
       "      <th>1</th>\n",
       "      <td>TRMMMKD128F425225D</td>\n",
       "      <td>SOVFVAK12A8C1350D9</td>\n",
       "      <td>Pop</td>\n",
       "      <td>No genre</td>\n",
       "      <td>No style</td>\n",
       "      <td>Tanssi vaan</td>\n",
       "      <td>Karkuteillä</td>\n",
       "      <td>Karkkiautomaatti</td>\n",
       "      <td>1995</td>\n",
       "    </tr>\n",
       "    <tr>\n",
       "      <th>2</th>\n",
       "      <td>TRMMMRX128F93187D9</td>\n",
       "      <td>SOGTUKN12AB017F4F1</td>\n",
       "      <td>Electronica/Dance</td>\n",
       "      <td>Electronic</td>\n",
       "      <td>Electronica</td>\n",
       "      <td>No One Could Ever</td>\n",
       "      <td>Butter</td>\n",
       "      <td>Hudson Mohawke</td>\n",
       "      <td>2006</td>\n",
       "    </tr>\n",
       "    <tr>\n",
       "      <th>3</th>\n",
       "      <td>TRMMMCH128F425532C</td>\n",
       "      <td>SOBNYVR12A8C13558C</td>\n",
       "      <td>No genre</td>\n",
       "      <td>International</td>\n",
       "      <td>No style</td>\n",
       "      <td>Si Vos Querés</td>\n",
       "      <td>De Culo</td>\n",
       "      <td>Yerba Brava</td>\n",
       "      <td>2003</td>\n",
       "    </tr>\n",
       "    <tr>\n",
       "      <th>4</th>\n",
       "      <td>TRMMMWA128F426B589</td>\n",
       "      <td>SOHSBXH12A8C13B0DF</td>\n",
       "      <td>No genre</td>\n",
       "      <td>No genre</td>\n",
       "      <td>No style</td>\n",
       "      <td>Tangle Of Aspens</td>\n",
       "      <td>Rene Ablaze Presents Winter Sessions</td>\n",
       "      <td>Der Mystic</td>\n",
       "      <td>0</td>\n",
       "    </tr>\n",
       "  </tbody>\n",
       "</table>\n",
       "</div>"
      ],
      "text/plain": [
       "             track_id             song_id         seed_genre          genre  \\\n",
       "0  TRMMMYQ128F932D901  SOQMMHC12AB0180CB8           No genre       No genre   \n",
       "1  TRMMMKD128F425225D  SOVFVAK12A8C1350D9                Pop       No genre   \n",
       "2  TRMMMRX128F93187D9  SOGTUKN12AB017F4F1  Electronica/Dance     Electronic   \n",
       "3  TRMMMCH128F425532C  SOBNYVR12A8C13558C           No genre  International   \n",
       "4  TRMMMWA128F426B589  SOHSBXH12A8C13B0DF           No genre       No genre   \n",
       "\n",
       "         style              title                               release  \\\n",
       "0     No style       Silent Night                 Monster Ballads X-Mas   \n",
       "1     No style        Tanssi vaan                           Karkuteillä   \n",
       "2  Electronica  No One Could Ever                                Butter   \n",
       "3     No style      Si Vos Querés                               De Culo   \n",
       "4     No style   Tangle Of Aspens  Rene Ablaze Presents Winter Sessions   \n",
       "\n",
       "        artist_name  year  \n",
       "0  Faster Pussy cat  2003  \n",
       "1  Karkkiautomaatti  1995  \n",
       "2    Hudson Mohawke  2006  \n",
       "3       Yerba Brava  2003  \n",
       "4        Der Mystic     0  "
      ]
     },
     "execution_count": 50,
     "metadata": {},
     "output_type": "execute_result"
    }
   ],
   "source": [
    "song_df.head()"
   ]
  },
  {
   "cell_type": "code",
   "execution_count": 51,
   "id": "0a1ad599",
   "metadata": {
    "scrolled": true
   },
   "outputs": [
    {
     "data": {
      "text/plain": [
       "(980144, 9)"
      ]
     },
     "execution_count": 51,
     "metadata": {},
     "output_type": "execute_result"
    }
   ],
   "source": [
    "song_df.shape"
   ]
  },
  {
   "cell_type": "markdown",
   "id": "4edb4c32",
   "metadata": {},
   "source": [
    "### Объединение всех датасетов"
   ]
  },
  {
   "cell_type": "code",
   "execution_count": 52,
   "id": "6b709ae6",
   "metadata": {},
   "outputs": [],
   "source": [
    "user_song_df = pd.merge(triplets_data, song_df, on='song_id', how='inner')"
   ]
  },
  {
   "cell_type": "code",
   "execution_count": 53,
   "id": "ae9059d0",
   "metadata": {},
   "outputs": [
    {
     "data": {
      "text/plain": [
       "(45795099, 11)"
      ]
     },
     "execution_count": 53,
     "metadata": {},
     "output_type": "execute_result"
    }
   ],
   "source": [
    "user_song_df.shape"
   ]
  },
  {
   "cell_type": "code",
   "execution_count": 54,
   "id": "4ec5a373",
   "metadata": {
    "scrolled": true
   },
   "outputs": [
    {
     "data": {
      "text/html": [
       "<div>\n",
       "<style scoped>\n",
       "    .dataframe tbody tr th:only-of-type {\n",
       "        vertical-align: middle;\n",
       "    }\n",
       "\n",
       "    .dataframe tbody tr th {\n",
       "        vertical-align: top;\n",
       "    }\n",
       "\n",
       "    .dataframe thead th {\n",
       "        text-align: right;\n",
       "    }\n",
       "</style>\n",
       "<table border=\"1\" class=\"dataframe\">\n",
       "  <thead>\n",
       "    <tr style=\"text-align: right;\">\n",
       "      <th></th>\n",
       "      <th>user_id</th>\n",
       "      <th>song_id</th>\n",
       "      <th>play_count</th>\n",
       "      <th>track_id</th>\n",
       "      <th>seed_genre</th>\n",
       "      <th>genre</th>\n",
       "      <th>style</th>\n",
       "      <th>title</th>\n",
       "      <th>release</th>\n",
       "      <th>artist_name</th>\n",
       "      <th>year</th>\n",
       "    </tr>\n",
       "  </thead>\n",
       "  <tbody>\n",
       "    <tr>\n",
       "      <th>0</th>\n",
       "      <td>b80344d063b5ccb3212f76538f3d9e43d87dca9e</td>\n",
       "      <td>SOAPDEY12A81C210A9</td>\n",
       "      <td>1</td>\n",
       "      <td>TRIRLYL128F42539D1</td>\n",
       "      <td>R&amp;B</td>\n",
       "      <td>No genre</td>\n",
       "      <td>No style</td>\n",
       "      <td>Nothing from Nothing</td>\n",
       "      <td>To Die For</td>\n",
       "      <td>Billy Preston</td>\n",
       "      <td>1974</td>\n",
       "    </tr>\n",
       "    <tr>\n",
       "      <th>1</th>\n",
       "      <td>fd13b9d49c54e00ff413fe3c095ba581c7fc611e</td>\n",
       "      <td>SOAPDEY12A81C210A9</td>\n",
       "      <td>8</td>\n",
       "      <td>TRIRLYL128F42539D1</td>\n",
       "      <td>R&amp;B</td>\n",
       "      <td>No genre</td>\n",
       "      <td>No style</td>\n",
       "      <td>Nothing from Nothing</td>\n",
       "      <td>To Die For</td>\n",
       "      <td>Billy Preston</td>\n",
       "      <td>1974</td>\n",
       "    </tr>\n",
       "    <tr>\n",
       "      <th>2</th>\n",
       "      <td>35752a9e4d917c8fc5da88e90c25adc6b52220b6</td>\n",
       "      <td>SOAPDEY12A81C210A9</td>\n",
       "      <td>1</td>\n",
       "      <td>TRIRLYL128F42539D1</td>\n",
       "      <td>R&amp;B</td>\n",
       "      <td>No genre</td>\n",
       "      <td>No style</td>\n",
       "      <td>Nothing from Nothing</td>\n",
       "      <td>To Die For</td>\n",
       "      <td>Billy Preston</td>\n",
       "      <td>1974</td>\n",
       "    </tr>\n",
       "    <tr>\n",
       "      <th>3</th>\n",
       "      <td>bfe8d6d1e32d9de12c632d68712e7e4a23416e93</td>\n",
       "      <td>SOAPDEY12A81C210A9</td>\n",
       "      <td>1</td>\n",
       "      <td>TRIRLYL128F42539D1</td>\n",
       "      <td>R&amp;B</td>\n",
       "      <td>No genre</td>\n",
       "      <td>No style</td>\n",
       "      <td>Nothing from Nothing</td>\n",
       "      <td>To Die For</td>\n",
       "      <td>Billy Preston</td>\n",
       "      <td>1974</td>\n",
       "    </tr>\n",
       "    <tr>\n",
       "      <th>4</th>\n",
       "      <td>46d3ef1b4f317aba8f0226e937c67ecef9fa2e42</td>\n",
       "      <td>SOAPDEY12A81C210A9</td>\n",
       "      <td>4</td>\n",
       "      <td>TRIRLYL128F42539D1</td>\n",
       "      <td>R&amp;B</td>\n",
       "      <td>No genre</td>\n",
       "      <td>No style</td>\n",
       "      <td>Nothing from Nothing</td>\n",
       "      <td>To Die For</td>\n",
       "      <td>Billy Preston</td>\n",
       "      <td>1974</td>\n",
       "    </tr>\n",
       "  </tbody>\n",
       "</table>\n",
       "</div>"
      ],
      "text/plain": [
       "                                    user_id             song_id  play_count  \\\n",
       "0  b80344d063b5ccb3212f76538f3d9e43d87dca9e  SOAPDEY12A81C210A9           1   \n",
       "1  fd13b9d49c54e00ff413fe3c095ba581c7fc611e  SOAPDEY12A81C210A9           8   \n",
       "2  35752a9e4d917c8fc5da88e90c25adc6b52220b6  SOAPDEY12A81C210A9           1   \n",
       "3  bfe8d6d1e32d9de12c632d68712e7e4a23416e93  SOAPDEY12A81C210A9           1   \n",
       "4  46d3ef1b4f317aba8f0226e937c67ecef9fa2e42  SOAPDEY12A81C210A9           4   \n",
       "\n",
       "             track_id seed_genre     genre     style                 title  \\\n",
       "0  TRIRLYL128F42539D1        R&B  No genre  No style  Nothing from Nothing   \n",
       "1  TRIRLYL128F42539D1        R&B  No genre  No style  Nothing from Nothing   \n",
       "2  TRIRLYL128F42539D1        R&B  No genre  No style  Nothing from Nothing   \n",
       "3  TRIRLYL128F42539D1        R&B  No genre  No style  Nothing from Nothing   \n",
       "4  TRIRLYL128F42539D1        R&B  No genre  No style  Nothing from Nothing   \n",
       "\n",
       "      release    artist_name  year  \n",
       "0  To Die For  Billy Preston  1974  \n",
       "1  To Die For  Billy Preston  1974  \n",
       "2  To Die For  Billy Preston  1974  \n",
       "3  To Die For  Billy Preston  1974  \n",
       "4  To Die For  Billy Preston  1974  "
      ]
     },
     "execution_count": 54,
     "metadata": {},
     "output_type": "execute_result"
    }
   ],
   "source": [
    "user_song_df.head()"
   ]
  },
  {
   "cell_type": "code",
   "execution_count": null,
   "id": "b2f1c7b9",
   "metadata": {},
   "outputs": [],
   "source": []
  }
 ],
 "metadata": {
  "kernelspec": {
   "display_name": "Python 3 (ipykernel)",
   "language": "python",
   "name": "python3"
  },
  "language_info": {
   "codemirror_mode": {
    "name": "ipython",
    "version": 3
   },
   "file_extension": ".py",
   "mimetype": "text/x-python",
   "name": "python",
   "nbconvert_exporter": "python",
   "pygments_lexer": "ipython3",
   "version": "3.10.8"
  }
 },
 "nbformat": 4,
 "nbformat_minor": 5
}
