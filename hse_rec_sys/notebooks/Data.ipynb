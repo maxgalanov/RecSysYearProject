{
 "cells": [
  {
   "cell_type": "code",
   "execution_count": 2,
   "id": "ba8fec00",
   "metadata": {},
   "outputs": [],
   "source": [
    "import pandas as pd\n",
    "import seaborn as sns\n",
    "import matplotlib.pyplot as plt\n",
    "import warnings\n",
    "warnings.filterwarnings(\"ignore\")"
   ]
  },
  {
   "cell_type": "markdown",
   "id": "c63fd785",
   "metadata": {},
   "source": [
    "# Загрузка данных\n",
    "### Датасет triplets_data"
   ]
  },
  {
   "cell_type": "code",
   "execution_count": 3,
   "id": "c7bf3413",
   "metadata": {},
   "outputs": [
    {
     "data": {
      "text/html": [
       "<div>\n",
       "<style scoped>\n",
       "    .dataframe tbody tr th:only-of-type {\n",
       "        vertical-align: middle;\n",
       "    }\n",
       "\n",
       "    .dataframe tbody tr th {\n",
       "        vertical-align: top;\n",
       "    }\n",
       "\n",
       "    .dataframe thead th {\n",
       "        text-align: right;\n",
       "    }\n",
       "</style>\n",
       "<table border=\"1\" class=\"dataframe\">\n",
       "  <thead>\n",
       "    <tr style=\"text-align: right;\">\n",
       "      <th></th>\n",
       "      <th>user_id</th>\n",
       "      <th>song_id</th>\n",
       "      <th>play_count</th>\n",
       "    </tr>\n",
       "  </thead>\n",
       "  <tbody>\n",
       "    <tr>\n",
       "      <th>0</th>\n",
       "      <td>b80344d063b5ccb3212f76538f3d9e43d87dca9e</td>\n",
       "      <td>SOAPDEY12A81C210A9</td>\n",
       "      <td>1</td>\n",
       "    </tr>\n",
       "    <tr>\n",
       "      <th>1</th>\n",
       "      <td>b80344d063b5ccb3212f76538f3d9e43d87dca9e</td>\n",
       "      <td>SOBBMDR12A8C13253B</td>\n",
       "      <td>2</td>\n",
       "    </tr>\n",
       "    <tr>\n",
       "      <th>2</th>\n",
       "      <td>b80344d063b5ccb3212f76538f3d9e43d87dca9e</td>\n",
       "      <td>SOBFNSP12AF72A0E22</td>\n",
       "      <td>1</td>\n",
       "    </tr>\n",
       "    <tr>\n",
       "      <th>3</th>\n",
       "      <td>b80344d063b5ccb3212f76538f3d9e43d87dca9e</td>\n",
       "      <td>SOBFOVM12A58A7D494</td>\n",
       "      <td>1</td>\n",
       "    </tr>\n",
       "    <tr>\n",
       "      <th>4</th>\n",
       "      <td>b80344d063b5ccb3212f76538f3d9e43d87dca9e</td>\n",
       "      <td>SOBNZDC12A6D4FC103</td>\n",
       "      <td>1</td>\n",
       "    </tr>\n",
       "  </tbody>\n",
       "</table>\n",
       "</div>"
      ],
      "text/plain": [
       "                                    user_id             song_id  play_count\n",
       "0  b80344d063b5ccb3212f76538f3d9e43d87dca9e  SOAPDEY12A81C210A9           1\n",
       "1  b80344d063b5ccb3212f76538f3d9e43d87dca9e  SOBBMDR12A8C13253B           2\n",
       "2  b80344d063b5ccb3212f76538f3d9e43d87dca9e  SOBFNSP12AF72A0E22           1\n",
       "3  b80344d063b5ccb3212f76538f3d9e43d87dca9e  SOBFOVM12A58A7D494           1\n",
       "4  b80344d063b5ccb3212f76538f3d9e43d87dca9e  SOBNZDC12A6D4FC103           1"
      ]
     },
     "execution_count": 3,
     "metadata": {},
     "output_type": "execute_result"
    }
   ],
   "source": [
    "triplets_data = pd.read_csv('triplets_data.csv', index_col=0)\n",
    "triplets_data.head()"
   ]
  },
  {
   "cell_type": "code",
   "execution_count": 4,
   "id": "bbdf2fa3",
   "metadata": {},
   "outputs": [
    {
     "data": {
      "text/plain": [
       "(48373585, 3)"
      ]
     },
     "execution_count": 4,
     "metadata": {},
     "output_type": "execute_result"
    }
   ],
   "source": [
    "triplets_data.shape"
   ]
  },
  {
   "cell_type": "code",
   "execution_count": 6,
   "id": "f713487b",
   "metadata": {},
   "outputs": [
    {
     "name": "stdout",
     "output_type": "stream",
     "text": [
      "Количество уникальных пользователей: 1019318\n",
      "Количество уникальных песен: 384546\n"
     ]
    }
   ],
   "source": [
    "print(f'Количество уникальных пользователей: {triplets_data.user_id.nunique()}')\n",
    "print(f'Количество уникальных песен: {triplets_data.song_id.nunique()}')"
   ]
  },
  {
   "cell_type": "code",
   "execution_count": 9,
   "id": "df17a7bb",
   "metadata": {},
   "outputs": [
    {
     "data": {
      "text/html": [
       "<div>\n",
       "<style scoped>\n",
       "    .dataframe tbody tr th:only-of-type {\n",
       "        vertical-align: middle;\n",
       "    }\n",
       "\n",
       "    .dataframe tbody tr th {\n",
       "        vertical-align: top;\n",
       "    }\n",
       "\n",
       "    .dataframe thead th {\n",
       "        text-align: right;\n",
       "    }\n",
       "</style>\n",
       "<table border=\"1\" class=\"dataframe\">\n",
       "  <thead>\n",
       "    <tr style=\"text-align: right;\">\n",
       "      <th></th>\n",
       "      <th>play_count</th>\n",
       "    </tr>\n",
       "  </thead>\n",
       "  <tbody>\n",
       "    <tr>\n",
       "      <th>count</th>\n",
       "      <td>48373585.00</td>\n",
       "    </tr>\n",
       "    <tr>\n",
       "      <th>mean</th>\n",
       "      <td>1.93</td>\n",
       "    </tr>\n",
       "    <tr>\n",
       "      <th>std</th>\n",
       "      <td>1.65</td>\n",
       "    </tr>\n",
       "    <tr>\n",
       "      <th>min</th>\n",
       "      <td>1.00</td>\n",
       "    </tr>\n",
       "    <tr>\n",
       "      <th>25%</th>\n",
       "      <td>1.00</td>\n",
       "    </tr>\n",
       "    <tr>\n",
       "      <th>50%</th>\n",
       "      <td>1.00</td>\n",
       "    </tr>\n",
       "    <tr>\n",
       "      <th>75%</th>\n",
       "      <td>2.00</td>\n",
       "    </tr>\n",
       "    <tr>\n",
       "      <th>max</th>\n",
       "      <td>9.00</td>\n",
       "    </tr>\n",
       "  </tbody>\n",
       "</table>\n",
       "</div>"
      ],
      "text/plain": [
       "        play_count\n",
       "count  48373585.00\n",
       "mean          1.93\n",
       "std           1.65\n",
       "min           1.00\n",
       "25%           1.00\n",
       "50%           1.00\n",
       "75%           2.00\n",
       "max           9.00"
      ]
     },
     "execution_count": 9,
     "metadata": {},
     "output_type": "execute_result"
    }
   ],
   "source": [
    "triplets_data.describe().round(2)"
   ]
  },
  {
   "cell_type": "code",
   "execution_count": 10,
   "id": "40a30fde",
   "metadata": {},
   "outputs": [
    {
     "data": {
      "image/png": "[encoded data removed]",
      "text/plain": [
       "<Figure size 864x432 with 1 Axes>"
      ]
     },
     "metadata": {
      "needs_background": "light"
     },
     "output_type": "display_data"
    }
   ],
   "source": [
    "fig = plt.figure(figsize = (12, 6))\n",
    "\n",
    "sns.countplot(x='play_count', data=triplets_data);\n",
    "\n",
    "plt.title('Распределение по количеству прослушиваний', fontsize=13);\n",
    "plt.ylabel('Count', fontsize=10);\n",
    "plt.xlabel('Play_count',  fontsize=10);"
   ]
  },
  {
   "cell_type": "markdown",
   "id": "a0b6cd1b",
   "metadata": {},
   "source": [
    "Посмотрим на общее количество прослушанных песен для каждого пользователя."
   ]
  },
  {
   "cell_type": "code",
   "execution_count": 167,
   "id": "9acb8ee0",
   "metadata": {
    "scrolled": true
   },
   "outputs": [
    {
     "data": {
      "text/html": [
       "<div>\n",
       "<style scoped>\n",
       "    .dataframe tbody tr th:only-of-type {\n",
       "        vertical-align: middle;\n",
       "    }\n",
       "\n",
       "    .dataframe tbody tr th {\n",
       "        vertical-align: top;\n",
       "    }\n",
       "\n",
       "    .dataframe thead th {\n",
       "        text-align: right;\n",
       "    }\n",
       "</style>\n",
       "<table border=\"1\" class=\"dataframe\">\n",
       "  <thead>\n",
       "    <tr style=\"text-align: right;\">\n",
       "      <th></th>\n",
       "      <th>user_id</th>\n",
       "      <th>count_song</th>\n",
       "      <th>play_count</th>\n",
       "    </tr>\n",
       "  </thead>\n",
       "  <tbody>\n",
       "    <tr>\n",
       "      <th>941420</th>\n",
       "      <td>ec6dfcf19485cb011e0b22637075037aae34cf26</td>\n",
       "      <td>4400</td>\n",
       "      <td>5260</td>\n",
       "    </tr>\n",
       "    <tr>\n",
       "      <th>559999</th>\n",
       "      <td>8cb51abc6bf8ea29341cb070fe1e1af5e4c3ffcc</td>\n",
       "      <td>1651</td>\n",
       "      <td>2538</td>\n",
       "    </tr>\n",
       "    <tr>\n",
       "      <th>1015155</th>\n",
       "      <td>fef771ab021c200187a419f5e55311390f850a50</td>\n",
       "      <td>1614</td>\n",
       "      <td>2504</td>\n",
       "    </tr>\n",
       "    <tr>\n",
       "      <th>358880</th>\n",
       "      <td>5a3417a1955d9136413e0d293cd36497f5e00238</td>\n",
       "      <td>1604</td>\n",
       "      <td>1732</td>\n",
       "    </tr>\n",
       "    <tr>\n",
       "      <th>768700</th>\n",
       "      <td>c1255748c06ee3f6440c51c439446886c7807095</td>\n",
       "      <td>1566</td>\n",
       "      <td>3176</td>\n",
       "    </tr>\n",
       "  </tbody>\n",
       "</table>\n",
       "</div>"
      ],
      "text/plain": [
       "                                          user_id  count_song  play_count\n",
       "941420   ec6dfcf19485cb011e0b22637075037aae34cf26        4400        5260\n",
       "559999   8cb51abc6bf8ea29341cb070fe1e1af5e4c3ffcc        1651        2538\n",
       "1015155  fef771ab021c200187a419f5e55311390f850a50        1614        2504\n",
       "358880   5a3417a1955d9136413e0d293cd36497f5e00238        1604        1732\n",
       "768700   c1255748c06ee3f6440c51c439446886c7807095        1566        3176"
      ]
     },
     "execution_count": 167,
     "metadata": {},
     "output_type": "execute_result"
    }
   ],
   "source": [
    "song_count = triplets_data.groupby('user_id', as_index=False).agg({'song_id': 'count', 'play_count': 'sum'}) \\\n",
    "                                                             .rename(columns={'song_id': 'count_song'}) \\\n",
    "                                                             .sort_values(by='count_song', ascending=False)\n",
    "song_count.head()"
   ]
  },
  {
   "cell_type": "code",
   "execution_count": 8,
   "id": "5dedf25b",
   "metadata": {
    "scrolled": false
   },
   "outputs": [
    {
     "data": {
      "image/png": "[encoded data removed]",
      "text/plain": [
       "<Figure size 1440x576 with 1 Axes>"
      ]
     },
     "metadata": {
      "needs_background": "light"
     },
     "output_type": "display_data"
    }
   ],
   "source": [
    "fig = plt.figure(figsize = (20, 8))\n",
    "\n",
    "ax = sns.histplot(x='count_song', data=song_count, bins=1000);\n",
    "\n",
    "plt.xlim(0, 500)\n",
    "\n",
    "plt.title('Распределение по количеству прослушенных песен', fontsize=15);\n",
    "plt.ylabel('Count', fontsize=13);\n",
    "plt.xlabel('count_song',  fontsize=13);"
   ]
  },
  {
   "cell_type": "markdown",
   "id": "7e4e098c",
   "metadata": {},
   "source": [
    "Из построенного распределения видно, что большая часть пользоватлей прослушала от 10 до 100 песен."
   ]
  },
  {
   "cell_type": "markdown",
   "id": "d2f135d6",
   "metadata": {},
   "source": [
    "### Датасет song_data"
   ]
  },
  {
   "cell_type": "code",
   "execution_count": 14,
   "id": "a036e367",
   "metadata": {},
   "outputs": [
    {
     "data": {
      "text/html": [
       "<div>\n",
       "<style scoped>\n",
       "    .dataframe tbody tr th:only-of-type {\n",
       "        vertical-align: middle;\n",
       "    }\n",
       "\n",
       "    .dataframe tbody tr th {\n",
       "        vertical-align: top;\n",
       "    }\n",
       "\n",
       "    .dataframe thead th {\n",
       "        text-align: right;\n",
       "    }\n",
       "</style>\n",
       "<table border=\"1\" class=\"dataframe\">\n",
       "  <thead>\n",
       "    <tr style=\"text-align: right;\">\n",
       "      <th></th>\n",
       "      <th>song_id</th>\n",
       "      <th>title</th>\n",
       "      <th>release</th>\n",
       "      <th>artist_name</th>\n",
       "      <th>year</th>\n",
       "    </tr>\n",
       "  </thead>\n",
       "  <tbody>\n",
       "    <tr>\n",
       "      <th>0</th>\n",
       "      <td>SOQMMHC12AB0180CB8</td>\n",
       "      <td>Silent Night</td>\n",
       "      <td>Monster Ballads X-Mas</td>\n",
       "      <td>Faster Pussy cat</td>\n",
       "      <td>2003</td>\n",
       "    </tr>\n",
       "    <tr>\n",
       "      <th>1</th>\n",
       "      <td>SOVFVAK12A8C1350D9</td>\n",
       "      <td>Tanssi vaan</td>\n",
       "      <td>Karkuteillä</td>\n",
       "      <td>Karkkiautomaatti</td>\n",
       "      <td>1995</td>\n",
       "    </tr>\n",
       "    <tr>\n",
       "      <th>2</th>\n",
       "      <td>SOGTUKN12AB017F4F1</td>\n",
       "      <td>No One Could Ever</td>\n",
       "      <td>Butter</td>\n",
       "      <td>Hudson Mohawke</td>\n",
       "      <td>2006</td>\n",
       "    </tr>\n",
       "    <tr>\n",
       "      <th>3</th>\n",
       "      <td>SOBNYVR12A8C13558C</td>\n",
       "      <td>Si Vos Querés</td>\n",
       "      <td>De Culo</td>\n",
       "      <td>Yerba Brava</td>\n",
       "      <td>2003</td>\n",
       "    </tr>\n",
       "    <tr>\n",
       "      <th>4</th>\n",
       "      <td>SOHSBXH12A8C13B0DF</td>\n",
       "      <td>Tangle Of Aspens</td>\n",
       "      <td>Rene Ablaze Presents Winter Sessions</td>\n",
       "      <td>Der Mystic</td>\n",
       "      <td>0</td>\n",
       "    </tr>\n",
       "  </tbody>\n",
       "</table>\n",
       "</div>"
      ],
      "text/plain": [
       "              song_id              title  \\\n",
       "0  SOQMMHC12AB0180CB8       Silent Night   \n",
       "1  SOVFVAK12A8C1350D9        Tanssi vaan   \n",
       "2  SOGTUKN12AB017F4F1  No One Could Ever   \n",
       "3  SOBNYVR12A8C13558C      Si Vos Querés   \n",
       "4  SOHSBXH12A8C13B0DF   Tangle Of Aspens   \n",
       "\n",
       "                                release       artist_name  year  \n",
       "0                 Monster Ballads X-Mas  Faster Pussy cat  2003  \n",
       "1                           Karkuteillä  Karkkiautomaatti  1995  \n",
       "2                                Butter    Hudson Mohawke  2006  \n",
       "3                               De Culo       Yerba Brava  2003  \n",
       "4  Rene Ablaze Presents Winter Sessions        Der Mystic     0  "
      ]
     },
     "execution_count": 14,
     "metadata": {},
     "output_type": "execute_result"
    }
   ],
   "source": [
    "song_data = pd.read_csv('song_data.csv')\n",
    "song_data.head()"
   ]
  },
  {
   "cell_type": "code",
   "execution_count": 15,
   "id": "1702bf3d",
   "metadata": {},
   "outputs": [
    {
     "data": {
      "text/plain": [
       "(1000000, 5)"
      ]
     },
     "execution_count": 15,
     "metadata": {},
     "output_type": "execute_result"
    }
   ],
   "source": [
    "song_data.shape"
   ]
  },
  {
   "cell_type": "markdown",
   "id": "f01ea8aa",
   "metadata": {},
   "source": [
    "Посмотрим на основные характеристики данных:"
   ]
  },
  {
   "cell_type": "code",
   "execution_count": 18,
   "id": "ab6a5c39",
   "metadata": {},
   "outputs": [
    {
     "name": "stdout",
     "output_type": "stream",
     "text": [
      "Количество уникальных песен: 999056\n",
      "Количество уникальных исполнителей: 72665\n",
      "\n",
      "Минимальный год выхода трека: 1922\n",
      "Максимальный год выхода трека: 2011\n",
      "Количество треков, для которых определен год: 515576\n"
     ]
    }
   ],
   "source": [
    "print(f'Количество уникальных песен: {song_data.song_id.nunique()}')\n",
    "print(f'Количество уникальных исполнителей: {song_data.artist_name.nunique()}\\n')\n",
    "print(f'Минимальный год выхода трека: {song_data.year[song_data.year > 0].min()}')\n",
    "print(f'Максимальный год выхода трека: {song_data.year[song_data.year > 0].max()}')\n",
    "print(f'Количество треков, для которых определен год: {song_data.song_id[song_data.year > 0].count()}')"
   ]
  },
  {
   "cell_type": "markdown",
   "id": "ba089356",
   "metadata": {},
   "source": [
    "#### Удаляем дубли\n",
    "В данном датасете присутствуют дубли песен, которые необходимо удалить."
   ]
  },
  {
   "cell_type": "code",
   "execution_count": 19,
   "id": "f60c8ddd",
   "metadata": {
    "scrolled": true
   },
   "outputs": [
    {
     "data": {
      "text/html": [
       "<div>\n",
       "<style scoped>\n",
       "    .dataframe tbody tr th:only-of-type {\n",
       "        vertical-align: middle;\n",
       "    }\n",
       "\n",
       "    .dataframe tbody tr th {\n",
       "        vertical-align: top;\n",
       "    }\n",
       "\n",
       "    .dataframe thead th {\n",
       "        text-align: right;\n",
       "    }\n",
       "</style>\n",
       "<table border=\"1\" class=\"dataframe\">\n",
       "  <thead>\n",
       "    <tr style=\"text-align: right;\">\n",
       "      <th></th>\n",
       "      <th>song_id</th>\n",
       "      <th>count_song_id</th>\n",
       "    </tr>\n",
       "  </thead>\n",
       "  <tbody>\n",
       "    <tr>\n",
       "      <th>824667</th>\n",
       "      <td>SOUYQYY12AF72A000F</td>\n",
       "      <td>3</td>\n",
       "    </tr>\n",
       "    <tr>\n",
       "      <th>476252</th>\n",
       "      <td>SOLNCTS12A8C1405EF</td>\n",
       "      <td>3</td>\n",
       "    </tr>\n",
       "    <tr>\n",
       "      <th>665418</th>\n",
       "      <td>SOQNMCD12A8C1383D4</td>\n",
       "      <td>3</td>\n",
       "    </tr>\n",
       "    <tr>\n",
       "      <th>68469</th>\n",
       "      <td>SOBPAEP12A58A77F49</td>\n",
       "      <td>3</td>\n",
       "    </tr>\n",
       "    <tr>\n",
       "      <th>827438</th>\n",
       "      <td>SOVASUH12A67021B44</td>\n",
       "      <td>3</td>\n",
       "    </tr>\n",
       "    <tr>\n",
       "      <th>...</th>\n",
       "      <td>...</td>\n",
       "      <td>...</td>\n",
       "    </tr>\n",
       "    <tr>\n",
       "      <th>333168</th>\n",
       "      <td>SOHXMHZ12A5891FFDF</td>\n",
       "      <td>1</td>\n",
       "    </tr>\n",
       "    <tr>\n",
       "      <th>333169</th>\n",
       "      <td>SOHXMIP12AAF3B3C24</td>\n",
       "      <td>1</td>\n",
       "    </tr>\n",
       "    <tr>\n",
       "      <th>333170</th>\n",
       "      <td>SOHXMJG12AB0182DA9</td>\n",
       "      <td>1</td>\n",
       "    </tr>\n",
       "    <tr>\n",
       "      <th>333171</th>\n",
       "      <td>SOHXMJO12AB018F837</td>\n",
       "      <td>1</td>\n",
       "    </tr>\n",
       "    <tr>\n",
       "      <th>999055</th>\n",
       "      <td>SOZZZZM12AB018B095</td>\n",
       "      <td>1</td>\n",
       "    </tr>\n",
       "  </tbody>\n",
       "</table>\n",
       "<p>999056 rows × 2 columns</p>\n",
       "</div>"
      ],
      "text/plain": [
       "                   song_id  count_song_id\n",
       "824667  SOUYQYY12AF72A000F              3\n",
       "476252  SOLNCTS12A8C1405EF              3\n",
       "665418  SOQNMCD12A8C1383D4              3\n",
       "68469   SOBPAEP12A58A77F49              3\n",
       "827438  SOVASUH12A67021B44              3\n",
       "...                    ...            ...\n",
       "333168  SOHXMHZ12A5891FFDF              1\n",
       "333169  SOHXMIP12AAF3B3C24              1\n",
       "333170  SOHXMJG12AB0182DA9              1\n",
       "333171  SOHXMJO12AB018F837              1\n",
       "999055  SOZZZZM12AB018B095              1\n",
       "\n",
       "[999056 rows x 2 columns]"
      ]
     },
     "execution_count": 19,
     "metadata": {},
     "output_type": "execute_result"
    }
   ],
   "source": [
    "song_data.groupby('song_id', as_index=False).agg({'artist_name': 'count'}).rename(columns={'artist_name': 'count_song_id'}) \\\n",
    "                                            .sort_values(by='count_song_id', ascending=False)"
   ]
  },
  {
   "cell_type": "code",
   "execution_count": 20,
   "id": "944469e1",
   "metadata": {},
   "outputs": [
    {
     "data": {
      "text/plain": [
       "(999056, 5)"
      ]
     },
     "execution_count": 20,
     "metadata": {},
     "output_type": "execute_result"
    }
   ],
   "source": [
    "song_data = song_data.drop_duplicates(['song_id'])\n",
    "song_data.shape"
   ]
  },
  {
   "cell_type": "markdown",
   "id": "3f81cc68",
   "metadata": {},
   "source": [
    "### Удаление неверно объединенных пар song_id и track_id"
   ]
  },
  {
   "cell_type": "code",
   "execution_count": 23,
   "id": "6c061516",
   "metadata": {
    "scrolled": true
   },
   "outputs": [
    {
     "data": {
      "text/html": [
       "<div>\n",
       "<style scoped>\n",
       "    .dataframe tbody tr th:only-of-type {\n",
       "        vertical-align: middle;\n",
       "    }\n",
       "\n",
       "    .dataframe tbody tr th {\n",
       "        vertical-align: top;\n",
       "    }\n",
       "\n",
       "    .dataframe thead th {\n",
       "        text-align: right;\n",
       "    }\n",
       "</style>\n",
       "<table border=\"1\" class=\"dataframe\">\n",
       "  <thead>\n",
       "    <tr style=\"text-align: right;\">\n",
       "      <th></th>\n",
       "      <th>song_id</th>\n",
       "      <th>track_id</th>\n",
       "    </tr>\n",
       "  </thead>\n",
       "  <tbody>\n",
       "    <tr>\n",
       "      <th>0</th>\n",
       "      <td>SOCMRBE12AB018C546</td>\n",
       "      <td>TRMMREB12903CEB1B1</td>\n",
       "    </tr>\n",
       "    <tr>\n",
       "      <th>1</th>\n",
       "      <td>SOLPHZY12AC468ABA8</td>\n",
       "      <td>TRMMBOC12903CEB46E</td>\n",
       "    </tr>\n",
       "    <tr>\n",
       "      <th>2</th>\n",
       "      <td>SONGHTM12A8C1374EF</td>\n",
       "      <td>TRMMITP128F425D8D0</td>\n",
       "    </tr>\n",
       "    <tr>\n",
       "      <th>3</th>\n",
       "      <td>SONGXCA12A8C13E82E</td>\n",
       "      <td>TRMMAYZ128F429ECE6</td>\n",
       "    </tr>\n",
       "    <tr>\n",
       "      <th>4</th>\n",
       "      <td>SOMBCRC12A67ADA435</td>\n",
       "      <td>TRMMNVU128EF343EED</td>\n",
       "    </tr>\n",
       "  </tbody>\n",
       "</table>\n",
       "</div>"
      ],
      "text/plain": [
       "              song_id            track_id\n",
       "0  SOCMRBE12AB018C546  TRMMREB12903CEB1B1\n",
       "1  SOLPHZY12AC468ABA8  TRMMBOC12903CEB46E\n",
       "2  SONGHTM12A8C1374EF  TRMMITP128F425D8D0\n",
       "3  SONGXCA12A8C13E82E  TRMMAYZ128F429ECE6\n",
       "4  SOMBCRC12A67ADA435  TRMMNVU128EF343EED"
      ]
     },
     "execution_count": 23,
     "metadata": {},
     "output_type": "execute_result"
    }
   ],
   "source": [
    "sid_mismatches = pd.read_csv('sid_mismatches.csv', index_col=0)\n",
    "sid_mismatches.head()"
   ]
  },
  {
   "cell_type": "code",
   "execution_count": 24,
   "id": "b4bc0352",
   "metadata": {},
   "outputs": [
    {
     "data": {
      "text/plain": [
       "(19093, 2)"
      ]
     },
     "execution_count": 24,
     "metadata": {},
     "output_type": "execute_result"
    }
   ],
   "source": [
    "sid_mismatches.shape"
   ]
  },
  {
   "cell_type": "code",
   "execution_count": 25,
   "id": "0af11738",
   "metadata": {},
   "outputs": [
    {
     "data": {
      "text/plain": [
       "(980144, 5)"
      ]
     },
     "execution_count": 25,
     "metadata": {},
     "output_type": "execute_result"
    }
   ],
   "source": [
    "song_data = song_data[~song_data.song_id.isin(sid_mismatches.song_id)]\n",
    "song_data.shape"
   ]
  },
  {
   "cell_type": "markdown",
   "id": "6209c820",
   "metadata": {},
   "source": [
    "### Датасет unique_tracks"
   ]
  },
  {
   "cell_type": "code",
   "execution_count": 26,
   "id": "b521d883",
   "metadata": {},
   "outputs": [
    {
     "data": {
      "text/html": [
       "<div>\n",
       "<style scoped>\n",
       "    .dataframe tbody tr th:only-of-type {\n",
       "        vertical-align: middle;\n",
       "    }\n",
       "\n",
       "    .dataframe tbody tr th {\n",
       "        vertical-align: top;\n",
       "    }\n",
       "\n",
       "    .dataframe thead th {\n",
       "        text-align: right;\n",
       "    }\n",
       "</style>\n",
       "<table border=\"1\" class=\"dataframe\">\n",
       "  <thead>\n",
       "    <tr style=\"text-align: right;\">\n",
       "      <th></th>\n",
       "      <th>track_id</th>\n",
       "      <th>song_id</th>\n",
       "      <th>artist_name</th>\n",
       "      <th>song_title</th>\n",
       "    </tr>\n",
       "  </thead>\n",
       "  <tbody>\n",
       "    <tr>\n",
       "      <th>0</th>\n",
       "      <td>TRMMMYQ128F932D901</td>\n",
       "      <td>SOQMMHC12AB0180CB8</td>\n",
       "      <td>Faster Pussy cat</td>\n",
       "      <td>Silent Night</td>\n",
       "    </tr>\n",
       "    <tr>\n",
       "      <th>1</th>\n",
       "      <td>TRMMMKD128F425225D</td>\n",
       "      <td>SOVFVAK12A8C1350D9</td>\n",
       "      <td>Karkkiautomaatti</td>\n",
       "      <td>Tanssi vaan</td>\n",
       "    </tr>\n",
       "    <tr>\n",
       "      <th>2</th>\n",
       "      <td>TRMMMRX128F93187D9</td>\n",
       "      <td>SOGTUKN12AB017F4F1</td>\n",
       "      <td>Hudson Mohawke</td>\n",
       "      <td>No One Could Ever</td>\n",
       "    </tr>\n",
       "    <tr>\n",
       "      <th>3</th>\n",
       "      <td>TRMMMCH128F425532C</td>\n",
       "      <td>SOBNYVR12A8C13558C</td>\n",
       "      <td>Yerba Brava</td>\n",
       "      <td>Si Vos Querés</td>\n",
       "    </tr>\n",
       "    <tr>\n",
       "      <th>4</th>\n",
       "      <td>TRMMMWA128F426B589</td>\n",
       "      <td>SOHSBXH12A8C13B0DF</td>\n",
       "      <td>Der Mystic</td>\n",
       "      <td>Tangle Of Aspens</td>\n",
       "    </tr>\n",
       "  </tbody>\n",
       "</table>\n",
       "</div>"
      ],
      "text/plain": [
       "             track_id             song_id       artist_name         song_title\n",
       "0  TRMMMYQ128F932D901  SOQMMHC12AB0180CB8  Faster Pussy cat       Silent Night\n",
       "1  TRMMMKD128F425225D  SOVFVAK12A8C1350D9  Karkkiautomaatti        Tanssi vaan\n",
       "2  TRMMMRX128F93187D9  SOGTUKN12AB017F4F1    Hudson Mohawke  No One Could Ever\n",
       "3  TRMMMCH128F425532C  SOBNYVR12A8C13558C       Yerba Brava      Si Vos Querés\n",
       "4  TRMMMWA128F426B589  SOHSBXH12A8C13B0DF        Der Mystic   Tangle Of Aspens"
      ]
     },
     "execution_count": 26,
     "metadata": {},
     "output_type": "execute_result"
    }
   ],
   "source": [
    "unique_tracks = pd.read_csv('unique_tracks.csv', index_col=0)\n",
    "unique_tracks.head()"
   ]
  },
  {
   "cell_type": "code",
   "execution_count": 27,
   "id": "4c3a1352",
   "metadata": {},
   "outputs": [
    {
     "data": {
      "text/plain": [
       "(1000000, 4)"
      ]
     },
     "execution_count": 27,
     "metadata": {},
     "output_type": "execute_result"
    }
   ],
   "source": [
    "unique_tracks.shape"
   ]
  },
  {
   "cell_type": "code",
   "execution_count": 28,
   "id": "0e15b329",
   "metadata": {},
   "outputs": [
    {
     "name": "stdout",
     "output_type": "stream",
     "text": [
      "Количество уникальных song_id: 999056\n",
      "Количество уникальных track_id: 1000000\n"
     ]
    }
   ],
   "source": [
    "print(f'Количество уникальных song_id: {unique_tracks.song_id.nunique()}')\n",
    "print(f'Количество уникальных track_id: {unique_tracks.track_id.nunique()}')"
   ]
  },
  {
   "cell_type": "code",
   "execution_count": 29,
   "id": "bc71b019",
   "metadata": {},
   "outputs": [
    {
     "data": {
      "text/plain": [
       "(999056, 4)"
      ]
     },
     "execution_count": 29,
     "metadata": {},
     "output_type": "execute_result"
    }
   ],
   "source": [
    "unique_tracks = unique_tracks.drop_duplicates(['song_id'])\n",
    "unique_tracks.shape"
   ]
  },
  {
   "cell_type": "markdown",
   "id": "e3db7c4d",
   "metadata": {},
   "source": [
    "### Датасеты msd_beatunes_map, msd-MAGD-genreAssignment, msd-MASD-styleAssignment\n",
    "#### Добавляем жанры и стили"
   ]
  },
  {
   "cell_type": "code",
   "execution_count": 31,
   "id": "170f76d1",
   "metadata": {},
   "outputs": [],
   "source": [
    "song_seed_genre = pd.read_csv('msd_beatunes_map.csv', index_col=0)\n",
    "song_genre = pd.read_csv('msd-MAGD-genreAssignment.csv', index_col=0)\n",
    "song_style = pd.read_csv('msd-MASD-styleAssignment.csv', index_col=0)"
   ]
  },
  {
   "cell_type": "code",
   "execution_count": 68,
   "id": "2195199a",
   "metadata": {},
   "outputs": [
    {
     "data": {
      "text/html": [
       "<div>\n",
       "<style scoped>\n",
       "    .dataframe tbody tr th:only-of-type {\n",
       "        vertical-align: middle;\n",
       "    }\n",
       "\n",
       "    .dataframe tbody tr th {\n",
       "        vertical-align: top;\n",
       "    }\n",
       "\n",
       "    .dataframe thead th {\n",
       "        text-align: right;\n",
       "    }\n",
       "</style>\n",
       "<table border=\"1\" class=\"dataframe\">\n",
       "  <thead>\n",
       "    <tr style=\"text-align: right;\">\n",
       "      <th></th>\n",
       "      <th>track_id</th>\n",
       "      <th>genre</th>\n",
       "    </tr>\n",
       "  </thead>\n",
       "  <tbody>\n",
       "    <tr>\n",
       "      <th>0</th>\n",
       "      <td>TRAAAAK128F9318786</td>\n",
       "      <td>Pop_Rock</td>\n",
       "    </tr>\n",
       "    <tr>\n",
       "      <th>1</th>\n",
       "      <td>TRAAAAV128F421A322</td>\n",
       "      <td>Pop_Rock</td>\n",
       "    </tr>\n",
       "    <tr>\n",
       "      <th>2</th>\n",
       "      <td>TRAAAAW128F429D538</td>\n",
       "      <td>Rap</td>\n",
       "    </tr>\n",
       "    <tr>\n",
       "      <th>3</th>\n",
       "      <td>TRAAABD128F429CF47</td>\n",
       "      <td>Pop_Rock</td>\n",
       "    </tr>\n",
       "    <tr>\n",
       "      <th>4</th>\n",
       "      <td>TRAAACV128F423E09E</td>\n",
       "      <td>Pop_Rock</td>\n",
       "    </tr>\n",
       "  </tbody>\n",
       "</table>\n",
       "</div>"
      ],
      "text/plain": [
       "             track_id     genre\n",
       "0  TRAAAAK128F9318786  Pop_Rock\n",
       "1  TRAAAAV128F421A322  Pop_Rock\n",
       "2  TRAAAAW128F429D538       Rap\n",
       "3  TRAAABD128F429CF47  Pop_Rock\n",
       "4  TRAAACV128F423E09E  Pop_Rock"
      ]
     },
     "execution_count": 68,
     "metadata": {},
     "output_type": "execute_result"
    }
   ],
   "source": [
    "song_genre.head()"
   ]
  },
  {
   "cell_type": "code",
   "execution_count": 69,
   "id": "d981b34c",
   "metadata": {},
   "outputs": [
    {
     "data": {
      "text/plain": [
       "(422714, 2)"
      ]
     },
     "execution_count": 69,
     "metadata": {},
     "output_type": "execute_result"
    }
   ],
   "source": [
    "song_genre.shape"
   ]
  },
  {
   "cell_type": "code",
   "execution_count": 70,
   "id": "547c5347",
   "metadata": {},
   "outputs": [
    {
     "name": "stdout",
     "output_type": "stream",
     "text": [
      "Количество уникальных жанров 21\n"
     ]
    }
   ],
   "source": [
    "print(f'Количество уникальных жанров {song_genre.genre.nunique()}')"
   ]
  },
  {
   "cell_type": "code",
   "execution_count": 32,
   "id": "b8364bd4",
   "metadata": {
    "scrolled": false
   },
   "outputs": [
    {
     "data": {
      "text/html": [
       "<div>\n",
       "<style scoped>\n",
       "    .dataframe tbody tr th:only-of-type {\n",
       "        vertical-align: middle;\n",
       "    }\n",
       "\n",
       "    .dataframe tbody tr th {\n",
       "        vertical-align: top;\n",
       "    }\n",
       "\n",
       "    .dataframe thead th {\n",
       "        text-align: right;\n",
       "    }\n",
       "</style>\n",
       "<table border=\"1\" class=\"dataframe\">\n",
       "  <thead>\n",
       "    <tr style=\"text-align: right;\">\n",
       "      <th></th>\n",
       "      <th>track_id</th>\n",
       "      <th>seed_genre</th>\n",
       "    </tr>\n",
       "  </thead>\n",
       "  <tbody>\n",
       "    <tr>\n",
       "      <th>0</th>\n",
       "      <td>TRAAAAK128F9318786</td>\n",
       "      <td>Rock</td>\n",
       "    </tr>\n",
       "    <tr>\n",
       "      <th>1</th>\n",
       "      <td>TRAAAAV128F421A322</td>\n",
       "      <td>Rock</td>\n",
       "    </tr>\n",
       "    <tr>\n",
       "      <th>2</th>\n",
       "      <td>TRAAAAW128F429D538</td>\n",
       "      <td>Hip-Hop</td>\n",
       "    </tr>\n",
       "    <tr>\n",
       "      <th>3</th>\n",
       "      <td>TRAAAAY128F42A73F0</td>\n",
       "      <td>World</td>\n",
       "    </tr>\n",
       "    <tr>\n",
       "      <th>4</th>\n",
       "      <td>TRAAABD128F429CF47</td>\n",
       "      <td>Rock</td>\n",
       "    </tr>\n",
       "  </tbody>\n",
       "</table>\n",
       "</div>"
      ],
      "text/plain": [
       "             track_id seed_genre\n",
       "0  TRAAAAK128F9318786       Rock\n",
       "1  TRAAAAV128F421A322       Rock\n",
       "2  TRAAAAW128F429D538    Hip-Hop\n",
       "3  TRAAAAY128F42A73F0      World\n",
       "4  TRAAABD128F429CF47       Rock"
      ]
     },
     "execution_count": 32,
     "metadata": {},
     "output_type": "execute_result"
    }
   ],
   "source": [
    "song_seed_genre.head()"
   ]
  },
  {
   "cell_type": "code",
   "execution_count": 33,
   "id": "487b1dab",
   "metadata": {},
   "outputs": [
    {
     "data": {
      "text/plain": [
       "(677038, 2)"
      ]
     },
     "execution_count": 33,
     "metadata": {},
     "output_type": "execute_result"
    }
   ],
   "source": [
    "song_seed_genre.shape"
   ]
  },
  {
   "cell_type": "code",
   "execution_count": 34,
   "id": "c641c8d4",
   "metadata": {},
   "outputs": [
    {
     "name": "stdout",
     "output_type": "stream",
     "text": [
      "Количество уникальных жанров 6151\n"
     ]
    }
   ],
   "source": [
    "print(f'Количество уникальных поджанров {song_seed_genre.seed_genre.nunique()}')"
   ]
  },
  {
   "cell_type": "code",
   "execution_count": 71,
   "id": "1c161f6c",
   "metadata": {},
   "outputs": [
    {
     "data": {
      "text/html": [
       "<div>\n",
       "<style scoped>\n",
       "    .dataframe tbody tr th:only-of-type {\n",
       "        vertical-align: middle;\n",
       "    }\n",
       "\n",
       "    .dataframe tbody tr th {\n",
       "        vertical-align: top;\n",
       "    }\n",
       "\n",
       "    .dataframe thead th {\n",
       "        text-align: right;\n",
       "    }\n",
       "</style>\n",
       "<table border=\"1\" class=\"dataframe\">\n",
       "  <thead>\n",
       "    <tr style=\"text-align: right;\">\n",
       "      <th></th>\n",
       "      <th>track_id</th>\n",
       "      <th>style</th>\n",
       "    </tr>\n",
       "  </thead>\n",
       "  <tbody>\n",
       "    <tr>\n",
       "      <th>0</th>\n",
       "      <td>TRAAAAK128F9318786</td>\n",
       "      <td>Metal_Alternative</td>\n",
       "    </tr>\n",
       "    <tr>\n",
       "      <th>1</th>\n",
       "      <td>TRAAAAV128F421A322</td>\n",
       "      <td>Punk</td>\n",
       "    </tr>\n",
       "    <tr>\n",
       "      <th>2</th>\n",
       "      <td>TRAAAAW128F429D538</td>\n",
       "      <td>Hip_Hop_Rap</td>\n",
       "    </tr>\n",
       "    <tr>\n",
       "      <th>3</th>\n",
       "      <td>TRAAACV128F423E09E</td>\n",
       "      <td>Rock_Neo_Psychedelia</td>\n",
       "    </tr>\n",
       "    <tr>\n",
       "      <th>4</th>\n",
       "      <td>TRAAAEF128F4273421</td>\n",
       "      <td>Pop_Indie</td>\n",
       "    </tr>\n",
       "  </tbody>\n",
       "</table>\n",
       "</div>"
      ],
      "text/plain": [
       "             track_id                 style\n",
       "0  TRAAAAK128F9318786     Metal_Alternative\n",
       "1  TRAAAAV128F421A322                  Punk\n",
       "2  TRAAAAW128F429D538           Hip_Hop_Rap\n",
       "3  TRAAACV128F423E09E  Rock_Neo_Psychedelia\n",
       "4  TRAAAEF128F4273421             Pop_Indie"
      ]
     },
     "execution_count": 71,
     "metadata": {},
     "output_type": "execute_result"
    }
   ],
   "source": [
    "song_style.head()"
   ]
  },
  {
   "cell_type": "code",
   "execution_count": 72,
   "id": "c8d43b5a",
   "metadata": {},
   "outputs": [
    {
     "data": {
      "text/plain": [
       "(273936, 2)"
      ]
     },
     "execution_count": 72,
     "metadata": {},
     "output_type": "execute_result"
    }
   ],
   "source": [
    "song_style.shape"
   ]
  },
  {
   "cell_type": "code",
   "execution_count": 73,
   "id": "8afc996a",
   "metadata": {},
   "outputs": [
    {
     "name": "stdout",
     "output_type": "stream",
     "text": [
      "Количество уникальных стилей 25\n"
     ]
    }
   ],
   "source": [
    "print('Количество уникальных стилей {}'.format(song_style['style'].nunique()))"
   ]
  },
  {
   "cell_type": "markdown",
   "id": "5b383076",
   "metadata": {},
   "source": [
    "Объединими датасеты по жанрам, стилям и уникальным песням в один."
   ]
  },
  {
   "cell_type": "code",
   "execution_count": 76,
   "id": "81b570c8",
   "metadata": {},
   "outputs": [
    {
     "data": {
      "text/html": [
       "<div>\n",
       "<style scoped>\n",
       "    .dataframe tbody tr th:only-of-type {\n",
       "        vertical-align: middle;\n",
       "    }\n",
       "\n",
       "    .dataframe tbody tr th {\n",
       "        vertical-align: top;\n",
       "    }\n",
       "\n",
       "    .dataframe thead th {\n",
       "        text-align: right;\n",
       "    }\n",
       "</style>\n",
       "<table border=\"1\" class=\"dataframe\">\n",
       "  <thead>\n",
       "    <tr style=\"text-align: right;\">\n",
       "      <th></th>\n",
       "      <th>track_id</th>\n",
       "      <th>song_id</th>\n",
       "      <th>artist_name</th>\n",
       "      <th>song_title</th>\n",
       "      <th>seed_genre</th>\n",
       "      <th>genre</th>\n",
       "      <th>style</th>\n",
       "    </tr>\n",
       "  </thead>\n",
       "  <tbody>\n",
       "    <tr>\n",
       "      <th>0</th>\n",
       "      <td>TRMMMYQ128F932D901</td>\n",
       "      <td>SOQMMHC12AB0180CB8</td>\n",
       "      <td>Faster Pussy cat</td>\n",
       "      <td>Silent Night</td>\n",
       "      <td>NaN</td>\n",
       "      <td>NaN</td>\n",
       "      <td>NaN</td>\n",
       "    </tr>\n",
       "    <tr>\n",
       "      <th>1</th>\n",
       "      <td>TRMMMKD128F425225D</td>\n",
       "      <td>SOVFVAK12A8C1350D9</td>\n",
       "      <td>Karkkiautomaatti</td>\n",
       "      <td>Tanssi vaan</td>\n",
       "      <td>Pop</td>\n",
       "      <td>NaN</td>\n",
       "      <td>NaN</td>\n",
       "    </tr>\n",
       "    <tr>\n",
       "      <th>2</th>\n",
       "      <td>TRMMMRX128F93187D9</td>\n",
       "      <td>SOGTUKN12AB017F4F1</td>\n",
       "      <td>Hudson Mohawke</td>\n",
       "      <td>No One Could Ever</td>\n",
       "      <td>Electronica/Dance</td>\n",
       "      <td>Electronic</td>\n",
       "      <td>Electronica</td>\n",
       "    </tr>\n",
       "    <tr>\n",
       "      <th>3</th>\n",
       "      <td>TRMMMCH128F425532C</td>\n",
       "      <td>SOBNYVR12A8C13558C</td>\n",
       "      <td>Yerba Brava</td>\n",
       "      <td>Si Vos Querés</td>\n",
       "      <td>NaN</td>\n",
       "      <td>International</td>\n",
       "      <td>NaN</td>\n",
       "    </tr>\n",
       "    <tr>\n",
       "      <th>4</th>\n",
       "      <td>TRMMMWA128F426B589</td>\n",
       "      <td>SOHSBXH12A8C13B0DF</td>\n",
       "      <td>Der Mystic</td>\n",
       "      <td>Tangle Of Aspens</td>\n",
       "      <td>NaN</td>\n",
       "      <td>NaN</td>\n",
       "      <td>NaN</td>\n",
       "    </tr>\n",
       "  </tbody>\n",
       "</table>\n",
       "</div>"
      ],
      "text/plain": [
       "             track_id             song_id       artist_name  \\\n",
       "0  TRMMMYQ128F932D901  SOQMMHC12AB0180CB8  Faster Pussy cat   \n",
       "1  TRMMMKD128F425225D  SOVFVAK12A8C1350D9  Karkkiautomaatti   \n",
       "2  TRMMMRX128F93187D9  SOGTUKN12AB017F4F1    Hudson Mohawke   \n",
       "3  TRMMMCH128F425532C  SOBNYVR12A8C13558C       Yerba Brava   \n",
       "4  TRMMMWA128F426B589  SOHSBXH12A8C13B0DF        Der Mystic   \n",
       "\n",
       "          song_title         seed_genre          genre        style  \n",
       "0       Silent Night                NaN            NaN          NaN  \n",
       "1        Tanssi vaan                Pop            NaN          NaN  \n",
       "2  No One Could Ever  Electronica/Dance     Electronic  Electronica  \n",
       "3      Si Vos Querés                NaN  International          NaN  \n",
       "4   Tangle Of Aspens                NaN            NaN          NaN  "
      ]
     },
     "execution_count": 76,
     "metadata": {},
     "output_type": "execute_result"
    }
   ],
   "source": [
    "unique_tracks_gnr = pd.merge(unique_tracks, song_seed_genre, on='track_id', how='outer')\n",
    "unique_tracks_gnr_ = pd.merge(unique_tracks_gnr, song_genre, on='track_id', how='outer')\n",
    "unique_tracks_gnr_stl = pd.merge(unique_tracks_gnr_, song_style, on='track_id', how='outer')\n",
    "unique_tracks_gnr_stl.head()"
   ]
  },
  {
   "cell_type": "code",
   "execution_count": 77,
   "id": "b35d2b51",
   "metadata": {
    "scrolled": true
   },
   "outputs": [
    {
     "data": {
      "text/plain": [
       "(996342, 7)"
      ]
     },
     "execution_count": 77,
     "metadata": {},
     "output_type": "execute_result"
    }
   ],
   "source": [
    "unique_tracks_gnr_stl.shape"
   ]
  },
  {
   "cell_type": "markdown",
   "id": "9c4fa214",
   "metadata": {},
   "source": [
    "### Объединение song_data и unique_tracks"
   ]
  },
  {
   "cell_type": "code",
   "execution_count": 78,
   "id": "177af4ef",
   "metadata": {},
   "outputs": [],
   "source": [
    "song_df = pd.merge(song_data, unique_tracks_gnr_stl.drop(['artist_name', 'song_title'], axis=1), on='song_id', how='inner')"
   ]
  },
  {
   "cell_type": "code",
   "execution_count": 79,
   "id": "714951f1",
   "metadata": {},
   "outputs": [
    {
     "data": {
      "text/html": [
       "<div>\n",
       "<style scoped>\n",
       "    .dataframe tbody tr th:only-of-type {\n",
       "        vertical-align: middle;\n",
       "    }\n",
       "\n",
       "    .dataframe tbody tr th {\n",
       "        vertical-align: top;\n",
       "    }\n",
       "\n",
       "    .dataframe thead th {\n",
       "        text-align: right;\n",
       "    }\n",
       "</style>\n",
       "<table border=\"1\" class=\"dataframe\">\n",
       "  <thead>\n",
       "    <tr style=\"text-align: right;\">\n",
       "      <th></th>\n",
       "      <th>song_id</th>\n",
       "      <th>title</th>\n",
       "      <th>release</th>\n",
       "      <th>artist_name</th>\n",
       "      <th>year</th>\n",
       "      <th>track_id</th>\n",
       "      <th>seed_genre</th>\n",
       "      <th>genre</th>\n",
       "      <th>style</th>\n",
       "    </tr>\n",
       "  </thead>\n",
       "  <tbody>\n",
       "    <tr>\n",
       "      <th>0</th>\n",
       "      <td>SOQMMHC12AB0180CB8</td>\n",
       "      <td>Silent Night</td>\n",
       "      <td>Monster Ballads X-Mas</td>\n",
       "      <td>Faster Pussy cat</td>\n",
       "      <td>2003</td>\n",
       "      <td>TRMMMYQ128F932D901</td>\n",
       "      <td>NaN</td>\n",
       "      <td>NaN</td>\n",
       "      <td>NaN</td>\n",
       "    </tr>\n",
       "    <tr>\n",
       "      <th>1</th>\n",
       "      <td>SOVFVAK12A8C1350D9</td>\n",
       "      <td>Tanssi vaan</td>\n",
       "      <td>Karkuteillä</td>\n",
       "      <td>Karkkiautomaatti</td>\n",
       "      <td>1995</td>\n",
       "      <td>TRMMMKD128F425225D</td>\n",
       "      <td>Pop</td>\n",
       "      <td>NaN</td>\n",
       "      <td>NaN</td>\n",
       "    </tr>\n",
       "    <tr>\n",
       "      <th>2</th>\n",
       "      <td>SOGTUKN12AB017F4F1</td>\n",
       "      <td>No One Could Ever</td>\n",
       "      <td>Butter</td>\n",
       "      <td>Hudson Mohawke</td>\n",
       "      <td>2006</td>\n",
       "      <td>TRMMMRX128F93187D9</td>\n",
       "      <td>Electronica/Dance</td>\n",
       "      <td>Electronic</td>\n",
       "      <td>Electronica</td>\n",
       "    </tr>\n",
       "    <tr>\n",
       "      <th>3</th>\n",
       "      <td>SOBNYVR12A8C13558C</td>\n",
       "      <td>Si Vos Querés</td>\n",
       "      <td>De Culo</td>\n",
       "      <td>Yerba Brava</td>\n",
       "      <td>2003</td>\n",
       "      <td>TRMMMCH128F425532C</td>\n",
       "      <td>NaN</td>\n",
       "      <td>International</td>\n",
       "      <td>NaN</td>\n",
       "    </tr>\n",
       "    <tr>\n",
       "      <th>4</th>\n",
       "      <td>SOHSBXH12A8C13B0DF</td>\n",
       "      <td>Tangle Of Aspens</td>\n",
       "      <td>Rene Ablaze Presents Winter Sessions</td>\n",
       "      <td>Der Mystic</td>\n",
       "      <td>0</td>\n",
       "      <td>TRMMMWA128F426B589</td>\n",
       "      <td>NaN</td>\n",
       "      <td>NaN</td>\n",
       "      <td>NaN</td>\n",
       "    </tr>\n",
       "  </tbody>\n",
       "</table>\n",
       "</div>"
      ],
      "text/plain": [
       "              song_id              title  \\\n",
       "0  SOQMMHC12AB0180CB8       Silent Night   \n",
       "1  SOVFVAK12A8C1350D9        Tanssi vaan   \n",
       "2  SOGTUKN12AB017F4F1  No One Could Ever   \n",
       "3  SOBNYVR12A8C13558C      Si Vos Querés   \n",
       "4  SOHSBXH12A8C13B0DF   Tangle Of Aspens   \n",
       "\n",
       "                                release       artist_name  year  \\\n",
       "0                 Monster Ballads X-Mas  Faster Pussy cat  2003   \n",
       "1                           Karkuteillä  Karkkiautomaatti  1995   \n",
       "2                                Butter    Hudson Mohawke  2006   \n",
       "3                               De Culo       Yerba Brava  2003   \n",
       "4  Rene Ablaze Presents Winter Sessions        Der Mystic     0   \n",
       "\n",
       "             track_id         seed_genre          genre        style  \n",
       "0  TRMMMYQ128F932D901                NaN            NaN          NaN  \n",
       "1  TRMMMKD128F425225D                Pop            NaN          NaN  \n",
       "2  TRMMMRX128F93187D9  Electronica/Dance     Electronic  Electronica  \n",
       "3  TRMMMCH128F425532C                NaN  International          NaN  \n",
       "4  TRMMMWA128F426B589                NaN            NaN          NaN  "
      ]
     },
     "execution_count": 79,
     "metadata": {},
     "output_type": "execute_result"
    }
   ],
   "source": [
    "song_df.head()"
   ]
  },
  {
   "cell_type": "code",
   "execution_count": 80,
   "id": "0a1ad599",
   "metadata": {
    "scrolled": true
   },
   "outputs": [
    {
     "data": {
      "text/plain": [
       "(980144, 9)"
      ]
     },
     "execution_count": 80,
     "metadata": {},
     "output_type": "execute_result"
    }
   ],
   "source": [
    "song_df.shape"
   ]
  },
  {
   "cell_type": "markdown",
   "id": "c4914a8e",
   "metadata": {},
   "source": [
    "### Датасет с характеристиками треков data10000"
   ]
  },
  {
   "cell_type": "code",
   "execution_count": 143,
   "id": "6a8dfc8b",
   "metadata": {},
   "outputs": [
    {
     "data": {
      "text/html": [
       "<div>\n",
       "<style scoped>\n",
       "    .dataframe tbody tr th:only-of-type {\n",
       "        vertical-align: middle;\n",
       "    }\n",
       "\n",
       "    .dataframe tbody tr th {\n",
       "        vertical-align: top;\n",
       "    }\n",
       "\n",
       "    .dataframe thead th {\n",
       "        text-align: right;\n",
       "    }\n",
       "</style>\n",
       "<table border=\"1\" class=\"dataframe\">\n",
       "  <thead>\n",
       "    <tr style=\"text-align: right;\">\n",
       "      <th></th>\n",
       "      <th>artist_name</th>\n",
       "      <th>artist_familarity</th>\n",
       "      <th>artist_hotttnesss</th>\n",
       "      <th>artist_id</th>\n",
       "      <th>artist_location</th>\n",
       "      <th>danceability</th>\n",
       "      <th>duration</th>\n",
       "      <th>energy</th>\n",
       "      <th>loudness</th>\n",
       "      <th>mode</th>\n",
       "      <th>mode_confidence</th>\n",
       "      <th>song_hotttnesss</th>\n",
       "      <th>song_id</th>\n",
       "      <th>tempo</th>\n",
       "      <th>time_signature</th>\n",
       "      <th>time_signature_confidence</th>\n",
       "      <th>title</th>\n",
       "      <th>track_id</th>\n",
       "      <th>year</th>\n",
       "    </tr>\n",
       "  </thead>\n",
       "  <tbody>\n",
       "    <tr>\n",
       "      <th>0</th>\n",
       "      <td>Casual</td>\n",
       "      <td>0.581794</td>\n",
       "      <td>0.401998</td>\n",
       "      <td>ARD7TVE1187B99BFB1</td>\n",
       "      <td>California - LA</td>\n",
       "      <td>0.0</td>\n",
       "      <td>218.93179</td>\n",
       "      <td>0.0</td>\n",
       "      <td>-11.197</td>\n",
       "      <td>0</td>\n",
       "      <td>0.636</td>\n",
       "      <td>0.602120</td>\n",
       "      <td>SOMZWCG12A8C13C480</td>\n",
       "      <td>92.198</td>\n",
       "      <td>4</td>\n",
       "      <td>0.778</td>\n",
       "      <td>I Didn't Mean To</td>\n",
       "      <td>TRAAAAW128F429D538</td>\n",
       "      <td>0</td>\n",
       "    </tr>\n",
       "    <tr>\n",
       "      <th>1</th>\n",
       "      <td>The Box Tops</td>\n",
       "      <td>0.630630</td>\n",
       "      <td>0.417500</td>\n",
       "      <td>ARMJAGH1187FB546F3</td>\n",
       "      <td>Memphis, TN</td>\n",
       "      <td>0.0</td>\n",
       "      <td>148.03546</td>\n",
       "      <td>0.0</td>\n",
       "      <td>-9.843</td>\n",
       "      <td>0</td>\n",
       "      <td>0.430</td>\n",
       "      <td>NaN</td>\n",
       "      <td>SOCIWDW12A8C13D406</td>\n",
       "      <td>121.274</td>\n",
       "      <td>4</td>\n",
       "      <td>0.384</td>\n",
       "      <td>Soul Deep</td>\n",
       "      <td>TRAAABD128F429CF47</td>\n",
       "      <td>1969</td>\n",
       "    </tr>\n",
       "    <tr>\n",
       "      <th>2</th>\n",
       "      <td>Sonora Santanera</td>\n",
       "      <td>0.487357</td>\n",
       "      <td>0.343428</td>\n",
       "      <td>ARKRRTF1187B9984DA</td>\n",
       "      <td>NaN</td>\n",
       "      <td>0.0</td>\n",
       "      <td>177.47546</td>\n",
       "      <td>0.0</td>\n",
       "      <td>-9.689</td>\n",
       "      <td>1</td>\n",
       "      <td>0.565</td>\n",
       "      <td>NaN</td>\n",
       "      <td>SOXVLOJ12AB0189215</td>\n",
       "      <td>100.070</td>\n",
       "      <td>1</td>\n",
       "      <td>0.000</td>\n",
       "      <td>Amor De Cabaret</td>\n",
       "      <td>TRAAADZ128F9348C2E</td>\n",
       "      <td>0</td>\n",
       "    </tr>\n",
       "    <tr>\n",
       "      <th>3</th>\n",
       "      <td>Adam Ant</td>\n",
       "      <td>0.630382</td>\n",
       "      <td>0.454231</td>\n",
       "      <td>AR7G5I41187FB4CE6C</td>\n",
       "      <td>London, England</td>\n",
       "      <td>0.0</td>\n",
       "      <td>233.40363</td>\n",
       "      <td>0.0</td>\n",
       "      <td>-9.013</td>\n",
       "      <td>1</td>\n",
       "      <td>0.749</td>\n",
       "      <td>NaN</td>\n",
       "      <td>SONHOTT12A8C13493C</td>\n",
       "      <td>119.293</td>\n",
       "      <td>4</td>\n",
       "      <td>0.000</td>\n",
       "      <td>Something Girls</td>\n",
       "      <td>TRAAAEF128F4273421</td>\n",
       "      <td>1982</td>\n",
       "    </tr>\n",
       "    <tr>\n",
       "      <th>4</th>\n",
       "      <td>Gob</td>\n",
       "      <td>0.651046</td>\n",
       "      <td>0.401724</td>\n",
       "      <td>ARXR32B1187FB57099</td>\n",
       "      <td>NaN</td>\n",
       "      <td>0.0</td>\n",
       "      <td>209.60608</td>\n",
       "      <td>0.0</td>\n",
       "      <td>-4.501</td>\n",
       "      <td>1</td>\n",
       "      <td>0.371</td>\n",
       "      <td>0.604501</td>\n",
       "      <td>SOFSOCN12A8C143F5D</td>\n",
       "      <td>129.738</td>\n",
       "      <td>4</td>\n",
       "      <td>0.562</td>\n",
       "      <td>Face the Ashes</td>\n",
       "      <td>TRAAAFD128F92F423A</td>\n",
       "      <td>2007</td>\n",
       "    </tr>\n",
       "  </tbody>\n",
       "</table>\n",
       "</div>"
      ],
      "text/plain": [
       "        artist_name  artist_familarity  artist_hotttnesss           artist_id  \\\n",
       "0            Casual           0.581794           0.401998  ARD7TVE1187B99BFB1   \n",
       "1      The Box Tops           0.630630           0.417500  ARMJAGH1187FB546F3   \n",
       "2  Sonora Santanera           0.487357           0.343428  ARKRRTF1187B9984DA   \n",
       "3          Adam Ant           0.630382           0.454231  AR7G5I41187FB4CE6C   \n",
       "4               Gob           0.651046           0.401724  ARXR32B1187FB57099   \n",
       "\n",
       "   artist_location  danceability   duration  energy  loudness  mode  \\\n",
       "0  California - LA           0.0  218.93179     0.0   -11.197     0   \n",
       "1      Memphis, TN           0.0  148.03546     0.0    -9.843     0   \n",
       "2              NaN           0.0  177.47546     0.0    -9.689     1   \n",
       "3  London, England           0.0  233.40363     0.0    -9.013     1   \n",
       "4              NaN           0.0  209.60608     0.0    -4.501     1   \n",
       "\n",
       "   mode_confidence  song_hotttnesss             song_id    tempo  \\\n",
       "0            0.636         0.602120  SOMZWCG12A8C13C480   92.198   \n",
       "1            0.430              NaN  SOCIWDW12A8C13D406  121.274   \n",
       "2            0.565              NaN  SOXVLOJ12AB0189215  100.070   \n",
       "3            0.749              NaN  SONHOTT12A8C13493C  119.293   \n",
       "4            0.371         0.604501  SOFSOCN12A8C143F5D  129.738   \n",
       "\n",
       "   time_signature  time_signature_confidence             title  \\\n",
       "0               4                      0.778  I Didn't Mean To   \n",
       "1               4                      0.384         Soul Deep   \n",
       "2               1                      0.000   Amor De Cabaret   \n",
       "3               4                      0.000   Something Girls   \n",
       "4               4                      0.562    Face the Ashes   \n",
       "\n",
       "             track_id  year  \n",
       "0  TRAAAAW128F429D538     0  \n",
       "1  TRAAABD128F429CF47  1969  \n",
       "2  TRAAADZ128F9348C2E     0  \n",
       "3  TRAAAEF128F4273421  1982  \n",
       "4  TRAAAFD128F92F423A  2007  "
      ]
     },
     "execution_count": 143,
     "metadata": {},
     "output_type": "execute_result"
    }
   ],
   "source": [
    "data10000 = pd.read_csv('data10000.csv', sep=';')\n",
    "data10000.head()"
   ]
  },
  {
   "cell_type": "code",
   "execution_count": 144,
   "id": "ce1d96bc",
   "metadata": {},
   "outputs": [
    {
     "data": {
      "text/plain": [
       "(10000, 19)"
      ]
     },
     "execution_count": 144,
     "metadata": {},
     "output_type": "execute_result"
    }
   ],
   "source": [
    "data10000.shape"
   ]
  },
  {
   "cell_type": "code",
   "execution_count": 145,
   "id": "b42e2b26",
   "metadata": {},
   "outputs": [
    {
     "data": {
      "text/plain": [
       "(9766, 19)"
      ]
     },
     "execution_count": 145,
     "metadata": {},
     "output_type": "execute_result"
    }
   ],
   "source": [
    "data10000 = data10000[~data10000.song_id.isin(sid_mismatches.song_id) & ~data10000.track_id.isin(sid_mismatches.track_id)]\n",
    "data10000.shape"
   ]
  },
  {
   "cell_type": "markdown",
   "id": "ea7fca72",
   "metadata": {},
   "source": [
    "# Предобработка данных"
   ]
  },
  {
   "cell_type": "markdown",
   "id": "a2e2d195",
   "metadata": {},
   "source": [
    "Для пустых значений жанров и стилей заполним пропуски значениями 'No genre' и 'No style'."
   ]
  },
  {
   "cell_type": "code",
   "execution_count": 83,
   "id": "d7980977",
   "metadata": {},
   "outputs": [
    {
     "data": {
      "text/html": [
       "<div>\n",
       "<style scoped>\n",
       "    .dataframe tbody tr th:only-of-type {\n",
       "        vertical-align: middle;\n",
       "    }\n",
       "\n",
       "    .dataframe tbody tr th {\n",
       "        vertical-align: top;\n",
       "    }\n",
       "\n",
       "    .dataframe thead th {\n",
       "        text-align: right;\n",
       "    }\n",
       "</style>\n",
       "<table border=\"1\" class=\"dataframe\">\n",
       "  <thead>\n",
       "    <tr style=\"text-align: right;\">\n",
       "      <th></th>\n",
       "      <th>song_id</th>\n",
       "      <th>title</th>\n",
       "      <th>release</th>\n",
       "      <th>artist_name</th>\n",
       "      <th>year</th>\n",
       "      <th>track_id</th>\n",
       "      <th>seed_genre</th>\n",
       "      <th>genre</th>\n",
       "      <th>style</th>\n",
       "    </tr>\n",
       "  </thead>\n",
       "  <tbody>\n",
       "    <tr>\n",
       "      <th>0</th>\n",
       "      <td>SOQMMHC12AB0180CB8</td>\n",
       "      <td>Silent Night</td>\n",
       "      <td>Monster Ballads X-Mas</td>\n",
       "      <td>Faster Pussy cat</td>\n",
       "      <td>2003</td>\n",
       "      <td>TRMMMYQ128F932D901</td>\n",
       "      <td>No genre</td>\n",
       "      <td>No genre</td>\n",
       "      <td>No style</td>\n",
       "    </tr>\n",
       "    <tr>\n",
       "      <th>1</th>\n",
       "      <td>SOVFVAK12A8C1350D9</td>\n",
       "      <td>Tanssi vaan</td>\n",
       "      <td>Karkuteillä</td>\n",
       "      <td>Karkkiautomaatti</td>\n",
       "      <td>1995</td>\n",
       "      <td>TRMMMKD128F425225D</td>\n",
       "      <td>Pop</td>\n",
       "      <td>No genre</td>\n",
       "      <td>No style</td>\n",
       "    </tr>\n",
       "    <tr>\n",
       "      <th>2</th>\n",
       "      <td>SOGTUKN12AB017F4F1</td>\n",
       "      <td>No One Could Ever</td>\n",
       "      <td>Butter</td>\n",
       "      <td>Hudson Mohawke</td>\n",
       "      <td>2006</td>\n",
       "      <td>TRMMMRX128F93187D9</td>\n",
       "      <td>Electronica/Dance</td>\n",
       "      <td>Electronic</td>\n",
       "      <td>Electronica</td>\n",
       "    </tr>\n",
       "    <tr>\n",
       "      <th>3</th>\n",
       "      <td>SOBNYVR12A8C13558C</td>\n",
       "      <td>Si Vos Querés</td>\n",
       "      <td>De Culo</td>\n",
       "      <td>Yerba Brava</td>\n",
       "      <td>2003</td>\n",
       "      <td>TRMMMCH128F425532C</td>\n",
       "      <td>No genre</td>\n",
       "      <td>International</td>\n",
       "      <td>No style</td>\n",
       "    </tr>\n",
       "    <tr>\n",
       "      <th>4</th>\n",
       "      <td>SOHSBXH12A8C13B0DF</td>\n",
       "      <td>Tangle Of Aspens</td>\n",
       "      <td>Rene Ablaze Presents Winter Sessions</td>\n",
       "      <td>Der Mystic</td>\n",
       "      <td>0</td>\n",
       "      <td>TRMMMWA128F426B589</td>\n",
       "      <td>No genre</td>\n",
       "      <td>No genre</td>\n",
       "      <td>No style</td>\n",
       "    </tr>\n",
       "  </tbody>\n",
       "</table>\n",
       "</div>"
      ],
      "text/plain": [
       "              song_id              title  \\\n",
       "0  SOQMMHC12AB0180CB8       Silent Night   \n",
       "1  SOVFVAK12A8C1350D9        Tanssi vaan   \n",
       "2  SOGTUKN12AB017F4F1  No One Could Ever   \n",
       "3  SOBNYVR12A8C13558C      Si Vos Querés   \n",
       "4  SOHSBXH12A8C13B0DF   Tangle Of Aspens   \n",
       "\n",
       "                                release       artist_name  year  \\\n",
       "0                 Monster Ballads X-Mas  Faster Pussy cat  2003   \n",
       "1                           Karkuteillä  Karkkiautomaatti  1995   \n",
       "2                                Butter    Hudson Mohawke  2006   \n",
       "3                               De Culo       Yerba Brava  2003   \n",
       "4  Rene Ablaze Presents Winter Sessions        Der Mystic     0   \n",
       "\n",
       "             track_id         seed_genre          genre        style  \n",
       "0  TRMMMYQ128F932D901           No genre       No genre     No style  \n",
       "1  TRMMMKD128F425225D                Pop       No genre     No style  \n",
       "2  TRMMMRX128F93187D9  Electronica/Dance     Electronic  Electronica  \n",
       "3  TRMMMCH128F425532C           No genre  International     No style  \n",
       "4  TRMMMWA128F426B589           No genre       No genre     No style  "
      ]
     },
     "execution_count": 83,
     "metadata": {},
     "output_type": "execute_result"
    }
   ],
   "source": [
    "song_df.seed_genre = song_df['seed_genre'].fillna('No genre')\n",
    "song_df.genre = song_df['genre'].fillna('No genre')\n",
    "song_df.style = song_df['style'].fillna('No style')\n",
    "song_df.head()"
   ]
  },
  {
   "cell_type": "code",
   "execution_count": 85,
   "id": "9f5b7473",
   "metadata": {},
   "outputs": [
    {
     "data": {
      "text/plain": [
       "(217234, 9)"
      ]
     },
     "execution_count": 85,
     "metadata": {},
     "output_type": "execute_result"
    }
   ],
   "source": [
    "song_df[(song_df.seed_genre == 'No genre') & (song_df.genre == 'No genre') & (song_df['style'] == 'No style')].shape"
   ]
  },
  {
   "cell_type": "markdown",
   "id": "07e719bc",
   "metadata": {},
   "source": [
    "217234 трека не имеют ни жанра ни стиля."
   ]
  },
  {
   "cell_type": "markdown",
   "id": "88a16de6",
   "metadata": {},
   "source": [
    "Посмотрим на распределение треков по году выпуска трека. "
   ]
  },
  {
   "cell_type": "code",
   "execution_count": 58,
   "id": "80eb9522",
   "metadata": {},
   "outputs": [
    {
     "data": {
      "image/png": "[encoded data removed]",
      "text/plain": [
       "<Figure size 1440x576 with 1 Axes>"
      ]
     },
     "metadata": {
      "needs_background": "light"
     },
     "output_type": "display_data"
    }
   ],
   "source": [
    "fig = plt.figure(figsize = (20, 8))\n",
    "\n",
    "ax = sns.countplot(x='year', data=song_df);\n",
    "ax.set_xticklabels(ax.get_xticklabels(), rotation = 90)\n",
    "\n",
    "plt.title('Распределение по году выпуска трека', fontsize=17)\n",
    "plt.ylabel('Count', fontsize=15);\n",
    "plt.xlabel('Year', fontsize=15);"
   ]
  },
  {
   "cell_type": "code",
   "execution_count": 60,
   "id": "783bab3e",
   "metadata": {},
   "outputs": [
    {
     "name": "stdout",
     "output_type": "stream",
     "text": [
      "Минимальный год выхода трека: 1922\n",
      "Максимальный год выхода трека: 2011\n",
      "Количество треков, для которых определен год: 503890\n"
     ]
    }
   ],
   "source": [
    "print(f'Минимальный год выхода трека: {song_data.year[song_data.year > 0].min()}')\n",
    "print(f'Максимальный год выхода трека: {song_data.year[song_data.year > 0].max()}')\n",
    "print(f'Количество треков, для которых определен год: {song_data.song_id[song_data.year > 0].count()}')"
   ]
  },
  {
   "cell_type": "markdown",
   "id": "73a07b29",
   "metadata": {},
   "source": [
    "Посмотрим на распределение треков по жанрам и стилям."
   ]
  },
  {
   "cell_type": "code",
   "execution_count": 65,
   "id": "84d0c1b9",
   "metadata": {},
   "outputs": [
    {
     "data": {
      "image/png": "[encoded data removed]",
      "text/plain": [
       "<Figure size 1440x576 with 1 Axes>"
      ]
     },
     "metadata": {
      "needs_background": "light"
     },
     "output_type": "display_data"
    }
   ],
   "source": [
    "fig = plt.figure(figsize = (20, 8))\n",
    "\n",
    "ax = sns.countplot(x='genre', data=song_df, order=song_df['genre'].value_counts().index);\n",
    "ax.set_xticklabels(ax.get_xticklabels(), rotation = 45)\n",
    "\n",
    "plt.title('Распределение треков по жанрам', fontsize=15)\n",
    "plt.ylabel('Count', fontsize=13);\n",
    "plt.xlabel('Genre', fontsize=13);"
   ]
  },
  {
   "cell_type": "code",
   "execution_count": 63,
   "id": "92bb6e38",
   "metadata": {},
   "outputs": [
    {
     "data": {
      "image/png": "[encoded data removed]",
      "text/plain": [
       "<Figure size 1440x576 with 1 Axes>"
      ]
     },
     "metadata": {
      "needs_background": "light"
     },
     "output_type": "display_data"
    }
   ],
   "source": [
    "fig = plt.figure(figsize = (20, 8))\n",
    "\n",
    "ax = sns.countplot(x='seed_genre', data=song_df, order=song_df['seed_genre'].value_counts().index);\n",
    "ax.set_xticklabels(ax.get_xticklabels(), rotation = 90)\n",
    "\n",
    "plt.xlim(-1, 100)\n",
    "\n",
    "plt.title('Первые 100 самых частых поджанров', fontsize=18)\n",
    "plt.ylabel('Count', fontsize=13);\n",
    "plt.xlabel('Seed genre', fontsize=13);"
   ]
  },
  {
   "cell_type": "code",
   "execution_count": 67,
   "id": "f516b96c",
   "metadata": {},
   "outputs": [
    {
     "data": {
      "image/png": "[encoded data removed]",
      "text/plain": [
       "<Figure size 1440x576 with 1 Axes>"
      ]
     },
     "metadata": {
      "needs_background": "light"
     },
     "output_type": "display_data"
    }
   ],
   "source": [
    "fig = plt.figure(figsize = (20, 8))\n",
    "\n",
    "ax = sns.countplot(x='style', data=song_df, order=song_df['style'].value_counts().index);\n",
    "ax.set_xticklabels(ax.get_xticklabels(), rotation = 45)\n",
    "\n",
    "plt.title('Распределение треков по стилям', fontsize=15)\n",
    "plt.ylabel('Count', fontsize=13);\n",
    "plt.xlabel('Style', fontsize=13);"
   ]
  },
  {
   "cell_type": "markdown",
   "id": "104ceec9",
   "metadata": {},
   "source": [
    "### Объединение всех датасетов"
   ]
  },
  {
   "cell_type": "code",
   "execution_count": 86,
   "id": "2dd84abe",
   "metadata": {},
   "outputs": [
    {
     "data": {
      "text/html": [
       "<div>\n",
       "<style scoped>\n",
       "    .dataframe tbody tr th:only-of-type {\n",
       "        vertical-align: middle;\n",
       "    }\n",
       "\n",
       "    .dataframe tbody tr th {\n",
       "        vertical-align: top;\n",
       "    }\n",
       "\n",
       "    .dataframe thead th {\n",
       "        text-align: right;\n",
       "    }\n",
       "</style>\n",
       "<table border=\"1\" class=\"dataframe\">\n",
       "  <thead>\n",
       "    <tr style=\"text-align: right;\">\n",
       "      <th></th>\n",
       "      <th>user_id</th>\n",
       "      <th>song_id</th>\n",
       "      <th>play_count</th>\n",
       "      <th>title</th>\n",
       "      <th>release</th>\n",
       "      <th>artist_name</th>\n",
       "      <th>year</th>\n",
       "      <th>track_id</th>\n",
       "      <th>seed_genre</th>\n",
       "      <th>genre</th>\n",
       "      <th>style</th>\n",
       "    </tr>\n",
       "  </thead>\n",
       "  <tbody>\n",
       "    <tr>\n",
       "      <th>0</th>\n",
       "      <td>b80344d063b5ccb3212f76538f3d9e43d87dca9e</td>\n",
       "      <td>SOAPDEY12A81C210A9</td>\n",
       "      <td>1</td>\n",
       "      <td>Nothing from Nothing</td>\n",
       "      <td>To Die For</td>\n",
       "      <td>Billy Preston</td>\n",
       "      <td>1974</td>\n",
       "      <td>TRIRLYL128F42539D1</td>\n",
       "      <td>R&amp;B</td>\n",
       "      <td>No genre</td>\n",
       "      <td>No style</td>\n",
       "    </tr>\n",
       "    <tr>\n",
       "      <th>1</th>\n",
       "      <td>fd13b9d49c54e00ff413fe3c095ba581c7fc611e</td>\n",
       "      <td>SOAPDEY12A81C210A9</td>\n",
       "      <td>8</td>\n",
       "      <td>Nothing from Nothing</td>\n",
       "      <td>To Die For</td>\n",
       "      <td>Billy Preston</td>\n",
       "      <td>1974</td>\n",
       "      <td>TRIRLYL128F42539D1</td>\n",
       "      <td>R&amp;B</td>\n",
       "      <td>No genre</td>\n",
       "      <td>No style</td>\n",
       "    </tr>\n",
       "    <tr>\n",
       "      <th>2</th>\n",
       "      <td>35752a9e4d917c8fc5da88e90c25adc6b52220b6</td>\n",
       "      <td>SOAPDEY12A81C210A9</td>\n",
       "      <td>1</td>\n",
       "      <td>Nothing from Nothing</td>\n",
       "      <td>To Die For</td>\n",
       "      <td>Billy Preston</td>\n",
       "      <td>1974</td>\n",
       "      <td>TRIRLYL128F42539D1</td>\n",
       "      <td>R&amp;B</td>\n",
       "      <td>No genre</td>\n",
       "      <td>No style</td>\n",
       "    </tr>\n",
       "    <tr>\n",
       "      <th>3</th>\n",
       "      <td>bfe8d6d1e32d9de12c632d68712e7e4a23416e93</td>\n",
       "      <td>SOAPDEY12A81C210A9</td>\n",
       "      <td>1</td>\n",
       "      <td>Nothing from Nothing</td>\n",
       "      <td>To Die For</td>\n",
       "      <td>Billy Preston</td>\n",
       "      <td>1974</td>\n",
       "      <td>TRIRLYL128F42539D1</td>\n",
       "      <td>R&amp;B</td>\n",
       "      <td>No genre</td>\n",
       "      <td>No style</td>\n",
       "    </tr>\n",
       "    <tr>\n",
       "      <th>4</th>\n",
       "      <td>46d3ef1b4f317aba8f0226e937c67ecef9fa2e42</td>\n",
       "      <td>SOAPDEY12A81C210A9</td>\n",
       "      <td>4</td>\n",
       "      <td>Nothing from Nothing</td>\n",
       "      <td>To Die For</td>\n",
       "      <td>Billy Preston</td>\n",
       "      <td>1974</td>\n",
       "      <td>TRIRLYL128F42539D1</td>\n",
       "      <td>R&amp;B</td>\n",
       "      <td>No genre</td>\n",
       "      <td>No style</td>\n",
       "    </tr>\n",
       "  </tbody>\n",
       "</table>\n",
       "</div>"
      ],
      "text/plain": [
       "                                    user_id             song_id  play_count  \\\n",
       "0  b80344d063b5ccb3212f76538f3d9e43d87dca9e  SOAPDEY12A81C210A9           1   \n",
       "1  fd13b9d49c54e00ff413fe3c095ba581c7fc611e  SOAPDEY12A81C210A9           8   \n",
       "2  35752a9e4d917c8fc5da88e90c25adc6b52220b6  SOAPDEY12A81C210A9           1   \n",
       "3  bfe8d6d1e32d9de12c632d68712e7e4a23416e93  SOAPDEY12A81C210A9           1   \n",
       "4  46d3ef1b4f317aba8f0226e937c67ecef9fa2e42  SOAPDEY12A81C210A9           4   \n",
       "\n",
       "                  title     release    artist_name  year            track_id  \\\n",
       "0  Nothing from Nothing  To Die For  Billy Preston  1974  TRIRLYL128F42539D1   \n",
       "1  Nothing from Nothing  To Die For  Billy Preston  1974  TRIRLYL128F42539D1   \n",
       "2  Nothing from Nothing  To Die For  Billy Preston  1974  TRIRLYL128F42539D1   \n",
       "3  Nothing from Nothing  To Die For  Billy Preston  1974  TRIRLYL128F42539D1   \n",
       "4  Nothing from Nothing  To Die For  Billy Preston  1974  TRIRLYL128F42539D1   \n",
       "\n",
       "  seed_genre     genre     style  \n",
       "0        R&B  No genre  No style  \n",
       "1        R&B  No genre  No style  \n",
       "2        R&B  No genre  No style  \n",
       "3        R&B  No genre  No style  \n",
       "4        R&B  No genre  No style  "
      ]
     },
     "execution_count": 86,
     "metadata": {},
     "output_type": "execute_result"
    }
   ],
   "source": [
    "user_song_df = pd.merge(triplets_data, song_df, on='song_id', how='inner')\n",
    "user_song_df.head()"
   ]
  },
  {
   "cell_type": "code",
   "execution_count": 87,
   "id": "2f659c8f",
   "metadata": {},
   "outputs": [
    {
     "data": {
      "text/plain": [
       "(45795099, 11)"
      ]
     },
     "execution_count": 87,
     "metadata": {},
     "output_type": "execute_result"
    }
   ],
   "source": [
    "user_song_df.shape"
   ]
  },
  {
   "cell_type": "markdown",
   "id": "3b8b0062",
   "metadata": {},
   "source": [
    "# Исследование данных"
   ]
  },
  {
   "cell_type": "markdown",
   "id": "882aa306",
   "metadata": {},
   "source": [
    "### Топ 20 самых популярных песен\n",
    "Определим самые популярные треки на основе количества пользователей, прослушавших данный трек."
   ]
  },
  {
   "cell_type": "code",
   "execution_count": 125,
   "id": "d89775be",
   "metadata": {},
   "outputs": [
    {
     "data": {
      "text/html": [
       "<div>\n",
       "<style scoped>\n",
       "    .dataframe tbody tr th:only-of-type {\n",
       "        vertical-align: middle;\n",
       "    }\n",
       "\n",
       "    .dataframe tbody tr th {\n",
       "        vertical-align: top;\n",
       "    }\n",
       "\n",
       "    .dataframe thead th {\n",
       "        text-align: right;\n",
       "    }\n",
       "</style>\n",
       "<table border=\"1\" class=\"dataframe\">\n",
       "  <thead>\n",
       "    <tr style=\"text-align: right;\">\n",
       "      <th></th>\n",
       "      <th>song_id</th>\n",
       "      <th>title</th>\n",
       "      <th>artist_name</th>\n",
       "      <th>user_count</th>\n",
       "    </tr>\n",
       "  </thead>\n",
       "  <tbody>\n",
       "    <tr>\n",
       "      <th>14093</th>\n",
       "      <td>SOAXGDH12A8C13F8A1</td>\n",
       "      <td>Dog Days Are Over (Radio Edit)</td>\n",
       "      <td>Florence + The Machine</td>\n",
       "      <td>90444</td>\n",
       "    </tr>\n",
       "    <tr>\n",
       "      <th>24628</th>\n",
       "      <td>SOBONKR12A58A7A7E0</td>\n",
       "      <td>You're The One</td>\n",
       "      <td>Dwight Yoakam</td>\n",
       "      <td>84000</td>\n",
       "    </tr>\n",
       "    <tr>\n",
       "      <th>282749</th>\n",
       "      <td>SOSXLTC12AF72A7F54</td>\n",
       "      <td>Revelry</td>\n",
       "      <td>Kings Of Leon</td>\n",
       "      <td>80656</td>\n",
       "    </tr>\n",
       "    <tr>\n",
       "      <th>213013</th>\n",
       "      <td>SONYKOW12AB01849C9</td>\n",
       "      <td>Secrets</td>\n",
       "      <td>OneRepublic</td>\n",
       "      <td>78353</td>\n",
       "    </tr>\n",
       "    <tr>\n",
       "      <th>66808</th>\n",
       "      <td>SOEGIYH12A6D4FC0E3</td>\n",
       "      <td>Horn Concerto No. 4 in E flat K495: II. Romanc...</td>\n",
       "      <td>Barry Tuckwell/Academy of St Martin-in-the-Fie...</td>\n",
       "      <td>69487</td>\n",
       "    </tr>\n",
       "  </tbody>\n",
       "</table>\n",
       "</div>"
      ],
      "text/plain": [
       "                   song_id                                              title  \\\n",
       "14093   SOAXGDH12A8C13F8A1                     Dog Days Are Over (Radio Edit)   \n",
       "24628   SOBONKR12A58A7A7E0                                     You're The One   \n",
       "282749  SOSXLTC12AF72A7F54                                            Revelry   \n",
       "213013  SONYKOW12AB01849C9                                            Secrets   \n",
       "66808   SOEGIYH12A6D4FC0E3  Horn Concerto No. 4 in E flat K495: II. Romanc...   \n",
       "\n",
       "                                              artist_name  user_count  \n",
       "14093                              Florence + The Machine       90444  \n",
       "24628                                       Dwight Yoakam       84000  \n",
       "282749                                      Kings Of Leon       80656  \n",
       "213013                                        OneRepublic       78353  \n",
       "66808   Barry Tuckwell/Academy of St Martin-in-the-Fie...       69487  "
      ]
     },
     "execution_count": 125,
     "metadata": {},
     "output_type": "execute_result"
    }
   ],
   "source": [
    "song_grouped_cnt = user_song_df.groupby(['song_id', 'title', 'artist_name'], as_index=False).agg({'play_count': 'count'}) \\\n",
    "                               .rename(columns={'play_count': 'user_count'}).sort_values('user_count', ascending=False)\n",
    "song_grouped_cnt.head()"
   ]
  },
  {
   "cell_type": "code",
   "execution_count": 126,
   "id": "82901c08",
   "metadata": {},
   "outputs": [
    {
     "data": {
      "text/html": [
       "<div>\n",
       "<style scoped>\n",
       "    .dataframe tbody tr th:only-of-type {\n",
       "        vertical-align: middle;\n",
       "    }\n",
       "\n",
       "    .dataframe tbody tr th {\n",
       "        vertical-align: top;\n",
       "    }\n",
       "\n",
       "    .dataframe thead th {\n",
       "        text-align: right;\n",
       "    }\n",
       "</style>\n",
       "<table border=\"1\" class=\"dataframe\">\n",
       "  <thead>\n",
       "    <tr style=\"text-align: right;\">\n",
       "      <th></th>\n",
       "      <th>song_id</th>\n",
       "      <th>title</th>\n",
       "      <th>artist_name</th>\n",
       "      <th>user_count</th>\n",
       "      <th>persentage_cnt</th>\n",
       "    </tr>\n",
       "  </thead>\n",
       "  <tbody>\n",
       "    <tr>\n",
       "      <th>14093</th>\n",
       "      <td>SOAXGDH12A8C13F8A1</td>\n",
       "      <td>Dog Days Are Over (Radio Edit)</td>\n",
       "      <td>Florence + The Machine</td>\n",
       "      <td>90444</td>\n",
       "      <td>0.197497</td>\n",
       "    </tr>\n",
       "    <tr>\n",
       "      <th>24628</th>\n",
       "      <td>SOBONKR12A58A7A7E0</td>\n",
       "      <td>You're The One</td>\n",
       "      <td>Dwight Yoakam</td>\n",
       "      <td>84000</td>\n",
       "      <td>0.183426</td>\n",
       "    </tr>\n",
       "    <tr>\n",
       "      <th>282749</th>\n",
       "      <td>SOSXLTC12AF72A7F54</td>\n",
       "      <td>Revelry</td>\n",
       "      <td>Kings Of Leon</td>\n",
       "      <td>80656</td>\n",
       "      <td>0.176124</td>\n",
       "    </tr>\n",
       "    <tr>\n",
       "      <th>213013</th>\n",
       "      <td>SONYKOW12AB01849C9</td>\n",
       "      <td>Secrets</td>\n",
       "      <td>OneRepublic</td>\n",
       "      <td>78353</td>\n",
       "      <td>0.171095</td>\n",
       "    </tr>\n",
       "    <tr>\n",
       "      <th>66808</th>\n",
       "      <td>SOEGIYH12A6D4FC0E3</td>\n",
       "      <td>Horn Concerto No. 4 in E flat K495: II. Romanc...</td>\n",
       "      <td>Barry Tuckwell/Academy of St Martin-in-the-Fie...</td>\n",
       "      <td>69487</td>\n",
       "      <td>0.151735</td>\n",
       "    </tr>\n",
       "    <tr>\n",
       "      <th>173547</th>\n",
       "      <td>SOLFXKT12AB017E3E0</td>\n",
       "      <td>Fireflies</td>\n",
       "      <td>Charttraxx Karaoke</td>\n",
       "      <td>64229</td>\n",
       "      <td>0.140253</td>\n",
       "    </tr>\n",
       "    <tr>\n",
       "      <th>85645</th>\n",
       "      <td>SOFLJQZ12A6D4FADA6</td>\n",
       "      <td>Tive Sim</td>\n",
       "      <td>Cartola</td>\n",
       "      <td>58610</td>\n",
       "      <td>0.127983</td>\n",
       "    </tr>\n",
       "    <tr>\n",
       "      <th>307663</th>\n",
       "      <td>SOUSMXX12AB0185C24</td>\n",
       "      <td>OMG</td>\n",
       "      <td>Usher featuring will.i.am</td>\n",
       "      <td>53260</td>\n",
       "      <td>0.116301</td>\n",
       "    </tr>\n",
       "    <tr>\n",
       "      <th>326421</th>\n",
       "      <td>SOWCKVR12A8C142411</td>\n",
       "      <td>Use Somebody</td>\n",
       "      <td>Kings Of Leon</td>\n",
       "      <td>52080</td>\n",
       "      <td>0.113724</td>\n",
       "    </tr>\n",
       "    <tr>\n",
       "      <th>309341</th>\n",
       "      <td>SOUVTSM12AC468F6A7</td>\n",
       "      <td>Drop The World</td>\n",
       "      <td>Lil Wayne / Eminem</td>\n",
       "      <td>51022</td>\n",
       "      <td>0.111414</td>\n",
       "    </tr>\n",
       "    <tr>\n",
       "      <th>296064</th>\n",
       "      <td>SOTWNDJ12A8C143984</td>\n",
       "      <td>Marry Me</td>\n",
       "      <td>Train</td>\n",
       "      <td>47011</td>\n",
       "      <td>0.102655</td>\n",
       "    </tr>\n",
       "    <tr>\n",
       "      <th>239163</th>\n",
       "      <td>SOPUCYA12A8C13A694</td>\n",
       "      <td>Canada</td>\n",
       "      <td>Five Iron Frenzy</td>\n",
       "      <td>46078</td>\n",
       "      <td>0.100618</td>\n",
       "    </tr>\n",
       "    <tr>\n",
       "      <th>121080</th>\n",
       "      <td>SOHTKMO12AB01843B0</td>\n",
       "      <td>Catch You Baby (Steve Pitron &amp; Max Sanna Radio...</td>\n",
       "      <td>Lonnie Gordon</td>\n",
       "      <td>46077</td>\n",
       "      <td>0.100616</td>\n",
       "    </tr>\n",
       "    <tr>\n",
       "      <th>161994</th>\n",
       "      <td>SOKLRPJ12A8C13C3FE</td>\n",
       "      <td>The Scientist</td>\n",
       "      <td>Coldplay</td>\n",
       "      <td>45495</td>\n",
       "      <td>0.099345</td>\n",
       "    </tr>\n",
       "    <tr>\n",
       "      <th>44653</th>\n",
       "      <td>SOCVTLJ12A6310F0FD</td>\n",
       "      <td>Clocks</td>\n",
       "      <td>Coldplay</td>\n",
       "      <td>42535</td>\n",
       "      <td>0.092881</td>\n",
       "    </tr>\n",
       "    <tr>\n",
       "      <th>236774</th>\n",
       "      <td>SOPPROJ12AB0184E18</td>\n",
       "      <td>Pursuit Of Happiness (nightmare)</td>\n",
       "      <td>Kid Cudi / MGMT / Ratatat</td>\n",
       "      <td>41811</td>\n",
       "      <td>0.091300</td>\n",
       "    </tr>\n",
       "    <tr>\n",
       "      <th>24798</th>\n",
       "      <td>SOBOUPA12A6D4F81F1</td>\n",
       "      <td>Sincerité Et Jalousie</td>\n",
       "      <td>Alliance Ethnik</td>\n",
       "      <td>41093</td>\n",
       "      <td>0.089732</td>\n",
       "    </tr>\n",
       "    <tr>\n",
       "      <th>238795</th>\n",
       "      <td>SOPTLQL12AB018D56F</td>\n",
       "      <td>Billionaire [feat. Bruno Mars]  (Explicit Albu...</td>\n",
       "      <td>Travie McCoy</td>\n",
       "      <td>40497</td>\n",
       "      <td>0.088431</td>\n",
       "    </tr>\n",
       "    <tr>\n",
       "      <th>217204</th>\n",
       "      <td>SOOFYTN12A6D4F9B35</td>\n",
       "      <td>Représente</td>\n",
       "      <td>Alliance Ethnik</td>\n",
       "      <td>40403</td>\n",
       "      <td>0.088226</td>\n",
       "    </tr>\n",
       "    <tr>\n",
       "      <th>24314</th>\n",
       "      <td>SOBOAFP12A8C131F36</td>\n",
       "      <td>Lucky (Album Version)</td>\n",
       "      <td>Jason Mraz &amp; Colbie Caillat</td>\n",
       "      <td>39851</td>\n",
       "      <td>0.087020</td>\n",
       "    </tr>\n",
       "  </tbody>\n",
       "</table>\n",
       "</div>"
      ],
      "text/plain": [
       "                   song_id                                              title  \\\n",
       "14093   SOAXGDH12A8C13F8A1                     Dog Days Are Over (Radio Edit)   \n",
       "24628   SOBONKR12A58A7A7E0                                     You're The One   \n",
       "282749  SOSXLTC12AF72A7F54                                            Revelry   \n",
       "213013  SONYKOW12AB01849C9                                            Secrets   \n",
       "66808   SOEGIYH12A6D4FC0E3  Horn Concerto No. 4 in E flat K495: II. Romanc...   \n",
       "173547  SOLFXKT12AB017E3E0                                          Fireflies   \n",
       "85645   SOFLJQZ12A6D4FADA6                                           Tive Sim   \n",
       "307663  SOUSMXX12AB0185C24                                                OMG   \n",
       "326421  SOWCKVR12A8C142411                                       Use Somebody   \n",
       "309341  SOUVTSM12AC468F6A7                                     Drop The World   \n",
       "296064  SOTWNDJ12A8C143984                                           Marry Me   \n",
       "239163  SOPUCYA12A8C13A694                                             Canada   \n",
       "121080  SOHTKMO12AB01843B0  Catch You Baby (Steve Pitron & Max Sanna Radio...   \n",
       "161994  SOKLRPJ12A8C13C3FE                                      The Scientist   \n",
       "44653   SOCVTLJ12A6310F0FD                                             Clocks   \n",
       "236774  SOPPROJ12AB0184E18                   Pursuit Of Happiness (nightmare)   \n",
       "24798   SOBOUPA12A6D4F81F1                              Sincerité Et Jalousie   \n",
       "238795  SOPTLQL12AB018D56F  Billionaire [feat. Bruno Mars]  (Explicit Albu...   \n",
       "217204  SOOFYTN12A6D4F9B35                                         Représente   \n",
       "24314   SOBOAFP12A8C131F36                              Lucky (Album Version)   \n",
       "\n",
       "                                              artist_name  user_count  \\\n",
       "14093                              Florence + The Machine       90444   \n",
       "24628                                       Dwight Yoakam       84000   \n",
       "282749                                      Kings Of Leon       80656   \n",
       "213013                                        OneRepublic       78353   \n",
       "66808   Barry Tuckwell/Academy of St Martin-in-the-Fie...       69487   \n",
       "173547                                 Charttraxx Karaoke       64229   \n",
       "85645                                             Cartola       58610   \n",
       "307663                          Usher featuring will.i.am       53260   \n",
       "326421                                      Kings Of Leon       52080   \n",
       "309341                                 Lil Wayne / Eminem       51022   \n",
       "296064                                              Train       47011   \n",
       "239163                                   Five Iron Frenzy       46078   \n",
       "121080                                      Lonnie Gordon       46077   \n",
       "161994                                           Coldplay       45495   \n",
       "44653                                            Coldplay       42535   \n",
       "236774                          Kid Cudi / MGMT / Ratatat       41811   \n",
       "24798                                     Alliance Ethnik       41093   \n",
       "238795                                       Travie McCoy       40497   \n",
       "217204                                    Alliance Ethnik       40403   \n",
       "24314                         Jason Mraz & Colbie Caillat       39851   \n",
       "\n",
       "        persentage_cnt  \n",
       "14093         0.197497  \n",
       "24628         0.183426  \n",
       "282749        0.176124  \n",
       "213013        0.171095  \n",
       "66808         0.151735  \n",
       "173547        0.140253  \n",
       "85645         0.127983  \n",
       "307663        0.116301  \n",
       "326421        0.113724  \n",
       "309341        0.111414  \n",
       "296064        0.102655  \n",
       "239163        0.100618  \n",
       "121080        0.100616  \n",
       "161994        0.099345  \n",
       "44653         0.092881  \n",
       "236774        0.091300  \n",
       "24798         0.089732  \n",
       "238795        0.088431  \n",
       "217204        0.088226  \n",
       "24314         0.087020  "
      ]
     },
     "execution_count": 126,
     "metadata": {},
     "output_type": "execute_result"
    }
   ],
   "source": [
    "grouped_sum = song_grouped_cnt.user_count.sum()\n",
    "\n",
    "song_grouped_cnt['persentage_cnt'] = (song_grouped_cnt.user_count / grouped_sum) * 100\n",
    "song_grouped_cnt.head(20)"
   ]
  },
  {
   "cell_type": "markdown",
   "id": "5e5ff317",
   "metadata": {},
   "source": [
    "Определим самые популярные треки на основе количества прослушиваний каждого трека."
   ]
  },
  {
   "cell_type": "code",
   "execution_count": 127,
   "id": "499af544",
   "metadata": {
    "scrolled": true
   },
   "outputs": [
    {
     "data": {
      "text/html": [
       "<div>\n",
       "<style scoped>\n",
       "    .dataframe tbody tr th:only-of-type {\n",
       "        vertical-align: middle;\n",
       "    }\n",
       "\n",
       "    .dataframe tbody tr th {\n",
       "        vertical-align: top;\n",
       "    }\n",
       "\n",
       "    .dataframe thead th {\n",
       "        text-align: right;\n",
       "    }\n",
       "</style>\n",
       "<table border=\"1\" class=\"dataframe\">\n",
       "  <thead>\n",
       "    <tr style=\"text-align: right;\">\n",
       "      <th></th>\n",
       "      <th>song_id</th>\n",
       "      <th>title</th>\n",
       "      <th>artist_name</th>\n",
       "      <th>sum_play_count</th>\n",
       "    </tr>\n",
       "  </thead>\n",
       "  <tbody>\n",
       "    <tr>\n",
       "      <th>24628</th>\n",
       "      <td>SOBONKR12A58A7A7E0</td>\n",
       "      <td>You're The One</td>\n",
       "      <td>Dwight Yoakam</td>\n",
       "      <td>223446</td>\n",
       "    </tr>\n",
       "    <tr>\n",
       "      <th>14093</th>\n",
       "      <td>SOAXGDH12A8C13F8A1</td>\n",
       "      <td>Dog Days Are Over (Radio Edit)</td>\n",
       "      <td>Florence + The Machine</td>\n",
       "      <td>219038</td>\n",
       "    </tr>\n",
       "    <tr>\n",
       "      <th>282749</th>\n",
       "      <td>SOSXLTC12AF72A7F54</td>\n",
       "      <td>Revelry</td>\n",
       "      <td>Kings Of Leon</td>\n",
       "      <td>202174</td>\n",
       "    </tr>\n",
       "    <tr>\n",
       "      <th>213013</th>\n",
       "      <td>SONYKOW12AB01849C9</td>\n",
       "      <td>Secrets</td>\n",
       "      <td>OneRepublic</td>\n",
       "      <td>187221</td>\n",
       "    </tr>\n",
       "    <tr>\n",
       "      <th>66808</th>\n",
       "      <td>SOEGIYH12A6D4FC0E3</td>\n",
       "      <td>Horn Concerto No. 4 in E flat K495: II. Romanc...</td>\n",
       "      <td>Barry Tuckwell/Academy of St Martin-in-the-Fie...</td>\n",
       "      <td>171011</td>\n",
       "    </tr>\n",
       "  </tbody>\n",
       "</table>\n",
       "</div>"
      ],
      "text/plain": [
       "                   song_id                                              title  \\\n",
       "24628   SOBONKR12A58A7A7E0                                     You're The One   \n",
       "14093   SOAXGDH12A8C13F8A1                     Dog Days Are Over (Radio Edit)   \n",
       "282749  SOSXLTC12AF72A7F54                                            Revelry   \n",
       "213013  SONYKOW12AB01849C9                                            Secrets   \n",
       "66808   SOEGIYH12A6D4FC0E3  Horn Concerto No. 4 in E flat K495: II. Romanc...   \n",
       "\n",
       "                                              artist_name  sum_play_count  \n",
       "24628                                       Dwight Yoakam          223446  \n",
       "14093                              Florence + The Machine          219038  \n",
       "282749                                      Kings Of Leon          202174  \n",
       "213013                                        OneRepublic          187221  \n",
       "66808   Barry Tuckwell/Academy of St Martin-in-the-Fie...          171011  "
      ]
     },
     "execution_count": 127,
     "metadata": {},
     "output_type": "execute_result"
    }
   ],
   "source": [
    "song_grouped_sum = user_song_df.groupby(['song_id', 'title', 'artist_name'], as_index=False).agg({'play_count': 'sum'}) \\\n",
    "                               .rename(columns={'play_count': 'sum_play_count'}).sort_values('sum_play_count', ascending=False)\n",
    "song_grouped_sum.head()"
   ]
  },
  {
   "cell_type": "code",
   "execution_count": 128,
   "id": "2f694799",
   "metadata": {},
   "outputs": [
    {
     "data": {
      "text/html": [
       "<div>\n",
       "<style scoped>\n",
       "    .dataframe tbody tr th:only-of-type {\n",
       "        vertical-align: middle;\n",
       "    }\n",
       "\n",
       "    .dataframe tbody tr th {\n",
       "        vertical-align: top;\n",
       "    }\n",
       "\n",
       "    .dataframe thead th {\n",
       "        text-align: right;\n",
       "    }\n",
       "</style>\n",
       "<table border=\"1\" class=\"dataframe\">\n",
       "  <thead>\n",
       "    <tr style=\"text-align: right;\">\n",
       "      <th></th>\n",
       "      <th>song_id</th>\n",
       "      <th>title</th>\n",
       "      <th>artist_name</th>\n",
       "      <th>sum_play_count</th>\n",
       "      <th>persentage_sum</th>\n",
       "    </tr>\n",
       "  </thead>\n",
       "  <tbody>\n",
       "    <tr>\n",
       "      <th>24628</th>\n",
       "      <td>SOBONKR12A58A7A7E0</td>\n",
       "      <td>You're The One</td>\n",
       "      <td>Dwight Yoakam</td>\n",
       "      <td>223446</td>\n",
       "      <td>0.252957</td>\n",
       "    </tr>\n",
       "    <tr>\n",
       "      <th>14093</th>\n",
       "      <td>SOAXGDH12A8C13F8A1</td>\n",
       "      <td>Dog Days Are Over (Radio Edit)</td>\n",
       "      <td>Florence + The Machine</td>\n",
       "      <td>219038</td>\n",
       "      <td>0.247967</td>\n",
       "    </tr>\n",
       "    <tr>\n",
       "      <th>282749</th>\n",
       "      <td>SOSXLTC12AF72A7F54</td>\n",
       "      <td>Revelry</td>\n",
       "      <td>Kings Of Leon</td>\n",
       "      <td>202174</td>\n",
       "      <td>0.228875</td>\n",
       "    </tr>\n",
       "    <tr>\n",
       "      <th>213013</th>\n",
       "      <td>SONYKOW12AB01849C9</td>\n",
       "      <td>Secrets</td>\n",
       "      <td>OneRepublic</td>\n",
       "      <td>187221</td>\n",
       "      <td>0.211948</td>\n",
       "    </tr>\n",
       "    <tr>\n",
       "      <th>66808</th>\n",
       "      <td>SOEGIYH12A6D4FC0E3</td>\n",
       "      <td>Horn Concerto No. 4 in E flat K495: II. Romanc...</td>\n",
       "      <td>Barry Tuckwell/Academy of St Martin-in-the-Fie...</td>\n",
       "      <td>171011</td>\n",
       "      <td>0.193597</td>\n",
       "    </tr>\n",
       "    <tr>\n",
       "      <th>173547</th>\n",
       "      <td>SOLFXKT12AB017E3E0</td>\n",
       "      <td>Fireflies</td>\n",
       "      <td>Charttraxx Karaoke</td>\n",
       "      <td>141670</td>\n",
       "      <td>0.160381</td>\n",
       "    </tr>\n",
       "    <tr>\n",
       "      <th>85645</th>\n",
       "      <td>SOFLJQZ12A6D4FADA6</td>\n",
       "      <td>Tive Sim</td>\n",
       "      <td>Cartola</td>\n",
       "      <td>127642</td>\n",
       "      <td>0.144500</td>\n",
       "    </tr>\n",
       "    <tr>\n",
       "      <th>239163</th>\n",
       "      <td>SOPUCYA12A8C13A694</td>\n",
       "      <td>Canada</td>\n",
       "      <td>Five Iron Frenzy</td>\n",
       "      <td>116773</td>\n",
       "      <td>0.132195</td>\n",
       "    </tr>\n",
       "    <tr>\n",
       "      <th>307663</th>\n",
       "      <td>SOUSMXX12AB0185C24</td>\n",
       "      <td>OMG</td>\n",
       "      <td>Usher featuring will.i.am</td>\n",
       "      <td>114676</td>\n",
       "      <td>0.129821</td>\n",
       "    </tr>\n",
       "    <tr>\n",
       "      <th>121080</th>\n",
       "      <td>SOHTKMO12AB01843B0</td>\n",
       "      <td>Catch You Baby (Steve Pitron &amp; Max Sanna Radio...</td>\n",
       "      <td>Lonnie Gordon</td>\n",
       "      <td>110608</td>\n",
       "      <td>0.125216</td>\n",
       "    </tr>\n",
       "    <tr>\n",
       "      <th>326421</th>\n",
       "      <td>SOWCKVR12A8C142411</td>\n",
       "      <td>Use Somebody</td>\n",
       "      <td>Kings Of Leon</td>\n",
       "      <td>109240</td>\n",
       "      <td>0.123668</td>\n",
       "    </tr>\n",
       "    <tr>\n",
       "      <th>309341</th>\n",
       "      <td>SOUVTSM12AC468F6A7</td>\n",
       "      <td>Drop The World</td>\n",
       "      <td>Lil Wayne / Eminem</td>\n",
       "      <td>107085</td>\n",
       "      <td>0.121228</td>\n",
       "    </tr>\n",
       "    <tr>\n",
       "      <th>296064</th>\n",
       "      <td>SOTWNDJ12A8C143984</td>\n",
       "      <td>Marry Me</td>\n",
       "      <td>Train</td>\n",
       "      <td>104870</td>\n",
       "      <td>0.118720</td>\n",
       "    </tr>\n",
       "    <tr>\n",
       "      <th>24798</th>\n",
       "      <td>SOBOUPA12A6D4F81F1</td>\n",
       "      <td>Sincerité Et Jalousie</td>\n",
       "      <td>Alliance Ethnik</td>\n",
       "      <td>104200</td>\n",
       "      <td>0.117962</td>\n",
       "    </tr>\n",
       "    <tr>\n",
       "      <th>217204</th>\n",
       "      <td>SOOFYTN12A6D4F9B35</td>\n",
       "      <td>Représente</td>\n",
       "      <td>Alliance Ethnik</td>\n",
       "      <td>98446</td>\n",
       "      <td>0.111448</td>\n",
       "    </tr>\n",
       "    <tr>\n",
       "      <th>161994</th>\n",
       "      <td>SOKLRPJ12A8C13C3FE</td>\n",
       "      <td>The Scientist</td>\n",
       "      <td>Coldplay</td>\n",
       "      <td>94512</td>\n",
       "      <td>0.106994</td>\n",
       "    </tr>\n",
       "    <tr>\n",
       "      <th>300928</th>\n",
       "      <td>SOUFTBI12AB0183F65</td>\n",
       "      <td>Invalid</td>\n",
       "      <td>Tub Ring</td>\n",
       "      <td>91861</td>\n",
       "      <td>0.103993</td>\n",
       "    </tr>\n",
       "    <tr>\n",
       "      <th>313362</th>\n",
       "      <td>SOVDSJC12A58A7A271</td>\n",
       "      <td>Ain't Misbehavin</td>\n",
       "      <td>Sam Cooke</td>\n",
       "      <td>91126</td>\n",
       "      <td>0.103161</td>\n",
       "    </tr>\n",
       "    <tr>\n",
       "      <th>238795</th>\n",
       "      <td>SOPTLQL12AB018D56F</td>\n",
       "      <td>Billionaire [feat. Bruno Mars]  (Explicit Albu...</td>\n",
       "      <td>Travie McCoy</td>\n",
       "      <td>89396</td>\n",
       "      <td>0.101203</td>\n",
       "    </tr>\n",
       "    <tr>\n",
       "      <th>236774</th>\n",
       "      <td>SOPPROJ12AB0184E18</td>\n",
       "      <td>Pursuit Of Happiness (nightmare)</td>\n",
       "      <td>Kid Cudi / MGMT / Ratatat</td>\n",
       "      <td>88626</td>\n",
       "      <td>0.100331</td>\n",
       "    </tr>\n",
       "  </tbody>\n",
       "</table>\n",
       "</div>"
      ],
      "text/plain": [
       "                   song_id                                              title  \\\n",
       "24628   SOBONKR12A58A7A7E0                                     You're The One   \n",
       "14093   SOAXGDH12A8C13F8A1                     Dog Days Are Over (Radio Edit)   \n",
       "282749  SOSXLTC12AF72A7F54                                            Revelry   \n",
       "213013  SONYKOW12AB01849C9                                            Secrets   \n",
       "66808   SOEGIYH12A6D4FC0E3  Horn Concerto No. 4 in E flat K495: II. Romanc...   \n",
       "173547  SOLFXKT12AB017E3E0                                          Fireflies   \n",
       "85645   SOFLJQZ12A6D4FADA6                                           Tive Sim   \n",
       "239163  SOPUCYA12A8C13A694                                             Canada   \n",
       "307663  SOUSMXX12AB0185C24                                                OMG   \n",
       "121080  SOHTKMO12AB01843B0  Catch You Baby (Steve Pitron & Max Sanna Radio...   \n",
       "326421  SOWCKVR12A8C142411                                       Use Somebody   \n",
       "309341  SOUVTSM12AC468F6A7                                     Drop The World   \n",
       "296064  SOTWNDJ12A8C143984                                           Marry Me   \n",
       "24798   SOBOUPA12A6D4F81F1                              Sincerité Et Jalousie   \n",
       "217204  SOOFYTN12A6D4F9B35                                         Représente   \n",
       "161994  SOKLRPJ12A8C13C3FE                                      The Scientist   \n",
       "300928  SOUFTBI12AB0183F65                                            Invalid   \n",
       "313362  SOVDSJC12A58A7A271                                   Ain't Misbehavin   \n",
       "238795  SOPTLQL12AB018D56F  Billionaire [feat. Bruno Mars]  (Explicit Albu...   \n",
       "236774  SOPPROJ12AB0184E18                   Pursuit Of Happiness (nightmare)   \n",
       "\n",
       "                                              artist_name  sum_play_count  \\\n",
       "24628                                       Dwight Yoakam          223446   \n",
       "14093                              Florence + The Machine          219038   \n",
       "282749                                      Kings Of Leon          202174   \n",
       "213013                                        OneRepublic          187221   \n",
       "66808   Barry Tuckwell/Academy of St Martin-in-the-Fie...          171011   \n",
       "173547                                 Charttraxx Karaoke          141670   \n",
       "85645                                             Cartola          127642   \n",
       "239163                                   Five Iron Frenzy          116773   \n",
       "307663                          Usher featuring will.i.am          114676   \n",
       "121080                                      Lonnie Gordon          110608   \n",
       "326421                                      Kings Of Leon          109240   \n",
       "309341                                 Lil Wayne / Eminem          107085   \n",
       "296064                                              Train          104870   \n",
       "24798                                     Alliance Ethnik          104200   \n",
       "217204                                    Alliance Ethnik           98446   \n",
       "161994                                           Coldplay           94512   \n",
       "300928                                           Tub Ring           91861   \n",
       "313362                                          Sam Cooke           91126   \n",
       "238795                                       Travie McCoy           89396   \n",
       "236774                          Kid Cudi / MGMT / Ratatat           88626   \n",
       "\n",
       "        persentage_sum  \n",
       "24628         0.252957  \n",
       "14093         0.247967  \n",
       "282749        0.228875  \n",
       "213013        0.211948  \n",
       "66808         0.193597  \n",
       "173547        0.160381  \n",
       "85645         0.144500  \n",
       "239163        0.132195  \n",
       "307663        0.129821  \n",
       "121080        0.125216  \n",
       "326421        0.123668  \n",
       "309341        0.121228  \n",
       "296064        0.118720  \n",
       "24798         0.117962  \n",
       "217204        0.111448  \n",
       "161994        0.106994  \n",
       "300928        0.103993  \n",
       "313362        0.103161  \n",
       "238795        0.101203  \n",
       "236774        0.100331  "
      ]
     },
     "execution_count": 128,
     "metadata": {},
     "output_type": "execute_result"
    }
   ],
   "source": [
    "grouped_sum = song_grouped_sum.sum_play_count.sum()\n",
    "\n",
    "song_grouped_sum['persentage_sum'] = (song_grouped_sum.sum_play_count / grouped_sum) * 100\n",
    "song_grouped_sum.head(20)"
   ]
  },
  {
   "cell_type": "code",
   "execution_count": 129,
   "id": "d28629ad",
   "metadata": {},
   "outputs": [],
   "source": [
    "song_grouped_cnt = song_grouped_cnt.head(25)\n",
    "song_grouped_sum = song_grouped_sum.head(25)"
   ]
  },
  {
   "cell_type": "code",
   "execution_count": 130,
   "id": "51a8fad5",
   "metadata": {},
   "outputs": [
    {
     "data": {
      "text/html": [
       "<div>\n",
       "<style scoped>\n",
       "    .dataframe tbody tr th:only-of-type {\n",
       "        vertical-align: middle;\n",
       "    }\n",
       "\n",
       "    .dataframe tbody tr th {\n",
       "        vertical-align: top;\n",
       "    }\n",
       "\n",
       "    .dataframe thead th {\n",
       "        text-align: right;\n",
       "    }\n",
       "</style>\n",
       "<table border=\"1\" class=\"dataframe\">\n",
       "  <thead>\n",
       "    <tr style=\"text-align: right;\">\n",
       "      <th></th>\n",
       "      <th>song_id</th>\n",
       "      <th>title</th>\n",
       "      <th>artist_name</th>\n",
       "      <th>user_count</th>\n",
       "      <th>persentage_cnt</th>\n",
       "      <th>sum_play_count</th>\n",
       "      <th>persentage_sum</th>\n",
       "    </tr>\n",
       "  </thead>\n",
       "  <tbody>\n",
       "    <tr>\n",
       "      <th>0</th>\n",
       "      <td>SOAXGDH12A8C13F8A1</td>\n",
       "      <td>Dog Days Are Over (Radio Edit)</td>\n",
       "      <td>Florence + The Machine</td>\n",
       "      <td>90444</td>\n",
       "      <td>0.197497</td>\n",
       "      <td>219038</td>\n",
       "      <td>0.247967</td>\n",
       "    </tr>\n",
       "    <tr>\n",
       "      <th>1</th>\n",
       "      <td>SOBONKR12A58A7A7E0</td>\n",
       "      <td>You're The One</td>\n",
       "      <td>Dwight Yoakam</td>\n",
       "      <td>84000</td>\n",
       "      <td>0.183426</td>\n",
       "      <td>223446</td>\n",
       "      <td>0.252957</td>\n",
       "    </tr>\n",
       "    <tr>\n",
       "      <th>2</th>\n",
       "      <td>SOSXLTC12AF72A7F54</td>\n",
       "      <td>Revelry</td>\n",
       "      <td>Kings Of Leon</td>\n",
       "      <td>80656</td>\n",
       "      <td>0.176124</td>\n",
       "      <td>202174</td>\n",
       "      <td>0.228875</td>\n",
       "    </tr>\n",
       "    <tr>\n",
       "      <th>3</th>\n",
       "      <td>SONYKOW12AB01849C9</td>\n",
       "      <td>Secrets</td>\n",
       "      <td>OneRepublic</td>\n",
       "      <td>78353</td>\n",
       "      <td>0.171095</td>\n",
       "      <td>187221</td>\n",
       "      <td>0.211948</td>\n",
       "    </tr>\n",
       "    <tr>\n",
       "      <th>4</th>\n",
       "      <td>SOEGIYH12A6D4FC0E3</td>\n",
       "      <td>Horn Concerto No. 4 in E flat K495: II. Romanc...</td>\n",
       "      <td>Barry Tuckwell/Academy of St Martin-in-the-Fie...</td>\n",
       "      <td>69487</td>\n",
       "      <td>0.151735</td>\n",
       "      <td>171011</td>\n",
       "      <td>0.193597</td>\n",
       "    </tr>\n",
       "    <tr>\n",
       "      <th>5</th>\n",
       "      <td>SOLFXKT12AB017E3E0</td>\n",
       "      <td>Fireflies</td>\n",
       "      <td>Charttraxx Karaoke</td>\n",
       "      <td>64229</td>\n",
       "      <td>0.140253</td>\n",
       "      <td>141670</td>\n",
       "      <td>0.160381</td>\n",
       "    </tr>\n",
       "    <tr>\n",
       "      <th>6</th>\n",
       "      <td>SOFLJQZ12A6D4FADA6</td>\n",
       "      <td>Tive Sim</td>\n",
       "      <td>Cartola</td>\n",
       "      <td>58610</td>\n",
       "      <td>0.127983</td>\n",
       "      <td>127642</td>\n",
       "      <td>0.144500</td>\n",
       "    </tr>\n",
       "    <tr>\n",
       "      <th>7</th>\n",
       "      <td>SOUSMXX12AB0185C24</td>\n",
       "      <td>OMG</td>\n",
       "      <td>Usher featuring will.i.am</td>\n",
       "      <td>53260</td>\n",
       "      <td>0.116301</td>\n",
       "      <td>114676</td>\n",
       "      <td>0.129821</td>\n",
       "    </tr>\n",
       "    <tr>\n",
       "      <th>8</th>\n",
       "      <td>SOWCKVR12A8C142411</td>\n",
       "      <td>Use Somebody</td>\n",
       "      <td>Kings Of Leon</td>\n",
       "      <td>52080</td>\n",
       "      <td>0.113724</td>\n",
       "      <td>109240</td>\n",
       "      <td>0.123668</td>\n",
       "    </tr>\n",
       "    <tr>\n",
       "      <th>9</th>\n",
       "      <td>SOUVTSM12AC468F6A7</td>\n",
       "      <td>Drop The World</td>\n",
       "      <td>Lil Wayne / Eminem</td>\n",
       "      <td>51022</td>\n",
       "      <td>0.111414</td>\n",
       "      <td>107085</td>\n",
       "      <td>0.121228</td>\n",
       "    </tr>\n",
       "    <tr>\n",
       "      <th>10</th>\n",
       "      <td>SOTWNDJ12A8C143984</td>\n",
       "      <td>Marry Me</td>\n",
       "      <td>Train</td>\n",
       "      <td>47011</td>\n",
       "      <td>0.102655</td>\n",
       "      <td>104870</td>\n",
       "      <td>0.118720</td>\n",
       "    </tr>\n",
       "    <tr>\n",
       "      <th>11</th>\n",
       "      <td>SOPUCYA12A8C13A694</td>\n",
       "      <td>Canada</td>\n",
       "      <td>Five Iron Frenzy</td>\n",
       "      <td>46078</td>\n",
       "      <td>0.100618</td>\n",
       "      <td>116773</td>\n",
       "      <td>0.132195</td>\n",
       "    </tr>\n",
       "    <tr>\n",
       "      <th>12</th>\n",
       "      <td>SOHTKMO12AB01843B0</td>\n",
       "      <td>Catch You Baby (Steve Pitron &amp; Max Sanna Radio...</td>\n",
       "      <td>Lonnie Gordon</td>\n",
       "      <td>46077</td>\n",
       "      <td>0.100616</td>\n",
       "      <td>110608</td>\n",
       "      <td>0.125216</td>\n",
       "    </tr>\n",
       "    <tr>\n",
       "      <th>13</th>\n",
       "      <td>SOKLRPJ12A8C13C3FE</td>\n",
       "      <td>The Scientist</td>\n",
       "      <td>Coldplay</td>\n",
       "      <td>45495</td>\n",
       "      <td>0.099345</td>\n",
       "      <td>94512</td>\n",
       "      <td>0.106994</td>\n",
       "    </tr>\n",
       "    <tr>\n",
       "      <th>14</th>\n",
       "      <td>SOCVTLJ12A6310F0FD</td>\n",
       "      <td>Clocks</td>\n",
       "      <td>Coldplay</td>\n",
       "      <td>42535</td>\n",
       "      <td>0.092881</td>\n",
       "      <td>87818</td>\n",
       "      <td>0.099416</td>\n",
       "    </tr>\n",
       "    <tr>\n",
       "      <th>15</th>\n",
       "      <td>SOPPROJ12AB0184E18</td>\n",
       "      <td>Pursuit Of Happiness (nightmare)</td>\n",
       "      <td>Kid Cudi / MGMT / Ratatat</td>\n",
       "      <td>41811</td>\n",
       "      <td>0.091300</td>\n",
       "      <td>88626</td>\n",
       "      <td>0.100331</td>\n",
       "    </tr>\n",
       "    <tr>\n",
       "      <th>16</th>\n",
       "      <td>SOBOUPA12A6D4F81F1</td>\n",
       "      <td>Sincerité Et Jalousie</td>\n",
       "      <td>Alliance Ethnik</td>\n",
       "      <td>41093</td>\n",
       "      <td>0.089732</td>\n",
       "      <td>104200</td>\n",
       "      <td>0.117962</td>\n",
       "    </tr>\n",
       "    <tr>\n",
       "      <th>17</th>\n",
       "      <td>SOPTLQL12AB018D56F</td>\n",
       "      <td>Billionaire [feat. Bruno Mars]  (Explicit Albu...</td>\n",
       "      <td>Travie McCoy</td>\n",
       "      <td>40497</td>\n",
       "      <td>0.088431</td>\n",
       "      <td>89396</td>\n",
       "      <td>0.101203</td>\n",
       "    </tr>\n",
       "    <tr>\n",
       "      <th>18</th>\n",
       "      <td>SOOFYTN12A6D4F9B35</td>\n",
       "      <td>Représente</td>\n",
       "      <td>Alliance Ethnik</td>\n",
       "      <td>40403</td>\n",
       "      <td>0.088226</td>\n",
       "      <td>98446</td>\n",
       "      <td>0.111448</td>\n",
       "    </tr>\n",
       "    <tr>\n",
       "      <th>19</th>\n",
       "      <td>SOBOAFP12A8C131F36</td>\n",
       "      <td>Lucky (Album Version)</td>\n",
       "      <td>Jason Mraz &amp; Colbie Caillat</td>\n",
       "      <td>39851</td>\n",
       "      <td>0.087020</td>\n",
       "      <td>86754</td>\n",
       "      <td>0.098212</td>\n",
       "    </tr>\n",
       "  </tbody>\n",
       "</table>\n",
       "</div>"
      ],
      "text/plain": [
       "               song_id                                              title  \\\n",
       "0   SOAXGDH12A8C13F8A1                     Dog Days Are Over (Radio Edit)   \n",
       "1   SOBONKR12A58A7A7E0                                     You're The One   \n",
       "2   SOSXLTC12AF72A7F54                                            Revelry   \n",
       "3   SONYKOW12AB01849C9                                            Secrets   \n",
       "4   SOEGIYH12A6D4FC0E3  Horn Concerto No. 4 in E flat K495: II. Romanc...   \n",
       "5   SOLFXKT12AB017E3E0                                          Fireflies   \n",
       "6   SOFLJQZ12A6D4FADA6                                           Tive Sim   \n",
       "7   SOUSMXX12AB0185C24                                                OMG   \n",
       "8   SOWCKVR12A8C142411                                       Use Somebody   \n",
       "9   SOUVTSM12AC468F6A7                                     Drop The World   \n",
       "10  SOTWNDJ12A8C143984                                           Marry Me   \n",
       "11  SOPUCYA12A8C13A694                                             Canada   \n",
       "12  SOHTKMO12AB01843B0  Catch You Baby (Steve Pitron & Max Sanna Radio...   \n",
       "13  SOKLRPJ12A8C13C3FE                                      The Scientist   \n",
       "14  SOCVTLJ12A6310F0FD                                             Clocks   \n",
       "15  SOPPROJ12AB0184E18                   Pursuit Of Happiness (nightmare)   \n",
       "16  SOBOUPA12A6D4F81F1                              Sincerité Et Jalousie   \n",
       "17  SOPTLQL12AB018D56F  Billionaire [feat. Bruno Mars]  (Explicit Albu...   \n",
       "18  SOOFYTN12A6D4F9B35                                         Représente   \n",
       "19  SOBOAFP12A8C131F36                              Lucky (Album Version)   \n",
       "\n",
       "                                          artist_name  user_count  \\\n",
       "0                              Florence + The Machine       90444   \n",
       "1                                       Dwight Yoakam       84000   \n",
       "2                                       Kings Of Leon       80656   \n",
       "3                                         OneRepublic       78353   \n",
       "4   Barry Tuckwell/Academy of St Martin-in-the-Fie...       69487   \n",
       "5                                  Charttraxx Karaoke       64229   \n",
       "6                                             Cartola       58610   \n",
       "7                           Usher featuring will.i.am       53260   \n",
       "8                                       Kings Of Leon       52080   \n",
       "9                                  Lil Wayne / Eminem       51022   \n",
       "10                                              Train       47011   \n",
       "11                                   Five Iron Frenzy       46078   \n",
       "12                                      Lonnie Gordon       46077   \n",
       "13                                           Coldplay       45495   \n",
       "14                                           Coldplay       42535   \n",
       "15                          Kid Cudi / MGMT / Ratatat       41811   \n",
       "16                                    Alliance Ethnik       41093   \n",
       "17                                       Travie McCoy       40497   \n",
       "18                                    Alliance Ethnik       40403   \n",
       "19                        Jason Mraz & Colbie Caillat       39851   \n",
       "\n",
       "    persentage_cnt  sum_play_count  persentage_sum  \n",
       "0         0.197497          219038        0.247967  \n",
       "1         0.183426          223446        0.252957  \n",
       "2         0.176124          202174        0.228875  \n",
       "3         0.171095          187221        0.211948  \n",
       "4         0.151735          171011        0.193597  \n",
       "5         0.140253          141670        0.160381  \n",
       "6         0.127983          127642        0.144500  \n",
       "7         0.116301          114676        0.129821  \n",
       "8         0.113724          109240        0.123668  \n",
       "9         0.111414          107085        0.121228  \n",
       "10        0.102655          104870        0.118720  \n",
       "11        0.100618          116773        0.132195  \n",
       "12        0.100616          110608        0.125216  \n",
       "13        0.099345           94512        0.106994  \n",
       "14        0.092881           87818        0.099416  \n",
       "15        0.091300           88626        0.100331  \n",
       "16        0.089732          104200        0.117962  \n",
       "17        0.088431           89396        0.101203  \n",
       "18        0.088226           98446        0.111448  \n",
       "19        0.087020           86754        0.098212  "
      ]
     },
     "execution_count": 130,
     "metadata": {},
     "output_type": "execute_result"
    }
   ],
   "source": [
    "pd.merge(song_grouped_cnt, song_grouped_sum.drop(['title', 'artist_name'], axis=1), on='song_id', how='inner').head(20)"
   ]
  },
  {
   "cell_type": "markdown",
   "id": "79ec3509",
   "metadata": {},
   "source": [
    "### Топ 20 самых популярных исполнителей"
   ]
  },
  {
   "cell_type": "code",
   "execution_count": 134,
   "id": "f06576d3",
   "metadata": {},
   "outputs": [
    {
     "data": {
      "text/html": [
       "<div>\n",
       "<style scoped>\n",
       "    .dataframe tbody tr th:only-of-type {\n",
       "        vertical-align: middle;\n",
       "    }\n",
       "\n",
       "    .dataframe tbody tr th {\n",
       "        vertical-align: top;\n",
       "    }\n",
       "\n",
       "    .dataframe thead th {\n",
       "        text-align: right;\n",
       "    }\n",
       "</style>\n",
       "<table border=\"1\" class=\"dataframe\">\n",
       "  <thead>\n",
       "    <tr style=\"text-align: right;\">\n",
       "      <th></th>\n",
       "      <th>artist_name</th>\n",
       "      <th>listen_count</th>\n",
       "      <th>persentage</th>\n",
       "    </tr>\n",
       "  </thead>\n",
       "  <tbody>\n",
       "    <tr>\n",
       "      <th>7238</th>\n",
       "      <td>Coldplay</td>\n",
       "      <td>341322</td>\n",
       "      <td>0.745324</td>\n",
       "    </tr>\n",
       "    <tr>\n",
       "      <th>19461</th>\n",
       "      <td>Kings Of Leon</td>\n",
       "      <td>247260</td>\n",
       "      <td>0.539927</td>\n",
       "    </tr>\n",
       "    <tr>\n",
       "      <th>12609</th>\n",
       "      <td>Florence + The Machine</td>\n",
       "      <td>235223</td>\n",
       "      <td>0.513642</td>\n",
       "    </tr>\n",
       "    <tr>\n",
       "      <th>35594</th>\n",
       "      <td>The Killers</td>\n",
       "      <td>204790</td>\n",
       "      <td>0.447188</td>\n",
       "    </tr>\n",
       "    <tr>\n",
       "      <th>16325</th>\n",
       "      <td>Jack Johnson</td>\n",
       "      <td>200993</td>\n",
       "      <td>0.438896</td>\n",
       "    </tr>\n",
       "    <tr>\n",
       "      <th>24791</th>\n",
       "      <td>Muse</td>\n",
       "      <td>189086</td>\n",
       "      <td>0.412896</td>\n",
       "    </tr>\n",
       "    <tr>\n",
       "      <th>18576</th>\n",
       "      <td>Justin Bieber</td>\n",
       "      <td>188485</td>\n",
       "      <td>0.411583</td>\n",
       "    </tr>\n",
       "    <tr>\n",
       "      <th>28534</th>\n",
       "      <td>Radiohead</td>\n",
       "      <td>182833</td>\n",
       "      <td>0.399241</td>\n",
       "    </tr>\n",
       "    <tr>\n",
       "      <th>34455</th>\n",
       "      <td>The Black Keys</td>\n",
       "      <td>176574</td>\n",
       "      <td>0.385574</td>\n",
       "    </tr>\n",
       "    <tr>\n",
       "      <th>8376</th>\n",
       "      <td>Daft Punk</td>\n",
       "      <td>175708</td>\n",
       "      <td>0.383683</td>\n",
       "    </tr>\n",
       "    <tr>\n",
       "      <th>11432</th>\n",
       "      <td>Eminem</td>\n",
       "      <td>166870</td>\n",
       "      <td>0.364384</td>\n",
       "    </tr>\n",
       "    <tr>\n",
       "      <th>20976</th>\n",
       "      <td>Linkin Park</td>\n",
       "      <td>158412</td>\n",
       "      <td>0.345915</td>\n",
       "    </tr>\n",
       "    <tr>\n",
       "      <th>23587</th>\n",
       "      <td>Metallica</td>\n",
       "      <td>152327</td>\n",
       "      <td>0.332627</td>\n",
       "    </tr>\n",
       "    <tr>\n",
       "      <th>26266</th>\n",
       "      <td>OneRepublic</td>\n",
       "      <td>149209</td>\n",
       "      <td>0.325819</td>\n",
       "    </tr>\n",
       "    <tr>\n",
       "      <th>33900</th>\n",
       "      <td>Taylor Swift</td>\n",
       "      <td>130587</td>\n",
       "      <td>0.285155</td>\n",
       "    </tr>\n",
       "    <tr>\n",
       "      <th>7622</th>\n",
       "      <td>Creedence Clearwater Revival</td>\n",
       "      <td>122607</td>\n",
       "      <td>0.267730</td>\n",
       "    </tr>\n",
       "    <tr>\n",
       "      <th>17804</th>\n",
       "      <td>John Mayer</td>\n",
       "      <td>122551</td>\n",
       "      <td>0.267607</td>\n",
       "    </tr>\n",
       "    <tr>\n",
       "      <th>14467</th>\n",
       "      <td>Guns N' Roses</td>\n",
       "      <td>121975</td>\n",
       "      <td>0.266349</td>\n",
       "    </tr>\n",
       "    <tr>\n",
       "      <th>1623</th>\n",
       "      <td>Amy Winehouse</td>\n",
       "      <td>115468</td>\n",
       "      <td>0.252141</td>\n",
       "    </tr>\n",
       "    <tr>\n",
       "      <th>12683</th>\n",
       "      <td>Foo Fighters</td>\n",
       "      <td>113765</td>\n",
       "      <td>0.248422</td>\n",
       "    </tr>\n",
       "  </tbody>\n",
       "</table>\n",
       "</div>"
      ],
      "text/plain": [
       "                        artist_name  listen_count  persentage\n",
       "7238                       Coldplay        341322    0.745324\n",
       "19461                 Kings Of Leon        247260    0.539927\n",
       "12609        Florence + The Machine        235223    0.513642\n",
       "35594                   The Killers        204790    0.447188\n",
       "16325                  Jack Johnson        200993    0.438896\n",
       "24791                          Muse        189086    0.412896\n",
       "18576                 Justin Bieber        188485    0.411583\n",
       "28534                     Radiohead        182833    0.399241\n",
       "34455                The Black Keys        176574    0.385574\n",
       "8376                      Daft Punk        175708    0.383683\n",
       "11432                        Eminem        166870    0.364384\n",
       "20976                   Linkin Park        158412    0.345915\n",
       "23587                     Metallica        152327    0.332627\n",
       "26266                   OneRepublic        149209    0.325819\n",
       "33900                  Taylor Swift        130587    0.285155\n",
       "7622   Creedence Clearwater Revival        122607    0.267730\n",
       "17804                    John Mayer        122551    0.267607\n",
       "14467                 Guns N' Roses        121975    0.266349\n",
       "1623                  Amy Winehouse        115468    0.252141\n",
       "12683                  Foo Fighters        113765    0.248422"
      ]
     },
     "execution_count": 134,
     "metadata": {},
     "output_type": "execute_result"
    }
   ],
   "source": [
    "artist_grouped_cnt = user_song_df.groupby(['artist_name'], as_index=False).agg({'play_count': 'count'}) \\\n",
    "                                 .rename(columns={'play_count': 'listen_count'}).sort_values('listen_count', ascending=False)\n",
    "\n",
    "grouped_sum = artist_grouped_cnt.listen_count.sum()\n",
    "artist_grouped_cnt['persentage'] = (artist_grouped_cnt.listen_count / grouped_sum) * 100\n",
    "artist_grouped_cnt.head(20)"
   ]
  },
  {
   "cell_type": "markdown",
   "id": "04224f4e",
   "metadata": {},
   "source": [
    "### Исследование характеристик треков"
   ]
  },
  {
   "cell_type": "code",
   "execution_count": 149,
   "id": "e6fa5bcf",
   "metadata": {},
   "outputs": [
    {
     "data": {
      "text/html": [
       "<div>\n",
       "<style scoped>\n",
       "    .dataframe tbody tr th:only-of-type {\n",
       "        vertical-align: middle;\n",
       "    }\n",
       "\n",
       "    .dataframe tbody tr th {\n",
       "        vertical-align: top;\n",
       "    }\n",
       "\n",
       "    .dataframe thead th {\n",
       "        text-align: right;\n",
       "    }\n",
       "</style>\n",
       "<table border=\"1\" class=\"dataframe\">\n",
       "  <thead>\n",
       "    <tr style=\"text-align: right;\">\n",
       "      <th></th>\n",
       "      <th>artist_name</th>\n",
       "      <th>artist_familarity</th>\n",
       "      <th>artist_hotttnesss</th>\n",
       "      <th>artist_id</th>\n",
       "      <th>artist_location</th>\n",
       "      <th>danceability</th>\n",
       "      <th>duration</th>\n",
       "      <th>energy</th>\n",
       "      <th>loudness</th>\n",
       "      <th>mode</th>\n",
       "      <th>mode_confidence</th>\n",
       "      <th>song_hotttnesss</th>\n",
       "      <th>song_id</th>\n",
       "      <th>tempo</th>\n",
       "      <th>time_signature</th>\n",
       "      <th>time_signature_confidence</th>\n",
       "      <th>title</th>\n",
       "      <th>track_id</th>\n",
       "      <th>year</th>\n",
       "    </tr>\n",
       "  </thead>\n",
       "  <tbody>\n",
       "    <tr>\n",
       "      <th>0</th>\n",
       "      <td>Casual</td>\n",
       "      <td>0.581794</td>\n",
       "      <td>0.401998</td>\n",
       "      <td>ARD7TVE1187B99BFB1</td>\n",
       "      <td>California - LA</td>\n",
       "      <td>0.0</td>\n",
       "      <td>218.93179</td>\n",
       "      <td>0.0</td>\n",
       "      <td>-11.197</td>\n",
       "      <td>0</td>\n",
       "      <td>0.636</td>\n",
       "      <td>0.602120</td>\n",
       "      <td>SOMZWCG12A8C13C480</td>\n",
       "      <td>92.198</td>\n",
       "      <td>4</td>\n",
       "      <td>0.778</td>\n",
       "      <td>I Didn't Mean To</td>\n",
       "      <td>TRAAAAW128F429D538</td>\n",
       "      <td>0</td>\n",
       "    </tr>\n",
       "    <tr>\n",
       "      <th>1</th>\n",
       "      <td>The Box Tops</td>\n",
       "      <td>0.630630</td>\n",
       "      <td>0.417500</td>\n",
       "      <td>ARMJAGH1187FB546F3</td>\n",
       "      <td>Memphis, TN</td>\n",
       "      <td>0.0</td>\n",
       "      <td>148.03546</td>\n",
       "      <td>0.0</td>\n",
       "      <td>-9.843</td>\n",
       "      <td>0</td>\n",
       "      <td>0.430</td>\n",
       "      <td>NaN</td>\n",
       "      <td>SOCIWDW12A8C13D406</td>\n",
       "      <td>121.274</td>\n",
       "      <td>4</td>\n",
       "      <td>0.384</td>\n",
       "      <td>Soul Deep</td>\n",
       "      <td>TRAAABD128F429CF47</td>\n",
       "      <td>1969</td>\n",
       "    </tr>\n",
       "    <tr>\n",
       "      <th>2</th>\n",
       "      <td>Sonora Santanera</td>\n",
       "      <td>0.487357</td>\n",
       "      <td>0.343428</td>\n",
       "      <td>ARKRRTF1187B9984DA</td>\n",
       "      <td>NaN</td>\n",
       "      <td>0.0</td>\n",
       "      <td>177.47546</td>\n",
       "      <td>0.0</td>\n",
       "      <td>-9.689</td>\n",
       "      <td>1</td>\n",
       "      <td>0.565</td>\n",
       "      <td>NaN</td>\n",
       "      <td>SOXVLOJ12AB0189215</td>\n",
       "      <td>100.070</td>\n",
       "      <td>1</td>\n",
       "      <td>0.000</td>\n",
       "      <td>Amor De Cabaret</td>\n",
       "      <td>TRAAADZ128F9348C2E</td>\n",
       "      <td>0</td>\n",
       "    </tr>\n",
       "    <tr>\n",
       "      <th>3</th>\n",
       "      <td>Adam Ant</td>\n",
       "      <td>0.630382</td>\n",
       "      <td>0.454231</td>\n",
       "      <td>AR7G5I41187FB4CE6C</td>\n",
       "      <td>London, England</td>\n",
       "      <td>0.0</td>\n",
       "      <td>233.40363</td>\n",
       "      <td>0.0</td>\n",
       "      <td>-9.013</td>\n",
       "      <td>1</td>\n",
       "      <td>0.749</td>\n",
       "      <td>NaN</td>\n",
       "      <td>SONHOTT12A8C13493C</td>\n",
       "      <td>119.293</td>\n",
       "      <td>4</td>\n",
       "      <td>0.000</td>\n",
       "      <td>Something Girls</td>\n",
       "      <td>TRAAAEF128F4273421</td>\n",
       "      <td>1982</td>\n",
       "    </tr>\n",
       "    <tr>\n",
       "      <th>4</th>\n",
       "      <td>Gob</td>\n",
       "      <td>0.651046</td>\n",
       "      <td>0.401724</td>\n",
       "      <td>ARXR32B1187FB57099</td>\n",
       "      <td>NaN</td>\n",
       "      <td>0.0</td>\n",
       "      <td>209.60608</td>\n",
       "      <td>0.0</td>\n",
       "      <td>-4.501</td>\n",
       "      <td>1</td>\n",
       "      <td>0.371</td>\n",
       "      <td>0.604501</td>\n",
       "      <td>SOFSOCN12A8C143F5D</td>\n",
       "      <td>129.738</td>\n",
       "      <td>4</td>\n",
       "      <td>0.562</td>\n",
       "      <td>Face the Ashes</td>\n",
       "      <td>TRAAAFD128F92F423A</td>\n",
       "      <td>2007</td>\n",
       "    </tr>\n",
       "  </tbody>\n",
       "</table>\n",
       "</div>"
      ],
      "text/plain": [
       "        artist_name  artist_familarity  artist_hotttnesss           artist_id  \\\n",
       "0            Casual           0.581794           0.401998  ARD7TVE1187B99BFB1   \n",
       "1      The Box Tops           0.630630           0.417500  ARMJAGH1187FB546F3   \n",
       "2  Sonora Santanera           0.487357           0.343428  ARKRRTF1187B9984DA   \n",
       "3          Adam Ant           0.630382           0.454231  AR7G5I41187FB4CE6C   \n",
       "4               Gob           0.651046           0.401724  ARXR32B1187FB57099   \n",
       "\n",
       "   artist_location  danceability   duration  energy  loudness  mode  \\\n",
       "0  California - LA           0.0  218.93179     0.0   -11.197     0   \n",
       "1      Memphis, TN           0.0  148.03546     0.0    -9.843     0   \n",
       "2              NaN           0.0  177.47546     0.0    -9.689     1   \n",
       "3  London, England           0.0  233.40363     0.0    -9.013     1   \n",
       "4              NaN           0.0  209.60608     0.0    -4.501     1   \n",
       "\n",
       "   mode_confidence  song_hotttnesss             song_id    tempo  \\\n",
       "0            0.636         0.602120  SOMZWCG12A8C13C480   92.198   \n",
       "1            0.430              NaN  SOCIWDW12A8C13D406  121.274   \n",
       "2            0.565              NaN  SOXVLOJ12AB0189215  100.070   \n",
       "3            0.749              NaN  SONHOTT12A8C13493C  119.293   \n",
       "4            0.371         0.604501  SOFSOCN12A8C143F5D  129.738   \n",
       "\n",
       "   time_signature  time_signature_confidence             title  \\\n",
       "0               4                      0.778  I Didn't Mean To   \n",
       "1               4                      0.384         Soul Deep   \n",
       "2               1                      0.000   Amor De Cabaret   \n",
       "3               4                      0.000   Something Girls   \n",
       "4               4                      0.562    Face the Ashes   \n",
       "\n",
       "             track_id  year  \n",
       "0  TRAAAAW128F429D538     0  \n",
       "1  TRAAABD128F429CF47  1969  \n",
       "2  TRAAADZ128F9348C2E     0  \n",
       "3  TRAAAEF128F4273421  1982  \n",
       "4  TRAAAFD128F92F423A  2007  "
      ]
     },
     "execution_count": 149,
     "metadata": {},
     "output_type": "execute_result"
    }
   ],
   "source": [
    "data10000.head()"
   ]
  },
  {
   "cell_type": "code",
   "execution_count": 158,
   "id": "8c471a24",
   "metadata": {},
   "outputs": [
    {
     "data": {
      "image/png": "[encoded data removed]",
      "text/plain": [
       "<Figure size 1080x432 with 1 Axes>"
      ]
     },
     "metadata": {
      "needs_background": "light"
     },
     "output_type": "display_data"
    }
   ],
   "source": [
    "fig = plt.figure(figsize = (15, 6))\n",
    "\n",
    "ax = sns.histplot(x='artist_familarity', data=data10000, kde=True);\n",
    "\n",
    "plt.title('Распределение треков по artist_familarity', fontsize=13);\n",
    "plt.ylabel('Count', fontsize=11);\n",
    "plt.xlabel('artist_familarity',  fontsize=11);"
   ]
  },
  {
   "cell_type": "code",
   "execution_count": 159,
   "id": "172e7956",
   "metadata": {},
   "outputs": [
    {
     "data": {
      "image/png": "[encoded data removed]",
      "text/plain": [
       "<Figure size 1080x432 with 1 Axes>"
      ]
     },
     "metadata": {
      "needs_background": "light"
     },
     "output_type": "display_data"
    }
   ],
   "source": [
    "fig = plt.figure(figsize = (15, 6))\n",
    "\n",
    "ax = sns.histplot(x='artist_hotttnesss', data=data10000, kde=True);\n",
    "\n",
    "plt.title('Распределение треков по artist_hotttnesss', fontsize=13);\n",
    "plt.ylabel('Count', fontsize=11);\n",
    "plt.xlabel('artist_hotttnesss',  fontsize=11);"
   ]
  },
  {
   "cell_type": "code",
   "execution_count": 165,
   "id": "fcac7eaf",
   "metadata": {},
   "outputs": [
    {
     "data": {
      "text/plain": [
       "count    9766.000000\n",
       "mean        0.690457\n",
       "std         0.462329\n",
       "min         0.000000\n",
       "25%         0.000000\n",
       "50%         1.000000\n",
       "75%         1.000000\n",
       "max         1.000000\n",
       "Name: mode, dtype: float64"
      ]
     },
     "execution_count": 165,
     "metadata": {},
     "output_type": "execute_result"
    }
   ],
   "source": [
    "data10000['mode'].describe()"
   ]
  },
  {
   "cell_type": "code",
   "execution_count": 166,
   "id": "f9360948",
   "metadata": {},
   "outputs": [
    {
     "data": {
      "image/png": "[encoded data removed]",
      "text/plain": [
       "<Figure size 1080x432 with 1 Axes>"
      ]
     },
     "metadata": {
      "needs_background": "light"
     },
     "output_type": "display_data"
    }
   ],
   "source": [
    "fig = plt.figure(figsize = (15, 6))\n",
    "\n",
    "ax = sns.histplot(x='mode', data=data10000, kde=True);\n",
    "\n",
    "plt.title('Распределение треков по mode', fontsize=13);\n",
    "plt.ylabel('Count', fontsize=11);\n",
    "plt.xlabel('mode',  fontsize=11);"
   ]
  },
  {
   "cell_type": "code",
   "execution_count": null,
   "id": "b39d9fa0",
   "metadata": {},
   "outputs": [],
   "source": []
  }
 ],
 "metadata": {
  "kernelspec": {
   "display_name": "Python 3 (ipykernel)",
   "language": "python",
   "name": "python3"
  },
  "language_info": {
   "codemirror_mode": {
    "name": "ipython",
    "version": 3
   },
   "file_extension": ".py",
   "mimetype": "text/x-python",
   "name": "python",
   "nbconvert_exporter": "python",
   "pygments_lexer": "ipython3",
   "version": "3.10.8"
  }
 },
 "nbformat": 4,
 "nbformat_minor": 5
}
