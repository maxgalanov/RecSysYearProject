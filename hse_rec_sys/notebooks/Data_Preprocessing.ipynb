{
 "cells": [
  {
   "cell_type": "code",
   "execution_count": 1,
   "id": "ba8fec00",
   "metadata": {},
   "outputs": [],
   "source": [
    "import pandas as pd\n",
    "import warnings\n",
    "warnings.filterwarnings(\"ignore\")"
   ]
  },
  {
   "attachments": {},
   "cell_type": "markdown",
   "id": "c63fd785",
   "metadata": {},
   "source": [
    "# Загрузка данных\n",
    "### Датасет triplets_data"
   ]
  },
  {
   "cell_type": "code",
   "execution_count": 2,
   "id": "c7bf3413",
   "metadata": {},
   "outputs": [
    {
     "data": {
      "text/html": [
       "<div>\n",
       "<style scoped>\n",
       "    .dataframe tbody tr th:only-of-type {\n",
       "        vertical-align: middle;\n",
       "    }\n",
       "\n",
       "    .dataframe tbody tr th {\n",
       "        vertical-align: top;\n",
       "    }\n",
       "\n",
       "    .dataframe thead th {\n",
       "        text-align: right;\n",
       "    }\n",
       "</style>\n",
       "<table border=\"1\" class=\"dataframe\">\n",
       "  <thead>\n",
       "    <tr style=\"text-align: right;\">\n",
       "      <th></th>\n",
       "      <th>user_id</th>\n",
       "      <th>song_id</th>\n",
       "      <th>play_count</th>\n",
       "    </tr>\n",
       "  </thead>\n",
       "  <tbody>\n",
       "    <tr>\n",
       "      <th>0</th>\n",
       "      <td>b80344d063b5ccb3212f76538f3d9e43d87dca9e</td>\n",
       "      <td>SOAPDEY12A81C210A9</td>\n",
       "      <td>1</td>\n",
       "    </tr>\n",
       "    <tr>\n",
       "      <th>1</th>\n",
       "      <td>b80344d063b5ccb3212f76538f3d9e43d87dca9e</td>\n",
       "      <td>SOBBMDR12A8C13253B</td>\n",
       "      <td>2</td>\n",
       "    </tr>\n",
       "    <tr>\n",
       "      <th>2</th>\n",
       "      <td>b80344d063b5ccb3212f76538f3d9e43d87dca9e</td>\n",
       "      <td>SOBFNSP12AF72A0E22</td>\n",
       "      <td>1</td>\n",
       "    </tr>\n",
       "    <tr>\n",
       "      <th>3</th>\n",
       "      <td>b80344d063b5ccb3212f76538f3d9e43d87dca9e</td>\n",
       "      <td>SOBFOVM12A58A7D494</td>\n",
       "      <td>1</td>\n",
       "    </tr>\n",
       "    <tr>\n",
       "      <th>4</th>\n",
       "      <td>b80344d063b5ccb3212f76538f3d9e43d87dca9e</td>\n",
       "      <td>SOBNZDC12A6D4FC103</td>\n",
       "      <td>1</td>\n",
       "    </tr>\n",
       "  </tbody>\n",
       "</table>\n",
       "</div>"
      ],
      "text/plain": [
       "                                    user_id             song_id  play_count\n",
       "0  b80344d063b5ccb3212f76538f3d9e43d87dca9e  SOAPDEY12A81C210A9           1\n",
       "1  b80344d063b5ccb3212f76538f3d9e43d87dca9e  SOBBMDR12A8C13253B           2\n",
       "2  b80344d063b5ccb3212f76538f3d9e43d87dca9e  SOBFNSP12AF72A0E22           1\n",
       "3  b80344d063b5ccb3212f76538f3d9e43d87dca9e  SOBFOVM12A58A7D494           1\n",
       "4  b80344d063b5ccb3212f76538f3d9e43d87dca9e  SOBNZDC12A6D4FC103           1"
      ]
     },
     "execution_count": 2,
     "metadata": {},
     "output_type": "execute_result"
    }
   ],
   "source": [
    "triplets_data = pd.read_csv('triplets_data.csv', index_col=0)\n",
    "triplets_data.head()"
   ]
  },
  {
   "cell_type": "code",
   "execution_count": 3,
   "id": "bbdf2fa3",
   "metadata": {},
   "outputs": [
    {
     "data": {
      "text/plain": [
       "(48373585, 3)"
      ]
     },
     "execution_count": 3,
     "metadata": {},
     "output_type": "execute_result"
    }
   ],
   "source": [
    "triplets_data.shape"
   ]
  },
  {
   "attachments": {},
   "cell_type": "markdown",
   "id": "d2f135d6",
   "metadata": {},
   "source": [
    "### Датасет song_data"
   ]
  },
  {
   "cell_type": "code",
   "execution_count": 4,
   "id": "a036e367",
   "metadata": {},
   "outputs": [
    {
     "data": {
      "text/html": [
       "<div>\n",
       "<style scoped>\n",
       "    .dataframe tbody tr th:only-of-type {\n",
       "        vertical-align: middle;\n",
       "    }\n",
       "\n",
       "    .dataframe tbody tr th {\n",
       "        vertical-align: top;\n",
       "    }\n",
       "\n",
       "    .dataframe thead th {\n",
       "        text-align: right;\n",
       "    }\n",
       "</style>\n",
       "<table border=\"1\" class=\"dataframe\">\n",
       "  <thead>\n",
       "    <tr style=\"text-align: right;\">\n",
       "      <th></th>\n",
       "      <th>song_id</th>\n",
       "      <th>title</th>\n",
       "      <th>release</th>\n",
       "      <th>artist_name</th>\n",
       "      <th>year</th>\n",
       "    </tr>\n",
       "  </thead>\n",
       "  <tbody>\n",
       "    <tr>\n",
       "      <th>0</th>\n",
       "      <td>SOQMMHC12AB0180CB8</td>\n",
       "      <td>Silent Night</td>\n",
       "      <td>Monster Ballads X-Mas</td>\n",
       "      <td>Faster Pussy cat</td>\n",
       "      <td>2003</td>\n",
       "    </tr>\n",
       "    <tr>\n",
       "      <th>1</th>\n",
       "      <td>SOVFVAK12A8C1350D9</td>\n",
       "      <td>Tanssi vaan</td>\n",
       "      <td>Karkuteillä</td>\n",
       "      <td>Karkkiautomaatti</td>\n",
       "      <td>1995</td>\n",
       "    </tr>\n",
       "    <tr>\n",
       "      <th>2</th>\n",
       "      <td>SOGTUKN12AB017F4F1</td>\n",
       "      <td>No One Could Ever</td>\n",
       "      <td>Butter</td>\n",
       "      <td>Hudson Mohawke</td>\n",
       "      <td>2006</td>\n",
       "    </tr>\n",
       "    <tr>\n",
       "      <th>3</th>\n",
       "      <td>SOBNYVR12A8C13558C</td>\n",
       "      <td>Si Vos Querés</td>\n",
       "      <td>De Culo</td>\n",
       "      <td>Yerba Brava</td>\n",
       "      <td>2003</td>\n",
       "    </tr>\n",
       "    <tr>\n",
       "      <th>4</th>\n",
       "      <td>SOHSBXH12A8C13B0DF</td>\n",
       "      <td>Tangle Of Aspens</td>\n",
       "      <td>Rene Ablaze Presents Winter Sessions</td>\n",
       "      <td>Der Mystic</td>\n",
       "      <td>0</td>\n",
       "    </tr>\n",
       "  </tbody>\n",
       "</table>\n",
       "</div>"
      ],
      "text/plain": [
       "              song_id              title  \\\n",
       "0  SOQMMHC12AB0180CB8       Silent Night   \n",
       "1  SOVFVAK12A8C1350D9        Tanssi vaan   \n",
       "2  SOGTUKN12AB017F4F1  No One Could Ever   \n",
       "3  SOBNYVR12A8C13558C      Si Vos Querés   \n",
       "4  SOHSBXH12A8C13B0DF   Tangle Of Aspens   \n",
       "\n",
       "                                release       artist_name  year  \n",
       "0                 Monster Ballads X-Mas  Faster Pussy cat  2003  \n",
       "1                           Karkuteillä  Karkkiautomaatti  1995  \n",
       "2                                Butter    Hudson Mohawke  2006  \n",
       "3                               De Culo       Yerba Brava  2003  \n",
       "4  Rene Ablaze Presents Winter Sessions        Der Mystic     0  "
      ]
     },
     "execution_count": 4,
     "metadata": {},
     "output_type": "execute_result"
    }
   ],
   "source": [
    "song_data = pd.read_csv('song_data.csv')\n",
    "song_data.head()"
   ]
  },
  {
   "cell_type": "code",
   "execution_count": 5,
   "id": "1702bf3d",
   "metadata": {},
   "outputs": [
    {
     "data": {
      "text/plain": [
       "(1000000, 5)"
      ]
     },
     "execution_count": 5,
     "metadata": {},
     "output_type": "execute_result"
    }
   ],
   "source": [
    "song_data.shape"
   ]
  },
  {
   "attachments": {},
   "cell_type": "markdown",
   "id": "ba089356",
   "metadata": {},
   "source": [
    "#### Удаляем дубли\n",
    "В данном датасете присутствуют дубли песен, которые необходимо удалить."
   ]
  },
  {
   "cell_type": "code",
   "execution_count": 6,
   "id": "f60c8ddd",
   "metadata": {
    "scrolled": false
   },
   "outputs": [
    {
     "data": {
      "text/html": [
       "<div>\n",
       "<style scoped>\n",
       "    .dataframe tbody tr th:only-of-type {\n",
       "        vertical-align: middle;\n",
       "    }\n",
       "\n",
       "    .dataframe tbody tr th {\n",
       "        vertical-align: top;\n",
       "    }\n",
       "\n",
       "    .dataframe thead th {\n",
       "        text-align: right;\n",
       "    }\n",
       "</style>\n",
       "<table border=\"1\" class=\"dataframe\">\n",
       "  <thead>\n",
       "    <tr style=\"text-align: right;\">\n",
       "      <th></th>\n",
       "      <th>song_id</th>\n",
       "      <th>count_song_id</th>\n",
       "    </tr>\n",
       "  </thead>\n",
       "  <tbody>\n",
       "    <tr>\n",
       "      <th>824667</th>\n",
       "      <td>SOUYQYY12AF72A000F</td>\n",
       "      <td>3</td>\n",
       "    </tr>\n",
       "    <tr>\n",
       "      <th>476252</th>\n",
       "      <td>SOLNCTS12A8C1405EF</td>\n",
       "      <td>3</td>\n",
       "    </tr>\n",
       "    <tr>\n",
       "      <th>665418</th>\n",
       "      <td>SOQNMCD12A8C1383D4</td>\n",
       "      <td>3</td>\n",
       "    </tr>\n",
       "    <tr>\n",
       "      <th>68469</th>\n",
       "      <td>SOBPAEP12A58A77F49</td>\n",
       "      <td>3</td>\n",
       "    </tr>\n",
       "    <tr>\n",
       "      <th>827438</th>\n",
       "      <td>SOVASUH12A67021B44</td>\n",
       "      <td>3</td>\n",
       "    </tr>\n",
       "    <tr>\n",
       "      <th>...</th>\n",
       "      <td>...</td>\n",
       "      <td>...</td>\n",
       "    </tr>\n",
       "    <tr>\n",
       "      <th>333168</th>\n",
       "      <td>SOHXMHZ12A5891FFDF</td>\n",
       "      <td>1</td>\n",
       "    </tr>\n",
       "    <tr>\n",
       "      <th>333169</th>\n",
       "      <td>SOHXMIP12AAF3B3C24</td>\n",
       "      <td>1</td>\n",
       "    </tr>\n",
       "    <tr>\n",
       "      <th>333170</th>\n",
       "      <td>SOHXMJG12AB0182DA9</td>\n",
       "      <td>1</td>\n",
       "    </tr>\n",
       "    <tr>\n",
       "      <th>333171</th>\n",
       "      <td>SOHXMJO12AB018F837</td>\n",
       "      <td>1</td>\n",
       "    </tr>\n",
       "    <tr>\n",
       "      <th>999055</th>\n",
       "      <td>SOZZZZM12AB018B095</td>\n",
       "      <td>1</td>\n",
       "    </tr>\n",
       "  </tbody>\n",
       "</table>\n",
       "<p>999056 rows × 2 columns</p>\n",
       "</div>"
      ],
      "text/plain": [
       "                   song_id  count_song_id\n",
       "824667  SOUYQYY12AF72A000F              3\n",
       "476252  SOLNCTS12A8C1405EF              3\n",
       "665418  SOQNMCD12A8C1383D4              3\n",
       "68469   SOBPAEP12A58A77F49              3\n",
       "827438  SOVASUH12A67021B44              3\n",
       "...                    ...            ...\n",
       "333168  SOHXMHZ12A5891FFDF              1\n",
       "333169  SOHXMIP12AAF3B3C24              1\n",
       "333170  SOHXMJG12AB0182DA9              1\n",
       "333171  SOHXMJO12AB018F837              1\n",
       "999055  SOZZZZM12AB018B095              1\n",
       "\n",
       "[999056 rows x 2 columns]"
      ]
     },
     "execution_count": 6,
     "metadata": {},
     "output_type": "execute_result"
    }
   ],
   "source": [
    "song_data.groupby(\"song_id\", as_index=False).agg({\"artist_name\": \"count\"}).rename(\n",
    "    columns={\"artist_name\": \"count_song_id\"}\n",
    ").sort_values(by=\"count_song_id\", ascending=False)\n"
   ]
  },
  {
   "cell_type": "code",
   "execution_count": 7,
   "id": "944469e1",
   "metadata": {},
   "outputs": [
    {
     "data": {
      "text/plain": [
       "(999056, 5)"
      ]
     },
     "execution_count": 7,
     "metadata": {},
     "output_type": "execute_result"
    }
   ],
   "source": [
    "song_data = song_data.drop_duplicates(['song_id'])\n",
    "song_data.shape"
   ]
  },
  {
   "attachments": {},
   "cell_type": "markdown",
   "id": "3f81cc68",
   "metadata": {},
   "source": [
    "### Датасет sid_mismatches\n",
    "#### Удаление неверно объединенных пар song_id и track_id"
   ]
  },
  {
   "cell_type": "code",
   "execution_count": 8,
   "id": "6c061516",
   "metadata": {
    "scrolled": true
   },
   "outputs": [
    {
     "data": {
      "text/html": [
       "<div>\n",
       "<style scoped>\n",
       "    .dataframe tbody tr th:only-of-type {\n",
       "        vertical-align: middle;\n",
       "    }\n",
       "\n",
       "    .dataframe tbody tr th {\n",
       "        vertical-align: top;\n",
       "    }\n",
       "\n",
       "    .dataframe thead th {\n",
       "        text-align: right;\n",
       "    }\n",
       "</style>\n",
       "<table border=\"1\" class=\"dataframe\">\n",
       "  <thead>\n",
       "    <tr style=\"text-align: right;\">\n",
       "      <th></th>\n",
       "      <th>song_id</th>\n",
       "      <th>track_id</th>\n",
       "    </tr>\n",
       "  </thead>\n",
       "  <tbody>\n",
       "    <tr>\n",
       "      <th>0</th>\n",
       "      <td>SOCMRBE12AB018C546</td>\n",
       "      <td>TRMMREB12903CEB1B1</td>\n",
       "    </tr>\n",
       "    <tr>\n",
       "      <th>1</th>\n",
       "      <td>SOLPHZY12AC468ABA8</td>\n",
       "      <td>TRMMBOC12903CEB46E</td>\n",
       "    </tr>\n",
       "    <tr>\n",
       "      <th>2</th>\n",
       "      <td>SONGHTM12A8C1374EF</td>\n",
       "      <td>TRMMITP128F425D8D0</td>\n",
       "    </tr>\n",
       "    <tr>\n",
       "      <th>3</th>\n",
       "      <td>SONGXCA12A8C13E82E</td>\n",
       "      <td>TRMMAYZ128F429ECE6</td>\n",
       "    </tr>\n",
       "    <tr>\n",
       "      <th>4</th>\n",
       "      <td>SOMBCRC12A67ADA435</td>\n",
       "      <td>TRMMNVU128EF343EED</td>\n",
       "    </tr>\n",
       "  </tbody>\n",
       "</table>\n",
       "</div>"
      ],
      "text/plain": [
       "              song_id            track_id\n",
       "0  SOCMRBE12AB018C546  TRMMREB12903CEB1B1\n",
       "1  SOLPHZY12AC468ABA8  TRMMBOC12903CEB46E\n",
       "2  SONGHTM12A8C1374EF  TRMMITP128F425D8D0\n",
       "3  SONGXCA12A8C13E82E  TRMMAYZ128F429ECE6\n",
       "4  SOMBCRC12A67ADA435  TRMMNVU128EF343EED"
      ]
     },
     "execution_count": 8,
     "metadata": {},
     "output_type": "execute_result"
    }
   ],
   "source": [
    "sid_mismatches = pd.read_csv('sid_mismatches.csv', index_col=0)\n",
    "sid_mismatches.head()"
   ]
  },
  {
   "cell_type": "code",
   "execution_count": 9,
   "id": "b4bc0352",
   "metadata": {},
   "outputs": [
    {
     "data": {
      "text/plain": [
       "(19093, 2)"
      ]
     },
     "execution_count": 9,
     "metadata": {},
     "output_type": "execute_result"
    }
   ],
   "source": [
    "sid_mismatches.shape"
   ]
  },
  {
   "cell_type": "code",
   "execution_count": 10,
   "id": "0af11738",
   "metadata": {},
   "outputs": [
    {
     "data": {
      "text/plain": [
       "(980144, 5)"
      ]
     },
     "execution_count": 10,
     "metadata": {},
     "output_type": "execute_result"
    }
   ],
   "source": [
    "song_data = song_data[~song_data.song_id.isin(sid_mismatches.song_id)]\n",
    "song_data.shape"
   ]
  },
  {
   "attachments": {},
   "cell_type": "markdown",
   "id": "6209c820",
   "metadata": {},
   "source": [
    "### Датасет unique_tracks"
   ]
  },
  {
   "cell_type": "code",
   "execution_count": 11,
   "id": "b521d883",
   "metadata": {},
   "outputs": [
    {
     "data": {
      "text/html": [
       "<div>\n",
       "<style scoped>\n",
       "    .dataframe tbody tr th:only-of-type {\n",
       "        vertical-align: middle;\n",
       "    }\n",
       "\n",
       "    .dataframe tbody tr th {\n",
       "        vertical-align: top;\n",
       "    }\n",
       "\n",
       "    .dataframe thead th {\n",
       "        text-align: right;\n",
       "    }\n",
       "</style>\n",
       "<table border=\"1\" class=\"dataframe\">\n",
       "  <thead>\n",
       "    <tr style=\"text-align: right;\">\n",
       "      <th></th>\n",
       "      <th>track_id</th>\n",
       "      <th>song_id</th>\n",
       "      <th>artist_name</th>\n",
       "      <th>song_title</th>\n",
       "    </tr>\n",
       "  </thead>\n",
       "  <tbody>\n",
       "    <tr>\n",
       "      <th>0</th>\n",
       "      <td>TRMMMYQ128F932D901</td>\n",
       "      <td>SOQMMHC12AB0180CB8</td>\n",
       "      <td>Faster Pussy cat</td>\n",
       "      <td>Silent Night</td>\n",
       "    </tr>\n",
       "    <tr>\n",
       "      <th>1</th>\n",
       "      <td>TRMMMKD128F425225D</td>\n",
       "      <td>SOVFVAK12A8C1350D9</td>\n",
       "      <td>Karkkiautomaatti</td>\n",
       "      <td>Tanssi vaan</td>\n",
       "    </tr>\n",
       "    <tr>\n",
       "      <th>2</th>\n",
       "      <td>TRMMMRX128F93187D9</td>\n",
       "      <td>SOGTUKN12AB017F4F1</td>\n",
       "      <td>Hudson Mohawke</td>\n",
       "      <td>No One Could Ever</td>\n",
       "    </tr>\n",
       "    <tr>\n",
       "      <th>3</th>\n",
       "      <td>TRMMMCH128F425532C</td>\n",
       "      <td>SOBNYVR12A8C13558C</td>\n",
       "      <td>Yerba Brava</td>\n",
       "      <td>Si Vos Querés</td>\n",
       "    </tr>\n",
       "    <tr>\n",
       "      <th>4</th>\n",
       "      <td>TRMMMWA128F426B589</td>\n",
       "      <td>SOHSBXH12A8C13B0DF</td>\n",
       "      <td>Der Mystic</td>\n",
       "      <td>Tangle Of Aspens</td>\n",
       "    </tr>\n",
       "  </tbody>\n",
       "</table>\n",
       "</div>"
      ],
      "text/plain": [
       "             track_id             song_id       artist_name         song_title\n",
       "0  TRMMMYQ128F932D901  SOQMMHC12AB0180CB8  Faster Pussy cat       Silent Night\n",
       "1  TRMMMKD128F425225D  SOVFVAK12A8C1350D9  Karkkiautomaatti        Tanssi vaan\n",
       "2  TRMMMRX128F93187D9  SOGTUKN12AB017F4F1    Hudson Mohawke  No One Could Ever\n",
       "3  TRMMMCH128F425532C  SOBNYVR12A8C13558C       Yerba Brava      Si Vos Querés\n",
       "4  TRMMMWA128F426B589  SOHSBXH12A8C13B0DF        Der Mystic   Tangle Of Aspens"
      ]
     },
     "execution_count": 11,
     "metadata": {},
     "output_type": "execute_result"
    }
   ],
   "source": [
    "unique_tracks = pd.read_csv('unique_tracks.csv', index_col=0)\n",
    "unique_tracks.head()"
   ]
  },
  {
   "cell_type": "code",
   "execution_count": 12,
   "id": "4c3a1352",
   "metadata": {},
   "outputs": [
    {
     "data": {
      "text/plain": [
       "(1000000, 4)"
      ]
     },
     "execution_count": 12,
     "metadata": {},
     "output_type": "execute_result"
    }
   ],
   "source": [
    "unique_tracks.shape"
   ]
  },
  {
   "cell_type": "code",
   "execution_count": 13,
   "id": "0e15b329",
   "metadata": {},
   "outputs": [
    {
     "name": "stdout",
     "output_type": "stream",
     "text": [
      "Количество уникальных song_id: 999056\n",
      "Количество уникальных track_id: 1000000\n"
     ]
    }
   ],
   "source": [
    "print(f'Количество уникальных song_id: {unique_tracks.song_id.nunique()}')\n",
    "print(f'Количество уникальных track_id: {unique_tracks.track_id.nunique()}')"
   ]
  },
  {
   "cell_type": "code",
   "execution_count": 14,
   "id": "bc71b019",
   "metadata": {},
   "outputs": [
    {
     "data": {
      "text/plain": [
       "(999056, 4)"
      ]
     },
     "execution_count": 14,
     "metadata": {},
     "output_type": "execute_result"
    }
   ],
   "source": [
    "unique_tracks = unique_tracks.drop_duplicates(['song_id'])\n",
    "unique_tracks.shape"
   ]
  },
  {
   "attachments": {},
   "cell_type": "markdown",
   "id": "e3db7c4d",
   "metadata": {},
   "source": [
    "### Датасеты msd_beatunes_map, msd_lastfm_map, msd-MAGD-genreAssignment\n",
    "#### Добавляем жанры"
   ]
  },
  {
   "cell_type": "code",
   "execution_count": 15,
   "id": "170f76d1",
   "metadata": {},
   "outputs": [],
   "source": [
    "song_seed_genre = pd.read_csv('msd_beatunes_map.csv', index_col=0)\n",
    "song_seed_genre_1 = pd.read_csv('msd_lastfm_map.csv', index_col=0)\n",
    "song_genre = pd.read_csv('msd-MAGD-genreAssignment.csv', index_col=0)"
   ]
  },
  {
   "cell_type": "code",
   "execution_count": 16,
   "id": "2f1e6fa4",
   "metadata": {},
   "outputs": [
    {
     "data": {
      "text/html": [
       "<div>\n",
       "<style scoped>\n",
       "    .dataframe tbody tr th:only-of-type {\n",
       "        vertical-align: middle;\n",
       "    }\n",
       "\n",
       "    .dataframe tbody tr th {\n",
       "        vertical-align: top;\n",
       "    }\n",
       "\n",
       "    .dataframe thead th {\n",
       "        text-align: right;\n",
       "    }\n",
       "</style>\n",
       "<table border=\"1\" class=\"dataframe\">\n",
       "  <thead>\n",
       "    <tr style=\"text-align: right;\">\n",
       "      <th></th>\n",
       "      <th>track_id</th>\n",
       "      <th>genre</th>\n",
       "    </tr>\n",
       "  </thead>\n",
       "  <tbody>\n",
       "    <tr>\n",
       "      <th>0</th>\n",
       "      <td>TRAAAAK128F9318786</td>\n",
       "      <td>Pop_Rock</td>\n",
       "    </tr>\n",
       "    <tr>\n",
       "      <th>1</th>\n",
       "      <td>TRAAAAV128F421A322</td>\n",
       "      <td>Pop_Rock</td>\n",
       "    </tr>\n",
       "    <tr>\n",
       "      <th>2</th>\n",
       "      <td>TRAAAAW128F429D538</td>\n",
       "      <td>Rap</td>\n",
       "    </tr>\n",
       "    <tr>\n",
       "      <th>3</th>\n",
       "      <td>TRAAABD128F429CF47</td>\n",
       "      <td>Pop_Rock</td>\n",
       "    </tr>\n",
       "    <tr>\n",
       "      <th>4</th>\n",
       "      <td>TRAAACV128F423E09E</td>\n",
       "      <td>Pop_Rock</td>\n",
       "    </tr>\n",
       "  </tbody>\n",
       "</table>\n",
       "</div>"
      ],
      "text/plain": [
       "             track_id     genre\n",
       "0  TRAAAAK128F9318786  Pop_Rock\n",
       "1  TRAAAAV128F421A322  Pop_Rock\n",
       "2  TRAAAAW128F429D538       Rap\n",
       "3  TRAAABD128F429CF47  Pop_Rock\n",
       "4  TRAAACV128F423E09E  Pop_Rock"
      ]
     },
     "execution_count": 16,
     "metadata": {},
     "output_type": "execute_result"
    }
   ],
   "source": [
    "song_genre.head()"
   ]
  },
  {
   "cell_type": "code",
   "execution_count": 17,
   "id": "89338e98",
   "metadata": {},
   "outputs": [
    {
     "data": {
      "text/plain": [
       "(422714, 2)"
      ]
     },
     "execution_count": 17,
     "metadata": {},
     "output_type": "execute_result"
    }
   ],
   "source": [
    "song_genre.shape"
   ]
  },
  {
   "cell_type": "code",
   "execution_count": 18,
   "id": "bc66fdb6",
   "metadata": {},
   "outputs": [
    {
     "name": "stdout",
     "output_type": "stream",
     "text": [
      "Количество уникальных жанров 21\n"
     ]
    }
   ],
   "source": [
    "print(f'Количество уникальных жанров {song_genre.genre.nunique()}')"
   ]
  },
  {
   "cell_type": "code",
   "execution_count": 19,
   "id": "b8364bd4",
   "metadata": {
    "scrolled": false
   },
   "outputs": [
    {
     "data": {
      "text/html": [
       "<div>\n",
       "<style scoped>\n",
       "    .dataframe tbody tr th:only-of-type {\n",
       "        vertical-align: middle;\n",
       "    }\n",
       "\n",
       "    .dataframe tbody tr th {\n",
       "        vertical-align: top;\n",
       "    }\n",
       "\n",
       "    .dataframe thead th {\n",
       "        text-align: right;\n",
       "    }\n",
       "</style>\n",
       "<table border=\"1\" class=\"dataframe\">\n",
       "  <thead>\n",
       "    <tr style=\"text-align: right;\">\n",
       "      <th></th>\n",
       "      <th>track_id</th>\n",
       "      <th>seed_genre</th>\n",
       "    </tr>\n",
       "  </thead>\n",
       "  <tbody>\n",
       "    <tr>\n",
       "      <th>0</th>\n",
       "      <td>TRAAAAK128F9318786</td>\n",
       "      <td>Rock</td>\n",
       "    </tr>\n",
       "    <tr>\n",
       "      <th>1</th>\n",
       "      <td>TRAAAAV128F421A322</td>\n",
       "      <td>Rock</td>\n",
       "    </tr>\n",
       "    <tr>\n",
       "      <th>2</th>\n",
       "      <td>TRAAAAW128F429D538</td>\n",
       "      <td>Hip-Hop</td>\n",
       "    </tr>\n",
       "    <tr>\n",
       "      <th>3</th>\n",
       "      <td>TRAAAAY128F42A73F0</td>\n",
       "      <td>World</td>\n",
       "    </tr>\n",
       "    <tr>\n",
       "      <th>4</th>\n",
       "      <td>TRAAABD128F429CF47</td>\n",
       "      <td>Rock</td>\n",
       "    </tr>\n",
       "  </tbody>\n",
       "</table>\n",
       "</div>"
      ],
      "text/plain": [
       "             track_id seed_genre\n",
       "0  TRAAAAK128F9318786       Rock\n",
       "1  TRAAAAV128F421A322       Rock\n",
       "2  TRAAAAW128F429D538    Hip-Hop\n",
       "3  TRAAAAY128F42A73F0      World\n",
       "4  TRAAABD128F429CF47       Rock"
      ]
     },
     "execution_count": 19,
     "metadata": {},
     "output_type": "execute_result"
    }
   ],
   "source": [
    "song_seed_genre.head()"
   ]
  },
  {
   "cell_type": "code",
   "execution_count": 20,
   "id": "487b1dab",
   "metadata": {},
   "outputs": [
    {
     "data": {
      "text/plain": [
       "(677038, 2)"
      ]
     },
     "execution_count": 20,
     "metadata": {},
     "output_type": "execute_result"
    }
   ],
   "source": [
    "song_seed_genre.shape"
   ]
  },
  {
   "cell_type": "code",
   "execution_count": 21,
   "id": "c641c8d4",
   "metadata": {
    "scrolled": true
   },
   "outputs": [
    {
     "name": "stdout",
     "output_type": "stream",
     "text": [
      "Количество уникальных поджанров 6151\n"
     ]
    }
   ],
   "source": [
    "print(f'Количество уникальных поджанров {song_seed_genre.seed_genre.nunique()}')"
   ]
  },
  {
   "cell_type": "code",
   "execution_count": 22,
   "id": "ff7dc57c",
   "metadata": {},
   "outputs": [
    {
     "data": {
      "text/html": [
       "<div>\n",
       "<style scoped>\n",
       "    .dataframe tbody tr th:only-of-type {\n",
       "        vertical-align: middle;\n",
       "    }\n",
       "\n",
       "    .dataframe tbody tr th {\n",
       "        vertical-align: top;\n",
       "    }\n",
       "\n",
       "    .dataframe thead th {\n",
       "        text-align: right;\n",
       "    }\n",
       "</style>\n",
       "<table border=\"1\" class=\"dataframe\">\n",
       "  <thead>\n",
       "    <tr style=\"text-align: right;\">\n",
       "      <th></th>\n",
       "      <th>track_id</th>\n",
       "      <th>seed_genre</th>\n",
       "    </tr>\n",
       "  </thead>\n",
       "  <tbody>\n",
       "    <tr>\n",
       "      <th>0</th>\n",
       "      <td>TRAAAAK128F9318786</td>\n",
       "      <td>rock</td>\n",
       "    </tr>\n",
       "    <tr>\n",
       "      <th>1</th>\n",
       "      <td>TRAAAAW128F429D538</td>\n",
       "      <td>bayarea</td>\n",
       "    </tr>\n",
       "    <tr>\n",
       "      <th>2</th>\n",
       "      <td>TRAAABD128F429CF47</td>\n",
       "      <td>oldies</td>\n",
       "    </tr>\n",
       "    <tr>\n",
       "      <th>3</th>\n",
       "      <td>TRAAADJ128F4287B47</td>\n",
       "      <td>rock</td>\n",
       "    </tr>\n",
       "    <tr>\n",
       "      <th>4</th>\n",
       "      <td>TRAAADZ128F9348C2E</td>\n",
       "      <td>latin</td>\n",
       "    </tr>\n",
       "  </tbody>\n",
       "</table>\n",
       "</div>"
      ],
      "text/plain": [
       "             track_id seed_genre\n",
       "0  TRAAAAK128F9318786       rock\n",
       "1  TRAAAAW128F429D538    bayarea\n",
       "2  TRAAABD128F429CF47     oldies\n",
       "3  TRAAADJ128F4287B47       rock\n",
       "4  TRAAADZ128F9348C2E      latin"
      ]
     },
     "execution_count": 22,
     "metadata": {},
     "output_type": "execute_result"
    }
   ],
   "source": [
    "song_seed_genre_1.head()"
   ]
  },
  {
   "cell_type": "code",
   "execution_count": 23,
   "id": "add7fa27",
   "metadata": {},
   "outputs": [
    {
     "data": {
      "text/plain": [
       "(505216, 2)"
      ]
     },
     "execution_count": 23,
     "metadata": {},
     "output_type": "execute_result"
    }
   ],
   "source": [
    "song_seed_genre_1.shape"
   ]
  },
  {
   "cell_type": "code",
   "execution_count": 24,
   "id": "435a6df1",
   "metadata": {},
   "outputs": [
    {
     "name": "stdout",
     "output_type": "stream",
     "text": [
      "Количество уникальных поджанров 35048\n"
     ]
    }
   ],
   "source": [
    "print(f'Количество уникальных поджанров {song_seed_genre_1.seed_genre.nunique()}')"
   ]
  },
  {
   "attachments": {},
   "cell_type": "markdown",
   "id": "c34a6888",
   "metadata": {},
   "source": [
    "Объединими датасеты по жанрам в один."
   ]
  },
  {
   "cell_type": "code",
   "execution_count": 25,
   "id": "ac892826",
   "metadata": {},
   "outputs": [
    {
     "data": {
      "text/html": [
       "<div>\n",
       "<style scoped>\n",
       "    .dataframe tbody tr th:only-of-type {\n",
       "        vertical-align: middle;\n",
       "    }\n",
       "\n",
       "    .dataframe tbody tr th {\n",
       "        vertical-align: top;\n",
       "    }\n",
       "\n",
       "    .dataframe thead th {\n",
       "        text-align: right;\n",
       "    }\n",
       "</style>\n",
       "<table border=\"1\" class=\"dataframe\">\n",
       "  <thead>\n",
       "    <tr style=\"text-align: right;\">\n",
       "      <th></th>\n",
       "      <th>track_id</th>\n",
       "      <th>seed_genre_x</th>\n",
       "      <th>genre</th>\n",
       "      <th>seed_genre_y</th>\n",
       "    </tr>\n",
       "  </thead>\n",
       "  <tbody>\n",
       "    <tr>\n",
       "      <th>0</th>\n",
       "      <td>TRAAAAK128F9318786</td>\n",
       "      <td>Rock</td>\n",
       "      <td>Pop_Rock</td>\n",
       "      <td>rock</td>\n",
       "    </tr>\n",
       "    <tr>\n",
       "      <th>1</th>\n",
       "      <td>TRAAAAV128F421A322</td>\n",
       "      <td>Rock</td>\n",
       "      <td>Pop_Rock</td>\n",
       "      <td>NaN</td>\n",
       "    </tr>\n",
       "    <tr>\n",
       "      <th>2</th>\n",
       "      <td>TRAAAAW128F429D538</td>\n",
       "      <td>Hip-Hop</td>\n",
       "      <td>Rap</td>\n",
       "      <td>bayarea</td>\n",
       "    </tr>\n",
       "    <tr>\n",
       "      <th>3</th>\n",
       "      <td>TRAAAAY128F42A73F0</td>\n",
       "      <td>World</td>\n",
       "      <td>NaN</td>\n",
       "      <td>NaN</td>\n",
       "    </tr>\n",
       "    <tr>\n",
       "      <th>4</th>\n",
       "      <td>TRAAABD128F429CF47</td>\n",
       "      <td>Rock</td>\n",
       "      <td>Pop_Rock</td>\n",
       "      <td>oldies</td>\n",
       "    </tr>\n",
       "  </tbody>\n",
       "</table>\n",
       "</div>"
      ],
      "text/plain": [
       "             track_id seed_genre_x     genre seed_genre_y\n",
       "0  TRAAAAK128F9318786         Rock  Pop_Rock         rock\n",
       "1  TRAAAAV128F421A322         Rock  Pop_Rock          NaN\n",
       "2  TRAAAAW128F429D538      Hip-Hop       Rap      bayarea\n",
       "3  TRAAAAY128F42A73F0        World       NaN          NaN\n",
       "4  TRAAABD128F429CF47         Rock  Pop_Rock       oldies"
      ]
     },
     "execution_count": 25,
     "metadata": {},
     "output_type": "execute_result"
    }
   ],
   "source": [
    "tracks_genre = pd.merge(song_seed_genre, song_genre, on='track_id', how='outer')\n",
    "tracks_genre = pd.merge(tracks_genre, song_seed_genre_1, on='track_id', how='outer')\n",
    "tracks_genre.head()"
   ]
  },
  {
   "cell_type": "code",
   "execution_count": 26,
   "id": "d93ff8f6",
   "metadata": {},
   "outputs": [
    {
     "data": {
      "text/plain": [
       "(826468, 4)"
      ]
     },
     "execution_count": 26,
     "metadata": {},
     "output_type": "execute_result"
    }
   ],
   "source": [
    "tracks_genre.shape"
   ]
  },
  {
   "cell_type": "code",
   "execution_count": 27,
   "id": "54fd47f5",
   "metadata": {
    "scrolled": true
   },
   "outputs": [
    {
     "data": {
      "text/html": [
       "<div>\n",
       "<style scoped>\n",
       "    .dataframe tbody tr th:only-of-type {\n",
       "        vertical-align: middle;\n",
       "    }\n",
       "\n",
       "    .dataframe tbody tr th {\n",
       "        vertical-align: top;\n",
       "    }\n",
       "\n",
       "    .dataframe thead th {\n",
       "        text-align: right;\n",
       "    }\n",
       "</style>\n",
       "<table border=\"1\" class=\"dataframe\">\n",
       "  <thead>\n",
       "    <tr style=\"text-align: right;\">\n",
       "      <th></th>\n",
       "      <th>track_id</th>\n",
       "      <th>seed_genre_x</th>\n",
       "      <th>genre</th>\n",
       "      <th>seed_genre_y</th>\n",
       "    </tr>\n",
       "  </thead>\n",
       "  <tbody>\n",
       "    <tr>\n",
       "      <th>0</th>\n",
       "      <td>TRAAAAK128F9318786</td>\n",
       "      <td>Rock</td>\n",
       "      <td>Pop_Rock</td>\n",
       "      <td>rock</td>\n",
       "    </tr>\n",
       "    <tr>\n",
       "      <th>1</th>\n",
       "      <td>TRAAAAV128F421A322</td>\n",
       "      <td>Rock</td>\n",
       "      <td>Pop_Rock</td>\n",
       "      <td>NaN</td>\n",
       "    </tr>\n",
       "    <tr>\n",
       "      <th>2</th>\n",
       "      <td>TRAAAAW128F429D538</td>\n",
       "      <td>Hip-Hop</td>\n",
       "      <td>Rap</td>\n",
       "      <td>bayarea</td>\n",
       "    </tr>\n",
       "    <tr>\n",
       "      <th>3</th>\n",
       "      <td>TRAAAAY128F42A73F0</td>\n",
       "      <td>World</td>\n",
       "      <td>NaN</td>\n",
       "      <td>NaN</td>\n",
       "    </tr>\n",
       "    <tr>\n",
       "      <th>4</th>\n",
       "      <td>TRAAABD128F429CF47</td>\n",
       "      <td>Rock</td>\n",
       "      <td>Pop_Rock</td>\n",
       "      <td>oldies</td>\n",
       "    </tr>\n",
       "  </tbody>\n",
       "</table>\n",
       "</div>"
      ],
      "text/plain": [
       "             track_id seed_genre_x     genre seed_genre_y\n",
       "0  TRAAAAK128F9318786         Rock  Pop_Rock         rock\n",
       "1  TRAAAAV128F421A322         Rock  Pop_Rock          NaN\n",
       "2  TRAAAAW128F429D538      Hip-Hop       Rap      bayarea\n",
       "3  TRAAAAY128F42A73F0        World       NaN          NaN\n",
       "4  TRAAABD128F429CF47         Rock  Pop_Rock       oldies"
      ]
     },
     "execution_count": 27,
     "metadata": {},
     "output_type": "execute_result"
    }
   ],
   "source": [
    "tracks_genre.loc[(tracks_genre.seed_genre_x.isnull()), \"seed_genre_x\"] = tracks_genre[\n",
    "    \"genre\"\n",
    "]\n",
    "tracks_genre.loc[(tracks_genre.seed_genre_x.isnull()), \"seed_genre_x\"] = tracks_genre[\n",
    "    \"seed_genre_y\"\n",
    "]\n",
    "tracks_genre.head()\n"
   ]
  },
  {
   "cell_type": "code",
   "execution_count": 28,
   "id": "341d3157",
   "metadata": {},
   "outputs": [
    {
     "data": {
      "text/html": [
       "<div>\n",
       "<style scoped>\n",
       "    .dataframe tbody tr th:only-of-type {\n",
       "        vertical-align: middle;\n",
       "    }\n",
       "\n",
       "    .dataframe tbody tr th {\n",
       "        vertical-align: top;\n",
       "    }\n",
       "\n",
       "    .dataframe thead th {\n",
       "        text-align: right;\n",
       "    }\n",
       "</style>\n",
       "<table border=\"1\" class=\"dataframe\">\n",
       "  <thead>\n",
       "    <tr style=\"text-align: right;\">\n",
       "      <th></th>\n",
       "      <th>track_id</th>\n",
       "      <th>genre</th>\n",
       "    </tr>\n",
       "  </thead>\n",
       "  <tbody>\n",
       "    <tr>\n",
       "      <th>0</th>\n",
       "      <td>TRAAAAK128F9318786</td>\n",
       "      <td>Rock</td>\n",
       "    </tr>\n",
       "    <tr>\n",
       "      <th>1</th>\n",
       "      <td>TRAAAAV128F421A322</td>\n",
       "      <td>Rock</td>\n",
       "    </tr>\n",
       "    <tr>\n",
       "      <th>2</th>\n",
       "      <td>TRAAAAW128F429D538</td>\n",
       "      <td>Hip-Hop</td>\n",
       "    </tr>\n",
       "    <tr>\n",
       "      <th>3</th>\n",
       "      <td>TRAAAAY128F42A73F0</td>\n",
       "      <td>World</td>\n",
       "    </tr>\n",
       "    <tr>\n",
       "      <th>4</th>\n",
       "      <td>TRAAABD128F429CF47</td>\n",
       "      <td>Rock</td>\n",
       "    </tr>\n",
       "  </tbody>\n",
       "</table>\n",
       "</div>"
      ],
      "text/plain": [
       "             track_id    genre\n",
       "0  TRAAAAK128F9318786     Rock\n",
       "1  TRAAAAV128F421A322     Rock\n",
       "2  TRAAAAW128F429D538  Hip-Hop\n",
       "3  TRAAAAY128F42A73F0    World\n",
       "4  TRAAABD128F429CF47     Rock"
      ]
     },
     "execution_count": 28,
     "metadata": {},
     "output_type": "execute_result"
    }
   ],
   "source": [
    "tracks_genre = tracks_genre.drop([\"genre\", \"seed_genre_y\"], axis=1).rename(\n",
    "    columns={\"seed_genre_x\": \"genre\"}\n",
    ")\n",
    "\n",
    "tracks_genre.head()\n"
   ]
  },
  {
   "attachments": {},
   "cell_type": "markdown",
   "id": "6e143b93",
   "metadata": {},
   "source": [
    "Добавим к уникальным трекам их жанры."
   ]
  },
  {
   "cell_type": "code",
   "execution_count": 29,
   "id": "81b570c8",
   "metadata": {},
   "outputs": [
    {
     "data": {
      "text/html": [
       "<div>\n",
       "<style scoped>\n",
       "    .dataframe tbody tr th:only-of-type {\n",
       "        vertical-align: middle;\n",
       "    }\n",
       "\n",
       "    .dataframe tbody tr th {\n",
       "        vertical-align: top;\n",
       "    }\n",
       "\n",
       "    .dataframe thead th {\n",
       "        text-align: right;\n",
       "    }\n",
       "</style>\n",
       "<table border=\"1\" class=\"dataframe\">\n",
       "  <thead>\n",
       "    <tr style=\"text-align: right;\">\n",
       "      <th></th>\n",
       "      <th>track_id</th>\n",
       "      <th>song_id</th>\n",
       "      <th>artist_name</th>\n",
       "      <th>song_title</th>\n",
       "      <th>genre</th>\n",
       "    </tr>\n",
       "  </thead>\n",
       "  <tbody>\n",
       "    <tr>\n",
       "      <th>0</th>\n",
       "      <td>TRMMMYQ128F932D901</td>\n",
       "      <td>SOQMMHC12AB0180CB8</td>\n",
       "      <td>Faster Pussy cat</td>\n",
       "      <td>Silent Night</td>\n",
       "      <td>christmas</td>\n",
       "    </tr>\n",
       "    <tr>\n",
       "      <th>1</th>\n",
       "      <td>TRMMMKD128F425225D</td>\n",
       "      <td>SOVFVAK12A8C1350D9</td>\n",
       "      <td>Karkkiautomaatti</td>\n",
       "      <td>Tanssi vaan</td>\n",
       "      <td>Pop</td>\n",
       "    </tr>\n",
       "    <tr>\n",
       "      <th>2</th>\n",
       "      <td>TRMMMRX128F93187D9</td>\n",
       "      <td>SOGTUKN12AB017F4F1</td>\n",
       "      <td>Hudson Mohawke</td>\n",
       "      <td>No One Could Ever</td>\n",
       "      <td>Electronica/Dance</td>\n",
       "    </tr>\n",
       "    <tr>\n",
       "      <th>3</th>\n",
       "      <td>TRMMMCH128F425532C</td>\n",
       "      <td>SOBNYVR12A8C13558C</td>\n",
       "      <td>Yerba Brava</td>\n",
       "      <td>Si Vos Querés</td>\n",
       "      <td>International</td>\n",
       "    </tr>\n",
       "    <tr>\n",
       "      <th>4</th>\n",
       "      <td>TRMMMWA128F426B589</td>\n",
       "      <td>SOHSBXH12A8C13B0DF</td>\n",
       "      <td>Der Mystic</td>\n",
       "      <td>Tangle Of Aspens</td>\n",
       "      <td>NaN</td>\n",
       "    </tr>\n",
       "  </tbody>\n",
       "</table>\n",
       "</div>"
      ],
      "text/plain": [
       "             track_id             song_id       artist_name  \\\n",
       "0  TRMMMYQ128F932D901  SOQMMHC12AB0180CB8  Faster Pussy cat   \n",
       "1  TRMMMKD128F425225D  SOVFVAK12A8C1350D9  Karkkiautomaatti   \n",
       "2  TRMMMRX128F93187D9  SOGTUKN12AB017F4F1    Hudson Mohawke   \n",
       "3  TRMMMCH128F425532C  SOBNYVR12A8C13558C       Yerba Brava   \n",
       "4  TRMMMWA128F426B589  SOHSBXH12A8C13B0DF        Der Mystic   \n",
       "\n",
       "          song_title              genre  \n",
       "0       Silent Night          christmas  \n",
       "1        Tanssi vaan                Pop  \n",
       "2  No One Could Ever  Electronica/Dance  \n",
       "3      Si Vos Querés      International  \n",
       "4   Tangle Of Aspens                NaN  "
      ]
     },
     "execution_count": 29,
     "metadata": {},
     "output_type": "execute_result"
    }
   ],
   "source": [
    "unique_tracks_gnr = pd.merge(unique_tracks, tracks_genre, on='track_id', how='outer')\n",
    "unique_tracks_gnr.head()"
   ]
  },
  {
   "cell_type": "code",
   "execution_count": 30,
   "id": "b35d2b51",
   "metadata": {
    "scrolled": true
   },
   "outputs": [
    {
     "data": {
      "text/plain": [
       "(999984, 5)"
      ]
     },
     "execution_count": 30,
     "metadata": {},
     "output_type": "execute_result"
    }
   ],
   "source": [
    "unique_tracks_gnr.shape"
   ]
  },
  {
   "attachments": {},
   "cell_type": "markdown",
   "id": "b3991136",
   "metadata": {},
   "source": [
    "### Датасет artist_location"
   ]
  },
  {
   "cell_type": "code",
   "execution_count": 31,
   "id": "49feb8db",
   "metadata": {},
   "outputs": [
    {
     "data": {
      "text/html": [
       "<div>\n",
       "<style scoped>\n",
       "    .dataframe tbody tr th:only-of-type {\n",
       "        vertical-align: middle;\n",
       "    }\n",
       "\n",
       "    .dataframe tbody tr th {\n",
       "        vertical-align: top;\n",
       "    }\n",
       "\n",
       "    .dataframe thead th {\n",
       "        text-align: right;\n",
       "    }\n",
       "</style>\n",
       "<table border=\"1\" class=\"dataframe\">\n",
       "  <thead>\n",
       "    <tr style=\"text-align: right;\">\n",
       "      <th></th>\n",
       "      <th>artist_name</th>\n",
       "      <th>artist_location</th>\n",
       "      <th>artist_country</th>\n",
       "      <th>artist_city</th>\n",
       "    </tr>\n",
       "  </thead>\n",
       "  <tbody>\n",
       "    <tr>\n",
       "      <th>0</th>\n",
       "      <td>Faster Pussycat</td>\n",
       "      <td>Los Angeles, Los Angeles County, California, U...</td>\n",
       "      <td>United States</td>\n",
       "      <td>Los Angeles</td>\n",
       "    </tr>\n",
       "    <tr>\n",
       "      <th>1</th>\n",
       "      <td>Hudson Mohawke</td>\n",
       "      <td>Glasgow, Scotland, United Kingdom</td>\n",
       "      <td>United Kingdom</td>\n",
       "      <td>Glasgow</td>\n",
       "    </tr>\n",
       "    <tr>\n",
       "      <th>2</th>\n",
       "      <td>Kris Kross</td>\n",
       "      <td>Atlanta, Fulton County, Georgia, United States</td>\n",
       "      <td>United States</td>\n",
       "      <td>Atlanta</td>\n",
       "    </tr>\n",
       "    <tr>\n",
       "      <th>3</th>\n",
       "      <td>Joseph Locke</td>\n",
       "      <td>Derry, County Londonderry, Northern Ireland, U...</td>\n",
       "      <td>United Kingdom</td>\n",
       "      <td>Derry</td>\n",
       "    </tr>\n",
       "    <tr>\n",
       "      <th>4</th>\n",
       "      <td>3 gars su'l sofa</td>\n",
       "      <td>Saguenay, Saguenay–Lac-Saint-Jean, Quebec, Canada</td>\n",
       "      <td>Canada</td>\n",
       "      <td>Saguenay</td>\n",
       "    </tr>\n",
       "  </tbody>\n",
       "</table>\n",
       "</div>"
      ],
      "text/plain": [
       "        artist_name                                    artist_location  \\\n",
       "0   Faster Pussycat  Los Angeles, Los Angeles County, California, U...   \n",
       "1    Hudson Mohawke                  Glasgow, Scotland, United Kingdom   \n",
       "2        Kris Kross     Atlanta, Fulton County, Georgia, United States   \n",
       "3      Joseph Locke  Derry, County Londonderry, Northern Ireland, U...   \n",
       "4  3 gars su'l sofa  Saguenay, Saguenay–Lac-Saint-Jean, Quebec, Canada   \n",
       "\n",
       "   artist_country  artist_city  \n",
       "0   United States  Los Angeles  \n",
       "1  United Kingdom      Glasgow  \n",
       "2   United States      Atlanta  \n",
       "3  United Kingdom        Derry  \n",
       "4          Canada     Saguenay  "
      ]
     },
     "execution_count": 31,
     "metadata": {},
     "output_type": "execute_result"
    }
   ],
   "source": [
    "artist_location = pd.read_csv('artist_location_with_countries.csv')\n",
    "artist_location.head()"
   ]
  },
  {
   "cell_type": "code",
   "execution_count": 32,
   "id": "6e4f20d6",
   "metadata": {},
   "outputs": [
    {
     "data": {
      "text/plain": [
       "(18977, 4)"
      ]
     },
     "execution_count": 32,
     "metadata": {},
     "output_type": "execute_result"
    }
   ],
   "source": [
    "artist_location.shape"
   ]
  },
  {
   "attachments": {},
   "cell_type": "markdown",
   "id": "9c4fa214",
   "metadata": {},
   "source": [
    "### Объединение song_data, unique_tracks и artist_location"
   ]
  },
  {
   "cell_type": "code",
   "execution_count": 33,
   "id": "177af4ef",
   "metadata": {},
   "outputs": [
    {
     "data": {
      "text/html": [
       "<div>\n",
       "<style scoped>\n",
       "    .dataframe tbody tr th:only-of-type {\n",
       "        vertical-align: middle;\n",
       "    }\n",
       "\n",
       "    .dataframe tbody tr th {\n",
       "        vertical-align: top;\n",
       "    }\n",
       "\n",
       "    .dataframe thead th {\n",
       "        text-align: right;\n",
       "    }\n",
       "</style>\n",
       "<table border=\"1\" class=\"dataframe\">\n",
       "  <thead>\n",
       "    <tr style=\"text-align: right;\">\n",
       "      <th></th>\n",
       "      <th>song_id</th>\n",
       "      <th>title</th>\n",
       "      <th>release</th>\n",
       "      <th>artist_name</th>\n",
       "      <th>year</th>\n",
       "      <th>track_id</th>\n",
       "      <th>genre</th>\n",
       "      <th>artist_country</th>\n",
       "      <th>artist_city</th>\n",
       "    </tr>\n",
       "  </thead>\n",
       "  <tbody>\n",
       "    <tr>\n",
       "      <th>0</th>\n",
       "      <td>SOQMMHC12AB0180CB8</td>\n",
       "      <td>Silent Night</td>\n",
       "      <td>Monster Ballads X-Mas</td>\n",
       "      <td>Faster Pussy cat</td>\n",
       "      <td>2003</td>\n",
       "      <td>TRMMMYQ128F932D901</td>\n",
       "      <td>christmas</td>\n",
       "      <td>NaN</td>\n",
       "      <td>NaN</td>\n",
       "    </tr>\n",
       "    <tr>\n",
       "      <th>1</th>\n",
       "      <td>SOVFVAK12A8C1350D9</td>\n",
       "      <td>Tanssi vaan</td>\n",
       "      <td>Karkuteillä</td>\n",
       "      <td>Karkkiautomaatti</td>\n",
       "      <td>1995</td>\n",
       "      <td>TRMMMKD128F425225D</td>\n",
       "      <td>Pop</td>\n",
       "      <td>NaN</td>\n",
       "      <td>NaN</td>\n",
       "    </tr>\n",
       "    <tr>\n",
       "      <th>2</th>\n",
       "      <td>SOGTUKN12AB017F4F1</td>\n",
       "      <td>No One Could Ever</td>\n",
       "      <td>Butter</td>\n",
       "      <td>Hudson Mohawke</td>\n",
       "      <td>2006</td>\n",
       "      <td>TRMMMRX128F93187D9</td>\n",
       "      <td>Electronica/Dance</td>\n",
       "      <td>United Kingdom</td>\n",
       "      <td>Glasgow</td>\n",
       "    </tr>\n",
       "    <tr>\n",
       "      <th>3</th>\n",
       "      <td>SOBNYVR12A8C13558C</td>\n",
       "      <td>Si Vos Querés</td>\n",
       "      <td>De Culo</td>\n",
       "      <td>Yerba Brava</td>\n",
       "      <td>2003</td>\n",
       "      <td>TRMMMCH128F425532C</td>\n",
       "      <td>International</td>\n",
       "      <td>NaN</td>\n",
       "      <td>NaN</td>\n",
       "    </tr>\n",
       "    <tr>\n",
       "      <th>4</th>\n",
       "      <td>SOHSBXH12A8C13B0DF</td>\n",
       "      <td>Tangle Of Aspens</td>\n",
       "      <td>Rene Ablaze Presents Winter Sessions</td>\n",
       "      <td>Der Mystic</td>\n",
       "      <td>0</td>\n",
       "      <td>TRMMMWA128F426B589</td>\n",
       "      <td>NaN</td>\n",
       "      <td>NaN</td>\n",
       "      <td>NaN</td>\n",
       "    </tr>\n",
       "  </tbody>\n",
       "</table>\n",
       "</div>"
      ],
      "text/plain": [
       "              song_id              title  \\\n",
       "0  SOQMMHC12AB0180CB8       Silent Night   \n",
       "1  SOVFVAK12A8C1350D9        Tanssi vaan   \n",
       "2  SOGTUKN12AB017F4F1  No One Could Ever   \n",
       "3  SOBNYVR12A8C13558C      Si Vos Querés   \n",
       "4  SOHSBXH12A8C13B0DF   Tangle Of Aspens   \n",
       "\n",
       "                                release       artist_name  year  \\\n",
       "0                 Monster Ballads X-Mas  Faster Pussy cat  2003   \n",
       "1                           Karkuteillä  Karkkiautomaatti  1995   \n",
       "2                                Butter    Hudson Mohawke  2006   \n",
       "3                               De Culo       Yerba Brava  2003   \n",
       "4  Rene Ablaze Presents Winter Sessions        Der Mystic     0   \n",
       "\n",
       "             track_id              genre  artist_country artist_city  \n",
       "0  TRMMMYQ128F932D901          christmas             NaN         NaN  \n",
       "1  TRMMMKD128F425225D                Pop             NaN         NaN  \n",
       "2  TRMMMRX128F93187D9  Electronica/Dance  United Kingdom     Glasgow  \n",
       "3  TRMMMCH128F425532C      International             NaN         NaN  \n",
       "4  TRMMMWA128F426B589                NaN             NaN         NaN  "
      ]
     },
     "execution_count": 33,
     "metadata": {},
     "output_type": "execute_result"
    }
   ],
   "source": [
    "song_df = pd.merge(\n",
    "    song_data,\n",
    "    unique_tracks_gnr.drop([\"artist_name\", \"song_title\"], axis=1),\n",
    "    on=\"song_id\",\n",
    "    how=\"inner\",\n",
    ")\n",
    "song_df = pd.merge(\n",
    "    song_df,\n",
    "    artist_location[[\"artist_name\", \"artist_country\", \"artist_city\"]],\n",
    "    on=\"artist_name\",\n",
    "    how=\"left\",\n",
    ")\n",
    "song_df.head()\n"
   ]
  },
  {
   "cell_type": "code",
   "execution_count": 34,
   "id": "0a1ad599",
   "metadata": {
    "scrolled": true
   },
   "outputs": [
    {
     "data": {
      "text/plain": [
       "(980144, 9)"
      ]
     },
     "execution_count": 34,
     "metadata": {},
     "output_type": "execute_result"
    }
   ],
   "source": [
    "song_df.shape"
   ]
  },
  {
   "attachments": {},
   "cell_type": "markdown",
   "id": "54d097bf",
   "metadata": {},
   "source": [
    "# Предобработка данных\n",
    "## Заполнение пропусков\n",
    "### Датасет song_df"
   ]
  },
  {
   "attachments": {},
   "cell_type": "markdown",
   "id": "f9b7b9d4",
   "metadata": {},
   "source": [
    "Для пустых значений жанров заполним пропуски значениями 'No genre'."
   ]
  },
  {
   "cell_type": "code",
   "execution_count": 35,
   "id": "e800170a",
   "metadata": {},
   "outputs": [
    {
     "data": {
      "text/html": [
       "<div>\n",
       "<style scoped>\n",
       "    .dataframe tbody tr th:only-of-type {\n",
       "        vertical-align: middle;\n",
       "    }\n",
       "\n",
       "    .dataframe tbody tr th {\n",
       "        vertical-align: top;\n",
       "    }\n",
       "\n",
       "    .dataframe thead th {\n",
       "        text-align: right;\n",
       "    }\n",
       "</style>\n",
       "<table border=\"1\" class=\"dataframe\">\n",
       "  <thead>\n",
       "    <tr style=\"text-align: right;\">\n",
       "      <th></th>\n",
       "      <th>song_id</th>\n",
       "      <th>title</th>\n",
       "      <th>release</th>\n",
       "      <th>artist_name</th>\n",
       "      <th>year</th>\n",
       "      <th>track_id</th>\n",
       "      <th>genre</th>\n",
       "      <th>artist_country</th>\n",
       "      <th>artist_city</th>\n",
       "    </tr>\n",
       "  </thead>\n",
       "  <tbody>\n",
       "    <tr>\n",
       "      <th>0</th>\n",
       "      <td>SOQMMHC12AB0180CB8</td>\n",
       "      <td>Silent Night</td>\n",
       "      <td>Monster Ballads X-Mas</td>\n",
       "      <td>Faster Pussy cat</td>\n",
       "      <td>2003</td>\n",
       "      <td>TRMMMYQ128F932D901</td>\n",
       "      <td>christmas</td>\n",
       "      <td>NaN</td>\n",
       "      <td>NaN</td>\n",
       "    </tr>\n",
       "    <tr>\n",
       "      <th>1</th>\n",
       "      <td>SOVFVAK12A8C1350D9</td>\n",
       "      <td>Tanssi vaan</td>\n",
       "      <td>Karkuteillä</td>\n",
       "      <td>Karkkiautomaatti</td>\n",
       "      <td>1995</td>\n",
       "      <td>TRMMMKD128F425225D</td>\n",
       "      <td>Pop</td>\n",
       "      <td>NaN</td>\n",
       "      <td>NaN</td>\n",
       "    </tr>\n",
       "    <tr>\n",
       "      <th>2</th>\n",
       "      <td>SOGTUKN12AB017F4F1</td>\n",
       "      <td>No One Could Ever</td>\n",
       "      <td>Butter</td>\n",
       "      <td>Hudson Mohawke</td>\n",
       "      <td>2006</td>\n",
       "      <td>TRMMMRX128F93187D9</td>\n",
       "      <td>Electronica/Dance</td>\n",
       "      <td>United Kingdom</td>\n",
       "      <td>Glasgow</td>\n",
       "    </tr>\n",
       "    <tr>\n",
       "      <th>3</th>\n",
       "      <td>SOBNYVR12A8C13558C</td>\n",
       "      <td>Si Vos Querés</td>\n",
       "      <td>De Culo</td>\n",
       "      <td>Yerba Brava</td>\n",
       "      <td>2003</td>\n",
       "      <td>TRMMMCH128F425532C</td>\n",
       "      <td>International</td>\n",
       "      <td>NaN</td>\n",
       "      <td>NaN</td>\n",
       "    </tr>\n",
       "    <tr>\n",
       "      <th>4</th>\n",
       "      <td>SOHSBXH12A8C13B0DF</td>\n",
       "      <td>Tangle Of Aspens</td>\n",
       "      <td>Rene Ablaze Presents Winter Sessions</td>\n",
       "      <td>Der Mystic</td>\n",
       "      <td>0</td>\n",
       "      <td>TRMMMWA128F426B589</td>\n",
       "      <td>no_genre</td>\n",
       "      <td>NaN</td>\n",
       "      <td>NaN</td>\n",
       "    </tr>\n",
       "  </tbody>\n",
       "</table>\n",
       "</div>"
      ],
      "text/plain": [
       "              song_id              title  \\\n",
       "0  SOQMMHC12AB0180CB8       Silent Night   \n",
       "1  SOVFVAK12A8C1350D9        Tanssi vaan   \n",
       "2  SOGTUKN12AB017F4F1  No One Could Ever   \n",
       "3  SOBNYVR12A8C13558C      Si Vos Querés   \n",
       "4  SOHSBXH12A8C13B0DF   Tangle Of Aspens   \n",
       "\n",
       "                                release       artist_name  year  \\\n",
       "0                 Monster Ballads X-Mas  Faster Pussy cat  2003   \n",
       "1                           Karkuteillä  Karkkiautomaatti  1995   \n",
       "2                                Butter    Hudson Mohawke  2006   \n",
       "3                               De Culo       Yerba Brava  2003   \n",
       "4  Rene Ablaze Presents Winter Sessions        Der Mystic     0   \n",
       "\n",
       "             track_id              genre  artist_country artist_city  \n",
       "0  TRMMMYQ128F932D901          christmas             NaN         NaN  \n",
       "1  TRMMMKD128F425225D                Pop             NaN         NaN  \n",
       "2  TRMMMRX128F93187D9  Electronica/Dance  United Kingdom     Glasgow  \n",
       "3  TRMMMCH128F425532C      International             NaN         NaN  \n",
       "4  TRMMMWA128F426B589           no_genre             NaN         NaN  "
      ]
     },
     "execution_count": 35,
     "metadata": {},
     "output_type": "execute_result"
    }
   ],
   "source": [
    "song_df.genre = song_df['genre'].fillna('no_genre')\n",
    "song_df.head()"
   ]
  },
  {
   "cell_type": "code",
   "execution_count": 36,
   "id": "e686258f",
   "metadata": {},
   "outputs": [
    {
     "data": {
      "text/plain": [
       "(170647, 9)"
      ]
     },
     "execution_count": 36,
     "metadata": {},
     "output_type": "execute_result"
    }
   ],
   "source": [
    "song_df[(song_df.genre == 'no_genre')].shape"
   ]
  },
  {
   "attachments": {},
   "cell_type": "markdown",
   "id": "62aaa951",
   "metadata": {},
   "source": [
    "170647 трека не имеют жанра.\n",
    "  \n",
    "Переведем все названия жанров в нижний регистор, так как в результате объединения датасетов получились жанры 'Pop' и 'pop', являющиеся одним жанром."
   ]
  },
  {
   "cell_type": "code",
   "execution_count": 37,
   "id": "08a7ce57",
   "metadata": {},
   "outputs": [
    {
     "data": {
      "text/html": [
       "<div>\n",
       "<style scoped>\n",
       "    .dataframe tbody tr th:only-of-type {\n",
       "        vertical-align: middle;\n",
       "    }\n",
       "\n",
       "    .dataframe tbody tr th {\n",
       "        vertical-align: top;\n",
       "    }\n",
       "\n",
       "    .dataframe thead th {\n",
       "        text-align: right;\n",
       "    }\n",
       "</style>\n",
       "<table border=\"1\" class=\"dataframe\">\n",
       "  <thead>\n",
       "    <tr style=\"text-align: right;\">\n",
       "      <th></th>\n",
       "      <th>song_id</th>\n",
       "      <th>title</th>\n",
       "      <th>release</th>\n",
       "      <th>artist_name</th>\n",
       "      <th>year</th>\n",
       "      <th>track_id</th>\n",
       "      <th>genre</th>\n",
       "      <th>artist_country</th>\n",
       "      <th>artist_city</th>\n",
       "    </tr>\n",
       "  </thead>\n",
       "  <tbody>\n",
       "    <tr>\n",
       "      <th>0</th>\n",
       "      <td>SOQMMHC12AB0180CB8</td>\n",
       "      <td>Silent Night</td>\n",
       "      <td>Monster Ballads X-Mas</td>\n",
       "      <td>Faster Pussy cat</td>\n",
       "      <td>2003</td>\n",
       "      <td>TRMMMYQ128F932D901</td>\n",
       "      <td>christmas</td>\n",
       "      <td>NaN</td>\n",
       "      <td>NaN</td>\n",
       "    </tr>\n",
       "    <tr>\n",
       "      <th>1</th>\n",
       "      <td>SOVFVAK12A8C1350D9</td>\n",
       "      <td>Tanssi vaan</td>\n",
       "      <td>Karkuteillä</td>\n",
       "      <td>Karkkiautomaatti</td>\n",
       "      <td>1995</td>\n",
       "      <td>TRMMMKD128F425225D</td>\n",
       "      <td>pop</td>\n",
       "      <td>NaN</td>\n",
       "      <td>NaN</td>\n",
       "    </tr>\n",
       "    <tr>\n",
       "      <th>2</th>\n",
       "      <td>SOGTUKN12AB017F4F1</td>\n",
       "      <td>No One Could Ever</td>\n",
       "      <td>Butter</td>\n",
       "      <td>Hudson Mohawke</td>\n",
       "      <td>2006</td>\n",
       "      <td>TRMMMRX128F93187D9</td>\n",
       "      <td>electronica/dance</td>\n",
       "      <td>United Kingdom</td>\n",
       "      <td>Glasgow</td>\n",
       "    </tr>\n",
       "    <tr>\n",
       "      <th>3</th>\n",
       "      <td>SOBNYVR12A8C13558C</td>\n",
       "      <td>Si Vos Querés</td>\n",
       "      <td>De Culo</td>\n",
       "      <td>Yerba Brava</td>\n",
       "      <td>2003</td>\n",
       "      <td>TRMMMCH128F425532C</td>\n",
       "      <td>international</td>\n",
       "      <td>NaN</td>\n",
       "      <td>NaN</td>\n",
       "    </tr>\n",
       "    <tr>\n",
       "      <th>4</th>\n",
       "      <td>SOHSBXH12A8C13B0DF</td>\n",
       "      <td>Tangle Of Aspens</td>\n",
       "      <td>Rene Ablaze Presents Winter Sessions</td>\n",
       "      <td>Der Mystic</td>\n",
       "      <td>0</td>\n",
       "      <td>TRMMMWA128F426B589</td>\n",
       "      <td>no_genre</td>\n",
       "      <td>NaN</td>\n",
       "      <td>NaN</td>\n",
       "    </tr>\n",
       "  </tbody>\n",
       "</table>\n",
       "</div>"
      ],
      "text/plain": [
       "              song_id              title  \\\n",
       "0  SOQMMHC12AB0180CB8       Silent Night   \n",
       "1  SOVFVAK12A8C1350D9        Tanssi vaan   \n",
       "2  SOGTUKN12AB017F4F1  No One Could Ever   \n",
       "3  SOBNYVR12A8C13558C      Si Vos Querés   \n",
       "4  SOHSBXH12A8C13B0DF   Tangle Of Aspens   \n",
       "\n",
       "                                release       artist_name  year  \\\n",
       "0                 Monster Ballads X-Mas  Faster Pussy cat  2003   \n",
       "1                           Karkuteillä  Karkkiautomaatti  1995   \n",
       "2                                Butter    Hudson Mohawke  2006   \n",
       "3                               De Culo       Yerba Brava  2003   \n",
       "4  Rene Ablaze Presents Winter Sessions        Der Mystic     0   \n",
       "\n",
       "             track_id              genre  artist_country artist_city  \n",
       "0  TRMMMYQ128F932D901          christmas             NaN         NaN  \n",
       "1  TRMMMKD128F425225D                pop             NaN         NaN  \n",
       "2  TRMMMRX128F93187D9  electronica/dance  United Kingdom     Glasgow  \n",
       "3  TRMMMCH128F425532C      international             NaN         NaN  \n",
       "4  TRMMMWA128F426B589           no_genre             NaN         NaN  "
      ]
     },
     "execution_count": 37,
     "metadata": {},
     "output_type": "execute_result"
    }
   ],
   "source": [
    "song_df['genre'] = song_df['genre'].str.lower().replace('-', '', regex=True) \n",
    "song_df.head()"
   ]
  },
  {
   "attachments": {},
   "cell_type": "markdown",
   "id": "fb50b8dc",
   "metadata": {},
   "source": [
    "Заполним пропуски года для треков из одного альбома известными значениями."
   ]
  },
  {
   "cell_type": "code",
   "execution_count": 38,
   "id": "3a4452d7",
   "metadata": {},
   "outputs": [
    {
     "name": "stdout",
     "output_type": "stream",
     "text": [
      "Количество треков, для которых определен год: 503890\n"
     ]
    }
   ],
   "source": [
    "print(\n",
    "    f\"Количество треков, для которых определен год: {song_df.song_id[song_df.year > 0].count()}\"\n",
    ")\n"
   ]
  },
  {
   "cell_type": "code",
   "execution_count": 39,
   "id": "7264542f",
   "metadata": {},
   "outputs": [
    {
     "data": {
      "text/html": [
       "<div>\n",
       "<style scoped>\n",
       "    .dataframe tbody tr th:only-of-type {\n",
       "        vertical-align: middle;\n",
       "    }\n",
       "\n",
       "    .dataframe tbody tr th {\n",
       "        vertical-align: top;\n",
       "    }\n",
       "\n",
       "    .dataframe thead th {\n",
       "        text-align: right;\n",
       "    }\n",
       "</style>\n",
       "<table border=\"1\" class=\"dataframe\">\n",
       "  <thead>\n",
       "    <tr style=\"text-align: right;\">\n",
       "      <th></th>\n",
       "      <th>release</th>\n",
       "      <th>artist_name</th>\n",
       "      <th>year_</th>\n",
       "    </tr>\n",
       "  </thead>\n",
       "  <tbody>\n",
       "    <tr>\n",
       "      <th>0</th>\n",
       "      <td>Monster Ballads X-Mas</td>\n",
       "      <td>Faster Pussy cat</td>\n",
       "      <td>2003</td>\n",
       "    </tr>\n",
       "    <tr>\n",
       "      <th>1</th>\n",
       "      <td>Karkuteillä</td>\n",
       "      <td>Karkkiautomaatti</td>\n",
       "      <td>1995</td>\n",
       "    </tr>\n",
       "    <tr>\n",
       "      <th>2</th>\n",
       "      <td>Butter</td>\n",
       "      <td>Hudson Mohawke</td>\n",
       "      <td>2006</td>\n",
       "    </tr>\n",
       "    <tr>\n",
       "      <th>3</th>\n",
       "      <td>De Culo</td>\n",
       "      <td>Yerba Brava</td>\n",
       "      <td>2003</td>\n",
       "    </tr>\n",
       "    <tr>\n",
       "      <th>7</th>\n",
       "      <td>Da Bomb</td>\n",
       "      <td>Kris Kross</td>\n",
       "      <td>1993</td>\n",
       "    </tr>\n",
       "  </tbody>\n",
       "</table>\n",
       "</div>"
      ],
      "text/plain": [
       "                 release       artist_name  year_\n",
       "0  Monster Ballads X-Mas  Faster Pussy cat   2003\n",
       "1            Karkuteillä  Karkkiautomaatti   1995\n",
       "2                 Butter    Hudson Mohawke   2006\n",
       "3                De Culo       Yerba Brava   2003\n",
       "7                Da Bomb        Kris Kross   1993"
      ]
     },
     "execution_count": 39,
     "metadata": {},
     "output_type": "execute_result"
    }
   ],
   "source": [
    "song_release_year = (\n",
    "    song_df[song_df.year != 0][[\"release\", \"artist_name\", \"year\"]]\n",
    "    .drop_duplicates()\n",
    "    .rename(columns={\"year\": \"year_\"})\n",
    ")\n",
    "song_release_year.head()\n"
   ]
  },
  {
   "attachments": {},
   "cell_type": "markdown",
   "id": "1f151944",
   "metadata": {},
   "source": [
    "У некоторых релизов несколько годов выпуска. Поэтому заполним пропуски первым годом выпуска релиза."
   ]
  },
  {
   "cell_type": "code",
   "execution_count": 40,
   "id": "d25d4d25",
   "metadata": {},
   "outputs": [
    {
     "data": {
      "text/html": [
       "<div>\n",
       "<style scoped>\n",
       "    .dataframe tbody tr th:only-of-type {\n",
       "        vertical-align: middle;\n",
       "    }\n",
       "\n",
       "    .dataframe tbody tr th {\n",
       "        vertical-align: top;\n",
       "    }\n",
       "\n",
       "    .dataframe thead th {\n",
       "        text-align: right;\n",
       "    }\n",
       "</style>\n",
       "<table border=\"1\" class=\"dataframe\">\n",
       "  <thead>\n",
       "    <tr style=\"text-align: right;\">\n",
       "      <th></th>\n",
       "      <th>release</th>\n",
       "      <th>artist_name</th>\n",
       "      <th>year_</th>\n",
       "    </tr>\n",
       "  </thead>\n",
       "  <tbody>\n",
       "    <tr>\n",
       "      <th>96526</th>\n",
       "      <td>The Complete Stevie Wonder</td>\n",
       "      <td>Stevie Wonder</td>\n",
       "      <td>18</td>\n",
       "    </tr>\n",
       "    <tr>\n",
       "      <th>20317</th>\n",
       "      <td>Clouds In My Coffee 1965-1995</td>\n",
       "      <td>Carly Simon</td>\n",
       "      <td>16</td>\n",
       "    </tr>\n",
       "    <tr>\n",
       "      <th>51129</th>\n",
       "      <td>Kaikkien aikojen parhaat -45 klassikkoa - Aatt...</td>\n",
       "      <td>Jope Ruonansuu</td>\n",
       "      <td>14</td>\n",
       "    </tr>\n",
       "    <tr>\n",
       "      <th>8055</th>\n",
       "      <td>Anthology</td>\n",
       "      <td>Charley Pride</td>\n",
       "      <td>13</td>\n",
       "    </tr>\n",
       "    <tr>\n",
       "      <th>116353</th>\n",
       "      <td>Xxv</td>\n",
       "      <td>Vader</td>\n",
       "      <td>12</td>\n",
       "    </tr>\n",
       "  </tbody>\n",
       "</table>\n",
       "</div>"
      ],
      "text/plain": [
       "                                                  release     artist_name  \\\n",
       "96526                          The Complete Stevie Wonder   Stevie Wonder   \n",
       "20317                       Clouds In My Coffee 1965-1995     Carly Simon   \n",
       "51129   Kaikkien aikojen parhaat -45 klassikkoa - Aatt...  Jope Ruonansuu   \n",
       "8055                                            Anthology   Charley Pride   \n",
       "116353                                                Xxv           Vader   \n",
       "\n",
       "        year_  \n",
       "96526      18  \n",
       "20317      16  \n",
       "51129      14  \n",
       "8055       13  \n",
       "116353     12  "
      ]
     },
     "execution_count": 40,
     "metadata": {},
     "output_type": "execute_result"
    }
   ],
   "source": [
    "song_release_year.groupby([\"release\", \"artist_name\"], as_index=False).agg(\n",
    "    {\"year_\": \"count\"}\n",
    ").sort_values(\"year_\", ascending=False).head()\n"
   ]
  },
  {
   "cell_type": "code",
   "execution_count": 41,
   "id": "69429151",
   "metadata": {},
   "outputs": [
    {
     "data": {
      "text/html": [
       "<div>\n",
       "<style scoped>\n",
       "    .dataframe tbody tr th:only-of-type {\n",
       "        vertical-align: middle;\n",
       "    }\n",
       "\n",
       "    .dataframe tbody tr th {\n",
       "        vertical-align: top;\n",
       "    }\n",
       "\n",
       "    .dataframe thead th {\n",
       "        text-align: right;\n",
       "    }\n",
       "</style>\n",
       "<table border=\"1\" class=\"dataframe\">\n",
       "  <thead>\n",
       "    <tr style=\"text-align: right;\">\n",
       "      <th></th>\n",
       "      <th>release</th>\n",
       "      <th>artist_name</th>\n",
       "      <th>year_</th>\n",
       "    </tr>\n",
       "  </thead>\n",
       "  <tbody>\n",
       "    <tr>\n",
       "      <th>0</th>\n",
       "      <td>\u0018Em Are I</td>\n",
       "      <td>Jeffrey Lewis &amp; The Junkyard</td>\n",
       "      <td>2009</td>\n",
       "    </tr>\n",
       "    <tr>\n",
       "      <th>1</th>\n",
       "      <td>fifties\" Million Sellers</td>\n",
       "      <td>The Weavers</td>\n",
       "      <td>1988</td>\n",
       "    </tr>\n",
       "    <tr>\n",
       "      <th>2</th>\n",
       "      <td>A Tribute Album</td>\n",
       "      <td>Daron Norwood</td>\n",
       "      <td>1994</td>\n",
       "    </tr>\n",
       "    <tr>\n",
       "      <th>3</th>\n",
       "      <td>A Tribute Album</td>\n",
       "      <td>Diamond Rio</td>\n",
       "      <td>1994</td>\n",
       "    </tr>\n",
       "    <tr>\n",
       "      <th>4</th>\n",
       "      <td>A Tribute Album</td>\n",
       "      <td>Joe Diffie</td>\n",
       "      <td>1994</td>\n",
       "    </tr>\n",
       "  </tbody>\n",
       "</table>\n",
       "</div>"
      ],
      "text/plain": [
       "                      release                   artist_name  year_\n",
       "0                   \u0018Em Are I  Jeffrey Lewis & The Junkyard   2009\n",
       "1  \n",
       "fifties\" Million Sellers                    The Weavers   1988\n",
       "2             A Tribute Album                 Daron Norwood   1994\n",
       "3             A Tribute Album                   Diamond Rio   1994\n",
       "4             A Tribute Album                    Joe Diffie   1994"
      ]
     },
     "execution_count": 41,
     "metadata": {},
     "output_type": "execute_result"
    }
   ],
   "source": [
    "song_release_year = (\n",
    "    song_release_year.sort_values(\"year_\", ascending=False)\n",
    "    .groupby([\"release\", \"artist_name\"], as_index=False)\n",
    "    .first()\n",
    ")\n",
    "song_release_year.head()\n"
   ]
  },
  {
   "cell_type": "code",
   "execution_count": 42,
   "id": "12a39088",
   "metadata": {},
   "outputs": [
    {
     "data": {
      "text/html": [
       "<div>\n",
       "<style scoped>\n",
       "    .dataframe tbody tr th:only-of-type {\n",
       "        vertical-align: middle;\n",
       "    }\n",
       "\n",
       "    .dataframe tbody tr th {\n",
       "        vertical-align: top;\n",
       "    }\n",
       "\n",
       "    .dataframe thead th {\n",
       "        text-align: right;\n",
       "    }\n",
       "</style>\n",
       "<table border=\"1\" class=\"dataframe\">\n",
       "  <thead>\n",
       "    <tr style=\"text-align: right;\">\n",
       "      <th></th>\n",
       "      <th>song_id</th>\n",
       "      <th>title</th>\n",
       "      <th>release</th>\n",
       "      <th>artist_name</th>\n",
       "      <th>year</th>\n",
       "      <th>track_id</th>\n",
       "      <th>genre</th>\n",
       "      <th>artist_country</th>\n",
       "      <th>artist_city</th>\n",
       "      <th>year_</th>\n",
       "    </tr>\n",
       "  </thead>\n",
       "  <tbody>\n",
       "    <tr>\n",
       "      <th>0</th>\n",
       "      <td>SOQMMHC12AB0180CB8</td>\n",
       "      <td>Silent Night</td>\n",
       "      <td>Monster Ballads X-Mas</td>\n",
       "      <td>Faster Pussy cat</td>\n",
       "      <td>2003</td>\n",
       "      <td>TRMMMYQ128F932D901</td>\n",
       "      <td>christmas</td>\n",
       "      <td>NaN</td>\n",
       "      <td>NaN</td>\n",
       "      <td>2003.0</td>\n",
       "    </tr>\n",
       "    <tr>\n",
       "      <th>1</th>\n",
       "      <td>SOVFVAK12A8C1350D9</td>\n",
       "      <td>Tanssi vaan</td>\n",
       "      <td>Karkuteillä</td>\n",
       "      <td>Karkkiautomaatti</td>\n",
       "      <td>1995</td>\n",
       "      <td>TRMMMKD128F425225D</td>\n",
       "      <td>pop</td>\n",
       "      <td>NaN</td>\n",
       "      <td>NaN</td>\n",
       "      <td>1995.0</td>\n",
       "    </tr>\n",
       "    <tr>\n",
       "      <th>2</th>\n",
       "      <td>SOGTUKN12AB017F4F1</td>\n",
       "      <td>No One Could Ever</td>\n",
       "      <td>Butter</td>\n",
       "      <td>Hudson Mohawke</td>\n",
       "      <td>2006</td>\n",
       "      <td>TRMMMRX128F93187D9</td>\n",
       "      <td>electronica/dance</td>\n",
       "      <td>United Kingdom</td>\n",
       "      <td>Glasgow</td>\n",
       "      <td>2009.0</td>\n",
       "    </tr>\n",
       "    <tr>\n",
       "      <th>3</th>\n",
       "      <td>SOBNYVR12A8C13558C</td>\n",
       "      <td>Si Vos Querés</td>\n",
       "      <td>De Culo</td>\n",
       "      <td>Yerba Brava</td>\n",
       "      <td>2003</td>\n",
       "      <td>TRMMMCH128F425532C</td>\n",
       "      <td>international</td>\n",
       "      <td>NaN</td>\n",
       "      <td>NaN</td>\n",
       "      <td>2003.0</td>\n",
       "    </tr>\n",
       "    <tr>\n",
       "      <th>4</th>\n",
       "      <td>SOHSBXH12A8C13B0DF</td>\n",
       "      <td>Tangle Of Aspens</td>\n",
       "      <td>Rene Ablaze Presents Winter Sessions</td>\n",
       "      <td>Der Mystic</td>\n",
       "      <td>0</td>\n",
       "      <td>TRMMMWA128F426B589</td>\n",
       "      <td>no_genre</td>\n",
       "      <td>NaN</td>\n",
       "      <td>NaN</td>\n",
       "      <td>NaN</td>\n",
       "    </tr>\n",
       "  </tbody>\n",
       "</table>\n",
       "</div>"
      ],
      "text/plain": [
       "              song_id              title  \\\n",
       "0  SOQMMHC12AB0180CB8       Silent Night   \n",
       "1  SOVFVAK12A8C1350D9        Tanssi vaan   \n",
       "2  SOGTUKN12AB017F4F1  No One Could Ever   \n",
       "3  SOBNYVR12A8C13558C      Si Vos Querés   \n",
       "4  SOHSBXH12A8C13B0DF   Tangle Of Aspens   \n",
       "\n",
       "                                release       artist_name  year  \\\n",
       "0                 Monster Ballads X-Mas  Faster Pussy cat  2003   \n",
       "1                           Karkuteillä  Karkkiautomaatti  1995   \n",
       "2                                Butter    Hudson Mohawke  2006   \n",
       "3                               De Culo       Yerba Brava  2003   \n",
       "4  Rene Ablaze Presents Winter Sessions        Der Mystic     0   \n",
       "\n",
       "             track_id              genre  artist_country artist_city   year_  \n",
       "0  TRMMMYQ128F932D901          christmas             NaN         NaN  2003.0  \n",
       "1  TRMMMKD128F425225D                pop             NaN         NaN  1995.0  \n",
       "2  TRMMMRX128F93187D9  electronica/dance  United Kingdom     Glasgow  2009.0  \n",
       "3  TRMMMCH128F425532C      international             NaN         NaN  2003.0  \n",
       "4  TRMMMWA128F426B589           no_genre             NaN         NaN     NaN  "
      ]
     },
     "execution_count": 42,
     "metadata": {},
     "output_type": "execute_result"
    }
   ],
   "source": [
    "song_df = pd.merge(\n",
    "    song_df, song_release_year, on=[\"release\", \"artist_name\"], how=\"left\"\n",
    ")\n",
    "song_df.head()\n"
   ]
  },
  {
   "cell_type": "code",
   "execution_count": 43,
   "id": "804eb75e",
   "metadata": {},
   "outputs": [
    {
     "data": {
      "text/html": [
       "<div>\n",
       "<style scoped>\n",
       "    .dataframe tbody tr th:only-of-type {\n",
       "        vertical-align: middle;\n",
       "    }\n",
       "\n",
       "    .dataframe tbody tr th {\n",
       "        vertical-align: top;\n",
       "    }\n",
       "\n",
       "    .dataframe thead th {\n",
       "        text-align: right;\n",
       "    }\n",
       "</style>\n",
       "<table border=\"1\" class=\"dataframe\">\n",
       "  <thead>\n",
       "    <tr style=\"text-align: right;\">\n",
       "      <th></th>\n",
       "      <th>song_id</th>\n",
       "      <th>title</th>\n",
       "      <th>release</th>\n",
       "      <th>artist_name</th>\n",
       "      <th>year</th>\n",
       "      <th>track_id</th>\n",
       "      <th>genre</th>\n",
       "      <th>artist_country</th>\n",
       "      <th>artist_city</th>\n",
       "      <th>year_</th>\n",
       "    </tr>\n",
       "  </thead>\n",
       "  <tbody>\n",
       "    <tr>\n",
       "      <th>0</th>\n",
       "      <td>SOQMMHC12AB0180CB8</td>\n",
       "      <td>Silent Night</td>\n",
       "      <td>Monster Ballads X-Mas</td>\n",
       "      <td>Faster Pussy cat</td>\n",
       "      <td>2003</td>\n",
       "      <td>TRMMMYQ128F932D901</td>\n",
       "      <td>christmas</td>\n",
       "      <td>NaN</td>\n",
       "      <td>NaN</td>\n",
       "      <td>2003.0</td>\n",
       "    </tr>\n",
       "    <tr>\n",
       "      <th>1</th>\n",
       "      <td>SOVFVAK12A8C1350D9</td>\n",
       "      <td>Tanssi vaan</td>\n",
       "      <td>Karkuteillä</td>\n",
       "      <td>Karkkiautomaatti</td>\n",
       "      <td>1995</td>\n",
       "      <td>TRMMMKD128F425225D</td>\n",
       "      <td>pop</td>\n",
       "      <td>NaN</td>\n",
       "      <td>NaN</td>\n",
       "      <td>1995.0</td>\n",
       "    </tr>\n",
       "    <tr>\n",
       "      <th>2</th>\n",
       "      <td>SOGTUKN12AB017F4F1</td>\n",
       "      <td>No One Could Ever</td>\n",
       "      <td>Butter</td>\n",
       "      <td>Hudson Mohawke</td>\n",
       "      <td>2006</td>\n",
       "      <td>TRMMMRX128F93187D9</td>\n",
       "      <td>electronica/dance</td>\n",
       "      <td>United Kingdom</td>\n",
       "      <td>Glasgow</td>\n",
       "      <td>2009.0</td>\n",
       "    </tr>\n",
       "    <tr>\n",
       "      <th>3</th>\n",
       "      <td>SOBNYVR12A8C13558C</td>\n",
       "      <td>Si Vos Querés</td>\n",
       "      <td>De Culo</td>\n",
       "      <td>Yerba Brava</td>\n",
       "      <td>2003</td>\n",
       "      <td>TRMMMCH128F425532C</td>\n",
       "      <td>international</td>\n",
       "      <td>NaN</td>\n",
       "      <td>NaN</td>\n",
       "      <td>2003.0</td>\n",
       "    </tr>\n",
       "    <tr>\n",
       "      <th>4</th>\n",
       "      <td>SOHSBXH12A8C13B0DF</td>\n",
       "      <td>Tangle Of Aspens</td>\n",
       "      <td>Rene Ablaze Presents Winter Sessions</td>\n",
       "      <td>Der Mystic</td>\n",
       "      <td>0</td>\n",
       "      <td>TRMMMWA128F426B589</td>\n",
       "      <td>no_genre</td>\n",
       "      <td>NaN</td>\n",
       "      <td>NaN</td>\n",
       "      <td>NaN</td>\n",
       "    </tr>\n",
       "  </tbody>\n",
       "</table>\n",
       "</div>"
      ],
      "text/plain": [
       "              song_id              title  \\\n",
       "0  SOQMMHC12AB0180CB8       Silent Night   \n",
       "1  SOVFVAK12A8C1350D9        Tanssi vaan   \n",
       "2  SOGTUKN12AB017F4F1  No One Could Ever   \n",
       "3  SOBNYVR12A8C13558C      Si Vos Querés   \n",
       "4  SOHSBXH12A8C13B0DF   Tangle Of Aspens   \n",
       "\n",
       "                                release       artist_name  year  \\\n",
       "0                 Monster Ballads X-Mas  Faster Pussy cat  2003   \n",
       "1                           Karkuteillä  Karkkiautomaatti  1995   \n",
       "2                                Butter    Hudson Mohawke  2006   \n",
       "3                               De Culo       Yerba Brava  2003   \n",
       "4  Rene Ablaze Presents Winter Sessions        Der Mystic     0   \n",
       "\n",
       "             track_id              genre  artist_country artist_city   year_  \n",
       "0  TRMMMYQ128F932D901          christmas             NaN         NaN  2003.0  \n",
       "1  TRMMMKD128F425225D                pop             NaN         NaN  1995.0  \n",
       "2  TRMMMRX128F93187D9  electronica/dance  United Kingdom     Glasgow  2009.0  \n",
       "3  TRMMMCH128F425532C      international             NaN         NaN  2003.0  \n",
       "4  TRMMMWA128F426B589           no_genre             NaN         NaN     NaN  "
      ]
     },
     "execution_count": 43,
     "metadata": {},
     "output_type": "execute_result"
    }
   ],
   "source": [
    "song_df.loc[(song_df.year == 0), 'year'] = song_df['year_'].fillna(0)\n",
    "song_df.head()"
   ]
  },
  {
   "cell_type": "code",
   "execution_count": 44,
   "id": "25f34e00",
   "metadata": {},
   "outputs": [
    {
     "data": {
      "text/plain": [
       "(372225, 9)"
      ]
     },
     "execution_count": 44,
     "metadata": {},
     "output_type": "execute_result"
    }
   ],
   "source": [
    "song_df = song_df.drop('year_', axis=1)\n",
    "song_df[song_df.year == 0].shape"
   ]
  },
  {
   "attachments": {},
   "cell_type": "markdown",
   "id": "a54837ed",
   "metadata": {},
   "source": [
    "Однако, для 372225 треков заполнить год таким образом не удалось."
   ]
  },
  {
   "attachments": {},
   "cell_type": "markdown",
   "id": "987c0859",
   "metadata": {},
   "source": [
    "Для пустых значений страны и города происхождения исполнителя заполним пропуски значениями 'No country' и 'No city'."
   ]
  },
  {
   "cell_type": "code",
   "execution_count": 45,
   "id": "7c1bf2a4",
   "metadata": {},
   "outputs": [
    {
     "data": {
      "text/html": [
       "<div>\n",
       "<style scoped>\n",
       "    .dataframe tbody tr th:only-of-type {\n",
       "        vertical-align: middle;\n",
       "    }\n",
       "\n",
       "    .dataframe tbody tr th {\n",
       "        vertical-align: top;\n",
       "    }\n",
       "\n",
       "    .dataframe thead th {\n",
       "        text-align: right;\n",
       "    }\n",
       "</style>\n",
       "<table border=\"1\" class=\"dataframe\">\n",
       "  <thead>\n",
       "    <tr style=\"text-align: right;\">\n",
       "      <th></th>\n",
       "      <th>song_id</th>\n",
       "      <th>title</th>\n",
       "      <th>release</th>\n",
       "      <th>artist_name</th>\n",
       "      <th>year</th>\n",
       "      <th>track_id</th>\n",
       "      <th>genre</th>\n",
       "      <th>artist_country</th>\n",
       "      <th>artist_city</th>\n",
       "    </tr>\n",
       "  </thead>\n",
       "  <tbody>\n",
       "    <tr>\n",
       "      <th>0</th>\n",
       "      <td>SOQMMHC12AB0180CB8</td>\n",
       "      <td>Silent Night</td>\n",
       "      <td>Monster Ballads X-Mas</td>\n",
       "      <td>Faster Pussy cat</td>\n",
       "      <td>2003</td>\n",
       "      <td>TRMMMYQ128F932D901</td>\n",
       "      <td>christmas</td>\n",
       "      <td>No country</td>\n",
       "      <td>No city</td>\n",
       "    </tr>\n",
       "    <tr>\n",
       "      <th>1</th>\n",
       "      <td>SOVFVAK12A8C1350D9</td>\n",
       "      <td>Tanssi vaan</td>\n",
       "      <td>Karkuteillä</td>\n",
       "      <td>Karkkiautomaatti</td>\n",
       "      <td>1995</td>\n",
       "      <td>TRMMMKD128F425225D</td>\n",
       "      <td>pop</td>\n",
       "      <td>No country</td>\n",
       "      <td>No city</td>\n",
       "    </tr>\n",
       "    <tr>\n",
       "      <th>2</th>\n",
       "      <td>SOGTUKN12AB017F4F1</td>\n",
       "      <td>No One Could Ever</td>\n",
       "      <td>Butter</td>\n",
       "      <td>Hudson Mohawke</td>\n",
       "      <td>2006</td>\n",
       "      <td>TRMMMRX128F93187D9</td>\n",
       "      <td>electronica/dance</td>\n",
       "      <td>United Kingdom</td>\n",
       "      <td>Glasgow</td>\n",
       "    </tr>\n",
       "    <tr>\n",
       "      <th>3</th>\n",
       "      <td>SOBNYVR12A8C13558C</td>\n",
       "      <td>Si Vos Querés</td>\n",
       "      <td>De Culo</td>\n",
       "      <td>Yerba Brava</td>\n",
       "      <td>2003</td>\n",
       "      <td>TRMMMCH128F425532C</td>\n",
       "      <td>international</td>\n",
       "      <td>No country</td>\n",
       "      <td>No city</td>\n",
       "    </tr>\n",
       "    <tr>\n",
       "      <th>4</th>\n",
       "      <td>SOHSBXH12A8C13B0DF</td>\n",
       "      <td>Tangle Of Aspens</td>\n",
       "      <td>Rene Ablaze Presents Winter Sessions</td>\n",
       "      <td>Der Mystic</td>\n",
       "      <td>0</td>\n",
       "      <td>TRMMMWA128F426B589</td>\n",
       "      <td>no_genre</td>\n",
       "      <td>No country</td>\n",
       "      <td>No city</td>\n",
       "    </tr>\n",
       "  </tbody>\n",
       "</table>\n",
       "</div>"
      ],
      "text/plain": [
       "              song_id              title  \\\n",
       "0  SOQMMHC12AB0180CB8       Silent Night   \n",
       "1  SOVFVAK12A8C1350D9        Tanssi vaan   \n",
       "2  SOGTUKN12AB017F4F1  No One Could Ever   \n",
       "3  SOBNYVR12A8C13558C      Si Vos Querés   \n",
       "4  SOHSBXH12A8C13B0DF   Tangle Of Aspens   \n",
       "\n",
       "                                release       artist_name  year  \\\n",
       "0                 Monster Ballads X-Mas  Faster Pussy cat  2003   \n",
       "1                           Karkuteillä  Karkkiautomaatti  1995   \n",
       "2                                Butter    Hudson Mohawke  2006   \n",
       "3                               De Culo       Yerba Brava  2003   \n",
       "4  Rene Ablaze Presents Winter Sessions        Der Mystic     0   \n",
       "\n",
       "             track_id              genre  artist_country artist_city  \n",
       "0  TRMMMYQ128F932D901          christmas      No country     No city  \n",
       "1  TRMMMKD128F425225D                pop      No country     No city  \n",
       "2  TRMMMRX128F93187D9  electronica/dance  United Kingdom     Glasgow  \n",
       "3  TRMMMCH128F425532C      international      No country     No city  \n",
       "4  TRMMMWA128F426B589           no_genre      No country     No city  "
      ]
     },
     "execution_count": 45,
     "metadata": {},
     "output_type": "execute_result"
    }
   ],
   "source": [
    "song_df.artist_country = song_df['artist_country'].fillna('No country')\n",
    "song_df.artist_city = song_df['artist_city'].fillna('No city')\n",
    "song_df.head()"
   ]
  },
  {
   "cell_type": "code",
   "execution_count": 46,
   "id": "14658ebe",
   "metadata": {},
   "outputs": [
    {
     "name": "stdout",
     "output_type": "stream",
     "text": [
      "Количество треков, для которых не определена страна страна исполнителя: 516703\n"
     ]
    }
   ],
   "source": [
    "print(\n",
    "    f'Количество треков, для которых не определена страна страна исполнителя: \\\n",
    "{song_df.artist_country[song_df.artist_country == \"No country\"].count()}'\n",
    ")\n"
   ]
  },
  {
   "cell_type": "code",
   "execution_count": 51,
   "id": "462f2fdf",
   "metadata": {},
   "outputs": [],
   "source": [
    "# song_df.to_csv('song_df.csv', index=False)"
   ]
  },
  {
   "attachments": {},
   "cell_type": "markdown",
   "id": "e4090e8b",
   "metadata": {},
   "source": [
    "## Объединение всех датасетов"
   ]
  },
  {
   "cell_type": "code",
   "execution_count": 48,
   "id": "a6af8663",
   "metadata": {},
   "outputs": [
    {
     "data": {
      "text/html": [
       "<div>\n",
       "<style scoped>\n",
       "    .dataframe tbody tr th:only-of-type {\n",
       "        vertical-align: middle;\n",
       "    }\n",
       "\n",
       "    .dataframe tbody tr th {\n",
       "        vertical-align: top;\n",
       "    }\n",
       "\n",
       "    .dataframe thead th {\n",
       "        text-align: right;\n",
       "    }\n",
       "</style>\n",
       "<table border=\"1\" class=\"dataframe\">\n",
       "  <thead>\n",
       "    <tr style=\"text-align: right;\">\n",
       "      <th></th>\n",
       "      <th>user_id</th>\n",
       "      <th>song_id</th>\n",
       "      <th>play_count</th>\n",
       "      <th>title</th>\n",
       "      <th>release</th>\n",
       "      <th>artist_name</th>\n",
       "      <th>year</th>\n",
       "      <th>track_id</th>\n",
       "      <th>genre</th>\n",
       "      <th>artist_country</th>\n",
       "      <th>artist_city</th>\n",
       "    </tr>\n",
       "  </thead>\n",
       "  <tbody>\n",
       "    <tr>\n",
       "      <th>0</th>\n",
       "      <td>b80344d063b5ccb3212f76538f3d9e43d87dca9e</td>\n",
       "      <td>SOAPDEY12A81C210A9</td>\n",
       "      <td>1</td>\n",
       "      <td>Nothing from Nothing</td>\n",
       "      <td>To Die For</td>\n",
       "      <td>Billy Preston</td>\n",
       "      <td>1974</td>\n",
       "      <td>TRIRLYL128F42539D1</td>\n",
       "      <td>r&amp;b</td>\n",
       "      <td>United States</td>\n",
       "      <td>Houston</td>\n",
       "    </tr>\n",
       "    <tr>\n",
       "      <th>1</th>\n",
       "      <td>fd13b9d49c54e00ff413fe3c095ba581c7fc611e</td>\n",
       "      <td>SOAPDEY12A81C210A9</td>\n",
       "      <td>8</td>\n",
       "      <td>Nothing from Nothing</td>\n",
       "      <td>To Die For</td>\n",
       "      <td>Billy Preston</td>\n",
       "      <td>1974</td>\n",
       "      <td>TRIRLYL128F42539D1</td>\n",
       "      <td>r&amp;b</td>\n",
       "      <td>United States</td>\n",
       "      <td>Houston</td>\n",
       "    </tr>\n",
       "    <tr>\n",
       "      <th>2</th>\n",
       "      <td>35752a9e4d917c8fc5da88e90c25adc6b52220b6</td>\n",
       "      <td>SOAPDEY12A81C210A9</td>\n",
       "      <td>1</td>\n",
       "      <td>Nothing from Nothing</td>\n",
       "      <td>To Die For</td>\n",
       "      <td>Billy Preston</td>\n",
       "      <td>1974</td>\n",
       "      <td>TRIRLYL128F42539D1</td>\n",
       "      <td>r&amp;b</td>\n",
       "      <td>United States</td>\n",
       "      <td>Houston</td>\n",
       "    </tr>\n",
       "    <tr>\n",
       "      <th>3</th>\n",
       "      <td>bfe8d6d1e32d9de12c632d68712e7e4a23416e93</td>\n",
       "      <td>SOAPDEY12A81C210A9</td>\n",
       "      <td>1</td>\n",
       "      <td>Nothing from Nothing</td>\n",
       "      <td>To Die For</td>\n",
       "      <td>Billy Preston</td>\n",
       "      <td>1974</td>\n",
       "      <td>TRIRLYL128F42539D1</td>\n",
       "      <td>r&amp;b</td>\n",
       "      <td>United States</td>\n",
       "      <td>Houston</td>\n",
       "    </tr>\n",
       "    <tr>\n",
       "      <th>4</th>\n",
       "      <td>46d3ef1b4f317aba8f0226e937c67ecef9fa2e42</td>\n",
       "      <td>SOAPDEY12A81C210A9</td>\n",
       "      <td>4</td>\n",
       "      <td>Nothing from Nothing</td>\n",
       "      <td>To Die For</td>\n",
       "      <td>Billy Preston</td>\n",
       "      <td>1974</td>\n",
       "      <td>TRIRLYL128F42539D1</td>\n",
       "      <td>r&amp;b</td>\n",
       "      <td>United States</td>\n",
       "      <td>Houston</td>\n",
       "    </tr>\n",
       "  </tbody>\n",
       "</table>\n",
       "</div>"
      ],
      "text/plain": [
       "                                    user_id             song_id  play_count  \\\n",
       "0  b80344d063b5ccb3212f76538f3d9e43d87dca9e  SOAPDEY12A81C210A9           1   \n",
       "1  fd13b9d49c54e00ff413fe3c095ba581c7fc611e  SOAPDEY12A81C210A9           8   \n",
       "2  35752a9e4d917c8fc5da88e90c25adc6b52220b6  SOAPDEY12A81C210A9           1   \n",
       "3  bfe8d6d1e32d9de12c632d68712e7e4a23416e93  SOAPDEY12A81C210A9           1   \n",
       "4  46d3ef1b4f317aba8f0226e937c67ecef9fa2e42  SOAPDEY12A81C210A9           4   \n",
       "\n",
       "                  title     release    artist_name  year            track_id  \\\n",
       "0  Nothing from Nothing  To Die For  Billy Preston  1974  TRIRLYL128F42539D1   \n",
       "1  Nothing from Nothing  To Die For  Billy Preston  1974  TRIRLYL128F42539D1   \n",
       "2  Nothing from Nothing  To Die For  Billy Preston  1974  TRIRLYL128F42539D1   \n",
       "3  Nothing from Nothing  To Die For  Billy Preston  1974  TRIRLYL128F42539D1   \n",
       "4  Nothing from Nothing  To Die For  Billy Preston  1974  TRIRLYL128F42539D1   \n",
       "\n",
       "  genre artist_country artist_city  \n",
       "0   r&b  United States     Houston  \n",
       "1   r&b  United States     Houston  \n",
       "2   r&b  United States     Houston  \n",
       "3   r&b  United States     Houston  \n",
       "4   r&b  United States     Houston  "
      ]
     },
     "execution_count": 48,
     "metadata": {},
     "output_type": "execute_result"
    }
   ],
   "source": [
    "user_song_df = pd.merge(triplets_data, song_df, on='song_id', how='inner')\n",
    "user_song_df.head()"
   ]
  },
  {
   "cell_type": "code",
   "execution_count": 49,
   "id": "84ed8f3d",
   "metadata": {},
   "outputs": [
    {
     "data": {
      "text/plain": [
       "(45795099, 11)"
      ]
     },
     "execution_count": 49,
     "metadata": {},
     "output_type": "execute_result"
    }
   ],
   "source": [
    "user_song_df.shape"
   ]
  },
  {
   "cell_type": "code",
   "execution_count": 50,
   "id": "07a5d85d",
   "metadata": {},
   "outputs": [],
   "source": [
    "# user_song_df.to_csv('user_song_df.csv')"
   ]
  }
 ],
 "metadata": {
  "kernelspec": {
   "display_name": "Python 3 (ipykernel)",
   "language": "python",
   "name": "python3"
  },
  "language_info": {
   "codemirror_mode": {
    "name": "ipython",
    "version": 3
   },
   "file_extension": ".py",
   "mimetype": "text/x-python",
   "name": "python",
   "nbconvert_exporter": "python",
   "pygments_lexer": "ipython3",
   "version": "3.10.9"
  }
 },
 "nbformat": 4,
 "nbformat_minor": 5
}
