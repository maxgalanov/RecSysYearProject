{
 "cells": [
  {
   "cell_type": "code",
   "execution_count": 181,
   "id": "f253e266",
   "metadata": {},
   "outputs": [],
   "source": [
    "import warnings\n",
    "warnings.filterwarnings('ignore')\n",
    "\n",
    "import pandas as pd\n",
    "import numpy as np\n",
    "from math import sqrt\n",
    "import scipy.sparse as scs\n",
    "import matplotlib.pyplot as plt\n",
    "import seaborn as sns\n",
    "from tqdm.notebook import tqdm\n",
    "\n",
    "import json\n",
    "import joblib\n",
    "import pickle\n",
    "\n",
    "from lightfm import LightFM\n",
    "from implicit.als import AlternatingLeastSquares\n",
    "from scipy.sparse.linalg import svds\n",
    "from sklearn.pipeline import Pipeline\n",
    "from sklearn.preprocessing import StandardScaler\n",
    "from category_encoders.leave_one_out import LeaveOneOutEncoder\n",
    "from scipy.sparse import lil_matrix, save_npz, load_npz\n",
    "from typing import List, Dict\n",
    "from tqdm import tqdm\n",
    "\n",
    "sns.set_style('whitegrid')"
   ]
  },
  {
   "cell_type": "markdown",
   "id": "dd1e2481",
   "metadata": {},
   "source": [
    "## Загрузка данных\n",
    "### Загружаем матрицы user-item"
   ]
  },
  {
   "cell_type": "code",
   "execution_count": 3,
   "id": "9d53a9e1",
   "metadata": {},
   "outputs": [
    {
     "data": {
      "text/html": [
       "<div>\n",
       "<style scoped>\n",
       "    .dataframe tbody tr th:only-of-type {\n",
       "        vertical-align: middle;\n",
       "    }\n",
       "\n",
       "    .dataframe tbody tr th {\n",
       "        vertical-align: top;\n",
       "    }\n",
       "\n",
       "    .dataframe thead th {\n",
       "        text-align: right;\n",
       "    }\n",
       "</style>\n",
       "<table border=\"1\" class=\"dataframe\">\n",
       "  <thead>\n",
       "    <tr style=\"text-align: right;\">\n",
       "      <th></th>\n",
       "      <th>user_id</th>\n",
       "      <th>song_id</th>\n",
       "      <th>play_count</th>\n",
       "      <th>title</th>\n",
       "      <th>release</th>\n",
       "      <th>artist_name</th>\n",
       "      <th>year</th>\n",
       "      <th>genre</th>\n",
       "      <th>artist_country</th>\n",
       "      <th>artist_city</th>\n",
       "    </tr>\n",
       "  </thead>\n",
       "  <tbody>\n",
       "    <tr>\n",
       "      <th>0</th>\n",
       "      <td>6fbf6970611d01e10aebeab374f461116155867e</td>\n",
       "      <td>SOPVPCY12A81C23555</td>\n",
       "      <td>1</td>\n",
       "      <td>Unlove You (Album Version)</td>\n",
       "      <td>Headstrong</td>\n",
       "      <td>Ashley Tisdale</td>\n",
       "      <td>2007</td>\n",
       "      <td>pop_rock</td>\n",
       "      <td>United States</td>\n",
       "      <td>Ocean Township</td>\n",
       "    </tr>\n",
       "    <tr>\n",
       "      <th>1</th>\n",
       "      <td>fa8a8753518e6c2d3713990dc2a172ea17000b80</td>\n",
       "      <td>SOBSMEQ12AB018282F</td>\n",
       "      <td>1</td>\n",
       "      <td>Towards The Sun</td>\n",
       "      <td>Away We Go Original Motion Picture Soundtrack</td>\n",
       "      <td>Alexi Murdoch</td>\n",
       "      <td>2009</td>\n",
       "      <td>soundtrack</td>\n",
       "      <td>United Kingdom</td>\n",
       "      <td>London</td>\n",
       "    </tr>\n",
       "    <tr>\n",
       "      <th>2</th>\n",
       "      <td>c9fdf63587a7a963e383ea2f1b58d1014377caab</td>\n",
       "      <td>SONQEYS12AF72AABC9</td>\n",
       "      <td>1</td>\n",
       "      <td>Mr. Jones</td>\n",
       "      <td>Films About Ghosts (The Best Of Counting Crows)</td>\n",
       "      <td>Counting Crows</td>\n",
       "      <td>1991</td>\n",
       "      <td>rock</td>\n",
       "      <td>United States</td>\n",
       "      <td>Berkeley</td>\n",
       "    </tr>\n",
       "    <tr>\n",
       "      <th>3</th>\n",
       "      <td>e329cc2012d31242297d294fa0279b79a1bd5cc7</td>\n",
       "      <td>SOHTAXD12A8C141E75</td>\n",
       "      <td>1</td>\n",
       "      <td>Scratch Tail</td>\n",
       "      <td>Collide</td>\n",
       "      <td>Beats Antique</td>\n",
       "      <td>2008</td>\n",
       "      <td>electronic</td>\n",
       "      <td>United States</td>\n",
       "      <td>Oakland</td>\n",
       "    </tr>\n",
       "    <tr>\n",
       "      <th>4</th>\n",
       "      <td>2a9178398fa6377a340d5b9b6be87de32b4059a2</td>\n",
       "      <td>SOAWWJW12AB01814F5</td>\n",
       "      <td>2</td>\n",
       "      <td>Don't Haunt This Place</td>\n",
       "      <td>Hometowns</td>\n",
       "      <td>The Rural Alberta Advantage</td>\n",
       "      <td>2008</td>\n",
       "      <td>rock</td>\n",
       "      <td>Canada</td>\n",
       "      <td>Toronto</td>\n",
       "    </tr>\n",
       "  </tbody>\n",
       "</table>\n",
       "</div>"
      ],
      "text/plain": [
       "                                    user_id             song_id  play_count  \\\n",
       "0  6fbf6970611d01e10aebeab374f461116155867e  SOPVPCY12A81C23555           1   \n",
       "1  fa8a8753518e6c2d3713990dc2a172ea17000b80  SOBSMEQ12AB018282F           1   \n",
       "2  c9fdf63587a7a963e383ea2f1b58d1014377caab  SONQEYS12AF72AABC9           1   \n",
       "3  e329cc2012d31242297d294fa0279b79a1bd5cc7  SOHTAXD12A8C141E75           1   \n",
       "4  2a9178398fa6377a340d5b9b6be87de32b4059a2  SOAWWJW12AB01814F5           2   \n",
       "\n",
       "                        title  \\\n",
       "0  Unlove You (Album Version)   \n",
       "1             Towards The Sun   \n",
       "2                   Mr. Jones   \n",
       "3                Scratch Tail   \n",
       "4      Don't Haunt This Place   \n",
       "\n",
       "                                           release  \\\n",
       "0                                       Headstrong   \n",
       "1    Away We Go Original Motion Picture Soundtrack   \n",
       "2  Films About Ghosts (The Best Of Counting Crows)   \n",
       "3                                          Collide   \n",
       "4                                        Hometowns   \n",
       "\n",
       "                   artist_name  year       genre  artist_country  \\\n",
       "0               Ashley Tisdale  2007    pop_rock   United States   \n",
       "1                Alexi Murdoch  2009  soundtrack  United Kingdom   \n",
       "2               Counting Crows  1991        rock   United States   \n",
       "3                Beats Antique  2008  electronic   United States   \n",
       "4  The Rural Alberta Advantage  2008        rock          Canada   \n",
       "\n",
       "      artist_city  \n",
       "0  Ocean Township  \n",
       "1          London  \n",
       "2        Berkeley  \n",
       "3         Oakland  \n",
       "4         Toronto  "
      ]
     },
     "execution_count": 3,
     "metadata": {},
     "output_type": "execute_result"
    }
   ],
   "source": [
    "train = pd.read_csv('train_10k.csv')\n",
    "test = pd.read_csv('test_10k.csv')\n",
    "train.head()"
   ]
  },
  {
   "cell_type": "code",
   "execution_count": 4,
   "id": "ddca26d7",
   "metadata": {},
   "outputs": [
    {
     "data": {
      "text/plain": [
       "<10000x88058 sparse matrix of type '<class 'numpy.float64'>'\n",
       "\twith 682428 stored elements in COOrdinate format>"
      ]
     },
     "execution_count": 4,
     "metadata": {},
     "output_type": "execute_result"
    }
   ],
   "source": [
    "train_sparse = scs.load_npz('train_10k_sparse_matrix.npz')\n",
    "train_sparse"
   ]
  },
  {
   "cell_type": "code",
   "execution_count": 5,
   "id": "fb33ee10",
   "metadata": {},
   "outputs": [
    {
     "data": {
      "text/plain": [
       "<10000x88058 sparse matrix of type '<class 'numpy.float64'>'\n",
       "\twith 170607 stored elements in COOrdinate format>"
      ]
     },
     "execution_count": 5,
     "metadata": {},
     "output_type": "execute_result"
    }
   ],
   "source": [
    "test_sparse = scs.load_npz('test_10k_sparse_matrix.npz')\n",
    "test_sparse"
   ]
  },
  {
   "cell_type": "code",
   "execution_count": 6,
   "id": "67a2a6a1",
   "metadata": {},
   "outputs": [],
   "source": [
    "with open('users_10k_id_for_sparse.txt', 'r') as fp:\n",
    "    users_id_for_sparse = json.load(fp)\n",
    "    \n",
    "with open('songs_10k_id_for_sparse.txt', 'r') as fp:\n",
    "    songs_id_for_sparse = json.load(fp)"
   ]
  },
  {
   "cell_type": "code",
   "execution_count": 7,
   "id": "cdb73c6c",
   "metadata": {},
   "outputs": [],
   "source": [
    "def replace_user_id(x):\n",
    "    return users_id_for_sparse[x]\n",
    "\n",
    "def replace_song_id(x):\n",
    "    return songs_id_for_sparse[x]"
   ]
  },
  {
   "cell_type": "code",
   "execution_count": 8,
   "id": "75ea3064",
   "metadata": {},
   "outputs": [],
   "source": [
    "train['user_id'] = train.user_id.apply(replace_user_id)\n",
    "train['song_id'] = train.song_id.apply(replace_song_id)\n",
    "\n",
    "test['user_id'] = test.user_id.apply(replace_user_id)\n",
    "test['song_id'] = test.song_id.apply(replace_song_id)"
   ]
  },
  {
   "cell_type": "code",
   "execution_count": 9,
   "id": "bf3c220f",
   "metadata": {},
   "outputs": [
    {
     "data": {
      "text/html": [
       "<div>\n",
       "<style scoped>\n",
       "    .dataframe tbody tr th:only-of-type {\n",
       "        vertical-align: middle;\n",
       "    }\n",
       "\n",
       "    .dataframe tbody tr th {\n",
       "        vertical-align: top;\n",
       "    }\n",
       "\n",
       "    .dataframe thead th {\n",
       "        text-align: right;\n",
       "    }\n",
       "</style>\n",
       "<table border=\"1\" class=\"dataframe\">\n",
       "  <thead>\n",
       "    <tr style=\"text-align: right;\">\n",
       "      <th></th>\n",
       "      <th>user_id</th>\n",
       "      <th>song_id</th>\n",
       "      <th>play_count</th>\n",
       "      <th>title</th>\n",
       "      <th>release</th>\n",
       "      <th>artist_name</th>\n",
       "      <th>year</th>\n",
       "      <th>genre</th>\n",
       "      <th>artist_country</th>\n",
       "      <th>artist_city</th>\n",
       "    </tr>\n",
       "  </thead>\n",
       "  <tbody>\n",
       "    <tr>\n",
       "      <th>0</th>\n",
       "      <td>4337</td>\n",
       "      <td>55701</td>\n",
       "      <td>1</td>\n",
       "      <td>Unlove You (Album Version)</td>\n",
       "      <td>Headstrong</td>\n",
       "      <td>Ashley Tisdale</td>\n",
       "      <td>2007</td>\n",
       "      <td>pop_rock</td>\n",
       "      <td>United States</td>\n",
       "      <td>Ocean Township</td>\n",
       "    </tr>\n",
       "    <tr>\n",
       "      <th>1</th>\n",
       "      <td>9767</td>\n",
       "      <td>6227</td>\n",
       "      <td>1</td>\n",
       "      <td>Towards The Sun</td>\n",
       "      <td>Away We Go Original Motion Picture Soundtrack</td>\n",
       "      <td>Alexi Murdoch</td>\n",
       "      <td>2009</td>\n",
       "      <td>soundtrack</td>\n",
       "      <td>United Kingdom</td>\n",
       "      <td>London</td>\n",
       "    </tr>\n",
       "    <tr>\n",
       "      <th>2</th>\n",
       "      <td>7908</td>\n",
       "      <td>48367</td>\n",
       "      <td>1</td>\n",
       "      <td>Mr. Jones</td>\n",
       "      <td>Films About Ghosts (The Best Of Counting Crows)</td>\n",
       "      <td>Counting Crows</td>\n",
       "      <td>1991</td>\n",
       "      <td>rock</td>\n",
       "      <td>United States</td>\n",
       "      <td>Berkeley</td>\n",
       "    </tr>\n",
       "    <tr>\n",
       "      <th>3</th>\n",
       "      <td>8867</td>\n",
       "      <td>28004</td>\n",
       "      <td>1</td>\n",
       "      <td>Scratch Tail</td>\n",
       "      <td>Collide</td>\n",
       "      <td>Beats Antique</td>\n",
       "      <td>2008</td>\n",
       "      <td>electronic</td>\n",
       "      <td>United States</td>\n",
       "      <td>Oakland</td>\n",
       "    </tr>\n",
       "    <tr>\n",
       "      <th>4</th>\n",
       "      <td>1625</td>\n",
       "      <td>3134</td>\n",
       "      <td>2</td>\n",
       "      <td>Don't Haunt This Place</td>\n",
       "      <td>Hometowns</td>\n",
       "      <td>The Rural Alberta Advantage</td>\n",
       "      <td>2008</td>\n",
       "      <td>rock</td>\n",
       "      <td>Canada</td>\n",
       "      <td>Toronto</td>\n",
       "    </tr>\n",
       "  </tbody>\n",
       "</table>\n",
       "</div>"
      ],
      "text/plain": [
       "   user_id  song_id  play_count                       title  \\\n",
       "0     4337    55701           1  Unlove You (Album Version)   \n",
       "1     9767     6227           1             Towards The Sun   \n",
       "2     7908    48367           1                   Mr. Jones   \n",
       "3     8867    28004           1                Scratch Tail   \n",
       "4     1625     3134           2      Don't Haunt This Place   \n",
       "\n",
       "                                           release  \\\n",
       "0                                       Headstrong   \n",
       "1    Away We Go Original Motion Picture Soundtrack   \n",
       "2  Films About Ghosts (The Best Of Counting Crows)   \n",
       "3                                          Collide   \n",
       "4                                        Hometowns   \n",
       "\n",
       "                   artist_name  year       genre  artist_country  \\\n",
       "0               Ashley Tisdale  2007    pop_rock   United States   \n",
       "1                Alexi Murdoch  2009  soundtrack  United Kingdom   \n",
       "2               Counting Crows  1991        rock   United States   \n",
       "3                Beats Antique  2008  electronic   United States   \n",
       "4  The Rural Alberta Advantage  2008        rock          Canada   \n",
       "\n",
       "      artist_city  \n",
       "0  Ocean Township  \n",
       "1          London  \n",
       "2        Berkeley  \n",
       "3         Oakland  \n",
       "4         Toronto  "
      ]
     },
     "execution_count": 9,
     "metadata": {},
     "output_type": "execute_result"
    }
   ],
   "source": [
    "train.head()"
   ]
  },
  {
   "cell_type": "code",
   "execution_count": 20,
   "id": "b740c370",
   "metadata": {},
   "outputs": [
    {
     "data": {
      "text/plain": [
       "(10000, 81458)"
      ]
     },
     "execution_count": 20,
     "metadata": {},
     "output_type": "execute_result"
    }
   ],
   "source": [
    "num_users, num_songs = train.user_id.nunique(), train.song_id.nunique()\n",
    "num_users, num_songs"
   ]
  },
  {
   "cell_type": "code",
   "execution_count": 14,
   "id": "bbfae273",
   "metadata": {},
   "outputs": [
    {
     "data": {
      "image/png": "[encoded data removed]",
      "text/plain": [
       "<Figure size 1500x700 with 1 Axes>"
      ]
     },
     "metadata": {},
     "output_type": "display_data"
    }
   ],
   "source": [
    "fig = plt.figure(figsize = (15, 7))\n",
    "\n",
    "ax = sns.countplot(x='play_count', data=train);\n",
    "\n",
    "for rect in ax.patches:\n",
    "    ax.text(rect.get_x() + rect.get_width() / 2, rect.get_height() + 5000, \n",
    "            rect.get_height(), horizontalalignment='center', fontsize = 11)\n",
    "\n",
    "plt.title('Распределение по количеству прослушиваний', fontsize=13);\n",
    "plt.ylabel('Count', fontsize=10);\n",
    "plt.xlabel('Play_count',  fontsize=10);"
   ]
  },
  {
   "cell_type": "code",
   "execution_count": 17,
   "id": "b5afa9a9",
   "metadata": {
    "scrolled": false
   },
   "outputs": [
    {
     "data": {
      "image/png": "[encoded data removed]",
      "text/plain": [
       "<Figure size 1500x700 with 1 Axes>"
      ]
     },
     "metadata": {},
     "output_type": "display_data"
    }
   ],
   "source": [
    "fig = plt.figure(figsize = (15, 7))\n",
    "\n",
    "sns.histplot(train.groupby('song_id').size(), log_scale=True);\n",
    "\n",
    "plt.title('Распределение по количеству прослушанных песен', fontsize=13);\n",
    "plt.ylabel('Count', fontsize=10);\n",
    "plt.xlabel('Play_count',  fontsize=10);"
   ]
  },
  {
   "cell_type": "markdown",
   "id": "64337615",
   "metadata": {},
   "source": [
    "### Создаем матрицу для item-features"
   ]
  },
  {
   "cell_type": "code",
   "execution_count": 46,
   "id": "ff36790c",
   "metadata": {},
   "outputs": [],
   "source": [
    "test_zero = test.copy()\n",
    "test_zero['play_count'] = 0"
   ]
  },
  {
   "cell_type": "markdown",
   "id": "b0b941a7",
   "metadata": {},
   "source": [
    "Чтобы избежать переобучения обнулим количество прослушиваний песен для теста и объединим тест и трейн."
   ]
  },
  {
   "cell_type": "code",
   "execution_count": 47,
   "id": "e398dbce",
   "metadata": {},
   "outputs": [
    {
     "data": {
      "text/html": [
       "<div>\n",
       "<style scoped>\n",
       "    .dataframe tbody tr th:only-of-type {\n",
       "        vertical-align: middle;\n",
       "    }\n",
       "\n",
       "    .dataframe tbody tr th {\n",
       "        vertical-align: top;\n",
       "    }\n",
       "\n",
       "    .dataframe thead th {\n",
       "        text-align: right;\n",
       "    }\n",
       "</style>\n",
       "<table border=\"1\" class=\"dataframe\">\n",
       "  <thead>\n",
       "    <tr style=\"text-align: right;\">\n",
       "      <th></th>\n",
       "      <th>user_id</th>\n",
       "      <th>song_id</th>\n",
       "      <th>play_count</th>\n",
       "      <th>title</th>\n",
       "      <th>release</th>\n",
       "      <th>artist_name</th>\n",
       "      <th>year</th>\n",
       "      <th>genre</th>\n",
       "      <th>artist_country</th>\n",
       "      <th>artist_city</th>\n",
       "    </tr>\n",
       "  </thead>\n",
       "  <tbody>\n",
       "    <tr>\n",
       "      <th>0</th>\n",
       "      <td>1234</td>\n",
       "      <td>11506</td>\n",
       "      <td>0</td>\n",
       "      <td>You Appearing</td>\n",
       "      <td>Saturdays = Youth</td>\n",
       "      <td>M83</td>\n",
       "      <td>2008</td>\n",
       "      <td>electronic</td>\n",
       "      <td>France</td>\n",
       "      <td>Antibes</td>\n",
       "    </tr>\n",
       "    <tr>\n",
       "      <th>1</th>\n",
       "      <td>6261</td>\n",
       "      <td>56945</td>\n",
       "      <td>0</td>\n",
       "      <td>The Old Homestead (Remastered Album Version)</td>\n",
       "      <td>Hawks &amp; Doves</td>\n",
       "      <td>Neil Young</td>\n",
       "      <td>1980</td>\n",
       "      <td>rock</td>\n",
       "      <td>Canada</td>\n",
       "      <td>Toronto</td>\n",
       "    </tr>\n",
       "    <tr>\n",
       "      <th>2</th>\n",
       "      <td>9153</td>\n",
       "      <td>85415</td>\n",
       "      <td>0</td>\n",
       "      <td>One</td>\n",
       "      <td>...And Justice For All</td>\n",
       "      <td>Metallica</td>\n",
       "      <td>1988</td>\n",
       "      <td>rock</td>\n",
       "      <td>United States</td>\n",
       "      <td>Los Angeles</td>\n",
       "    </tr>\n",
       "    <tr>\n",
       "      <th>3</th>\n",
       "      <td>8483</td>\n",
       "      <td>87056</td>\n",
       "      <td>0</td>\n",
       "      <td>Tú</td>\n",
       "      <td>Shakira MTV Unplugged</td>\n",
       "      <td>Shakira</td>\n",
       "      <td>1998</td>\n",
       "      <td>pop</td>\n",
       "      <td>Colombia</td>\n",
       "      <td>Barranquilla</td>\n",
       "    </tr>\n",
       "    <tr>\n",
       "      <th>4</th>\n",
       "      <td>8246</td>\n",
       "      <td>69701</td>\n",
       "      <td>0</td>\n",
       "      <td>Hustla Balla Gangsta Mack</td>\n",
       "      <td>Rich Boy</td>\n",
       "      <td>Rich Boy</td>\n",
       "      <td>2007</td>\n",
       "      <td>hiphop</td>\n",
       "      <td>United States</td>\n",
       "      <td>Mobile</td>\n",
       "    </tr>\n",
       "  </tbody>\n",
       "</table>\n",
       "</div>"
      ],
      "text/plain": [
       "   user_id  song_id  play_count                                         title  \\\n",
       "0     1234    11506           0                                 You Appearing   \n",
       "1     6261    56945           0  The Old Homestead (Remastered Album Version)   \n",
       "2     9153    85415           0                                           One   \n",
       "3     8483    87056           0                                            Tú   \n",
       "4     8246    69701           0                     Hustla Balla Gangsta Mack   \n",
       "\n",
       "                  release artist_name  year       genre artist_country  \\\n",
       "0       Saturdays = Youth         M83  2008  electronic         France   \n",
       "1           Hawks & Doves  Neil Young  1980        rock         Canada   \n",
       "2  ...And Justice For All   Metallica  1988        rock  United States   \n",
       "3   Shakira MTV Unplugged     Shakira  1998         pop       Colombia   \n",
       "4                Rich Boy    Rich Boy  2007      hiphop  United States   \n",
       "\n",
       "    artist_city  \n",
       "0       Antibes  \n",
       "1       Toronto  \n",
       "2   Los Angeles  \n",
       "3  Barranquilla  \n",
       "4        Mobile  "
      ]
     },
     "execution_count": 47,
     "metadata": {},
     "output_type": "execute_result"
    }
   ],
   "source": [
    "test_zero.head()"
   ]
  },
  {
   "cell_type": "code",
   "execution_count": 48,
   "id": "9d6485c1",
   "metadata": {},
   "outputs": [
    {
     "data": {
      "text/plain": [
       "(853035, 10)"
      ]
     },
     "execution_count": 48,
     "metadata": {},
     "output_type": "execute_result"
    }
   ],
   "source": [
    "data_10k = pd.concat([train, test_zero])\n",
    "data_10k.shape"
   ]
  },
  {
   "cell_type": "code",
   "execution_count": 49,
   "id": "c7655f3f",
   "metadata": {},
   "outputs": [
    {
     "data": {
      "text/html": [
       "<div>\n",
       "<style scoped>\n",
       "    .dataframe tbody tr th:only-of-type {\n",
       "        vertical-align: middle;\n",
       "    }\n",
       "\n",
       "    .dataframe tbody tr th {\n",
       "        vertical-align: top;\n",
       "    }\n",
       "\n",
       "    .dataframe thead th {\n",
       "        text-align: right;\n",
       "    }\n",
       "</style>\n",
       "<table border=\"1\" class=\"dataframe\">\n",
       "  <thead>\n",
       "    <tr style=\"text-align: right;\">\n",
       "      <th></th>\n",
       "      <th>song_id</th>\n",
       "      <th>play_count</th>\n",
       "      <th>release</th>\n",
       "      <th>artist_name</th>\n",
       "      <th>year</th>\n",
       "      <th>genre</th>\n",
       "      <th>artist_country</th>\n",
       "      <th>artist_city</th>\n",
       "    </tr>\n",
       "  </thead>\n",
       "  <tbody>\n",
       "    <tr>\n",
       "      <th>0</th>\n",
       "      <td>55701</td>\n",
       "      <td>1</td>\n",
       "      <td>Headstrong</td>\n",
       "      <td>Ashley Tisdale</td>\n",
       "      <td>2007</td>\n",
       "      <td>pop_rock</td>\n",
       "      <td>United States</td>\n",
       "      <td>Ocean Township</td>\n",
       "    </tr>\n",
       "    <tr>\n",
       "      <th>1</th>\n",
       "      <td>6227</td>\n",
       "      <td>1</td>\n",
       "      <td>Away We Go Original Motion Picture Soundtrack</td>\n",
       "      <td>Alexi Murdoch</td>\n",
       "      <td>2009</td>\n",
       "      <td>soundtrack</td>\n",
       "      <td>United Kingdom</td>\n",
       "      <td>London</td>\n",
       "    </tr>\n",
       "    <tr>\n",
       "      <th>2</th>\n",
       "      <td>48367</td>\n",
       "      <td>1</td>\n",
       "      <td>Films About Ghosts (The Best Of Counting Crows)</td>\n",
       "      <td>Counting Crows</td>\n",
       "      <td>1991</td>\n",
       "      <td>rock</td>\n",
       "      <td>United States</td>\n",
       "      <td>Berkeley</td>\n",
       "    </tr>\n",
       "    <tr>\n",
       "      <th>3</th>\n",
       "      <td>28004</td>\n",
       "      <td>1</td>\n",
       "      <td>Collide</td>\n",
       "      <td>Beats Antique</td>\n",
       "      <td>2008</td>\n",
       "      <td>electronic</td>\n",
       "      <td>United States</td>\n",
       "      <td>Oakland</td>\n",
       "    </tr>\n",
       "    <tr>\n",
       "      <th>4</th>\n",
       "      <td>3134</td>\n",
       "      <td>2</td>\n",
       "      <td>Hometowns</td>\n",
       "      <td>The Rural Alberta Advantage</td>\n",
       "      <td>2008</td>\n",
       "      <td>rock</td>\n",
       "      <td>Canada</td>\n",
       "      <td>Toronto</td>\n",
       "    </tr>\n",
       "  </tbody>\n",
       "</table>\n",
       "</div>"
      ],
      "text/plain": [
       "   song_id  play_count                                          release  \\\n",
       "0    55701           1                                       Headstrong   \n",
       "1     6227           1    Away We Go Original Motion Picture Soundtrack   \n",
       "2    48367           1  Films About Ghosts (The Best Of Counting Crows)   \n",
       "3    28004           1                                          Collide   \n",
       "4     3134           2                                        Hometowns   \n",
       "\n",
       "                   artist_name  year       genre  artist_country  \\\n",
       "0               Ashley Tisdale  2007    pop_rock   United States   \n",
       "1                Alexi Murdoch  2009  soundtrack  United Kingdom   \n",
       "2               Counting Crows  1991        rock   United States   \n",
       "3                Beats Antique  2008  electronic   United States   \n",
       "4  The Rural Alberta Advantage  2008        rock          Canada   \n",
       "\n",
       "      artist_city  \n",
       "0  Ocean Township  \n",
       "1          London  \n",
       "2        Berkeley  \n",
       "3         Oakland  \n",
       "4         Toronto  "
      ]
     },
     "execution_count": 49,
     "metadata": {},
     "output_type": "execute_result"
    }
   ],
   "source": [
    "song_10k = data_10k[['song_id', 'play_count', 'release', 'artist_name', \n",
    "                     'year', 'genre', 'artist_country', 'artist_city']].drop_duplicates()\n",
    "song_10k.head()"
   ]
  },
  {
   "cell_type": "code",
   "execution_count": 50,
   "id": "008631b6",
   "metadata": {},
   "outputs": [],
   "source": [
    "song_10k = song_10k.groupby(['song_id', 'release', 'artist_name', 'year', 'genre', \n",
    "                             'artist_country', 'artist_city'], as_index=False).agg({'play_count': 'sum'})"
   ]
  },
  {
   "cell_type": "markdown",
   "id": "c5884d85",
   "metadata": {},
   "source": [
    "Получим датасет с уникальными песнями и их фичами, включая целевую переменную - play_count."
   ]
  },
  {
   "cell_type": "code",
   "execution_count": 54,
   "id": "c0bcc4aa",
   "metadata": {},
   "outputs": [
    {
     "data": {
      "text/html": [
       "<div>\n",
       "<style scoped>\n",
       "    .dataframe tbody tr th:only-of-type {\n",
       "        vertical-align: middle;\n",
       "    }\n",
       "\n",
       "    .dataframe tbody tr th {\n",
       "        vertical-align: top;\n",
       "    }\n",
       "\n",
       "    .dataframe thead th {\n",
       "        text-align: right;\n",
       "    }\n",
       "</style>\n",
       "<table border=\"1\" class=\"dataframe\">\n",
       "  <thead>\n",
       "    <tr style=\"text-align: right;\">\n",
       "      <th></th>\n",
       "      <th>song_id</th>\n",
       "      <th>release</th>\n",
       "      <th>artist_name</th>\n",
       "      <th>year</th>\n",
       "      <th>genre</th>\n",
       "      <th>artist_country</th>\n",
       "      <th>artist_city</th>\n",
       "      <th>play_count</th>\n",
       "    </tr>\n",
       "  </thead>\n",
       "  <tbody>\n",
       "    <tr>\n",
       "      <th>0</th>\n",
       "      <td>0</td>\n",
       "      <td>The Room</td>\n",
       "      <td>Harold Budd</td>\n",
       "      <td>2000</td>\n",
       "      <td>ambient</td>\n",
       "      <td>United States</td>\n",
       "      <td>Los Angeles</td>\n",
       "      <td>0</td>\n",
       "    </tr>\n",
       "    <tr>\n",
       "      <th>1</th>\n",
       "      <td>1</td>\n",
       "      <td>Have Yourself A Tractors Christmas</td>\n",
       "      <td>The Tractors</td>\n",
       "      <td>1995</td>\n",
       "      <td>country</td>\n",
       "      <td>United States</td>\n",
       "      <td>Tulsa</td>\n",
       "      <td>1</td>\n",
       "    </tr>\n",
       "    <tr>\n",
       "      <th>2</th>\n",
       "      <td>2</td>\n",
       "      <td>At the Cut</td>\n",
       "      <td>Vic Chesnutt</td>\n",
       "      <td>2009</td>\n",
       "      <td>rock</td>\n",
       "      <td>United States</td>\n",
       "      <td>Jacksonville</td>\n",
       "      <td>0</td>\n",
       "    </tr>\n",
       "    <tr>\n",
       "      <th>3</th>\n",
       "      <td>3</td>\n",
       "      <td>20 Años</td>\n",
       "      <td>Alejandro Lerner</td>\n",
       "      <td>1998</td>\n",
       "      <td>latin</td>\n",
       "      <td>Argentina</td>\n",
       "      <td>Buenos Aires</td>\n",
       "      <td>3</td>\n",
       "    </tr>\n",
       "    <tr>\n",
       "      <th>4</th>\n",
       "      <td>4</td>\n",
       "      <td>Sefronia</td>\n",
       "      <td>Tim Buckley</td>\n",
       "      <td>1973</td>\n",
       "      <td>folk</td>\n",
       "      <td>United States</td>\n",
       "      <td>Washington</td>\n",
       "      <td>0</td>\n",
       "    </tr>\n",
       "  </tbody>\n",
       "</table>\n",
       "</div>"
      ],
      "text/plain": [
       "   song_id                             release       artist_name  year  \\\n",
       "0        0                            The Room       Harold Budd  2000   \n",
       "1        1  Have Yourself A Tractors Christmas      The Tractors  1995   \n",
       "2        2                          At the Cut      Vic Chesnutt  2009   \n",
       "3        3                             20 Años  Alejandro Lerner  1998   \n",
       "4        4                            Sefronia       Tim Buckley  1973   \n",
       "\n",
       "     genre artist_country   artist_city  play_count  \n",
       "0  ambient  United States   Los Angeles           0  \n",
       "1  country  United States         Tulsa           1  \n",
       "2     rock  United States  Jacksonville           0  \n",
       "3    latin      Argentina  Buenos Aires           3  \n",
       "4     folk  United States    Washington           0  "
      ]
     },
     "execution_count": 54,
     "metadata": {},
     "output_type": "execute_result"
    }
   ],
   "source": [
    "song_10k = song_10k.sort_values(by='song_id')\n",
    "song_10k.head()"
   ]
  },
  {
   "cell_type": "code",
   "execution_count": 55,
   "id": "84ad9994",
   "metadata": {},
   "outputs": [
    {
     "data": {
      "text/plain": [
       "(88058, 8)"
      ]
     },
     "execution_count": 55,
     "metadata": {},
     "output_type": "execute_result"
    }
   ],
   "source": [
    "song_10k.shape"
   ]
  },
  {
   "cell_type": "code",
   "execution_count": 56,
   "id": "7761b89f",
   "metadata": {},
   "outputs": [],
   "source": [
    "cat_cols = ['release', 'artist_name', 'year', 'genre', 'artist_country', 'artist_city']"
   ]
  },
  {
   "cell_type": "code",
   "execution_count": 57,
   "id": "022c58f4",
   "metadata": {},
   "outputs": [],
   "source": [
    "pipe = Pipeline([('enc', LeaveOneOutEncoder(cols=cat_cols)), \n",
    "                ('scaler', StandardScaler())])"
   ]
  },
  {
   "cell_type": "code",
   "execution_count": 58,
   "id": "86e312d0",
   "metadata": {},
   "outputs": [
    {
     "data": {
      "text/plain": [
       "(88058, 7)"
      ]
     },
     "execution_count": 58,
     "metadata": {},
     "output_type": "execute_result"
    }
   ],
   "source": [
    "song_features = pipe.fit_transform(song_10k.drop('song_id', axis=1), song_10k.play_count)\n",
    "song_features.shape"
   ]
  },
  {
   "cell_type": "code",
   "execution_count": 59,
   "id": "5d259fab",
   "metadata": {},
   "outputs": [
    {
     "data": {
      "text/plain": [
       "<88058x7 sparse matrix of type '<class 'numpy.float64'>'\n",
       "\twith 616406 stored elements in Compressed Sparse Row format>"
      ]
     },
     "execution_count": 59,
     "metadata": {},
     "output_type": "execute_result"
    }
   ],
   "source": [
    "items_features = scs.csr_matrix(song_features)\n",
    "items_features"
   ]
  },
  {
   "cell_type": "markdown",
   "id": "9db6c0dc",
   "metadata": {},
   "source": [
    "## Обучение моделей\n",
    "### Random"
   ]
  },
  {
   "cell_type": "code",
   "execution_count": 34,
   "id": "9b8c677b",
   "metadata": {},
   "outputs": [],
   "source": [
    "def get_random_preds(k=10):\n",
    "    preds = np.tile(np.arange(num_songs), (num_users, 1))\n",
    "    for i in range(num_users):\n",
    "        rand_perm = np.random.permutation(num_songs)\n",
    "        preds[i] = preds[i][rand_perm]\n",
    "\n",
    "    preds = remove_train_items(preds, k)\n",
    "    return preds"
   ]
  },
  {
   "cell_type": "markdown",
   "id": "362f76a5",
   "metadata": {},
   "source": [
    "### Popularity Based Filtering"
   ]
  },
  {
   "cell_type": "code",
   "execution_count": 35,
   "id": "57b96823",
   "metadata": {},
   "outputs": [],
   "source": [
    "def remove_train_items(preds, k):\n",
    "    new_preds = np.zeros((preds.shape[0], k), dtype=np.int)\n",
    "    for user, data in train.groupby('user_id'):\n",
    "        user_preds = preds[user]\n",
    "        new_preds[user] = user_preds[~np.in1d(user_preds, data.song_id)][:k]\n",
    "    return new_preds\n",
    "\n",
    "\n",
    "def get_toppop_preds(freq=10, k=10):\n",
    "    mean_rating = train.groupby('song_id').play_count.mean()\n",
    "    mean_rating = mean_rating[train.groupby('song_id').size() >= freq]\n",
    "    preds = np.array(mean_rating.sort_values(ascending=False).index)\n",
    "    preds = np.tile(preds, (num_users, 1))\n",
    "    preds = remove_train_items(preds, k)\n",
    "    return preds"
   ]
  },
  {
   "cell_type": "markdown",
   "id": "5f250dbd",
   "metadata": {},
   "source": [
    "### ALS"
   ]
  },
  {
   "cell_type": "code",
   "execution_count": 30,
   "id": "f22dd3c2",
   "metadata": {},
   "outputs": [],
   "source": [
    "def ALS(train_sparse, users: List, items: List, dim=64, n_iters=1, eps=1e-7):\n",
    "    \n",
    "    num_users = train_sparse.shape[0]\n",
    "    num_items = train_sparse.shape[1]\n",
    "    \n",
    "    R = train_sparse.copy()\n",
    "    print(R.shape)\n",
    "    P = np.random.randn(num_users, dim)\n",
    "    print(P.shape)\n",
    "    Q = np.random.randn(num_items, dim)\n",
    "    print(Q.shape)\n",
    "    \n",
    "    for t in tqdm(range(n_iters)):\n",
    "        RQ = R @ Q\n",
    "        for u in range(num_users):\n",
    "            relevant_items = items[users == u]\n",
    "            Q_rel = Q[relevant_items]\n",
    "            QQ = Q_rel.reshape(-1, dim, 1) * Q_rel.reshape(-1, 1, dim)\n",
    "            P[u] = np.linalg.inv(QQ.sum(axis=0) + eps * np.eye(dim)) @ RQ[u]\n",
    "\n",
    "        RP = R.T @ P\n",
    "        for i in range(num_items):\n",
    "            relevant_users = users[items == i]\n",
    "            P_rel = P[relevant_users]\n",
    "            PP = P_rel.reshape(-1, dim, 1) * P_rel.reshape(-1, 1, dim)\n",
    "            Q[i] = np.linalg.inv(PP.sum(axis=0) + eps * np.eye(dim)) @ RP[i]\n",
    "    \n",
    "    return P, Q"
   ]
  },
  {
   "cell_type": "code",
   "execution_count": 31,
   "id": "0f723e10",
   "metadata": {
    "scrolled": true
   },
   "outputs": [
    {
     "name": "stdout",
     "output_type": "stream",
     "text": [
      "(10000, 88058)\n",
      "(10000, 64)\n",
      "(88058, 64)\n"
     ]
    },
    {
     "name": "stderr",
     "output_type": "stream",
     "text": [
      "100%|██████████| 5/5 [11:59<00:00, 143.86s/it]\n"
     ]
    }
   ],
   "source": [
    "P, Q = ALS(train_sparse, train.user_id, train.song_id, n_iters=5)"
   ]
  },
  {
   "cell_type": "code",
   "execution_count": 33,
   "id": "7dd59d44",
   "metadata": {},
   "outputs": [],
   "source": [
    "def get_ALS_preds(U, V, k=10):\n",
    "    preds = np.argsort(U @ V.T, axis=1)\n",
    "    preds = remove_train_items(preds, k)\n",
    "    return preds"
   ]
  },
  {
   "cell_type": "markdown",
   "id": "b6d40363",
   "metadata": {},
   "source": [
    "### Implicit ALS"
   ]
  },
  {
   "cell_type": "code",
   "execution_count": 133,
   "id": "7b92e09d",
   "metadata": {},
   "outputs": [],
   "source": [
    "user_items_data = train_sparse.copy().tocsr()"
   ]
  },
  {
   "cell_type": "code",
   "execution_count": 164,
   "id": "9c2dce95",
   "metadata": {},
   "outputs": [],
   "source": [
    "def get_implicit_pred(k):\n",
    "    item_user_data = load_npz('train_10k_sparse_matrix.npz')\n",
    "    model = AlternatingLeastSquares(factors=50)\n",
    "    model.fit(item_user_data)\n",
    "    implicit_pred = []\n",
    "    user_items = item_user_data.T.tocsr()\n",
    "    for i in range(10000):\n",
    "        recommendations = model.recommend(i, user_items[i], N=k)[0]\n",
    "        implicit_pred.append(recommendations)\n",
    "    return implicit_pred"
   ]
  },
  {
   "cell_type": "markdown",
   "id": "9edb805f",
   "metadata": {},
   "source": [
    "### LightFm"
   ]
  },
  {
   "cell_type": "code",
   "execution_count": 60,
   "id": "da2e7363",
   "metadata": {},
   "outputs": [],
   "source": [
    "modelFM = LightFM(no_components=200,\n",
    "                  loss='warp', \n",
    "                  user_alpha=6e-5, \n",
    "                  item_alpha=2e-5, \n",
    "                  learning_rate=0.01, \n",
    "                  random_state=42,\n",
    "                  max_sampled=100)"
   ]
  },
  {
   "cell_type": "code",
   "execution_count": 61,
   "id": "408bf234",
   "metadata": {},
   "outputs": [],
   "source": [
    "epochs = 1\n",
    "rounds = 10\n",
    "for rounds in tqdm(range(rounds)):\n",
    "    modelFM.fit_partial(train_sparse, \n",
    "                       sample_weight=train_sparse, \n",
    "                       epochs=epochs, \n",
    "                       num_threads=8,\n",
    "                       item_features=items_features,\n",
    "                       user_features=train_sparse)"
   ]
  },
  {
   "cell_type": "code",
   "execution_count": 62,
   "id": "4d746e11",
   "metadata": {},
   "outputs": [],
   "source": [
    "modelFM = joblib.load('LightFM.pkl')"
   ]
  },
  {
   "cell_type": "code",
   "execution_count": 63,
   "id": "2cac3689",
   "metadata": {},
   "outputs": [],
   "source": [
    "pred = []\n",
    "for row_id in tqdm(np.arange(test_sparse.shape[0])):\n",
    "    score = pd.Series(modelFM.predict(int(row_id), np.arange(test_sparse.shape[1]), \n",
    "                                      item_features=items_features,\n",
    "                                      user_features=test_sparse,\n",
    "                                      num_threads=8))\n",
    "    score.index = np.arange(test_sparse.shape[1])\n",
    "    score = list(pd.Series(score.sort_values(ascending=False).index))\n",
    "    \n",
    "    pred_items = score[:50]\n",
    "    \n",
    "    pred.append(pred_items)"
   ]
  },
  {
   "cell_type": "markdown",
   "id": "31184a4f",
   "metadata": {},
   "source": [
    "### SVD"
   ]
  },
  {
   "cell_type": "code",
   "execution_count": 185,
   "id": "fac2d719",
   "metadata": {},
   "outputs": [],
   "source": [
    "def get_SVD_pred(ks):\n",
    "    u, s, vt = svds(train_sparse, k=10)\n",
    "    s_diag_matrix = np.diag(s)\n",
    "    X_pred = np.dot(np.dot(u, s_diag_matrix), vt)\n",
    "    \n",
    "    pred_svd = []\n",
    "    for row_id in tqdm(np.arange(test_sparse.shape[0])):\n",
    "        score = pd.Series(X_pred[row_id, :])\n",
    "        score = list(pd.Series(score.sort_values(ascending=False).index))\n",
    "\n",
    "        pred_items = score[:ks]\n",
    "        pred_svd.append(pred_items)\n",
    "        \n",
    "    return pred_svd"
   ]
  },
  {
   "cell_type": "markdown",
   "id": "efdda539",
   "metadata": {},
   "source": [
    "## Оценка качества"
   ]
  },
  {
   "cell_type": "code",
   "execution_count": 175,
   "id": "52f67bf9",
   "metadata": {},
   "outputs": [],
   "source": [
    "from metrics import MAP_k, MAR_k"
   ]
  },
  {
   "cell_type": "markdown",
   "id": "981a48fa",
   "metadata": {},
   "source": [
    "Получим истинные и предсказанные значения для каждой модели."
   ]
  },
  {
   "cell_type": "code",
   "execution_count": 36,
   "id": "af2365dc",
   "metadata": {},
   "outputs": [],
   "source": [
    "true_relevant = []\n",
    "for user, data in test[test.play_count >= 3].groupby('user_id'):\n",
    "    true_relevant += [data.song_id.tolist()]"
   ]
  },
  {
   "cell_type": "code",
   "execution_count": 112,
   "id": "c5bcd304",
   "metadata": {
    "code_folding": []
   },
   "outputs": [],
   "source": [
    "ks = np.arange(1, 31)\n",
    "\n",
    "als_preds = get_ALS_preds(P, Q, k=ks[-1])\n",
    "random_preds = get_random_preds(k=ks[-1])\n",
    "top_preds = get_toppop_preds(freq=10, k=ks[-1])\n",
    "pred_svd = get_SVD_pred(ks=ks[-1])"
   ]
  },
  {
   "cell_type": "code",
   "execution_count": 166,
   "id": "c5f614ba",
   "metadata": {},
   "outputs": [],
   "source": [
    "with open('LF_pred.pkl', 'rb') as f:\n",
    "    pred_LF = pickle.load(f)\n",
    "    \n",
    "with open('IMP_pred.pkl', 'rb') as f:\n",
    "    implicit_pred = pickle.load(f)"
   ]
  },
  {
   "cell_type": "markdown",
   "id": "2d44153e",
   "metadata": {},
   "source": [
    "Оценим качество на метриках MAP_k и MAR_k."
   ]
  },
  {
   "cell_type": "code",
   "execution_count": 179,
   "id": "b684d5c5",
   "metadata": {},
   "outputs": [],
   "source": [
    "random_map_k = [MAP_k(true_relevant, random_preds, k=k) for k in ks]\n",
    "top_map_k = [MAP_k(true_relevant, top_preds, k=k) for k in ks]\n",
    "als_map_k = [MAP_k(true_relevant, als_preds, k=k) for k in ks]\n",
    "LFM_map_k = [MAP_k(true_relevant, pred_LF, k=k) for k in ks]\n",
    "impl_map_k = [MAP_k(true_relevant, implicit_pred, k=k) for k in ks]\n",
    "SVD_map_k = [MAP_k(true_relevant, pred_svd, k=k) for k in ks]"
   ]
  },
  {
   "cell_type": "code",
   "execution_count": 190,
   "id": "1af6e4b6",
   "metadata": {},
   "outputs": [
    {
     "data": {
      "image/png": "[encoded data removed]",
      "text/plain": [
       "<Figure size 1000x600 with 1 Axes>"
      ]
     },
     "metadata": {},
     "output_type": "display_data"
    }
   ],
   "source": [
    "plt.figure(figsize=(10, 6))\n",
    "plt.plot(ks, random_map_k, label='Random')\n",
    "plt.plot(ks, top_map_k, label='Top Popular')\n",
    "plt.plot(ks, als_map_k, label='ALS')\n",
    "plt.plot(ks, LFM_map_k, label='LigthFM')\n",
    "plt.plot(ks, impl_map_k, label='Implicit ALS')\n",
    "plt.plot(ks, SVD_map_k, label='SVD')\n",
    "\n",
    "plt.legend(title='method')\n",
    "plt.xlabel('k')\n",
    "plt.ylabel('MAP@k')\n",
    "plt.show()"
   ]
  },
  {
   "cell_type": "code",
   "execution_count": 176,
   "id": "d7310dc3",
   "metadata": {},
   "outputs": [],
   "source": [
    "random_mar_k = [MAR_k(true_relevant, random_preds, k=k) for k in ks]\n",
    "top_mar_k = [MAR_k(true_relevant, top_preds, k=k) for k in ks]\n",
    "als_mar_k = [MAR_k(true_relevant, als_preds, k=k) for k in ks]\n",
    "LFM_mar_k = [MAR_k(true_relevant, pred_LF, k=k) for k in ks]\n",
    "impl_mar_k = [MAR_k(true_relevant, implicit_pred, k=k) for k in ks]\n",
    "SVD_mar_k = [MAR_k(true_relevant, pred_svd, k=k) for k in ks]"
   ]
  },
  {
   "cell_type": "code",
   "execution_count": 192,
   "id": "6ee23d72",
   "metadata": {},
   "outputs": [
    {
     "data": {
      "image/png": "[encoded data removed]",
      "text/plain": [
       "<Figure size 1000x600 with 1 Axes>"
      ]
     },
     "metadata": {},
     "output_type": "display_data"
    }
   ],
   "source": [
    "plt.figure(figsize=(10, 6))\n",
    "plt.plot(ks, random_mar_k, label='Random')\n",
    "plt.plot(ks, top_mar_k, label='Top Popular')\n",
    "plt.plot(ks, als_mar_k, label='ALS')\n",
    "plt.plot(ks, LFM_mar_k, label='LigthFM')\n",
    "plt.plot(ks, impl_mar_k, label='Implicit ALS')\n",
    "plt.plot(ks, SVD_mar_k, label='SVD')\n",
    "\n",
    "plt.legend(title='method')\n",
    "plt.xlabel('k')\n",
    "plt.ylabel('MAR@k')\n",
    "plt.show()"
   ]
  }
 ],
 "metadata": {
  "kernelspec": {
   "display_name": "Python 3 (ipykernel)",
   "language": "python",
   "name": "python3"
  },
  "language_info": {
   "codemirror_mode": {
    "name": "ipython",
    "version": 3
   },
   "file_extension": ".py",
   "mimetype": "text/x-python",
   "name": "python",
   "nbconvert_exporter": "python",
   "pygments_lexer": "ipython3",
   "version": "3.9.13"
  },
  "toc": {
   "base_numbering": 1,
   "nav_menu": {},
   "number_sections": true,
   "sideBar": true,
   "skip_h1_title": false,
   "title_cell": "Table of Contents",
   "title_sidebar": "Contents",
   "toc_cell": false,
   "toc_position": {},
   "toc_section_display": true,
   "toc_window_display": false
  }
 },
 "nbformat": 4,
 "nbformat_minor": 5
}
