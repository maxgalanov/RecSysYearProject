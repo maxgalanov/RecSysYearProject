{
 "cells": [
  {
   "cell_type": "code",
   "execution_count": 1,
   "id": "e1adad46",
   "metadata": {},
   "outputs": [
    {
     "name": "stderr",
     "output_type": "stream",
     "text": [
      "C:\\Users\\vshir\\anaconda3\\lib\\site-packages\\lightfm\\_lightfm_fast.py:9: UserWarning: LightFM was compiled without OpenMP support. Only a single thread will be used.\n",
      "  warnings.warn(\n"
     ]
    }
   ],
   "source": [
    "import pandas as pd\n",
    "import numpy as np\n",
    "import scipy.sparse as scs\n",
    "import matplotlib.pyplot as plt\n",
    "import seaborn as sns\n",
    "\n",
    "import sqlite3\n",
    "import json\n",
    "import joblib\n",
    "import pickle\n",
    "import warnings\n",
    "from tqdm.notebook import tqdm\n",
    "\n",
    "from lightfm import LightFM\n",
    "from lightfm.evaluation import auc_score\n",
    "from sklearn.pipeline import Pipeline\n",
    "from sklearn.preprocessing import StandardScaler\n",
    "from category_encoders.leave_one_out import LeaveOneOutEncoder\n",
    "\n",
    "warnings.filterwarnings(\"ignore\")\n"
   ]
  },
  {
   "attachments": {},
   "cell_type": "markdown",
   "id": "8c0643f9",
   "metadata": {},
   "source": [
    "## Загрузка данных\n",
    "### Загружаем матрицы user-item"
   ]
  },
  {
   "cell_type": "code",
   "execution_count": 2,
   "id": "6d2b4de1",
   "metadata": {},
   "outputs": [
    {
     "data": {
      "text/plain": [
       "<10000x88058 sparse matrix of type '<class 'numpy.float64'>'\n",
       "\twith 682428 stored elements in COOrdinate format>"
      ]
     },
     "execution_count": 2,
     "metadata": {},
     "output_type": "execute_result"
    }
   ],
   "source": [
    "train_sparse = scs.load_npz('train_10k_sparse_matrix.npz')\n",
    "train_sparse"
   ]
  },
  {
   "cell_type": "code",
   "execution_count": 3,
   "id": "efc2b696",
   "metadata": {},
   "outputs": [
    {
     "data": {
      "text/plain": [
       "<10000x88058 sparse matrix of type '<class 'numpy.float64'>'\n",
       "\twith 170607 stored elements in COOrdinate format>"
      ]
     },
     "execution_count": 3,
     "metadata": {},
     "output_type": "execute_result"
    }
   ],
   "source": [
    "test_sparse = scs.load_npz('test_10k_sparse_matrix.npz')\n",
    "test_sparse"
   ]
  },
  {
   "cell_type": "code",
   "execution_count": 4,
   "id": "6235a400",
   "metadata": {},
   "outputs": [
    {
     "data": {
      "text/html": [
       "<div>\n",
       "<style scoped>\n",
       "    .dataframe tbody tr th:only-of-type {\n",
       "        vertical-align: middle;\n",
       "    }\n",
       "\n",
       "    .dataframe tbody tr th {\n",
       "        vertical-align: top;\n",
       "    }\n",
       "\n",
       "    .dataframe thead th {\n",
       "        text-align: right;\n",
       "    }\n",
       "</style>\n",
       "<table border=\"1\" class=\"dataframe\">\n",
       "  <thead>\n",
       "    <tr style=\"text-align: right;\">\n",
       "      <th></th>\n",
       "      <th>user_id</th>\n",
       "      <th>song_id</th>\n",
       "      <th>play_count</th>\n",
       "      <th>title</th>\n",
       "      <th>release</th>\n",
       "      <th>artist_name</th>\n",
       "      <th>year</th>\n",
       "      <th>genre</th>\n",
       "      <th>artist_country</th>\n",
       "      <th>artist_city</th>\n",
       "    </tr>\n",
       "  </thead>\n",
       "  <tbody>\n",
       "    <tr>\n",
       "      <th>0</th>\n",
       "      <td>6fbf6970611d01e10aebeab374f461116155867e</td>\n",
       "      <td>SOPVPCY12A81C23555</td>\n",
       "      <td>1</td>\n",
       "      <td>Unlove You (Album Version)</td>\n",
       "      <td>Headstrong</td>\n",
       "      <td>Ashley Tisdale</td>\n",
       "      <td>2007</td>\n",
       "      <td>pop_rock</td>\n",
       "      <td>United States</td>\n",
       "      <td>Ocean Township</td>\n",
       "    </tr>\n",
       "    <tr>\n",
       "      <th>1</th>\n",
       "      <td>fa8a8753518e6c2d3713990dc2a172ea17000b80</td>\n",
       "      <td>SOBSMEQ12AB018282F</td>\n",
       "      <td>1</td>\n",
       "      <td>Towards The Sun</td>\n",
       "      <td>Away We Go Original Motion Picture Soundtrack</td>\n",
       "      <td>Alexi Murdoch</td>\n",
       "      <td>2009</td>\n",
       "      <td>soundtrack</td>\n",
       "      <td>United Kingdom</td>\n",
       "      <td>London</td>\n",
       "    </tr>\n",
       "    <tr>\n",
       "      <th>2</th>\n",
       "      <td>c9fdf63587a7a963e383ea2f1b58d1014377caab</td>\n",
       "      <td>SONQEYS12AF72AABC9</td>\n",
       "      <td>1</td>\n",
       "      <td>Mr. Jones</td>\n",
       "      <td>Films About Ghosts (The Best Of Counting Crows)</td>\n",
       "      <td>Counting Crows</td>\n",
       "      <td>1991</td>\n",
       "      <td>rock</td>\n",
       "      <td>United States</td>\n",
       "      <td>Berkeley</td>\n",
       "    </tr>\n",
       "    <tr>\n",
       "      <th>3</th>\n",
       "      <td>e329cc2012d31242297d294fa0279b79a1bd5cc7</td>\n",
       "      <td>SOHTAXD12A8C141E75</td>\n",
       "      <td>1</td>\n",
       "      <td>Scratch Tail</td>\n",
       "      <td>Collide</td>\n",
       "      <td>Beats Antique</td>\n",
       "      <td>2008</td>\n",
       "      <td>electronic</td>\n",
       "      <td>United States</td>\n",
       "      <td>Oakland</td>\n",
       "    </tr>\n",
       "    <tr>\n",
       "      <th>4</th>\n",
       "      <td>2a9178398fa6377a340d5b9b6be87de32b4059a2</td>\n",
       "      <td>SOAWWJW12AB01814F5</td>\n",
       "      <td>2</td>\n",
       "      <td>Don't Haunt This Place</td>\n",
       "      <td>Hometowns</td>\n",
       "      <td>The Rural Alberta Advantage</td>\n",
       "      <td>2008</td>\n",
       "      <td>rock</td>\n",
       "      <td>Canada</td>\n",
       "      <td>Toronto</td>\n",
       "    </tr>\n",
       "  </tbody>\n",
       "</table>\n",
       "</div>"
      ],
      "text/plain": [
       "                                    user_id             song_id  play_count  \\\n",
       "0  6fbf6970611d01e10aebeab374f461116155867e  SOPVPCY12A81C23555           1   \n",
       "1  fa8a8753518e6c2d3713990dc2a172ea17000b80  SOBSMEQ12AB018282F           1   \n",
       "2  c9fdf63587a7a963e383ea2f1b58d1014377caab  SONQEYS12AF72AABC9           1   \n",
       "3  e329cc2012d31242297d294fa0279b79a1bd5cc7  SOHTAXD12A8C141E75           1   \n",
       "4  2a9178398fa6377a340d5b9b6be87de32b4059a2  SOAWWJW12AB01814F5           2   \n",
       "\n",
       "                        title  \\\n",
       "0  Unlove You (Album Version)   \n",
       "1             Towards The Sun   \n",
       "2                   Mr. Jones   \n",
       "3                Scratch Tail   \n",
       "4      Don't Haunt This Place   \n",
       "\n",
       "                                           release  \\\n",
       "0                                       Headstrong   \n",
       "1    Away We Go Original Motion Picture Soundtrack   \n",
       "2  Films About Ghosts (The Best Of Counting Crows)   \n",
       "3                                          Collide   \n",
       "4                                        Hometowns   \n",
       "\n",
       "                   artist_name  year       genre  artist_country  \\\n",
       "0               Ashley Tisdale  2007    pop_rock   United States   \n",
       "1                Alexi Murdoch  2009  soundtrack  United Kingdom   \n",
       "2               Counting Crows  1991        rock   United States   \n",
       "3                Beats Antique  2008  electronic   United States   \n",
       "4  The Rural Alberta Advantage  2008        rock          Canada   \n",
       "\n",
       "      artist_city  \n",
       "0  Ocean Township  \n",
       "1          London  \n",
       "2        Berkeley  \n",
       "3         Oakland  \n",
       "4         Toronto  "
      ]
     },
     "execution_count": 4,
     "metadata": {},
     "output_type": "execute_result"
    }
   ],
   "source": [
    "train = pd.read_csv('train_10k.csv')\n",
    "test = pd.read_csv('test_10k.csv')\n",
    "train.head()"
   ]
  },
  {
   "attachments": {},
   "cell_type": "markdown",
   "id": "c4aa928a",
   "metadata": {},
   "source": [
    "### Создаем матрицу для item-features"
   ]
  },
  {
   "cell_type": "code",
   "execution_count": 5,
   "id": "5a6d3a1d",
   "metadata": {},
   "outputs": [],
   "source": [
    "test_zero = test.copy()\n",
    "test_zero['play_count'] = 0"
   ]
  },
  {
   "attachments": {},
   "cell_type": "markdown",
   "id": "956794e2",
   "metadata": {},
   "source": [
    "Чтобы избежать переобучения обнулим количество прослушиваний песен для теста и объединим тест и трейн."
   ]
  },
  {
   "cell_type": "code",
   "execution_count": 6,
   "id": "9961b69d",
   "metadata": {},
   "outputs": [
    {
     "data": {
      "text/html": [
       "<div>\n",
       "<style scoped>\n",
       "    .dataframe tbody tr th:only-of-type {\n",
       "        vertical-align: middle;\n",
       "    }\n",
       "\n",
       "    .dataframe tbody tr th {\n",
       "        vertical-align: top;\n",
       "    }\n",
       "\n",
       "    .dataframe thead th {\n",
       "        text-align: right;\n",
       "    }\n",
       "</style>\n",
       "<table border=\"1\" class=\"dataframe\">\n",
       "  <thead>\n",
       "    <tr style=\"text-align: right;\">\n",
       "      <th></th>\n",
       "      <th>user_id</th>\n",
       "      <th>song_id</th>\n",
       "      <th>play_count</th>\n",
       "      <th>title</th>\n",
       "      <th>release</th>\n",
       "      <th>artist_name</th>\n",
       "      <th>year</th>\n",
       "      <th>genre</th>\n",
       "      <th>artist_country</th>\n",
       "      <th>artist_city</th>\n",
       "    </tr>\n",
       "  </thead>\n",
       "  <tbody>\n",
       "    <tr>\n",
       "      <th>0</th>\n",
       "      <td>2005177b587bab57c6495e6282a59c1c485362e9</td>\n",
       "      <td>SODEIVI12A8C13266D</td>\n",
       "      <td>0</td>\n",
       "      <td>You Appearing</td>\n",
       "      <td>Saturdays = Youth</td>\n",
       "      <td>M83</td>\n",
       "      <td>2008</td>\n",
       "      <td>electronic</td>\n",
       "      <td>France</td>\n",
       "      <td>Antibes</td>\n",
       "    </tr>\n",
       "    <tr>\n",
       "      <th>1</th>\n",
       "      <td>a003bbe17ab7e7c8ed22cdedcb77006f1ffac951</td>\n",
       "      <td>SOQFKKT12A6701F129</td>\n",
       "      <td>0</td>\n",
       "      <td>The Old Homestead (Remastered Album Version)</td>\n",
       "      <td>Hawks &amp; Doves</td>\n",
       "      <td>Neil Young</td>\n",
       "      <td>1980</td>\n",
       "      <td>rock</td>\n",
       "      <td>Canada</td>\n",
       "      <td>Toronto</td>\n",
       "    </tr>\n",
       "    <tr>\n",
       "      <th>2</th>\n",
       "      <td>eb2d7cf1d1af8cfec816b8b9de265dc42713a6c3</td>\n",
       "      <td>SOZDGEW12A8C13E748</td>\n",
       "      <td>0</td>\n",
       "      <td>One</td>\n",
       "      <td>...And Justice For All</td>\n",
       "      <td>Metallica</td>\n",
       "      <td>1988</td>\n",
       "      <td>rock</td>\n",
       "      <td>United States</td>\n",
       "      <td>Los Angeles</td>\n",
       "    </tr>\n",
       "    <tr>\n",
       "      <th>3</th>\n",
       "      <td>d90c0e1ae7308b01b0ff64678ec812a5c8739760</td>\n",
       "      <td>SOZRIFX12A8C142691</td>\n",
       "      <td>0</td>\n",
       "      <td>Tú</td>\n",
       "      <td>Shakira MTV Unplugged</td>\n",
       "      <td>Shakira</td>\n",
       "      <td>1998</td>\n",
       "      <td>pop</td>\n",
       "      <td>Colombia</td>\n",
       "      <td>Barranquilla</td>\n",
       "    </tr>\n",
       "    <tr>\n",
       "      <th>4</th>\n",
       "      <td>d2b5bb931bc5e3fb907b7d4dd37a8c81144a1504</td>\n",
       "      <td>SOUCZKX12AB01826B4</td>\n",
       "      <td>0</td>\n",
       "      <td>Hustla Balla Gangsta Mack</td>\n",
       "      <td>Rich Boy</td>\n",
       "      <td>Rich Boy</td>\n",
       "      <td>2007</td>\n",
       "      <td>hiphop</td>\n",
       "      <td>United States</td>\n",
       "      <td>Mobile</td>\n",
       "    </tr>\n",
       "  </tbody>\n",
       "</table>\n",
       "</div>"
      ],
      "text/plain": [
       "                                    user_id             song_id  play_count  \\\n",
       "0  2005177b587bab57c6495e6282a59c1c485362e9  SODEIVI12A8C13266D           0   \n",
       "1  a003bbe17ab7e7c8ed22cdedcb77006f1ffac951  SOQFKKT12A6701F129           0   \n",
       "2  eb2d7cf1d1af8cfec816b8b9de265dc42713a6c3  SOZDGEW12A8C13E748           0   \n",
       "3  d90c0e1ae7308b01b0ff64678ec812a5c8739760  SOZRIFX12A8C142691           0   \n",
       "4  d2b5bb931bc5e3fb907b7d4dd37a8c81144a1504  SOUCZKX12AB01826B4           0   \n",
       "\n",
       "                                          title                 release  \\\n",
       "0                                 You Appearing       Saturdays = Youth   \n",
       "1  The Old Homestead (Remastered Album Version)           Hawks & Doves   \n",
       "2                                           One  ...And Justice For All   \n",
       "3                                            Tú   Shakira MTV Unplugged   \n",
       "4                     Hustla Balla Gangsta Mack                Rich Boy   \n",
       "\n",
       "  artist_name  year       genre artist_country   artist_city  \n",
       "0         M83  2008  electronic         France       Antibes  \n",
       "1  Neil Young  1980        rock         Canada       Toronto  \n",
       "2   Metallica  1988        rock  United States   Los Angeles  \n",
       "3     Shakira  1998         pop       Colombia  Barranquilla  \n",
       "4    Rich Boy  2007      hiphop  United States        Mobile  "
      ]
     },
     "execution_count": 6,
     "metadata": {},
     "output_type": "execute_result"
    }
   ],
   "source": [
    "test_zero.head()"
   ]
  },
  {
   "cell_type": "code",
   "execution_count": 7,
   "id": "b9083e32",
   "metadata": {},
   "outputs": [],
   "source": [
    "data_10k = pd.concat([train, test_zero])"
   ]
  },
  {
   "cell_type": "code",
   "execution_count": 8,
   "id": "055d4def",
   "metadata": {},
   "outputs": [
    {
     "data": {
      "text/plain": [
       "(853035, 10)"
      ]
     },
     "execution_count": 8,
     "metadata": {},
     "output_type": "execute_result"
    }
   ],
   "source": [
    "data_10k.shape"
   ]
  },
  {
   "cell_type": "code",
   "execution_count": 9,
   "id": "e3b21697",
   "metadata": {},
   "outputs": [
    {
     "data": {
      "text/html": [
       "<div>\n",
       "<style scoped>\n",
       "    .dataframe tbody tr th:only-of-type {\n",
       "        vertical-align: middle;\n",
       "    }\n",
       "\n",
       "    .dataframe tbody tr th {\n",
       "        vertical-align: top;\n",
       "    }\n",
       "\n",
       "    .dataframe thead th {\n",
       "        text-align: right;\n",
       "    }\n",
       "</style>\n",
       "<table border=\"1\" class=\"dataframe\">\n",
       "  <thead>\n",
       "    <tr style=\"text-align: right;\">\n",
       "      <th></th>\n",
       "      <th>song_id</th>\n",
       "      <th>play_count</th>\n",
       "      <th>release</th>\n",
       "      <th>artist_name</th>\n",
       "      <th>year</th>\n",
       "      <th>genre</th>\n",
       "      <th>artist_country</th>\n",
       "      <th>artist_city</th>\n",
       "    </tr>\n",
       "  </thead>\n",
       "  <tbody>\n",
       "    <tr>\n",
       "      <th>0</th>\n",
       "      <td>SOPVPCY12A81C23555</td>\n",
       "      <td>1</td>\n",
       "      <td>Headstrong</td>\n",
       "      <td>Ashley Tisdale</td>\n",
       "      <td>2007</td>\n",
       "      <td>pop_rock</td>\n",
       "      <td>United States</td>\n",
       "      <td>Ocean Township</td>\n",
       "    </tr>\n",
       "    <tr>\n",
       "      <th>1</th>\n",
       "      <td>SOBSMEQ12AB018282F</td>\n",
       "      <td>1</td>\n",
       "      <td>Away We Go Original Motion Picture Soundtrack</td>\n",
       "      <td>Alexi Murdoch</td>\n",
       "      <td>2009</td>\n",
       "      <td>soundtrack</td>\n",
       "      <td>United Kingdom</td>\n",
       "      <td>London</td>\n",
       "    </tr>\n",
       "    <tr>\n",
       "      <th>2</th>\n",
       "      <td>SONQEYS12AF72AABC9</td>\n",
       "      <td>1</td>\n",
       "      <td>Films About Ghosts (The Best Of Counting Crows)</td>\n",
       "      <td>Counting Crows</td>\n",
       "      <td>1991</td>\n",
       "      <td>rock</td>\n",
       "      <td>United States</td>\n",
       "      <td>Berkeley</td>\n",
       "    </tr>\n",
       "    <tr>\n",
       "      <th>3</th>\n",
       "      <td>SOHTAXD12A8C141E75</td>\n",
       "      <td>1</td>\n",
       "      <td>Collide</td>\n",
       "      <td>Beats Antique</td>\n",
       "      <td>2008</td>\n",
       "      <td>electronic</td>\n",
       "      <td>United States</td>\n",
       "      <td>Oakland</td>\n",
       "    </tr>\n",
       "    <tr>\n",
       "      <th>4</th>\n",
       "      <td>SOAWWJW12AB01814F5</td>\n",
       "      <td>2</td>\n",
       "      <td>Hometowns</td>\n",
       "      <td>The Rural Alberta Advantage</td>\n",
       "      <td>2008</td>\n",
       "      <td>rock</td>\n",
       "      <td>Canada</td>\n",
       "      <td>Toronto</td>\n",
       "    </tr>\n",
       "  </tbody>\n",
       "</table>\n",
       "</div>"
      ],
      "text/plain": [
       "              song_id  play_count  \\\n",
       "0  SOPVPCY12A81C23555           1   \n",
       "1  SOBSMEQ12AB018282F           1   \n",
       "2  SONQEYS12AF72AABC9           1   \n",
       "3  SOHTAXD12A8C141E75           1   \n",
       "4  SOAWWJW12AB01814F5           2   \n",
       "\n",
       "                                           release  \\\n",
       "0                                       Headstrong   \n",
       "1    Away We Go Original Motion Picture Soundtrack   \n",
       "2  Films About Ghosts (The Best Of Counting Crows)   \n",
       "3                                          Collide   \n",
       "4                                        Hometowns   \n",
       "\n",
       "                   artist_name  year       genre  artist_country  \\\n",
       "0               Ashley Tisdale  2007    pop_rock   United States   \n",
       "1                Alexi Murdoch  2009  soundtrack  United Kingdom   \n",
       "2               Counting Crows  1991        rock   United States   \n",
       "3                Beats Antique  2008  electronic   United States   \n",
       "4  The Rural Alberta Advantage  2008        rock          Canada   \n",
       "\n",
       "      artist_city  \n",
       "0  Ocean Township  \n",
       "1          London  \n",
       "2        Berkeley  \n",
       "3         Oakland  \n",
       "4         Toronto  "
      ]
     },
     "execution_count": 9,
     "metadata": {},
     "output_type": "execute_result"
    }
   ],
   "source": [
    "song_10k = data_10k[\n",
    "    [\n",
    "        \"song_id\",\n",
    "        \"play_count\",\n",
    "        \"release\",\n",
    "        \"artist_name\",\n",
    "        \"year\",\n",
    "        \"genre\",\n",
    "        \"artist_country\",\n",
    "        \"artist_city\",\n",
    "    ]\n",
    "].drop_duplicates()\n",
    "song_10k.head()\n"
   ]
  },
  {
   "cell_type": "code",
   "execution_count": 10,
   "id": "6783613f",
   "metadata": {},
   "outputs": [],
   "source": [
    "song_10k = song_10k.groupby(\n",
    "    [\n",
    "        \"song_id\",\n",
    "        \"release\",\n",
    "        \"artist_name\",\n",
    "        \"year\",\n",
    "        \"genre\",\n",
    "        \"artist_country\",\n",
    "        \"artist_city\",\n",
    "    ],\n",
    "    as_index=False,\n",
    ").agg({\"play_count\": \"sum\"})\n"
   ]
  },
  {
   "cell_type": "code",
   "execution_count": 11,
   "id": "3d31e99a",
   "metadata": {
    "code_folding": []
   },
   "outputs": [],
   "source": [
    "with open('users_10k_id_for_sparse.txt', 'r') as fp:\n",
    "    users_id_for_sparse = json.load(fp)\n",
    "    \n",
    "with open('songs_10k_id_for_sparse.txt', 'r') as fp:\n",
    "    songs_id_for_sparse = json.load(fp)"
   ]
  },
  {
   "cell_type": "code",
   "execution_count": 12,
   "id": "fbe76739",
   "metadata": {},
   "outputs": [],
   "source": [
    "def replace_user_id(x):\n",
    "    return users_id_for_sparse[x]\n",
    "\n",
    "def replace_song_id(x):\n",
    "    return songs_id_for_sparse[x]"
   ]
  },
  {
   "cell_type": "code",
   "execution_count": 13,
   "id": "2cc9aaf4",
   "metadata": {},
   "outputs": [],
   "source": [
    "train['user_id'] = train.user_id.apply(replace_user_id)\n",
    "train['song_id'] = train.song_id.apply(replace_song_id)\n",
    "\n",
    "test['user_id'] = test.user_id.apply(replace_user_id)\n",
    "test['song_id'] = test.song_id.apply(replace_song_id)"
   ]
  },
  {
   "cell_type": "code",
   "execution_count": 14,
   "id": "4fe880a3",
   "metadata": {},
   "outputs": [
    {
     "data": {
      "text/plain": [
       "(10000, 81458)"
      ]
     },
     "execution_count": 14,
     "metadata": {},
     "output_type": "execute_result"
    }
   ],
   "source": [
    "num_users, num_songs = train.user_id.nunique(), train.song_id.nunique()\n",
    "num_users, num_songs"
   ]
  },
  {
   "attachments": {},
   "cell_type": "markdown",
   "id": "827c506e",
   "metadata": {},
   "source": [
    "Получим датасет с уникальными песнями и их фичами, включая целевую переменную - play_count."
   ]
  },
  {
   "cell_type": "code",
   "execution_count": 15,
   "id": "611de1c9",
   "metadata": {},
   "outputs": [
    {
     "data": {
      "text/html": [
       "<div>\n",
       "<style scoped>\n",
       "    .dataframe tbody tr th:only-of-type {\n",
       "        vertical-align: middle;\n",
       "    }\n",
       "\n",
       "    .dataframe tbody tr th {\n",
       "        vertical-align: top;\n",
       "    }\n",
       "\n",
       "    .dataframe thead th {\n",
       "        text-align: right;\n",
       "    }\n",
       "</style>\n",
       "<table border=\"1\" class=\"dataframe\">\n",
       "  <thead>\n",
       "    <tr style=\"text-align: right;\">\n",
       "      <th></th>\n",
       "      <th>song_id</th>\n",
       "      <th>release</th>\n",
       "      <th>artist_name</th>\n",
       "      <th>year</th>\n",
       "      <th>genre</th>\n",
       "      <th>artist_country</th>\n",
       "      <th>artist_city</th>\n",
       "      <th>play_count</th>\n",
       "    </tr>\n",
       "  </thead>\n",
       "  <tbody>\n",
       "    <tr>\n",
       "      <th>0</th>\n",
       "      <td>0</td>\n",
       "      <td>The Room</td>\n",
       "      <td>Harold Budd</td>\n",
       "      <td>2000</td>\n",
       "      <td>ambient</td>\n",
       "      <td>United States</td>\n",
       "      <td>Los Angeles</td>\n",
       "      <td>0</td>\n",
       "    </tr>\n",
       "    <tr>\n",
       "      <th>1</th>\n",
       "      <td>1</td>\n",
       "      <td>Have Yourself A Tractors Christmas</td>\n",
       "      <td>The Tractors</td>\n",
       "      <td>1995</td>\n",
       "      <td>country</td>\n",
       "      <td>United States</td>\n",
       "      <td>Tulsa</td>\n",
       "      <td>1</td>\n",
       "    </tr>\n",
       "    <tr>\n",
       "      <th>2</th>\n",
       "      <td>2</td>\n",
       "      <td>At the Cut</td>\n",
       "      <td>Vic Chesnutt</td>\n",
       "      <td>2009</td>\n",
       "      <td>rock</td>\n",
       "      <td>United States</td>\n",
       "      <td>Jacksonville</td>\n",
       "      <td>0</td>\n",
       "    </tr>\n",
       "    <tr>\n",
       "      <th>3</th>\n",
       "      <td>3</td>\n",
       "      <td>20 Años</td>\n",
       "      <td>Alejandro Lerner</td>\n",
       "      <td>1998</td>\n",
       "      <td>latin</td>\n",
       "      <td>Argentina</td>\n",
       "      <td>Buenos Aires</td>\n",
       "      <td>3</td>\n",
       "    </tr>\n",
       "    <tr>\n",
       "      <th>4</th>\n",
       "      <td>4</td>\n",
       "      <td>Sefronia</td>\n",
       "      <td>Tim Buckley</td>\n",
       "      <td>1973</td>\n",
       "      <td>folk</td>\n",
       "      <td>United States</td>\n",
       "      <td>Washington</td>\n",
       "      <td>0</td>\n",
       "    </tr>\n",
       "  </tbody>\n",
       "</table>\n",
       "</div>"
      ],
      "text/plain": [
       "   song_id                             release       artist_name  year  \\\n",
       "0        0                            The Room       Harold Budd  2000   \n",
       "1        1  Have Yourself A Tractors Christmas      The Tractors  1995   \n",
       "2        2                          At the Cut      Vic Chesnutt  2009   \n",
       "3        3                             20 Años  Alejandro Lerner  1998   \n",
       "4        4                            Sefronia       Tim Buckley  1973   \n",
       "\n",
       "     genre artist_country   artist_city  play_count  \n",
       "0  ambient  United States   Los Angeles           0  \n",
       "1  country  United States         Tulsa           1  \n",
       "2     rock  United States  Jacksonville           0  \n",
       "3    latin      Argentina  Buenos Aires           3  \n",
       "4     folk  United States    Washington           0  "
      ]
     },
     "execution_count": 15,
     "metadata": {},
     "output_type": "execute_result"
    }
   ],
   "source": [
    "song_10k['song_id'] = song_10k.song_id.apply(replace_song_id)\n",
    "song_10k = song_10k.sort_values(by='song_id')\n",
    "song_10k.head()"
   ]
  },
  {
   "cell_type": "code",
   "execution_count": 16,
   "id": "d3614c9f",
   "metadata": {},
   "outputs": [
    {
     "data": {
      "text/plain": [
       "(88058, 8)"
      ]
     },
     "execution_count": 16,
     "metadata": {},
     "output_type": "execute_result"
    }
   ],
   "source": [
    "song_10k.shape"
   ]
  },
  {
   "cell_type": "code",
   "execution_count": 17,
   "id": "e133ce47",
   "metadata": {},
   "outputs": [],
   "source": [
    "cat_cols = ['release', 'artist_name', 'year', 'genre', 'artist_country', 'artist_city']"
   ]
  },
  {
   "cell_type": "code",
   "execution_count": 18,
   "id": "693a4f91",
   "metadata": {},
   "outputs": [],
   "source": [
    "pipe = Pipeline(\n",
    "    [(\"enc\", LeaveOneOutEncoder(cols=cat_cols)), (\"scaler\", StandardScaler())]\n",
    ")\n"
   ]
  },
  {
   "cell_type": "code",
   "execution_count": 19,
   "id": "073819f2",
   "metadata": {},
   "outputs": [
    {
     "data": {
      "text/plain": [
       "(88058, 7)"
      ]
     },
     "execution_count": 19,
     "metadata": {},
     "output_type": "execute_result"
    }
   ],
   "source": [
    "song_features = pipe.fit_transform(\n",
    "    song_10k.drop(\"song_id\", axis=1), song_10k.play_count\n",
    ")\n",
    "song_features.shape\n"
   ]
  },
  {
   "cell_type": "code",
   "execution_count": 20,
   "id": "72f370f1",
   "metadata": {},
   "outputs": [
    {
     "data": {
      "text/plain": [
       "<88058x7 sparse matrix of type '<class 'numpy.float64'>'\n",
       "\twith 616406 stored elements in Compressed Sparse Row format>"
      ]
     },
     "execution_count": 20,
     "metadata": {},
     "output_type": "execute_result"
    }
   ],
   "source": [
    "items_features = scs.csr_matrix(song_features)\n",
    "items_features"
   ]
  },
  {
   "attachments": {},
   "cell_type": "markdown",
   "id": "5b2ba563",
   "metadata": {},
   "source": [
    "## Обучаем LightFm"
   ]
  },
  {
   "cell_type": "code",
   "execution_count": 21,
   "id": "13b2cb4f",
   "metadata": {},
   "outputs": [],
   "source": [
    "modelFM = LightFM(\n",
    "    no_components=200,\n",
    "    loss=\"warp\",\n",
    "    user_alpha=6e-5,\n",
    "    item_alpha=2e-5,\n",
    "    learning_rate=0.01,\n",
    "    random_state=42,\n",
    "    max_sampled=100,\n",
    ")\n"
   ]
  },
  {
   "cell_type": "code",
   "execution_count": 22,
   "id": "e668bdf0",
   "metadata": {},
   "outputs": [
    {
     "data": {
      "application/vnd.jupyter.widget-view+json": {
       "model_id": "8d0e6c6beaf143bdbffba383f7e2d5a9",
       "version_major": 2,
       "version_minor": 0
      },
      "text/plain": [
       "  0%|          | 0/10 [00:00<?, ?it/s]"
      ]
     },
     "metadata": {},
     "output_type": "display_data"
    }
   ],
   "source": [
    "epochs = 1\n",
    "rounds = 10\n",
    "for rounds in tqdm(range(rounds)):\n",
    "    modelFM.fit_partial(\n",
    "        train_sparse,\n",
    "        sample_weight=train_sparse,\n",
    "        epochs=epochs,\n",
    "        num_threads=8,\n",
    "        item_features=items_features,\n",
    "        user_features=train_sparse,\n",
    "    )\n"
   ]
  },
  {
   "attachments": {},
   "cell_type": "markdown",
   "id": "a53a4812",
   "metadata": {},
   "source": [
    "Сохраним модель в pickle и сделаем предсказание для одного пользователя."
   ]
  },
  {
   "cell_type": "code",
   "execution_count": 46,
   "id": "10592c74",
   "metadata": {},
   "outputs": [
    {
     "data": {
      "text/plain": [
       "['LightFM.pkl']"
      ]
     },
     "execution_count": 46,
     "metadata": {},
     "output_type": "execute_result"
    }
   ],
   "source": [
    "joblib.dump(modelFM, 'LightFM.pkl')"
   ]
  },
  {
   "cell_type": "code",
   "execution_count": 47,
   "id": "2dc35594",
   "metadata": {},
   "outputs": [],
   "source": [
    "LFM = joblib.load('LightFM.pkl')"
   ]
  },
  {
   "cell_type": "code",
   "execution_count": 48,
   "id": "05c935f0",
   "metadata": {},
   "outputs": [
    {
     "name": "stdout",
     "output_type": "stream",
     "text": [
      "Wall time: 146 ms\n"
     ]
    },
    {
     "data": {
      "text/plain": [
       "array([-50.11718 , -49.944122, -50.19552 , ..., -49.661564, -49.4535  ,\n",
       "       -49.988396], dtype=float32)"
      ]
     },
     "execution_count": 48,
     "metadata": {},
     "output_type": "execute_result"
    }
   ],
   "source": [
    "%%time\n",
    "modelFM.predict(\n",
    "    900,\n",
    "    np.arange(test_sparse.shape[1]),\n",
    "    item_features=items_features,\n",
    "    user_features=test_sparse,\n",
    ")\n"
   ]
  },
  {
   "cell_type": "code",
   "execution_count": 49,
   "id": "fb76eee1",
   "metadata": {},
   "outputs": [
    {
     "data": {
      "text/plain": [
       "[52842, 41360, 24466, 79574, 24909, 11865, 35153, 70055, 21132, 68751]"
      ]
     },
     "execution_count": 49,
     "metadata": {},
     "output_type": "execute_result"
    }
   ],
   "source": [
    "scores = pd.Series(\n",
    "    modelFM.predict(\n",
    "        900,\n",
    "        np.arange(test_sparse.shape[1]),\n",
    "        item_features=items_features,\n",
    "        user_features=test_sparse,\n",
    "    )\n",
    ")\n",
    "scores.index = np.arange(test_sparse.shape[1])\n",
    "scores = list(pd.Series(scores.sort_values(ascending=False).index))\n",
    "scores[:10]\n"
   ]
  },
  {
   "attachments": {},
   "cell_type": "markdown",
   "id": "db8bb41d",
   "metadata": {},
   "source": [
    "### Делаем предсказание для 10к пользователей"
   ]
  },
  {
   "cell_type": "code",
   "execution_count": 28,
   "id": "94cfe721",
   "metadata": {},
   "outputs": [
    {
     "data": {
      "application/vnd.jupyter.widget-view+json": {
       "model_id": "68ca8e835edf47559719dc72adb507f1",
       "version_major": 2,
       "version_minor": 0
      },
      "text/plain": [
       "  0%|          | 0/10000 [00:00<?, ?it/s]"
      ]
     },
     "metadata": {},
     "output_type": "display_data"
    }
   ],
   "source": [
    "pred = []\n",
    "for row_id in tqdm(np.arange(test_sparse.shape[0])):\n",
    "    score = pd.Series(\n",
    "        modelFM.predict(\n",
    "            int(row_id),\n",
    "            np.arange(test_sparse.shape[1]),\n",
    "            item_features=items_features,\n",
    "            user_features=test_sparse,\n",
    "            num_threads=8,\n",
    "        )\n",
    "    )\n",
    "    score.index = np.arange(test_sparse.shape[1])\n",
    "    score = list(pd.Series(score.sort_values(ascending=False).index))\n",
    "\n",
    "    pred_items = score[:50]\n",
    "\n",
    "    pred.append(pred_items)\n"
   ]
  },
  {
   "cell_type": "code",
   "execution_count": 29,
   "id": "820d9796",
   "metadata": {},
   "outputs": [],
   "source": [
    "with open('LF_pred.pkl', 'wb') as f:\n",
    "    pickle.dump(pred, f)"
   ]
  },
  {
   "cell_type": "code",
   "execution_count": 30,
   "id": "6508cddc",
   "metadata": {},
   "outputs": [],
   "source": [
    "with open('LF_pred.pkl', 'rb') as f:\n",
    "    pred_LF = pickle.load(f)"
   ]
  },
  {
   "cell_type": "code",
   "execution_count": 31,
   "id": "53129996",
   "metadata": {},
   "outputs": [
    {
     "data": {
      "text/plain": [
       "10000"
      ]
     },
     "execution_count": 31,
     "metadata": {},
     "output_type": "execute_result"
    }
   ],
   "source": [
    "len(pred)"
   ]
  },
  {
   "attachments": {},
   "cell_type": "markdown",
   "id": "69693232",
   "metadata": {},
   "source": [
    "## Оценка качества модели"
   ]
  },
  {
   "cell_type": "code",
   "execution_count": 32,
   "id": "51585787",
   "metadata": {},
   "outputs": [],
   "source": [
    "true_relevant = []\n",
    "for user, data in test[test.play_count >= 3].groupby('user_id'):\n",
    "    true_relevant += [data.song_id.tolist()]"
   ]
  },
  {
   "cell_type": "code",
   "execution_count": 33,
   "id": "bc30ad9f",
   "metadata": {},
   "outputs": [],
   "source": [
    "true_relevant = []\n",
    "for user, data in test[test.play_count >= 3].groupby(\"user_id\"):\n",
    "    true_relevant += [data.song_id.tolist()]\n",
    "\n",
    "\n",
    "def remove_train_items(preds, k):\n",
    "    new_preds = np.zeros((preds.shape[0], k), dtype=np.int)\n",
    "    for user, data in train.groupby(\"user_id\"):\n",
    "        user_preds = preds[user]\n",
    "        new_preds[user] = user_preds[~np.in1d(user_preds, data.song_id)][:k]\n",
    "    return new_preds\n",
    "\n",
    "\n",
    "def get_random_preds(k=10):\n",
    "    preds = np.tile(np.arange(num_songs), (num_users, 1))\n",
    "    for i in range(num_users):\n",
    "        rand_perm = np.random.permutation(num_songs)\n",
    "        preds[i] = preds[i][rand_perm]\n",
    "\n",
    "    preds = remove_train_items(preds, k)\n",
    "    return preds\n",
    "\n",
    "\n",
    "def get_toppop_preds(freq=10, k=10):\n",
    "    mean_rating = train.groupby(\"song_id\").play_count.mean()\n",
    "    mean_rating = mean_rating[train.groupby(\"song_id\").size() >= freq]\n",
    "    preds = np.array(mean_rating.sort_values(ascending=False).index)\n",
    "    preds = np.tile(preds, (num_users, 1))\n",
    "    preds = remove_train_items(preds, k)\n",
    "    return preds\n",
    "\n",
    "\n",
    "def MAP_k(true, pred, k):\n",
    "    m = 0\n",
    "    num = min(len(true), len(pred))\n",
    "    for tr, pr in zip(true, pred):\n",
    "        if not tr:\n",
    "            continue\n",
    "        tr_in_pr = np.isin(pr[:k], tr)\n",
    "        m += (tr_in_pr / np.arange(1, k + 1)).sum() / (\n",
    "            1 / np.arange(1, len(tr) + 1)\n",
    "        ).sum()\n",
    "    m = m / num\n",
    "    return m\n"
   ]
  },
  {
   "cell_type": "code",
   "execution_count": 39,
   "id": "44bf7afe",
   "metadata": {},
   "outputs": [],
   "source": [
    "ks = np.arange(1, 30)\n",
    "random_preds = get_random_preds(k=ks[-1])\n",
    "top_preds = get_toppop_preds(freq=10, k=ks[-1])"
   ]
  },
  {
   "cell_type": "code",
   "execution_count": 40,
   "id": "6523b341",
   "metadata": {},
   "outputs": [],
   "source": [
    "random_map_k = [MAP_k(true_relevant, random_preds, k=k) for k in ks]\n",
    "top_map_k = [MAP_k(true_relevant, top_preds, k=k) for k in ks]\n",
    "LFM_map_k = [MAP_k(true_relevant, pred, k=k) for k in ks]"
   ]
  },
  {
   "cell_type": "code",
   "execution_count": 41,
   "id": "32431240",
   "metadata": {},
   "outputs": [
    {
     "data": {
      "image/png": "[encoded data removed]",
      "text/plain": [
       "<Figure size 1000x600 with 1 Axes>"
      ]
     },
     "metadata": {},
     "output_type": "display_data"
    }
   ],
   "source": [
    "plt.figure(figsize=(10, 6))\n",
    "plt.plot(ks, random_map_k, label='Random')\n",
    "plt.plot(ks, top_map_k, label='Top Popular')\n",
    "\n",
    "plt.legend(title='method')\n",
    "plt.xlabel('k')\n",
    "plt.ylabel('MAP@k')\n",
    "plt.show()"
   ]
  },
  {
   "cell_type": "code",
   "execution_count": 42,
   "id": "1fb67807",
   "metadata": {},
   "outputs": [
    {
     "data": {
      "image/png": "[encoded data removed]",
      "text/plain": [
       "<Figure size 1000x600 with 1 Axes>"
      ]
     },
     "metadata": {},
     "output_type": "display_data"
    }
   ],
   "source": [
    "plt.figure(figsize=(10, 6))\n",
    "plt.plot(ks, random_map_k, label='Random')\n",
    "plt.plot(ks, top_map_k, label='Top Popular')\n",
    "plt.plot(ks, LFM_map_k, label='LigthFM')\n",
    "\n",
    "plt.legend(title='method')\n",
    "plt.xlabel('k')\n",
    "plt.ylabel('MAP@k')\n",
    "plt.show()"
   ]
  },
  {
   "cell_type": "code",
   "execution_count": 43,
   "id": "1c7ba2fa",
   "metadata": {},
   "outputs": [],
   "source": [
    "def AR_k(true, pred, k):\n",
    "\n",
    "    if not true:\n",
    "        return 0.0\n",
    "\n",
    "    if len(pred) > k:\n",
    "        pred = pred[:k]\n",
    "\n",
    "    score = 0.0\n",
    "    hits = 0.0\n",
    "\n",
    "    for i, p in enumerate(pred):\n",
    "        if p in true and p not in pred[:i]:\n",
    "            hits += 1.0\n",
    "            score += hits / (i + 1.0)\n",
    "\n",
    "    return score / len(true)\n",
    "\n",
    "\n",
    "def MAR_k(true, pred, k):\n",
    "\n",
    "    return np.mean([AR_k(a, p, k) for a, p in zip(true, pred)])\n"
   ]
  },
  {
   "cell_type": "code",
   "execution_count": 44,
   "id": "28878f68",
   "metadata": {},
   "outputs": [],
   "source": [
    "random_map_k = [MAR_k(true_relevant, random_preds, k=k) for k in ks]\n",
    "top_map_k = [MAR_k(true_relevant, top_preds, k=k) for k in ks]\n",
    "LFM_map_k = [MAR_k(true_relevant, pred, k=k) for k in ks]"
   ]
  },
  {
   "cell_type": "code",
   "execution_count": 45,
   "id": "8cdbe770",
   "metadata": {},
   "outputs": [
    {
     "data": {
      "image/png": "[encoded data removed]",
      "text/plain": [
       "<Figure size 1000x600 with 1 Axes>"
      ]
     },
     "metadata": {},
     "output_type": "display_data"
    }
   ],
   "source": [
    "plt.figure(figsize=(10, 6))\n",
    "plt.plot(ks, random_map_k, label='Random')\n",
    "plt.plot(ks, top_map_k, label='Top Popular')\n",
    "plt.plot(ks, LFM_map_k, label='LigthFM')\n",
    "\n",
    "plt.legend(title='method')\n",
    "plt.xlabel('k')\n",
    "plt.ylabel('MAR@k')\n",
    "plt.show()"
   ]
  }
 ],
 "metadata": {
  "kernelspec": {
   "display_name": "Python 3 (ipykernel)",
   "language": "python",
   "name": "python3"
  },
  "language_info": {
   "codemirror_mode": {
    "name": "ipython",
    "version": 3
   },
   "file_extension": ".py",
   "mimetype": "text/x-python",
   "name": "python",
   "nbconvert_exporter": "python",
   "pygments_lexer": "ipython3",
   "version": "3.9.13"
  },
  "toc": {
   "base_numbering": 1,
   "nav_menu": {},
   "number_sections": true,
   "sideBar": true,
   "skip_h1_title": false,
   "title_cell": "Table of Contents",
   "title_sidebar": "Contents",
   "toc_cell": false,
   "toc_position": {
    "height": "calc(100% - 180px)",
    "left": "10px",
    "top": "150px",
    "width": "165px"
   },
   "toc_section_display": true,
   "toc_window_display": false
  }
 },
 "nbformat": 4,
 "nbformat_minor": 5
}
