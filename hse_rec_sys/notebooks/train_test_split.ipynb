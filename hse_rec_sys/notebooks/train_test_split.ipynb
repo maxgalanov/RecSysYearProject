{
 "cells": [
  {
   "cell_type": "markdown",
   "id": "6b081a04",
   "metadata": {},
   "source": [
    "## Разбиение на train и test"
   ]
  },
  {
   "cell_type": "code",
   "execution_count": 1,
   "id": "452dc477",
   "metadata": {},
   "outputs": [],
   "source": [
    "import pandas as pd\n",
    "import numpy as np\n",
    "import seaborn as sns\n",
    "import matplotlib.pyplot as plt\n",
    "import warnings\n",
    "\n",
    "import sqlite3\n",
    "from sklearn.model_selection import train_test_split\n",
    "from scipy.sparse import lil_matrix, save_npz, load_npz\n",
    "\n",
    "warnings.filterwarnings(\"ignore\")"
   ]
  },
  {
   "cell_type": "code",
   "execution_count": 2,
   "id": "5e9f7615",
   "metadata": {
    "scrolled": false
   },
   "outputs": [],
   "source": [
    "data = pd.read_csv('user_song_df.csv')"
   ]
  },
  {
   "cell_type": "code",
   "execution_count": 3,
   "id": "bee09735",
   "metadata": {
    "scrolled": true
   },
   "outputs": [],
   "source": [
    "data.drop(['Unnamed: 0', 'track_id'], axis=1, inplace=True)"
   ]
  },
  {
   "cell_type": "code",
   "execution_count": 4,
   "id": "9ca8a517",
   "metadata": {
    "scrolled": true
   },
   "outputs": [
    {
     "data": {
      "text/html": [
       "<div>\n",
       "<style scoped>\n",
       "    .dataframe tbody tr th:only-of-type {\n",
       "        vertical-align: middle;\n",
       "    }\n",
       "\n",
       "    .dataframe tbody tr th {\n",
       "        vertical-align: top;\n",
       "    }\n",
       "\n",
       "    .dataframe thead th {\n",
       "        text-align: right;\n",
       "    }\n",
       "</style>\n",
       "<table border=\"1\" class=\"dataframe\">\n",
       "  <thead>\n",
       "    <tr style=\"text-align: right;\">\n",
       "      <th></th>\n",
       "      <th>user_id</th>\n",
       "      <th>song_id</th>\n",
       "      <th>play_count</th>\n",
       "      <th>title</th>\n",
       "      <th>release</th>\n",
       "      <th>artist_name</th>\n",
       "      <th>year</th>\n",
       "      <th>genre</th>\n",
       "      <th>artist_country</th>\n",
       "      <th>artist_city</th>\n",
       "    </tr>\n",
       "  </thead>\n",
       "  <tbody>\n",
       "    <tr>\n",
       "      <th>0</th>\n",
       "      <td>b80344d063b5ccb3212f76538f3d9e43d87dca9e</td>\n",
       "      <td>SOAPDEY12A81C210A9</td>\n",
       "      <td>1</td>\n",
       "      <td>Nothing from Nothing</td>\n",
       "      <td>To Die For</td>\n",
       "      <td>Billy Preston</td>\n",
       "      <td>1974</td>\n",
       "      <td>r&amp;b</td>\n",
       "      <td>United States</td>\n",
       "      <td>Houston</td>\n",
       "    </tr>\n",
       "    <tr>\n",
       "      <th>1</th>\n",
       "      <td>fd13b9d49c54e00ff413fe3c095ba581c7fc611e</td>\n",
       "      <td>SOAPDEY12A81C210A9</td>\n",
       "      <td>8</td>\n",
       "      <td>Nothing from Nothing</td>\n",
       "      <td>To Die For</td>\n",
       "      <td>Billy Preston</td>\n",
       "      <td>1974</td>\n",
       "      <td>r&amp;b</td>\n",
       "      <td>United States</td>\n",
       "      <td>Houston</td>\n",
       "    </tr>\n",
       "    <tr>\n",
       "      <th>2</th>\n",
       "      <td>35752a9e4d917c8fc5da88e90c25adc6b52220b6</td>\n",
       "      <td>SOAPDEY12A81C210A9</td>\n",
       "      <td>1</td>\n",
       "      <td>Nothing from Nothing</td>\n",
       "      <td>To Die For</td>\n",
       "      <td>Billy Preston</td>\n",
       "      <td>1974</td>\n",
       "      <td>r&amp;b</td>\n",
       "      <td>United States</td>\n",
       "      <td>Houston</td>\n",
       "    </tr>\n",
       "    <tr>\n",
       "      <th>3</th>\n",
       "      <td>bfe8d6d1e32d9de12c632d68712e7e4a23416e93</td>\n",
       "      <td>SOAPDEY12A81C210A9</td>\n",
       "      <td>1</td>\n",
       "      <td>Nothing from Nothing</td>\n",
       "      <td>To Die For</td>\n",
       "      <td>Billy Preston</td>\n",
       "      <td>1974</td>\n",
       "      <td>r&amp;b</td>\n",
       "      <td>United States</td>\n",
       "      <td>Houston</td>\n",
       "    </tr>\n",
       "    <tr>\n",
       "      <th>4</th>\n",
       "      <td>46d3ef1b4f317aba8f0226e937c67ecef9fa2e42</td>\n",
       "      <td>SOAPDEY12A81C210A9</td>\n",
       "      <td>4</td>\n",
       "      <td>Nothing from Nothing</td>\n",
       "      <td>To Die For</td>\n",
       "      <td>Billy Preston</td>\n",
       "      <td>1974</td>\n",
       "      <td>r&amp;b</td>\n",
       "      <td>United States</td>\n",
       "      <td>Houston</td>\n",
       "    </tr>\n",
       "  </tbody>\n",
       "</table>\n",
       "</div>"
      ],
      "text/plain": [
       "                                    user_id             song_id  play_count  \\\n",
       "0  b80344d063b5ccb3212f76538f3d9e43d87dca9e  SOAPDEY12A81C210A9           1   \n",
       "1  fd13b9d49c54e00ff413fe3c095ba581c7fc611e  SOAPDEY12A81C210A9           8   \n",
       "2  35752a9e4d917c8fc5da88e90c25adc6b52220b6  SOAPDEY12A81C210A9           1   \n",
       "3  bfe8d6d1e32d9de12c632d68712e7e4a23416e93  SOAPDEY12A81C210A9           1   \n",
       "4  46d3ef1b4f317aba8f0226e937c67ecef9fa2e42  SOAPDEY12A81C210A9           4   \n",
       "\n",
       "                  title     release    artist_name  year genre artist_country  \\\n",
       "0  Nothing from Nothing  To Die For  Billy Preston  1974   r&b  United States   \n",
       "1  Nothing from Nothing  To Die For  Billy Preston  1974   r&b  United States   \n",
       "2  Nothing from Nothing  To Die For  Billy Preston  1974   r&b  United States   \n",
       "3  Nothing from Nothing  To Die For  Billy Preston  1974   r&b  United States   \n",
       "4  Nothing from Nothing  To Die For  Billy Preston  1974   r&b  United States   \n",
       "\n",
       "  artist_city  \n",
       "0     Houston  \n",
       "1     Houston  \n",
       "2     Houston  \n",
       "3     Houston  \n",
       "4     Houston  "
      ]
     },
     "execution_count": 4,
     "metadata": {},
     "output_type": "execute_result"
    }
   ],
   "source": [
    "data.head()"
   ]
  },
  {
   "cell_type": "code",
   "execution_count": 5,
   "id": "16701be2",
   "metadata": {},
   "outputs": [
    {
     "data": {
      "text/plain": [
       "(45795099, 10)"
      ]
     },
     "execution_count": 5,
     "metadata": {},
     "output_type": "execute_result"
    }
   ],
   "source": [
    "data.shape"
   ]
  },
  {
   "cell_type": "code",
   "execution_count": 6,
   "id": "bbac930e",
   "metadata": {},
   "outputs": [
    {
     "name": "stdout",
     "output_type": "stream",
     "text": [
      "Размер train: 36636079\n",
      "Размер test: 9159020\n"
     ]
    }
   ],
   "source": [
    "train, test = train_test_split(data, \n",
    "                               stratify=data['user_id'], \n",
    "                               test_size=0.20, \n",
    "                               random_state=17)\n",
    "\n",
    "print(f'Размер train: {len(train)}')\n",
    "print(f'Размер test: {len(test)}')"
   ]
  },
  {
   "cell_type": "markdown",
   "id": "49fe978f",
   "metadata": {},
   "source": [
    "Посмотрим, сколько всего есть уникальных пользователей и песен в train и test"
   ]
  },
  {
   "cell_type": "code",
   "execution_count": 7,
   "id": "cb7219fa",
   "metadata": {},
   "outputs": [
    {
     "name": "stdout",
     "output_type": "stream",
     "text": [
      "Пользователей в train: 1019318\n",
      "Песен в train: 370860\n",
      "\n",
      "Пользователей в test: 1019318\n",
      "Песен в test: 299115\n",
      "\n"
     ]
    }
   ],
   "source": [
    "print(f'Пользователей в train: {train.user_id.nunique()}')\n",
    "print(f'Песен в train: {train.song_id.nunique()}', end='\\n\\n')\\\n",
    "\n",
    "print(f'Пользователей в test: {test.user_id.nunique()}')\n",
    "print(f'Песен в test: {test.song_id.nunique()}', end='\\n\\n')"
   ]
  },
  {
   "cell_type": "markdown",
   "id": "8e51de9e",
   "metadata": {},
   "source": [
    "Посмотрим на распределение числа прослушиваний песен для train и test"
   ]
  },
  {
   "cell_type": "code",
   "execution_count": 8,
   "id": "dc4e92ee",
   "metadata": {},
   "outputs": [
    {
     "data": {
      "image/png": "[encoded data removed]",
      "text/plain": [
       "<Figure size 1500x700 with 1 Axes>"
      ]
     },
     "metadata": {},
     "output_type": "display_data"
    }
   ],
   "source": [
    "fig = plt.figure(figsize = (15, 7))\n",
    "\n",
    "ax = sns.countplot(x='play_count', data=train);\n",
    "\n",
    "for rect in ax.patches:\n",
    "    ax.text(rect.get_x() + rect.get_width() / 2, rect.get_height() + 200000, \n",
    "            int(rect.get_height()), horizontalalignment='center', fontsize = 11)\n",
    "\n",
    "plt.title('Распределение по количеству прослушиваний для train', fontsize=13);\n",
    "plt.ylabel('Count', fontsize=10);\n",
    "plt.xlabel('Play_count',  fontsize=10);"
   ]
  },
  {
   "cell_type": "code",
   "execution_count": 9,
   "id": "35c6e0fb",
   "metadata": {},
   "outputs": [
    {
     "data": {
      "image/png": "[encoded data removed]",
      "text/plain": [
       "<Figure size 1500x700 with 1 Axes>"
      ]
     },
     "metadata": {},
     "output_type": "display_data"
    }
   ],
   "source": [
    "fig = plt.figure(figsize = (15, 7))\n",
    "\n",
    "ax = sns.countplot(x='play_count', data=test);\n",
    "\n",
    "for rect in ax.patches:\n",
    "    ax.text(rect.get_x() + rect.get_width() / 2, rect.get_height() + 70000, \n",
    "            int(rect.get_height()), horizontalalignment='center', fontsize = 11)\n",
    "\n",
    "plt.title('Распределение по количеству прослушиваний для test', fontsize=13);\n",
    "plt.ylabel('Count', fontsize=10);\n",
    "plt.xlabel('Play_count',  fontsize=10);"
   ]
  },
  {
   "cell_type": "markdown",
   "id": "98768e50",
   "metadata": {},
   "source": [
    "Распределение после разбиения осталось неизменным"
   ]
  },
  {
   "cell_type": "code",
   "execution_count": 10,
   "id": "5b6c0cdc",
   "metadata": {},
   "outputs": [],
   "source": [
    "train.to_csv('train.csv', index=False)\n",
    "test.to_csv('test.csv', index=False)"
   ]
  },
  {
   "cell_type": "markdown",
   "id": "4ad84897",
   "metadata": {},
   "source": [
    "## SQL"
   ]
  },
  {
   "cell_type": "markdown",
   "id": "78186415",
   "metadata": {},
   "source": [
    "Так как таблицы получились достаточно большими, будем хранить их, используя базу данных SQLite."
   ]
  },
  {
   "cell_type": "code",
   "execution_count": 2,
   "id": "b184411e",
   "metadata": {},
   "outputs": [
    {
     "data": {
      "text/html": [
       "<div>\n",
       "<style scoped>\n",
       "    .dataframe tbody tr th:only-of-type {\n",
       "        vertical-align: middle;\n",
       "    }\n",
       "\n",
       "    .dataframe tbody tr th {\n",
       "        vertical-align: top;\n",
       "    }\n",
       "\n",
       "    .dataframe thead th {\n",
       "        text-align: right;\n",
       "    }\n",
       "</style>\n",
       "<table border=\"1\" class=\"dataframe\">\n",
       "  <thead>\n",
       "    <tr style=\"text-align: right;\">\n",
       "      <th></th>\n",
       "      <th>user_id</th>\n",
       "      <th>song_id</th>\n",
       "      <th>play_count</th>\n",
       "      <th>title</th>\n",
       "      <th>release</th>\n",
       "      <th>artist_name</th>\n",
       "      <th>year</th>\n",
       "      <th>genre</th>\n",
       "      <th>artist_country</th>\n",
       "      <th>artist_city</th>\n",
       "    </tr>\n",
       "  </thead>\n",
       "  <tbody>\n",
       "    <tr>\n",
       "      <th>0</th>\n",
       "      <td>90304980e055c1d0e11d84b2478fc61ac0869e2f</td>\n",
       "      <td>SOBBKFZ12A5891FDF6</td>\n",
       "      <td>4</td>\n",
       "      <td>Red Alibi</td>\n",
       "      <td>The Wiretap Scars</td>\n",
       "      <td>Sparta</td>\n",
       "      <td>2002</td>\n",
       "      <td>rock</td>\n",
       "      <td>No country</td>\n",
       "      <td>No city</td>\n",
       "    </tr>\n",
       "    <tr>\n",
       "      <th>1</th>\n",
       "      <td>c3d52f37f1538fabaa8aa417faee81317103c42c</td>\n",
       "      <td>SOGDNJX12A6D4F85BC</td>\n",
       "      <td>1</td>\n",
       "      <td>Love Will Turn You Around (2006 Digital Remaster)</td>\n",
       "      <td>Number Ones</td>\n",
       "      <td>Kenny Rogers</td>\n",
       "      <td>0</td>\n",
       "      <td>country</td>\n",
       "      <td>United States</td>\n",
       "      <td>Houston</td>\n",
       "    </tr>\n",
       "    <tr>\n",
       "      <th>2</th>\n",
       "      <td>c329c8bad310cdc6b5fb8ef2ad349062921482d3</td>\n",
       "      <td>SODEYXA12A3F1EBF5F</td>\n",
       "      <td>1</td>\n",
       "      <td>I've Got A New Heartache</td>\n",
       "      <td>Country Gentleman: The Best Of Ricky Skaggs</td>\n",
       "      <td>Ricky Skaggs</td>\n",
       "      <td>1998</td>\n",
       "      <td>country</td>\n",
       "      <td>United States</td>\n",
       "      <td>Cordell</td>\n",
       "    </tr>\n",
       "    <tr>\n",
       "      <th>3</th>\n",
       "      <td>ce1b7bc9c1893e2a3b1674e6431a075ce03b7f46</td>\n",
       "      <td>SOFFAVD12A67020C61</td>\n",
       "      <td>1</td>\n",
       "      <td>No Matter What</td>\n",
       "      <td>...By Request</td>\n",
       "      <td>Boyzone</td>\n",
       "      <td>1998</td>\n",
       "      <td>pop</td>\n",
       "      <td>Ireland</td>\n",
       "      <td>Dublin</td>\n",
       "    </tr>\n",
       "    <tr>\n",
       "      <th>4</th>\n",
       "      <td>67960fb8a659577fb643a1a08923f818e3489c78</td>\n",
       "      <td>SOISUWI12A6D4F5708</td>\n",
       "      <td>6</td>\n",
       "      <td>Starlight</td>\n",
       "      <td>Starlight</td>\n",
       "      <td>Muse</td>\n",
       "      <td>0</td>\n",
       "      <td>rock</td>\n",
       "      <td>United Kingdom</td>\n",
       "      <td>Teignmouth</td>\n",
       "    </tr>\n",
       "  </tbody>\n",
       "</table>\n",
       "</div>"
      ],
      "text/plain": [
       "                                    user_id             song_id  play_count  \\\n",
       "0  90304980e055c1d0e11d84b2478fc61ac0869e2f  SOBBKFZ12A5891FDF6           4   \n",
       "1  c3d52f37f1538fabaa8aa417faee81317103c42c  SOGDNJX12A6D4F85BC           1   \n",
       "2  c329c8bad310cdc6b5fb8ef2ad349062921482d3  SODEYXA12A3F1EBF5F           1   \n",
       "3  ce1b7bc9c1893e2a3b1674e6431a075ce03b7f46  SOFFAVD12A67020C61           1   \n",
       "4  67960fb8a659577fb643a1a08923f818e3489c78  SOISUWI12A6D4F5708           6   \n",
       "\n",
       "                                               title  \\\n",
       "0                                          Red Alibi   \n",
       "1  Love Will Turn You Around (2006 Digital Remaster)   \n",
       "2                           I've Got A New Heartache   \n",
       "3                                     No Matter What   \n",
       "4                                          Starlight   \n",
       "\n",
       "                                       release   artist_name  year    genre  \\\n",
       "0                            The Wiretap Scars        Sparta  2002     rock   \n",
       "1                                  Number Ones  Kenny Rogers     0  country   \n",
       "2  Country Gentleman: The Best Of Ricky Skaggs  Ricky Skaggs  1998  country   \n",
       "3                                ...By Request       Boyzone  1998      pop   \n",
       "4                                    Starlight          Muse     0     rock   \n",
       "\n",
       "   artist_country artist_city  \n",
       "0      No country     No city  \n",
       "1   United States     Houston  \n",
       "2   United States     Cordell  \n",
       "3         Ireland      Dublin  \n",
       "4  United Kingdom  Teignmouth  "
      ]
     },
     "execution_count": 2,
     "metadata": {},
     "output_type": "execute_result"
    }
   ],
   "source": [
    "train = pd.read_csv('train.csv')\n",
    "test = pd.read_csv('test.csv')\n",
    "train.head()"
   ]
  },
  {
   "cell_type": "code",
   "execution_count": 3,
   "id": "556ec62b",
   "metadata": {},
   "outputs": [],
   "source": [
    "conn = sqlite3.connect('music_rates.db')"
   ]
  },
  {
   "cell_type": "code",
   "execution_count": 4,
   "id": "7d4480e4",
   "metadata": {},
   "outputs": [],
   "source": [
    "cursor = conn.cursor()"
   ]
  },
  {
   "cell_type": "code",
   "execution_count": 6,
   "id": "4cfcc16b",
   "metadata": {},
   "outputs": [
    {
     "data": {
      "text/plain": [
       "36636079"
      ]
     },
     "execution_count": 6,
     "metadata": {},
     "output_type": "execute_result"
    }
   ],
   "source": [
    "train.to_sql(name='train', con=conn)"
   ]
  },
  {
   "cell_type": "code",
   "execution_count": 7,
   "id": "cbdd9331",
   "metadata": {},
   "outputs": [
    {
     "data": {
      "text/plain": [
       "9159020"
      ]
     },
     "execution_count": 7,
     "metadata": {},
     "output_type": "execute_result"
    }
   ],
   "source": [
    "test.to_sql(name='test', con=conn)"
   ]
  },
  {
   "cell_type": "code",
   "execution_count": 8,
   "id": "601aeeac",
   "metadata": {},
   "outputs": [],
   "source": [
    "del train, test"
   ]
  },
  {
   "cell_type": "code",
   "execution_count": 10,
   "id": "c9123d70",
   "metadata": {},
   "outputs": [],
   "source": [
    "def make_sparse_matrix(table_name: str):\n",
    "    \n",
    "    users_sql = f\"\"\"\n",
    "        SELECT DISTINCT user_id\n",
    "        FROM {table_name}\n",
    "    \"\"\"\n",
    "    cursor.execute(users_sql)\n",
    "\n",
    "    user_to_row = {}\n",
    "    for row_id, (user_id,) in enumerate(cursor):\n",
    "        user_to_row[user_id] = row_id\n",
    "    \n",
    "    song_sql = f\"\"\"\n",
    "        SELECT DISTINCT song_id\n",
    "        FROM {table_name}\n",
    "    \"\"\"\n",
    "    cursor.execute(song_sql)\n",
    "\n",
    "    song_to_col = {}\n",
    "    for col_id, (song_id,) in enumerate(cursor):\n",
    "        song_to_col[song_id] = col_id\n",
    "        \n",
    "    print(f\"Количество пользователей в {table_name}:\", len(user_to_row))\n",
    "    print(f\"Количество песен в {table_name}:\", len(song_to_col))\n",
    "    \n",
    "    query = f\"\"\"\n",
    "        SELECT user_id, song_id, play_count\n",
    "        FROM {table_name}\n",
    "    \"\"\"\n",
    "    cursor.execute(query)\n",
    "    \n",
    "    matrix = lil_matrix((len(user_to_row), len(song_to_col)))\n",
    "    \n",
    "    # заполняем матрицу\n",
    "    for user_id, song_id, play_count in cursor:\n",
    "        row_id = user_to_row.get(user_id)\n",
    "        col_id = song_to_col.get(song_id)\n",
    "        matrix[row_id, col_id] = play_count\n",
    "        \n",
    "    return matrix"
   ]
  },
  {
   "cell_type": "code",
   "execution_count": 11,
   "id": "383c8ac1",
   "metadata": {},
   "outputs": [
    {
     "name": "stdout",
     "output_type": "stream",
     "text": [
      "Количество пользователей в train: 1019318\n",
      "Количество песен в train: 370860\n",
      "Количество пользователей в test: 1019318\n",
      "Количество песен в test: 299115\n"
     ]
    }
   ],
   "source": [
    "train_sparse_matrix = make_sparse_matrix('train')\n",
    "test_sparse_matrix = make_sparse_matrix('test')"
   ]
  },
  {
   "cell_type": "code",
   "execution_count": 12,
   "id": "00b95a68",
   "metadata": {},
   "outputs": [
    {
     "data": {
      "text/plain": [
       "<1019318x370860 sparse matrix of type '<class 'numpy.float64'>'\n",
       "\twith 36636079 stored elements in List of Lists format>"
      ]
     },
     "execution_count": 12,
     "metadata": {},
     "output_type": "execute_result"
    }
   ],
   "source": [
    "train_sparse_matrix"
   ]
  },
  {
   "cell_type": "code",
   "execution_count": 13,
   "id": "434c08ba",
   "metadata": {},
   "outputs": [
    {
     "data": {
      "text/plain": [
       "<1019318x299115 sparse matrix of type '<class 'numpy.float64'>'\n",
       "\twith 9159020 stored elements in List of Lists format>"
      ]
     },
     "execution_count": 13,
     "metadata": {},
     "output_type": "execute_result"
    }
   ],
   "source": [
    "test_sparse_matrix"
   ]
  },
  {
   "cell_type": "markdown",
   "id": "48a0885e",
   "metadata": {},
   "source": [
    "### Сохраним полученные матрицы"
   ]
  },
  {
   "cell_type": "code",
   "execution_count": 16,
   "id": "4d26536e",
   "metadata": {},
   "outputs": [],
   "source": [
    "save_npz('train_sparse_matrix.npz', train_sparse_matrix.tocoo())\n",
    "save_npz('test_sparse_matrix.npz', test_sparse_matrix.tocoo())"
   ]
  },
  {
   "cell_type": "code",
   "execution_count": 21,
   "id": "e2af8c6c",
   "metadata": {},
   "outputs": [],
   "source": [
    "# train_sparse = load_npz('train_sparse_matrix.npz')\n",
    "# train_sparse"
   ]
  }
 ],
 "metadata": {
  "kernelspec": {
   "display_name": "Python 3 (ipykernel)",
   "language": "python",
   "name": "python3"
  },
  "language_info": {
   "codemirror_mode": {
    "name": "ipython",
    "version": 3
   },
   "file_extension": ".py",
   "mimetype": "text/x-python",
   "name": "python",
   "nbconvert_exporter": "python",
   "pygments_lexer": "ipython3",
   "version": "3.10.8"
  }
 },
 "nbformat": 4,
 "nbformat_minor": 5
}
